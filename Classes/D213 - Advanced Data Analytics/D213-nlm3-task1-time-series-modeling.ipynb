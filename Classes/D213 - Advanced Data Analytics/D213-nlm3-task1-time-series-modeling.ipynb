{
 "cells": [
  {
   "cell_type": "markdown",
   "source": [
    "# D213 - Advanced Data Analytics\n",
    "### NLM3 Task 1: Time Series Modeling\n",
    "#### Advanced Data Analytics — D213\n",
    "#### PRFA — NLM3\n",
    "> André Davis\n",
    "> StudentID: 010630641\n",
    "> MSDA\n",
    ">\n",
    "> Competencies\n",
    "> 4030.7.2 : Time Series Analysis\n",
    "> The graduate applies time series models in generating forecasts. "
   ],
   "metadata": {
    "collapsed": false
   },
   "id": "5159a574136b03af"
  },
  {
   "cell_type": "markdown",
   "source": [
    "#### Table of Contents\n",
    "<ul>\n",
    "    <li><a href=\"#research-question\">A1: Research Question</a></li>\n",
    "    <li><a href=\"#objectives\">A2: Objectives and Goals of Analysis</a></li>\n",
    "    <li><a href=\"#assumptions\">B: Assumptions of Time Series Model</a></li>\n",
    "    <li><a href=\"#visualizations\">C1: Time Series Visualization</a></li>\n",
    "    <li><a href=\"#time-step-description\">C2: Description of Time Step Formatting</a></li>\n",
    "    <li><a href=\"#stationary-of-series\">C3: Stationarity of Series</a></li>\n",
    "    <li><a href=\"#data-preparation\">C4: Data Preparation & Explanation</a></li>\n",
    "    <li><a href=\"#copy-of-prepared-data\">C5: Copy of Prepared Data Set</a></li>\n",
    "    <li><a href=\"#annotated-findings-and-visualizations\">D1: Annotated Findings & Visualizations</a></li>\n",
    "    <li><a href=\"#arima-model-of-time-series-data\">D2: ARIMA Model of Time Series Data</a></li>\n",
    "    <li><a href=\"#forcast\">D3: Forecast</a></li>\n",
    "    <li><a href=\"#analysis\">D4: Analysis Output & Calculations</a></li>\n",
    "    <li><a href=\"#arima-code\">D5: ARIMA Model Code</a></li>\n",
    "    <li><a href=\"#results-of-analysis\">E1: Results of Analysis</a></li> \n",
    "    <li><a href=\"#forcast-visualizations\">E2: Visualization of Forecast</a></li> \n",
    "    <li><a href=\"#recommendations\">E3: Recommended Action</a></li>\n",
    "    <li><a href=\"#reporting\">F: Reporting</a></li>\n",
    "    <li><a href=\"#code-references\">G: Code References</a></li>\n",
    "    <li><a href=\"#source-references\">H: Source References</a></li>    \n",
    "</ul>"
   ],
   "metadata": {
    "collapsed": false
   },
   "id": "cbc7159866cfc1e8"
  },
  {
   "cell_type": "markdown",
   "source": [
    "<a id=\"research-question\"></a>\n",
    "# A1: Research Question\n",
    "\n",
    "The research question explored in this report is: \"Is it possible to accurately and effectively forecast the daily revenues of [`WGU`](https://www.wgu.edu/) Hospital System in a manner that aligns closely with the actual observed daily revenues?\""
   ],
   "metadata": {
    "collapsed": false
   },
   "id": "a2fa5576050d0dec"
  },
  {
   "cell_type": "markdown",
   "source": [
    "<a id=\"objectives\"></a>\n",
    "# A2: Objectives and Goals of Analysis\n",
    "\n",
    "The objective of this analysis is to accurately predict daily revenues for the [`WGU`](https://www.wgu.edu) Hospital System utilizing the available dataset. The analysis employs an 80-20 split of the dataset, using the initial 80% as a training set to forecast the remaining 20%, which serves as a test set. This approach allows for the use of observed values as a benchmark for comparison. An ARIMA time series model will be utilized to analyze the training set and project the values in the test set.\n",
    "\n",
    "> ARIMA is a \"model runs *d* rounds of differencing to make the time series more stationary, then it applies a regular ARMA Model. When making forecasts, it uses this ARMA model, then it adds back the terms that were subtracted by differencing.\"(Géron, 2022)."
   ],
   "metadata": {
    "collapsed": false
   },
   "id": "dda2d2d52f3dcdc3"
  },
  {
   "cell_type": "markdown",
   "source": [
    "<a id=\"assumptions\"></a>\n",
    "# B: Assumptions of Time Series Model\n",
    "\n",
    ">The submission accurately summarizes each of the assumptions of a time series model. The summary includes stationarity and autocorrelated data.\n",
    "\n",
    "Assumptions of the ARMA Family of Models, including ARIMA include:\n",
    "\n",
    " * Data must not include outliers and/or anomalies \n",
    " * The time series data should exhibit stationarity, devoid of any trends or seasonal fluctuations.\n",
    " * Datapoints in the past must be indicative of future datapoints in behavior.\n",
    " * "
   ],
   "metadata": {
    "collapsed": false
   },
   "id": "2a4559b80ecd1f2c"
  },
  {
   "cell_type": "markdown",
   "source": [
    "<a id=\"visualizations\"></a>\n",
    "# C1: Time Series Visualization"
   ],
   "metadata": {
    "collapsed": false
   },
   "id": "acda6fae05bf6f4c"
  },
  {
   "cell_type": "markdown",
   "source": [
    "<a id=\"time-step-description\"></a>\n",
    "# C2: Description of Time Step Formatting"
   ],
   "metadata": {
    "collapsed": false
   },
   "id": "3dc5389e7e687e7d"
  },
  {
   "cell_type": "markdown",
   "source": [
    "<a id=\"stationary-of-series\"></a>\n",
    "# C3: Stationarity of Series"
   ],
   "metadata": {
    "collapsed": false
   },
   "id": "c7871775eb7d7a13"
  },
  {
   "cell_type": "markdown",
   "source": [
    "<a id=\"data-preparation\"></a>\n",
    "# C4: Data Preparation & Explanation"
   ],
   "metadata": {
    "collapsed": false
   },
   "id": "d1d628693ca6d21"
  },
  {
   "cell_type": "markdown",
   "source": [
    "<a id=\"copy-of-prepared-data\"></a>\n",
    "# C5: Copy of Prepared Data Set"
   ],
   "metadata": {
    "collapsed": false
   },
   "id": "fdeb2cb850f60672"
  },
  {
   "cell_type": "markdown",
   "source": [
    "<a id=\"annotated-findings-and-visualizations\"></a>\n",
    "# D1: Annotated Findings & Visualizations"
   ],
   "metadata": {
    "collapsed": false
   },
   "id": "e9db168035450a2e"
  },
  {
   "cell_type": "markdown",
   "source": [
    "<a id=\"arima-model-of-time-series-data\"></a>\n",
    "# D2: ARIMA Model of Time Series Data"
   ],
   "metadata": {
    "collapsed": false
   },
   "id": "2b19697a981f8668"
  },
  {
   "cell_type": "markdown",
   "source": [
    "<a id=\"forcast\"></a>\n",
    "# D3: Forecast"
   ],
   "metadata": {
    "collapsed": false
   },
   "id": "3ba92e4aa3f150f7"
  },
  {
   "cell_type": "markdown",
   "source": [
    "<a id=\"analysis\"></a>\n",
    "# D4: Analysis Output & Calculations"
   ],
   "metadata": {
    "collapsed": false
   },
   "id": "2c5f707e38d7eae6"
  },
  {
   "cell_type": "markdown",
   "source": [
    "<a id=\"arima-code\"></a>\n",
    "# D5: ARIMA Model Code"
   ],
   "metadata": {
    "collapsed": false
   },
   "id": "29db37bbd3e2b147"
  },
  {
   "cell_type": "markdown",
   "source": [
    "<a id=\"results-of-analysis\"></a>\n",
    "# E1: Results of Analysis"
   ],
   "metadata": {
    "collapsed": false
   },
   "id": "d5e0470a1e37f475"
  },
  {
   "cell_type": "markdown",
   "source": [
    "<a id=\"forcast-visualizations\"></a>\n",
    "# E2: Visualization of Forecast"
   ],
   "metadata": {
    "collapsed": false
   },
   "id": "92f3c1b15aa93c7"
  },
  {
   "cell_type": "markdown",
   "source": [
    "<a id=\"recommendations\"></a>\n",
    "# E3: Recommended Action"
   ],
   "metadata": {
    "collapsed": false
   },
   "id": "e1aa984d0af066a1"
  },
  {
   "cell_type": "markdown",
   "source": [
    "<a id=\"reporting\"></a>\n",
    "# F: Reporting"
   ],
   "metadata": {
    "collapsed": false
   },
   "id": "af43c95b41813cac"
  },
  {
   "cell_type": "markdown",
   "source": [
    "<a id=\"code-references\"></a>\n",
    "# G: Code References"
   ],
   "metadata": {
    "collapsed": false
   },
   "id": "4b0e183a73d445e1"
  },
  {
   "cell_type": "markdown",
   "source": [
    "<a id=\"source-references\"></a>\n",
    "# H: Source References\n",
    "\n",
    " * Géron, A. (2022). Hands-On Machine Learning with Scikit-Learn, Keras, and Tensorflow: Concepts, Tools, and Techniques to Build Intelligent Systems."
   ],
   "metadata": {
    "collapsed": false
   },
   "id": "2447b84e94f276dc"
  },
  {
   "cell_type": "code",
   "execution_count": null,
   "outputs": [],
   "source": [],
   "metadata": {
    "collapsed": false,
    "ExecuteTime": {
     "end_time": "2023-09-19T02:22:21.852081200Z",
     "start_time": "2023-09-19T02:22:21.839033800Z"
    }
   },
   "id": "58362eec64a732b9"
  }
 ],
 "metadata": {
  "kernelspec": {
   "display_name": "Python 3",
   "language": "python",
   "name": "python3"
  },
  "language_info": {
   "codemirror_mode": {
    "name": "ipython",
    "version": 2
   },
   "file_extension": ".py",
   "mimetype": "text/x-python",
   "name": "python",
   "nbconvert_exporter": "python",
   "pygments_lexer": "ipython2",
   "version": "2.7.6"
  }
 },
 "nbformat": 4,
 "nbformat_minor": 5
}
