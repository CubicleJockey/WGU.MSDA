{
 "cells": [
  {
   "cell_type": "markdown",
   "source": [
    "# D213 - Advanced Data Analytics\n",
    "### NLM3 Task 2: Sentiment Analysis Using Neural Networks\n",
    "#### Advanced Data Analytics — D213\n",
    "#### PRFA — NLM3\n",
    "> André Davis\n",
    "> StudentID: 010630641\n",
    "> MSDA\n",
    ">\n",
    "> Competencies\n",
    "> 4030.7.1 : Constructing Neural Networks\n",
    "> The graduate builds neural networks in the context of machine-learning modeling.\n",
    "> \n",
    "> 4030.7.3 : Natural Language Processing\n",
    "> The graduate extracts insights from text data using effective and appropriate natural language processing (NLP) models."
   ],
   "metadata": {
    "collapsed": false
   },
   "id": "9a0a6f3a9c4c7b83"
  },
  {
   "cell_type": "markdown",
   "source": [
    "##### Table of Contents\n",
    "\n",
    " <ul>\n",
    "    <li><a href=\"#documentation\">Documentation</a></li>\n",
    "    <li><a href=\"#research-question\">A1: Research Question</a></li>\n",
    "    <li><a href=\"#objectives\">A2: Objectives Or Goals</a></li>\n",
    "    <li><a href=\"#neural-networks-identification\">A3: Prescribed Network Neural Network Identification</a></li>\n",
    "    <li><a href=\"#data-exploration\">B1: Data Exploration</a></li>\n",
    "    <li><a href=\"#tokenization-process\">B2: Tokenization</a></li>\n",
    "    <li><a href=\"#padding-process\">B3: Padding Process</a></li> \n",
    "    <li><a href=\"#categories-of-sentiment\">B4: Categories Of Sentiment</a></li>\n",
    "    <li><a href=\"#data-preparation\">B5: Steps To Prepare the Data</a></li>\n",
    "    <li><a href=\"#copy-of-prepared-data\">B6: Prepared Dataset</a></li>\n",
    "    <li><a href=\"#tensorflow-model-summary\">C1: Model Summary</a></li>\n",
    "    <li><a href=\"#network-architecture\">C2: Network Architecture</a></li>\n",
    "    <li><a href=\"#hyperparameters\">C3: Hyperparameters</a></li>\n",
    "    <li><a href=\"#stopping-criteria\">D1: Stopping Criteria</a></li>\n",
    "    <li><a href=\"#fitness\">D2: Fitness</a></li>\n",
    "    <li><a href=\"#training-process\">D3: Training Process</a></li>\n",
    "    <li><a href=\"#predictive-accuracy\">D4: Predictive Accuracy</a></li>\n",
    "    <li><a href=\"#source-code\">E: Code</a></li> \n",
    "    <li><a href=\"#functionality\">H: Functionality</a></li> \n",
    "    <li><a href=\"#recommendations\">G: Recommendeds</a></li>\n",
    "    <li><a href=\"#reporting\">H: Reporting</a></li>\n",
    "    <li><a href=\"#code-references\">I: Sources for Thirday Party Code</a></li>\n",
    "    <li><a href=\"#source-references\">J: Source References</a></li>    \n",
    "  </ul>"
   ],
   "metadata": {
    "collapsed": false
   },
   "id": "a6f4b1b44192be39"
  },
  {
   "cell_type": "markdown",
   "source": [
    "# Documentation\n",
    "\n",
    " * [TensorFlow](https://www.tensorflow.org/)\n",
    " * [Keras](https://keras.io/)\n",
    "     * [Dot Products](https://www.khanacademy.org/math/multivariable-calculus/thinking-about-multivariable-function/x786f2022:vectors-and-matrices/a/dot-products-mvc)    "
   ],
   "metadata": {
    "collapsed": false
   },
   "id": "72638253c5494f7c"
  },
  {
   "cell_type": "markdown",
   "source": [
    "## Package Installs"
   ],
   "metadata": {
    "collapsed": false
   },
   "id": "5d69831e3fafb46"
  },
  {
   "cell_type": "code",
   "execution_count": 332,
   "outputs": [
    {
     "name": "stdout",
     "output_type": "stream",
     "text": [
      "Requirement already satisfied: numpy in c:\\python\\3.11.2\\lib\\site-packages (1.23.5)\n"
     ]
    },
    {
     "name": "stderr",
     "output_type": "stream",
     "text": [
      "\n",
      "[notice] A new release of pip is available: 23.2.1 -> 23.3\n",
      "[notice] To update, run: python.exe -m pip install --upgrade pip\n"
     ]
    },
    {
     "name": "stdout",
     "output_type": "stream",
     "text": [
      "Requirement already satisfied: pandas in c:\\python\\3.11.2\\lib\\site-packages (2.0.2)\n",
      "Requirement already satisfied: python-dateutil>=2.8.2 in c:\\python\\3.11.2\\lib\\site-packages (from pandas) (2.8.2)\n",
      "Requirement already satisfied: pytz>=2020.1 in c:\\python\\3.11.2\\lib\\site-packages (from pandas) (2023.3)\n",
      "Requirement already satisfied: tzdata>=2022.1 in c:\\python\\3.11.2\\lib\\site-packages (from pandas) (2023.3)\n",
      "Requirement already satisfied: numpy>=1.21.0 in c:\\python\\3.11.2\\lib\\site-packages (from pandas) (1.23.5)\n",
      "Requirement already satisfied: six>=1.5 in c:\\python\\3.11.2\\lib\\site-packages (from python-dateutil>=2.8.2->pandas) (1.16.0)\n"
     ]
    },
    {
     "name": "stderr",
     "output_type": "stream",
     "text": [
      "\n",
      "[notice] A new release of pip is available: 23.2.1 -> 23.3\n",
      "[notice] To update, run: python.exe -m pip install --upgrade pip\n"
     ]
    },
    {
     "name": "stdout",
     "output_type": "stream",
     "text": [
      "Requirement already satisfied: matplotlib in c:\\python\\3.11.2\\lib\\site-packages (3.8.0)\n",
      "Requirement already satisfied: contourpy>=1.0.1 in c:\\python\\3.11.2\\lib\\site-packages (from matplotlib) (1.1.1)\n",
      "Requirement already satisfied: cycler>=0.10 in c:\\python\\3.11.2\\lib\\site-packages (from matplotlib) (0.12.1)\n",
      "Requirement already satisfied: fonttools>=4.22.0 in c:\\python\\3.11.2\\lib\\site-packages (from matplotlib) (4.43.1)\n",
      "Requirement already satisfied: kiwisolver>=1.0.1 in c:\\python\\3.11.2\\lib\\site-packages (from matplotlib) (1.4.5)\n",
      "Requirement already satisfied: numpy<2,>=1.21 in c:\\python\\3.11.2\\lib\\site-packages (from matplotlib) (1.23.5)\n",
      "Requirement already satisfied: packaging>=20.0 in c:\\python\\3.11.2\\lib\\site-packages (from matplotlib) (23.1)\n",
      "Requirement already satisfied: pillow>=6.2.0 in c:\\python\\3.11.2\\lib\\site-packages (from matplotlib) (9.5.0)\n",
      "Requirement already satisfied: pyparsing>=2.3.1 in c:\\python\\3.11.2\\lib\\site-packages (from matplotlib) (3.1.1)\n",
      "Requirement already satisfied: python-dateutil>=2.7 in c:\\python\\3.11.2\\lib\\site-packages (from matplotlib) (2.8.2)\n",
      "Requirement already satisfied: six>=1.5 in c:\\python\\3.11.2\\lib\\site-packages (from python-dateutil>=2.7->matplotlib) (1.16.0)\n"
     ]
    },
    {
     "name": "stderr",
     "output_type": "stream",
     "text": [
      "\n",
      "[notice] A new release of pip is available: 23.2.1 -> 23.3\n",
      "[notice] To update, run: python.exe -m pip install --upgrade pip\n"
     ]
    },
    {
     "name": "stdout",
     "output_type": "stream",
     "text": [
      "Requirement already satisfied: scikit-learn in c:\\python\\3.11.2\\lib\\site-packages (1.2.2)\n",
      "Requirement already satisfied: numpy>=1.17.3 in c:\\python\\3.11.2\\lib\\site-packages (from scikit-learn) (1.23.5)\n",
      "Requirement already satisfied: scipy>=1.3.2 in c:\\python\\3.11.2\\lib\\site-packages (from scikit-learn) (1.10.1)\n",
      "Requirement already satisfied: joblib>=1.1.1 in c:\\python\\3.11.2\\lib\\site-packages (from scikit-learn) (1.2.0)\n",
      "Requirement already satisfied: threadpoolctl>=2.0.0 in c:\\python\\3.11.2\\lib\\site-packages (from scikit-learn) (3.1.0)\n"
     ]
    },
    {
     "name": "stderr",
     "output_type": "stream",
     "text": [
      "\n",
      "[notice] A new release of pip is available: 23.2.1 -> 23.3\n",
      "[notice] To update, run: python.exe -m pip install --upgrade pip\n"
     ]
    },
    {
     "name": "stdout",
     "output_type": "stream",
     "text": [
      "Requirement already satisfied: tensorflow==2.14.0 in c:\\python\\3.11.2\\lib\\site-packages (2.14.0)\n",
      "Requirement already satisfied: tensorflow-intel==2.14.0 in c:\\python\\3.11.2\\lib\\site-packages (from tensorflow==2.14.0) (2.14.0)\n",
      "Requirement already satisfied: absl-py>=1.0.0 in c:\\python\\3.11.2\\lib\\site-packages (from tensorflow-intel==2.14.0->tensorflow==2.14.0) (1.4.0)\n",
      "Requirement already satisfied: astunparse>=1.6.0 in c:\\python\\3.11.2\\lib\\site-packages (from tensorflow-intel==2.14.0->tensorflow==2.14.0) (1.6.3)\n",
      "Requirement already satisfied: flatbuffers>=23.5.26 in c:\\python\\3.11.2\\lib\\site-packages (from tensorflow-intel==2.14.0->tensorflow==2.14.0) (23.5.26)\n",
      "Requirement already satisfied: gast!=0.5.0,!=0.5.1,!=0.5.2,>=0.2.1 in c:\\python\\3.11.2\\lib\\site-packages (from tensorflow-intel==2.14.0->tensorflow==2.14.0) (0.4.0)\n",
      "Requirement already satisfied: google-pasta>=0.1.1 in c:\\python\\3.11.2\\lib\\site-packages (from tensorflow-intel==2.14.0->tensorflow==2.14.0) (0.2.0)\n",
      "Requirement already satisfied: h5py>=2.9.0 in c:\\python\\3.11.2\\lib\\site-packages (from tensorflow-intel==2.14.0->tensorflow==2.14.0) (3.8.0)\n",
      "Requirement already satisfied: libclang>=13.0.0 in c:\\python\\3.11.2\\lib\\site-packages (from tensorflow-intel==2.14.0->tensorflow==2.14.0) (16.0.0)\n",
      "Requirement already satisfied: ml-dtypes==0.2.0 in c:\\python\\3.11.2\\lib\\site-packages (from tensorflow-intel==2.14.0->tensorflow==2.14.0) (0.2.0)\n",
      "Requirement already satisfied: numpy>=1.23.5 in c:\\python\\3.11.2\\lib\\site-packages (from tensorflow-intel==2.14.0->tensorflow==2.14.0) (1.23.5)\n",
      "Requirement already satisfied: opt-einsum>=2.3.2 in c:\\python\\3.11.2\\lib\\site-packages (from tensorflow-intel==2.14.0->tensorflow==2.14.0) (3.3.0)\n",
      "Requirement already satisfied: packaging in c:\\python\\3.11.2\\lib\\site-packages (from tensorflow-intel==2.14.0->tensorflow==2.14.0) (23.1)\n",
      "Requirement already satisfied: protobuf!=4.21.0,!=4.21.1,!=4.21.2,!=4.21.3,!=4.21.4,!=4.21.5,<5.0.0dev,>=3.20.3 in c:\\python\\3.11.2\\lib\\site-packages (from tensorflow-intel==2.14.0->tensorflow==2.14.0) (4.23.2)\n",
      "Requirement already satisfied: setuptools in c:\\python\\3.11.2\\lib\\site-packages (from tensorflow-intel==2.14.0->tensorflow==2.14.0) (65.5.0)\n",
      "Requirement already satisfied: six>=1.12.0 in c:\\python\\3.11.2\\lib\\site-packages (from tensorflow-intel==2.14.0->tensorflow==2.14.0) (1.16.0)\n",
      "Requirement already satisfied: termcolor>=1.1.0 in c:\\python\\3.11.2\\lib\\site-packages (from tensorflow-intel==2.14.0->tensorflow==2.14.0) (2.3.0)\n",
      "Requirement already satisfied: typing-extensions>=3.6.6 in c:\\python\\3.11.2\\lib\\site-packages (from tensorflow-intel==2.14.0->tensorflow==2.14.0) (4.6.3)\n",
      "Requirement already satisfied: wrapt<1.15,>=1.11.0 in c:\\python\\3.11.2\\lib\\site-packages (from tensorflow-intel==2.14.0->tensorflow==2.14.0) (1.14.1)\n",
      "Requirement already satisfied: tensorflow-io-gcs-filesystem>=0.23.1 in c:\\python\\3.11.2\\lib\\site-packages (from tensorflow-intel==2.14.0->tensorflow==2.14.0) (0.31.0)\n",
      "Requirement already satisfied: grpcio<2.0,>=1.24.3 in c:\\python\\3.11.2\\lib\\site-packages (from tensorflow-intel==2.14.0->tensorflow==2.14.0) (1.54.2)\n",
      "Requirement already satisfied: tensorboard<2.15,>=2.14 in c:\\python\\3.11.2\\lib\\site-packages (from tensorflow-intel==2.14.0->tensorflow==2.14.0) (2.14.1)\n",
      "Requirement already satisfied: tensorflow-estimator<2.15,>=2.14.0 in c:\\python\\3.11.2\\lib\\site-packages (from tensorflow-intel==2.14.0->tensorflow==2.14.0) (2.14.0)\n",
      "Requirement already satisfied: keras<2.15,>=2.14.0 in c:\\python\\3.11.2\\lib\\site-packages (from tensorflow-intel==2.14.0->tensorflow==2.14.0) (2.14.0)\n",
      "Requirement already satisfied: wheel<1.0,>=0.23.0 in c:\\python\\3.11.2\\lib\\site-packages (from astunparse>=1.6.0->tensorflow-intel==2.14.0->tensorflow==2.14.0) (0.40.0)\n",
      "Requirement already satisfied: google-auth<3,>=1.6.3 in c:\\python\\3.11.2\\lib\\site-packages (from tensorboard<2.15,>=2.14->tensorflow-intel==2.14.0->tensorflow==2.14.0) (2.19.1)\n",
      "Requirement already satisfied: google-auth-oauthlib<1.1,>=0.5 in c:\\python\\3.11.2\\lib\\site-packages (from tensorboard<2.15,>=2.14->tensorflow-intel==2.14.0->tensorflow==2.14.0) (1.0.0)\n",
      "Requirement already satisfied: markdown>=2.6.8 in c:\\python\\3.11.2\\lib\\site-packages (from tensorboard<2.15,>=2.14->tensorflow-intel==2.14.0->tensorflow==2.14.0) (3.4.3)\n",
      "Requirement already satisfied: requests<3,>=2.21.0 in c:\\python\\3.11.2\\lib\\site-packages (from tensorboard<2.15,>=2.14->tensorflow-intel==2.14.0->tensorflow==2.14.0) (2.31.0)\n",
      "Requirement already satisfied: tensorboard-data-server<0.8.0,>=0.7.0 in c:\\python\\3.11.2\\lib\\site-packages (from tensorboard<2.15,>=2.14->tensorflow-intel==2.14.0->tensorflow==2.14.0) (0.7.0)\n",
      "Requirement already satisfied: werkzeug>=1.0.1 in c:\\python\\3.11.2\\lib\\site-packages (from tensorboard<2.15,>=2.14->tensorflow-intel==2.14.0->tensorflow==2.14.0) (2.3.5)\n",
      "Requirement already satisfied: cachetools<6.0,>=2.0.0 in c:\\python\\3.11.2\\lib\\site-packages (from google-auth<3,>=1.6.3->tensorboard<2.15,>=2.14->tensorflow-intel==2.14.0->tensorflow==2.14.0) (5.3.1)\n",
      "Requirement already satisfied: pyasn1-modules>=0.2.1 in c:\\python\\3.11.2\\lib\\site-packages (from google-auth<3,>=1.6.3->tensorboard<2.15,>=2.14->tensorflow-intel==2.14.0->tensorflow==2.14.0) (0.3.0)\n",
      "Requirement already satisfied: rsa<5,>=3.1.4 in c:\\python\\3.11.2\\lib\\site-packages (from google-auth<3,>=1.6.3->tensorboard<2.15,>=2.14->tensorflow-intel==2.14.0->tensorflow==2.14.0) (4.9)\n",
      "Requirement already satisfied: urllib3<2.0 in c:\\python\\3.11.2\\lib\\site-packages (from google-auth<3,>=1.6.3->tensorboard<2.15,>=2.14->tensorflow-intel==2.14.0->tensorflow==2.14.0) (1.26.16)\n",
      "Requirement already satisfied: requests-oauthlib>=0.7.0 in c:\\python\\3.11.2\\lib\\site-packages (from google-auth-oauthlib<1.1,>=0.5->tensorboard<2.15,>=2.14->tensorflow-intel==2.14.0->tensorflow==2.14.0) (1.3.1)\n",
      "Requirement already satisfied: charset-normalizer<4,>=2 in c:\\python\\3.11.2\\lib\\site-packages (from requests<3,>=2.21.0->tensorboard<2.15,>=2.14->tensorflow-intel==2.14.0->tensorflow==2.14.0) (3.1.0)\n",
      "Requirement already satisfied: idna<4,>=2.5 in c:\\python\\3.11.2\\lib\\site-packages (from requests<3,>=2.21.0->tensorboard<2.15,>=2.14->tensorflow-intel==2.14.0->tensorflow==2.14.0) (3.4)\n",
      "Requirement already satisfied: certifi>=2017.4.17 in c:\\python\\3.11.2\\lib\\site-packages (from requests<3,>=2.21.0->tensorboard<2.15,>=2.14->tensorflow-intel==2.14.0->tensorflow==2.14.0) (2023.5.7)\n",
      "Requirement already satisfied: MarkupSafe>=2.1.1 in c:\\python\\3.11.2\\lib\\site-packages (from werkzeug>=1.0.1->tensorboard<2.15,>=2.14->tensorflow-intel==2.14.0->tensorflow==2.14.0) (2.1.3)\n",
      "Requirement already satisfied: pyasn1<0.6.0,>=0.4.6 in c:\\python\\3.11.2\\lib\\site-packages (from pyasn1-modules>=0.2.1->google-auth<3,>=1.6.3->tensorboard<2.15,>=2.14->tensorflow-intel==2.14.0->tensorflow==2.14.0) (0.5.0)\n",
      "Requirement already satisfied: oauthlib>=3.0.0 in c:\\python\\3.11.2\\lib\\site-packages (from requests-oauthlib>=0.7.0->google-auth-oauthlib<1.1,>=0.5->tensorboard<2.15,>=2.14->tensorflow-intel==2.14.0->tensorflow==2.14.0) (3.2.2)\n"
     ]
    },
    {
     "name": "stderr",
     "output_type": "stream",
     "text": [
      "\n",
      "[notice] A new release of pip is available: 23.2.1 -> 23.3\n",
      "[notice] To update, run: python.exe -m pip install --upgrade pip\n"
     ]
    },
    {
     "name": "stdout",
     "output_type": "stream",
     "text": [
      "Requirement already satisfied: emoji in c:\\python\\3.11.2\\lib\\site-packages (2.8.0)\n"
     ]
    },
    {
     "name": "stderr",
     "output_type": "stream",
     "text": [
      "\n",
      "[notice] A new release of pip is available: 23.2.1 -> 23.3\n",
      "[notice] To update, run: python.exe -m pip install --upgrade pip\n"
     ]
    },
    {
     "name": "stdout",
     "output_type": "stream",
     "text": [
      "Requirement already satisfied: unidecode in c:\\python\\3.11.2\\lib\\site-packages (1.3.7)\n"
     ]
    },
    {
     "name": "stderr",
     "output_type": "stream",
     "text": [
      "\n",
      "[notice] A new release of pip is available: 23.2.1 -> 23.3\n",
      "[notice] To update, run: python.exe -m pip install --upgrade pip\n"
     ]
    }
   ],
   "source": [
    "!pip install numpy\n",
    "!pip install pandas\n",
    "!pip install matplotlib\n",
    "!pip install scikit-learn\n",
    "!pip install tensorflow==2.14.0\n",
    "!pip install emoji\n",
    "!pip install unidecode"
   ],
   "metadata": {
    "collapsed": false,
    "ExecuteTime": {
     "end_time": "2023-10-24T14:51:48.606607500Z",
     "start_time": "2023-10-24T14:51:37.251455800Z"
    }
   },
   "id": "560a6afdf8043d3c"
  },
  {
   "cell_type": "markdown",
   "source": [
    "## Python Package Imports"
   ],
   "metadata": {
    "collapsed": false
   },
   "id": "afbfabeebd85c32"
  },
  {
   "cell_type": "code",
   "execution_count": 333,
   "outputs": [
    {
     "name": "stdout",
     "output_type": "stream",
     "text": [
      "TensorFlow Version: 2.14.0\n",
      "\n",
      "\n"
     ]
    }
   ],
   "source": [
    "import pandas as pd\n",
    "import matplotlib.pyplot as plt\n",
    "\n",
    "from typing import Tuple\n",
    "from sklearn.metrics import mean_squared_error\n",
    "from sklearn.model_selection import train_test_split\n",
    "\n",
    "#Unusual Character Checks\n",
    "import emoji\n",
    "from unidecode import unidecode\n",
    "\n",
    "#Tensor-Flow Configuration\n",
    "import tensorflow as tf\n",
    "from keras.layers import Dense, Input, TextVectorization\n",
    "from keras.losses import BinaryCrossentropy\n",
    "from keras.models import Sequential\n",
    "from keras.callbacks import History, EarlyStopping\n",
    "\n",
    "assert tf.__version__ == '2.14.0', 'TensorFlow should be locked to 2.14.0 for this Performance Assessment'\n",
    "\n",
    "print(f'TensorFlow Version: {tf.__version__}')\n",
    "print('\\n\\n')"
   ],
   "metadata": {
    "collapsed": false,
    "ExecuteTime": {
     "end_time": "2023-10-24T14:51:48.619638600Z",
     "start_time": "2023-10-24T14:51:48.613062400Z"
    }
   },
   "id": "3ac8ec960697959b"
  },
  {
   "cell_type": "markdown",
   "source": [
    "## Custom Python Functions"
   ],
   "metadata": {
    "collapsed": false
   },
   "id": "bb3f89dbfb1e00e6"
  },
  {
   "cell_type": "code",
   "execution_count": 334,
   "outputs": [],
   "source": [
    "'''\n",
    "Custom Utility functions for later activities\n",
    "'''\n",
    "\n",
    "def nameof(obj:any, g:dict=globals()) -> str:\n",
    "    \"\"\"\n",
    "    :param obj: Any object that we want to return the string name of\n",
    "    :type obj: any\n",
    "     \n",
    "    :param g: dictionary of globally accessible objects\n",
    "    :type g: dict\n",
    "    \n",
    "    :return: a string representation of the objects name\n",
    "    \"\"\"\n",
    "    return [name for name in g if g[name] is obj][0]\n",
    "\n",
    "#test nameof function\n",
    "assert nameof(mean_squared_error) ==  'mean_squared_error', 'nameof function should be returning the name of the object'\n",
    "\n",
    "def nlp_data_split(data: pd.DataFrame\n",
    "                   ,train_percentage:float=.8\n",
    "                   ,validate_percentage:float=.1\n",
    "                   ,test_percentage:float=.1) -> Tuple[pd.DataFrame, pd.DataFrame, pd.DataFrame]:\n",
    "    \"\"\"\n",
    "    :param data: Data to be split for NLP processing\n",
    "    :type data: pd.DataFrame \n",
    "    \n",
    "    :param train_percentage: Percentage of data to use as model training data\n",
    "    :type train_percentage: float\n",
    "         \n",
    "    :param validate_percentage: Percentage of data to use as model validation data\n",
    "    :type validate_percentage: float\n",
    "    \n",
    "     \n",
    "    :param test_percentage: Percentage of data to use as model testing data\n",
    "    :type test_percentage: float\n",
    "     \n",
    "    :return: Tuple of pd.DataFrames broken into training, validation, and test data-frames.\n",
    "    \"\"\"\n",
    "\n",
    "    assert (train_percentage + validate_percentage + test_percentage) == 1, 'Percentages must equal 1 (100%)'\n",
    "\n",
    "    train, left_over = train_test_split(data, train_size=train_percentage, test_size=(validate_percentage + test_percentage))\n",
    "    validate, test = train_test_split(left_over, train_size=.5, test_size=.5)\n",
    "\n",
    "    return train, validate, test\n",
    "\n",
    "def unusual_character_check(data: pd.DataFrame, column: str) -> bool:\n",
    "    \"\"\"\n",
    "    :param data: Data to search for emojis and non-english characters\n",
    "    :type data: pd.DataFrame\n",
    "    \n",
    "    :param column: Column of Data to check\n",
    "    :type column: str    \n",
    "     \n",
    "    :return: list of unusual characters found\n",
    "    \"\"\"\n",
    "\n",
    "    def check(text):\n",
    "        if emoji.is_emoji(text) or unidecode(text) != text:\n",
    "            return text\n",
    "        else:\n",
    "            return None\n",
    "\n",
    "    results = pd.DataFrame()\n",
    "    results['ContainsUnusual'] = data[column].apply(check)\n",
    "    return results['ContainsUnusual'].isna().all()\n",
    "\n",
    "def plot_accuracy_metrics(model_history:History, fig_size:tuple=(14,6)) -> None:\n",
    "    \"\"\"\n",
    "    :param model_history: Sequence Model History (Accuracy Metrics)\n",
    "    :type model_history:\n",
    "     \n",
    "    :param fig_size:\n",
    "    :type fig_size: tuple\n",
    "     \n",
    "    :return: None\n",
    "    \"\"\"\n",
    "    legend_labels = ['Training', 'Validation']\n",
    "    title_template = 'Training Dataset vs. Validation Dataset ({})'\n",
    "    \n",
    "    _, (accuracy_axes, loss_axes) = plt.subplots(1, 2, figsize=fig_size)\n",
    "    \n",
    "    accuracy_axes.set_title(title_template.format('Accuracy'))\n",
    "    accuracy_axes.set_xlabel('Epoch')\n",
    "    accuracy_axes.set_ylabel('Accuracy')\n",
    "    accuracy_axes.plot(model_history['loss'], label=legend_labels[0])\n",
    "    accuracy_axes.plot(model_history['val_loss'], label=legend_labels[1])\n",
    "    accuracy_axes.legend(legend_labels)\n",
    "    \n",
    "    loss_axes.set_title(title_template.format('Loss'))\n",
    "    loss_axes.set_xlabel('Epoch')\n",
    "    loss_axes.set_ylabel('Loss')\n",
    "    loss_axes.plot(model_history['loss'], label=legend_labels[0])\n",
    "    loss_axes.plot(model_history['val_loss'], label=legend_labels[1])\n",
    "    loss_axes.legend(legend_labels)\n",
    "    \n",
    "    plt.tight_layout()\n",
    "    plt.show()"
   ],
   "metadata": {
    "collapsed": false,
    "ExecuteTime": {
     "end_time": "2023-10-24T14:51:48.634628700Z",
     "start_time": "2023-10-24T14:51:48.614580400Z"
    }
   },
   "id": "b29b18e6dd511587"
  },
  {
   "cell_type": "markdown",
   "source": [
    "<a id=\"research-question\"></a>\n",
    "# A1: Research Question\n",
    "\n",
    "Is it feasible to ascertain the sentiment polarity—whether positive or negative—of a Review to a reasonably reliable extent, solely based on the textual content of the review?"
   ],
   "metadata": {
    "collapsed": false
   },
   "id": "acf84ccb3d1ed8e3"
  },
  {
   "cell_type": "markdown",
   "source": [
    "<a id=\"objectives\"></a>\n",
    "# A2: Objectives and Goals of Analysis\n",
    "\n",
    "The main goal of this analysis is to build a neural network model that can fairly accurately tell if a review is positive or negative based on its text."
   ],
   "metadata": {
    "collapsed": false
   },
   "id": "46d89ab2f5ad3e9e"
  },
  {
   "cell_type": "markdown",
   "source": [
    "<a id=\"neural-networks-identification\"></a>\n",
    "# A3: Prescribed Neural Network Identification\n",
    "\n",
    "> Identify an industry-relevant type of neural network that can be trained to produce useful text classification predictions on text sequences on the selected data set.\n",
    "\n",
    "There are quite a few text-classification neural networks that can be used. Because this is a [`WGU Performance Assessment`](https://tasks.wgu.edu/cb?code=3CVCSRrDonQaSnpxrGMGmrfBRQFhagMcj8YAAAAH&state=LNTIDpiCLNOniYarWEmqO8xbmNs1zaDdN-u1KNSbBS0) and most personal laptops don't have the computing power to perform some of the more complex neural networks without advanced GPU support [`Feedforward Neural Networks (FNN)`](https://en.wikipedia.org/wiki/Feedforward_neural_network). This is an advanced topic, and this particular neural network is known for its simplicity to implement and ability to function without higher end hardware.\n",
    "\n",
    "It must be noted that because of its simplicity and low-resource needs, it does come with some limitations, which include:\n",
    "\n",
    "1. Loss of neighborhood information (Suman, 2020)\n",
    "2. More parameters to optimize (Suman, 2020)\n",
    "3. It's not Translation invariance (Suman, 2020)\n",
    "\n",
    "The limitations stemming from the lack of awareness regarding neighboring information preclude Feedforward Neural Networks (FNN) from effectively identifying patterns in data structures such as images, where understanding the relationship between neighboring pixels is crucial. However, in the context of text analysis for performance assessment, these limitations are not particularly detrimental."
   ],
   "metadata": {
    "collapsed": false
   },
   "id": "8ab0672265087149"
  },
  {
   "cell_type": "markdown",
   "source": [
    "<a id=\"data-exploration\"></a>\n",
    "# B1: Exploratory Data Analysis\n",
    "\n",
    "> Perform exploratory data analysis on the chosen data set, and include an explanation of each of the following elements:\n",
    "> * presence of unusual characters (e.g., emojis, non-English characters)\n",
    "> * vocabulary size\n",
    "> * proposed word embedding length\n",
    "> * statistical justification for the chosen maximum sequence length"
   ],
   "metadata": {
    "collapsed": false
   },
   "id": "c5cee6834de79fd8"
  },
  {
   "cell_type": "code",
   "execution_count": 335,
   "outputs": [],
   "source": [
    "'''\n",
    "File format as presented in the \"readme.txt\":\n",
    "\n",
    "=======\n",
    "Format:\n",
    "=======\n",
    "sentence \\t score \\n\n",
    "\n",
    "\n",
    "=======\n",
    "Details:\n",
    "=======\n",
    "Score is either 1 (for positive) or 0 (for negative)\n",
    "'''\n",
    "review_columns = ['review', 'sentiment_score']\n",
    "read_engine = 'python'\n",
    "seperator = '\\t+'\n",
    "\n",
    "imdb_reviews = pd.read_csv('./imdb_labelled.txt', engine=read_engine, sep=seperator, header=None, names=review_columns)\n",
    "amazon_reviews = pd.read_csv('./amazon_cells_labelled.txt', engine=read_engine, sep=seperator, header=None, names=review_columns)\n",
    "yelp_reviews = pd.read_csv('./yelp_labelled.txt', engine=read_engine, sep=seperator, header=None, names=review_columns)\n"
   ],
   "metadata": {
    "collapsed": false,
    "ExecuteTime": {
     "end_time": "2023-10-24T14:51:48.694719500Z",
     "start_time": "2023-10-24T14:51:48.639649600Z"
    }
   },
   "id": "dc6813b056a56039"
  },
  {
   "cell_type": "code",
   "execution_count": 336,
   "outputs": [
    {
     "name": "stdout",
     "output_type": "stream",
     "text": [
      "<class 'pandas.core.frame.DataFrame'>\n",
      "RangeIndex: 1000 entries, 0 to 999\n",
      "Data columns (total 2 columns):\n",
      " #   Column           Non-Null Count  Dtype \n",
      "---  ------           --------------  ----- \n",
      " 0   review           1000 non-null   object\n",
      " 1   sentiment_score  1000 non-null   int64 \n",
      "dtypes: int64(1), object(1)\n",
      "memory usage: 15.8+ KB\n",
      "None\n",
      "\n",
      "\n",
      "<class 'pandas.core.frame.DataFrame'>\n",
      "RangeIndex: 1000 entries, 0 to 999\n",
      "Data columns (total 2 columns):\n",
      " #   Column           Non-Null Count  Dtype \n",
      "---  ------           --------------  ----- \n",
      " 0   review           1000 non-null   object\n",
      " 1   sentiment_score  1000 non-null   int64 \n",
      "dtypes: int64(1), object(1)\n",
      "memory usage: 15.8+ KB\n",
      "None\n",
      "\n",
      "\n",
      "<class 'pandas.core.frame.DataFrame'>\n",
      "RangeIndex: 1000 entries, 0 to 999\n",
      "Data columns (total 2 columns):\n",
      " #   Column           Non-Null Count  Dtype \n",
      "---  ------           --------------  ----- \n",
      " 0   review           1000 non-null   object\n",
      " 1   sentiment_score  1000 non-null   int64 \n",
      "dtypes: int64(1), object(1)\n",
      "memory usage: 15.8+ KB\n",
      "None\n"
     ]
    }
   ],
   "source": [
    "print(imdb_reviews.info())\n",
    "print('\\n')\n",
    "print(amazon_reviews.info())\n",
    "print('\\n')\n",
    "print(yelp_reviews.info())"
   ],
   "metadata": {
    "collapsed": false,
    "ExecuteTime": {
     "end_time": "2023-10-24T14:51:48.721816700Z",
     "start_time": "2023-10-24T14:51:48.694719500Z"
    }
   },
   "id": "1d7a3e19ed7a559b"
  },
  {
   "cell_type": "code",
   "execution_count": 337,
   "outputs": [],
   "source": [
    "'''\n",
    "Merge Datasets into one\n",
    "'''\n",
    "\n",
    "merged_reviews = pd.concat([imdb_reviews, amazon_reviews, yelp_reviews], ignore_index=True)"
   ],
   "metadata": {
    "collapsed": false,
    "ExecuteTime": {
     "end_time": "2023-10-24T14:51:48.729387100Z",
     "start_time": "2023-10-24T14:51:48.723351700Z"
    }
   },
   "id": "59bbb1e738d8d6d3"
  },
  {
   "cell_type": "code",
   "execution_count": 338,
   "outputs": [
    {
     "name": "stdout",
     "output_type": "stream",
     "text": [
      "review                                                                                              sentiment_score\n",
      "This is a great deal.                                                                               1                  2\n",
      "Works great.                                                                                        1                  2\n",
      "Not recommended.                                                                                    0                  2\n",
      "I won't be back.                                                                                    0                  2\n",
      "I love this place.                                                                                  1                  2\n",
      "                                                                                                                      ..\n",
      "I rather enjoyed it.                                                                                1                  1\n",
      "I really do recommend this place, you can go wrong with this donut place!                           1                  1\n",
      "I really don't see how anyone could enjoy this movie.                                               0                  1\n",
      "I really enjoyed Crema Café before they expanded; I even told friends they had the BEST breakfast.  1                  1\n",
      "you could only take 2 videos at a time and the quality was very poor.                               0                  1\n",
      "Name: count, Length: 2983, dtype: int64\n"
     ]
    }
   ],
   "source": [
    "print(merged_reviews.value_counts())"
   ],
   "metadata": {
    "collapsed": false,
    "ExecuteTime": {
     "end_time": "2023-10-24T14:51:48.774797600Z",
     "start_time": "2023-10-24T14:51:48.730407700Z"
    }
   },
   "id": "52b45dda924750c6"
  },
  {
   "cell_type": "code",
   "execution_count": 339,
   "outputs": [
    {
     "name": "stdout",
     "output_type": "stream",
     "text": [
      "Positive Sentiments Loaded: 1500\n",
      "Negative Sentiments Loaded: 1500\n"
     ]
    }
   ],
   "source": [
    "'''\n",
    "readme.txt states that the data should contain 500 positive and 500 negative sentences, a 50/50 split.\n",
    "\n",
    "NOTE: All 3 UC-Irvine datasets have been loaded and merged into one dataset.\n",
    "\n",
    "Verifying dataset is complete\n",
    "'''\n",
    "\n",
    "total_positive_sentiments = len(merged_reviews[merged_reviews[review_columns[1]] == 1])\n",
    "total_negative_sentiments = len(merged_reviews[merged_reviews[review_columns[1]] == 0])\n",
    "\n",
    "print(f'Positive Sentiments Loaded: {total_positive_sentiments}')\n",
    "print(f'Negative Sentiments Loaded: {total_negative_sentiments}')\n",
    "\n",
    "assert total_positive_sentiments == 1500, 'Failed to load all the positive sentiment scores'\n",
    "assert total_negative_sentiments == 1500, 'Failed to load all the negative sentiment scores'\n"
   ],
   "metadata": {
    "collapsed": false,
    "ExecuteTime": {
     "end_time": "2023-10-24T14:51:48.774797600Z",
     "start_time": "2023-10-24T14:51:48.742606900Z"
    }
   },
   "id": "77dc2996bb63271e"
  },
  {
   "cell_type": "code",
   "execution_count": 340,
   "outputs": [],
   "source": [
    "'''\n",
    "Check for missing values\n",
    "'''\n",
    "missing_data_check = merged_reviews.isna().sum()\n",
    "\n",
    "assert missing_data_check.review == 0, 'Reviews should not contain an missing review data'\n",
    "assert missing_data_check.sentiment_score == 0, 'Sentiment Scores should not contain any missing sentiment score data'"
   ],
   "metadata": {
    "collapsed": false,
    "ExecuteTime": {
     "end_time": "2023-10-24T14:51:48.774797600Z",
     "start_time": "2023-10-24T14:51:48.748640500Z"
    }
   },
   "id": "46002096a7b58e8"
  },
  {
   "cell_type": "code",
   "execution_count": 341,
   "outputs": [
    {
     "data": {
      "text/plain": "<Figure size 1200x500 with 2 Axes>",
      "image/png": "[encoded data removed]"
     },
     "metadata": {},
     "output_type": "display_data"
    }
   ],
   "source": [
    "'''\n",
    "Chart Distribution of Sentiment Score to visually check 50/50 dataset assumption.\n",
    "'''\n",
    "\n",
    "sentiment_counts = [total_negative_sentiments, total_positive_sentiments]\n",
    "\n",
    "_, (hist_axes, pie_axis) = plt.subplots(1, 2, figsize=(12, 5))\n",
    "\n",
    "hist_axes.hist(merged_reviews[review_columns[1]], bins=[-.5, .5, 1.5], rwidth=.5, color='green', alpha=.7)\n",
    "hist_axes.set_xlabel('Sentiment Score')\n",
    "hist_axes.set_ylabel('Count')\n",
    "hist_axes.set_title('Sentiment Score Histogram Distribution')\n",
    "\n",
    "for index, sentiment_count in enumerate(sentiment_counts):\n",
    "    position = (sentiment_count / 2)\n",
    "    label = 'Negative' if index == 0 else 'Positive'\n",
    "    \n",
    "    hist_axes.text(index, position, label, color='black', ha='center', va='center')\n",
    "\n",
    "pie_axis.pie(sentiment_counts, labels=['Negative', 'Positive'], autopct='%1.1f%%', startangle=90)\n",
    "pie_axis.set_title('Sentiment Scores Pie Distribution')\n",
    "\n",
    "plt.tight_layout()\n",
    "plt.show()"
   ],
   "metadata": {
    "collapsed": false,
    "ExecuteTime": {
     "end_time": "2023-10-24T14:51:48.959125800Z",
     "start_time": "2023-10-24T14:51:48.756683700Z"
    }
   },
   "id": "9c4daaa9cfd344cd"
  },
  {
   "cell_type": "markdown",
   "source": [
    "### Presence of unusual characters (e.g., emojis, non-English characters)"
   ],
   "metadata": {
    "collapsed": false
   },
   "id": "da26bc960461da86"
  },
  {
   "cell_type": "code",
   "execution_count": 342,
   "outputs": [
    {
     "name": "stdout",
     "output_type": "stream",
     "text": [
      "Does dataset contains unusual characters such as Emojis or Non-English characters: [False]\n"
     ]
    }
   ],
   "source": [
    "'''\n",
    "Check for Unusual Characters\n",
    "'''\n",
    "\n",
    "contains_unusual = unusual_character_check(merged_reviews, review_columns[0])\n",
    "print(f'Does dataset contains unusual characters such as Emojis or Non-English characters: [{contains_unusual}]')\n",
    "\n",
    "assert contains_unusual == False, 'Dataset should not contain any unusual characters.'\n",
    "\n"
   ],
   "metadata": {
    "collapsed": false,
    "ExecuteTime": {
     "end_time": "2023-10-24T14:51:48.977577100Z",
     "start_time": "2023-10-24T14:51:48.977577100Z"
    }
   },
   "id": "6ab71109424f1368"
  },
  {
   "cell_type": "markdown",
   "source": [
    "### Vocabulary Size\n",
    "\n",
    "Please see section B2 where the Tokenization process will expose the Vocabulary Size.\n",
    "\n",
    "Results will be printed to screen in format: *'The Reviews dataset contains a vocabulary size of [n] based on the 80% training dataset.'*"
   ],
   "metadata": {
    "collapsed": false
   },
   "id": "ce544ebbbd76476"
  },
  {
   "cell_type": "markdown",
   "source": [
    "### Proposed Word Embedding Length\n",
    "\n",
    "The recommended embedding size is set at *100*. Typically, the dimensionality of an embedding is influenced by available computational resources and the nature of the data. Given that we are conducting a performance review on a concise dataset comprising 1,000 entries, extensive computational power isn't necessary. Furthermore, the specificity of the data to reviews justifies this choice."
   ],
   "metadata": {
    "collapsed": false
   },
   "id": "491fbff4b0b0e0e"
  },
  {
   "cell_type": "markdown",
   "source": [
    "### Statistical justification for the chosen maximum sequence length\n",
    "\n",
    "# FILL THIS IN"
   ],
   "metadata": {
    "collapsed": false
   },
   "id": "3184a6a1c3fc6a16"
  },
  {
   "cell_type": "markdown",
   "source": [
    "<a id=\"tokenization-process\"></a>\n",
    "# B2: Tokenization\n",
    "\n",
    "\"Tokenization is the process of breaking down a piece of text into small units called tokens. A token may be a word, part of a word or just characters like punctuation.\" (Perry, n.d.). For a simple example, we could end up with a text containing *\"Rick and Morty go on adventures.\"* Then during the tokenization process ('chunking') we would potentially end up with a collection of tokens such as:\n",
    "\n",
    "1. Rick\n",
    "2. and\n",
    "3. Morty\n",
    "4. go\n",
    "5. on\n",
    "6. adventures\n",
    "7. .\n",
    "\n",
    "Take notice that the period (.) became a token as well. In the vectorization process, sometimes a text is standardized where punctuation and casing are removed.\n",
    "\n",
    "There are many different libraries and ways to perform tokenization such as [`Natural Language Toolkit - NLTK`](https://www.nltk.org/). For the purposes of this performance assessment the [`Keras`](https://keras.io/) [`TextVectorization`](https://keras.io/api/layers/preprocessing_layers/core_preprocessing_layers/text_vectorization/) will be used."
   ],
   "metadata": {
    "collapsed": false
   },
   "id": "19732814baf2d8a8"
  },
  {
   "cell_type": "code",
   "execution_count": 343,
   "outputs": [
    {
     "name": "stdout",
     "output_type": "stream",
     "text": [
      "\n",
      "The Reviews dataset contains a vocabulary size of [4734] based on the 80% training dataset.\n"
     ]
    }
   ],
   "source": [
    "'''\n",
    "Split the Reviews into 80% training data 10% validation data, and 10% test data.\n",
    "'''\n",
    "train_reviews, validation_reviews, testing_reviews = nlp_data_split(merged_reviews)\n",
    "\n",
    "embedding_padding_length = 100\n",
    "\n",
    "training_reviews_feature = train_reviews[review_columns[0]]\n",
    "\n",
    "text_vectorizer = TextVectorization(max_tokens=5000, output_sequence_length=embedding_padding_length, standardize='lower_and_strip_punctuation')\n",
    "text_vectorizer.adapt(training_reviews_feature)\n",
    "\n",
    "trained_vocabulary_size = text_vectorizer.vocabulary_size()\n",
    "trained_vocabularies = text_vectorizer.get_vocabulary()\n",
    "\n",
    "unique_vocabulary = set(trained_vocabularies)\n",
    "assert len(unique_vocabulary) == len(trained_vocabularies), 'Should be no duplicates'\n",
    "\n",
    "trained_tokens_df = pd.DataFrame({\n",
    "    'Tokens': trained_vocabularies\n",
    "})\n",
    "\n",
    "b1_vocabulary_size = f'''\n",
    "The Reviews dataset contains a vocabulary size of [{trained_vocabulary_size}] based on the 80% training dataset.\n",
    "'''\n",
    "print(b1_vocabulary_size)\n"
   ],
   "metadata": {
    "collapsed": false,
    "ExecuteTime": {
     "end_time": "2023-10-24T14:51:49.218894400Z",
     "start_time": "2023-10-24T14:51:48.984650200Z"
    }
   },
   "id": "4e7f4134e00f0ddb"
  },
  {
   "cell_type": "markdown",
   "source": [
    "<a id=\"padding-process\"></a>\n",
    "# B3: Padding Process\n",
    "\n",
    "In the machine learning realm, there are many models that require consistent length inputs. Padding is pre-processing step where adding extra values (usually zeros) to data to make them all the same size. This is done because many machine learning models require consistent input sizes. For example, in processing text, if we have sentences of different lengths but our model expects all sentences to have the same number of words, we add extra \"empty\" words to shorter sentences until they match the length of the longest one. This ensures the model can handle all the data uniformly.\n",
    "\n",
    "This Performance Assessment is using the [`Keras TextVectorization`](https://keras.io/api/layers/preprocessing_layers/core_preprocessing_layers/text_vectorization/) function. It includes a parameter `output_sequence_length`, which will add padding when items are too short and truncate when items are too long. Below is verification of padding based on the previous example text of *\"Rick and Morty go on adventures.\"*"
   ],
   "metadata": {
    "collapsed": false
   },
   "id": "f503c4111573ff1a"
  },
  {
   "cell_type": "code",
   "execution_count": 344,
   "outputs": [
    {
     "name": "stdout",
     "output_type": "stream",
     "text": [
      "\n",
      "Mock Text: This was a flick doomed from its conception.\n",
      "Tokens: ['this', 'was', 'a', 'flick', 'doomed', 'from', 'its', 'conception', '', '', '', '', '', '', '', '', '', '', '', '', '', '', '', '', '', '', '', '', '', '', '', '', '', '', '', '', '', '', '', '', '', '', '', '', '', '', '', '', '', '', '', '', '', '', '', '', '', '', '', '', '', '', '', '', '', '', '', '', '', '', '', '', '', '', '', '', '', '', '', '', '', '', '', '', '', '', '', '', '', '', '', '', '', '', '', '', '', '', '', '']\n",
      "Embeddings: [[   9   11    4  589 3996   43   31 4208    0    0    0    0    0    0\n",
      "     0    0    0    0    0    0    0    0    0    0    0    0    0    0\n",
      "     0    0    0    0    0    0    0    0    0    0    0    0    0    0\n",
      "     0    0    0    0    0    0    0    0    0    0    0    0    0    0\n",
      "     0    0    0    0    0    0    0    0    0    0    0    0    0    0\n",
      "     0    0    0    0    0    0    0    0    0    0    0    0    0    0\n",
      "     0    0    0    0    0    0    0    0    0    0    0    0    0    0\n",
      "     0    0]]\n"
     ]
    }
   ],
   "source": [
    "verification_review = 'This was a flick doomed from its conception.'\n",
    "verification_review_vectors = text_vectorizer([verification_review])\n",
    "\n",
    "validation_reviews_tokens = list()\n",
    "for i in verification_review_vectors[0]:\n",
    "    validation_reviews_tokens.append(trained_vocabularies[i])\n",
    "\n",
    "verification_message = f'''\n",
    "Mock Text: {verification_review}\n",
    "Tokens: {validation_reviews_tokens}\n",
    "Embeddings: {verification_review_vectors}\n",
    "'''\n",
    "print(verification_message)\n",
    "\n",
    "assert len(verification_review) < len(verification_review_vectors[0]), f'Failed padding process to make all vectors (embeddings) an equal size of {embedding_padding_length}'\n",
    "assert len(verification_review_vectors[0]) == embedding_padding_length, f'The text [{verification_review}] should have had its vector padded to {embedding_padding_length}'"
   ],
   "metadata": {
    "collapsed": false,
    "ExecuteTime": {
     "end_time": "2023-10-24T14:51:49.356185400Z",
     "start_time": "2023-10-24T14:51:49.224432200Z"
    }
   },
   "id": "2b8b506c5642a09f"
  },
  {
   "cell_type": "markdown",
   "source": [
    "<a id=\"categories-of-sentiment\"></a>\n",
    "# B4: Categories Of Sentiment\n",
    "\n",
    "The **Categories of Sentiment** for the [`Combined IMDB, Amazon, and Yelp Datasets`](https://archive.ics.uci.edu/dataset/331/sentiment+labelled+sentences) is Binary Sentiment Classification as there are only two possible classifications. The classification categories are 1—Positive or 0—Negative. Demonstrated in the below code."
   ],
   "metadata": {
    "collapsed": false
   },
   "id": "54b1d366ba44fd4f"
  },
  {
   "cell_type": "code",
   "execution_count": 345,
   "outputs": [
    {
     "name": "stdout",
     "output_type": "stream",
     "text": [
      "\n",
      "Total Categories of Sentiment: 2\n",
      "Available Categories of Sentiment: [0, 1]\n",
      "\n",
      "Legend: \n",
      " 0 - Negative\n",
      " 1 - Positive   \n"
     ]
    }
   ],
   "source": [
    "sentiment_scores = merged_reviews[review_columns[1]]\n",
    "\n",
    "total_categories_of_sentiment = sentiment_scores.nunique()\n",
    "available_categories_of_sentiment = list(sentiment_scores.value_counts().index)\n",
    "\n",
    "assert total_categories_of_sentiment == 2, 'The total categories of sentiment should have been 2 as the IMDB reviews are either positive or negative'\n",
    "assert available_categories_of_sentiment == [0, 1], 'Category values should only include 0 or 1, representing Negative or Positive'\n",
    "\n",
    "sentiment_score_label = {\n",
    "    0: 'Negative',\n",
    "    1: 'Positive'\n",
    "}\n",
    " \n",
    "categories_of_sentiment_summary = f'''\n",
    "Total Categories of Sentiment: {total_categories_of_sentiment}\n",
    "Available Categories of Sentiment: {available_categories_of_sentiment}\n",
    "\n",
    "Legend: \n",
    " 0 - {sentiment_score_label.get(0)}\n",
    " 1 - {sentiment_score_label.get(1)}   \n",
    "'''\n",
    "\n",
    "print(categories_of_sentiment_summary)\n"
   ],
   "metadata": {
    "collapsed": false,
    "ExecuteTime": {
     "end_time": "2023-10-24T14:51:49.356185400Z",
     "start_time": "2023-10-24T14:51:49.334632Z"
    }
   },
   "id": "8572c250f91cb2d5"
  },
  {
   "cell_type": "markdown",
   "source": [
    "<a id=\"data-preparation\"></a>\n",
    "# B5: Steps To Prepare the Data\n",
    ">Explain the steps used to prepare the data for analysis, including the size of the training, validation, and test set split (based on the industry average).\n",
    "\n",
    "The dataset that is being used is in a `.txt` format. Which in the `readme.txt` supplied from the [`UC Irvine Machine Learning Repository`](https://archive.ics.uci.edu/dataset/331/sentiment+labelled+sentences) indicates that the file is formatted as *sentence \\t score \\n*.\n",
    "\n",
    "Data Preparation Steps:\n",
    "1. Load the each `.txt` file (`amazon_cells_labelled.txt`, `imdb_labelled.txt`, `yelp_labelled.txt`) with Pandas function [`.read_csv`](https://pandas.pydata.org/docs/reference/api/pandas.read_csv.html) with settings based on the `readme.txt` file format. Data is separated by a tab, and each data entry is on a new-line.\n",
    "2. Merge data sets (imdb, amazon, and yelp) using [`Pandas Concact`](https://pandas.pydata.org/docs/reference/api/pandas.concat.html) function.\n",
    "3. Use custom function `nlp_data_split` to split the data into training, validation, and testing datasets.\n",
    "    * Industry standard for NLP splits is:\n",
    "        * Training -> 80%\n",
    "        * Validation -> 10%\n",
    "        * Testing -> 10%\n",
    "4. Tokenize Training Data\n",
    "\n",
    "NLP Split Verification Code:"
   ],
   "metadata": {
    "collapsed": false
   },
   "id": "e029be5499a7d6ad"
  },
  {
   "cell_type": "code",
   "execution_count": 346,
   "outputs": [],
   "source": [
    "'''\n",
    "Verify Raw Text Reviews have been properly split for NLP.\n",
    "'''\n",
    "\n",
    "#original data\n",
    "total_data_count = len(merged_reviews)\n",
    "\n",
    "#split data\n",
    "training_data_count = len(train_reviews)\n",
    "validation_data_count = len(validation_reviews)\n",
    "testing_data_count = len(testing_reviews)\n",
    "\n",
    "training_percentage = training_data_count/total_data_count \n",
    "assert training_percentage == .8, f'Training data should be 80% of original data, received [{training_percentage}]'\n",
    "\n",
    "validation_percentage = validation_data_count/total_data_count\n",
    "assert validation_percentage == .1, f'Validation data should be 10% of original data, received [{validation_percentage}]'\n",
    "\n",
    "testing_percentage = testing_data_count/total_data_count\n",
    "assert testing_percentage == .1, f'Testing data should be 10% of original data, received [{testing_percentage}]'"
   ],
   "metadata": {
    "collapsed": false,
    "ExecuteTime": {
     "end_time": "2023-10-24T14:51:49.356185400Z",
     "start_time": "2023-10-24T14:51:49.334632Z"
    }
   },
   "id": "58413e5cdfaf07a5"
  },
  {
   "cell_type": "markdown",
   "source": [
    "<a id=\"copy-of-prepared-data\"></a>\n",
    "# B6: Prepared Dataset"
   ],
   "metadata": {
    "collapsed": false
   },
   "id": "c8ea2329d210e14c"
  },
  {
   "cell_type": "code",
   "execution_count": 347,
   "outputs": [],
   "source": [
    "'''\n",
    "Save to CSV IMDB Reviews Data Sets for NLP split into Training, Validation, and Test\n",
    "'''\n",
    "train_reviews.to_csv('./merged-reviews-training-dataset.csv')\n",
    "validation_reviews.to_csv('./merged-reviews-validation-dataset.csv')\n",
    "testing_reviews.to_csv('./merged-reviews-testing-dataset.csv')\n",
    "\n",
    "'''\n",
    "Tokenized IMDB Reviews based on Training Dataset\n",
    "'''\n",
    "trained_tokens_df.to_csv('./merged-reviews-training-dataset-tokenized.csv', index=False)"
   ],
   "metadata": {
    "collapsed": false,
    "ExecuteTime": {
     "end_time": "2023-10-24T14:51:49.356185400Z",
     "start_time": "2023-10-24T14:51:49.334632Z"
    }
   },
   "id": "22082c621da99253"
  },
  {
   "cell_type": "markdown",
   "source": [
    "<a id=\"tensorflow-model-summary\"></a>\n",
    "# C1: Model Summary\n",
    ">The submission provides the complete output of the model summary of the function from TensorFlow. The output aligns with the type of network used."
   ],
   "metadata": {
    "collapsed": false
   },
   "id": "8156d83340e0130c"
  },
  {
   "cell_type": "code",
   "execution_count": 348,
   "outputs": [
    {
     "name": "stdout",
     "output_type": "stream",
     "text": [
      "Model: \"sequential_16\"\n",
      "_________________________________________________________________\n",
      " Layer (type)                Output Shape              Param #   \n",
      "=================================================================\n",
      " text_vectorization_16 (Tex  (None, 100)               0         \n",
      " tVectorization)                                                 \n",
      "                                                                 \n",
      " dense_36 (Dense)            (None, 6)                 606       \n",
      "                                                                 \n",
      " dense_37 (Dense)            (None, 1)                 7         \n",
      "                                                                 \n",
      "=================================================================\n",
      "Total params: 613 (2.39 KB)\n",
      "Trainable params: 613 (2.39 KB)\n",
      "Non-trainable params: 0 (0.00 Byte)\n",
      "_________________________________________________________________\n"
     ]
    }
   ],
   "source": [
    "#Initialize Sequential Model\n",
    "sequential_model = Sequential([\n",
    "    #Add Embedding (Vectorization) Layer with check for Input 1Dness\n",
    "    Input(shape=(1,), dtype=tf.string),\n",
    "    text_vectorizer,\n",
    "    \n",
    "    #There is no definitive formula that can specify the exact architecture for a neural network that will work best for a given dataset. Experimenting\n",
    "    Dense(6, activation='relu'),\n",
    "    Dense(1, activation='softmax')\n",
    "])\n",
    "\n",
    "'''\n",
    "Loss Function: BinaryCrossentropy\n",
    "Description: Computes the cross-entropy loss between true labels and predicted labels.\n",
    "Documentation: https://www.tensorflow.org/api_docs/python/tf/keras/losses/BinaryCrossentropy\n",
    "'''\n",
    "\n",
    "loss_function = BinaryCrossentropy()\n",
    "\n",
    "sequential_model.compile(optimizer='adam', loss=loss_function, metrics=['accuracy'])\n",
    "sequential_model.summary()"
   ],
   "metadata": {
    "collapsed": false,
    "ExecuteTime": {
     "end_time": "2023-10-24T14:51:49.374735100Z",
     "start_time": "2023-10-24T14:51:49.334632Z"
    }
   },
   "id": "278802d9c6fc4115"
  },
  {
   "cell_type": "code",
   "execution_count": 349,
   "outputs": [
    {
     "name": "stdout",
     "output_type": "stream",
     "text": [
      "Epoch 1/50\n",
      "75/75 [==============================] - 1s 4ms/step - loss: 104.8214 - accuracy: 0.5021 - val_loss: 33.9890 - val_accuracy: 0.4467\n",
      "Epoch 2/50\n",
      "75/75 [==============================] - 0s 2ms/step - loss: 35.8914 - accuracy: 0.5021 - val_loss: 16.2958 - val_accuracy: 0.4467\n",
      "Epoch 3/50\n",
      "75/75 [==============================] - 0s 2ms/step - loss: 14.5710 - accuracy: 0.5021 - val_loss: 9.3472 - val_accuracy: 0.4467\n",
      "Epoch 4/50\n",
      "75/75 [==============================] - 0s 2ms/step - loss: 6.9697 - accuracy: 0.5021 - val_loss: 6.4646 - val_accuracy: 0.4467\n",
      "Epoch 5/50\n",
      "75/75 [==============================] - 0s 2ms/step - loss: 3.9553 - accuracy: 0.5021 - val_loss: 4.8525 - val_accuracy: 0.4467\n",
      "Epoch 6/50\n",
      "75/75 [==============================] - 0s 2ms/step - loss: 2.5719 - accuracy: 0.5021 - val_loss: 4.0111 - val_accuracy: 0.4467\n",
      "Epoch 7/50\n",
      "75/75 [==============================] - 0s 2ms/step - loss: 1.9016 - accuracy: 0.5021 - val_loss: 3.3476 - val_accuracy: 0.4467\n",
      "Epoch 8/50\n",
      "75/75 [==============================] - 0s 2ms/step - loss: 1.5449 - accuracy: 0.5021 - val_loss: 2.8065 - val_accuracy: 0.4467\n",
      "Epoch 9/50\n",
      "75/75 [==============================] - 0s 2ms/step - loss: 1.3027 - accuracy: 0.5021 - val_loss: 2.4800 - val_accuracy: 0.4467\n",
      "Epoch 10/50\n",
      "75/75 [==============================] - 0s 2ms/step - loss: 1.1109 - accuracy: 0.5021 - val_loss: 2.2110 - val_accuracy: 0.4467\n",
      "Epoch 11/50\n",
      "75/75 [==============================] - 0s 2ms/step - loss: 0.9782 - accuracy: 0.5021 - val_loss: 1.9792 - val_accuracy: 0.4467\n",
      "Epoch 12/50\n",
      "75/75 [==============================] - 0s 2ms/step - loss: 0.9020 - accuracy: 0.5021 - val_loss: 1.7765 - val_accuracy: 0.4467\n",
      "Epoch 13/50\n",
      "75/75 [==============================] - 0s 2ms/step - loss: 0.8412 - accuracy: 0.5021 - val_loss: 1.6615 - val_accuracy: 0.4467\n",
      "Epoch 14/50\n",
      "75/75 [==============================] - 0s 2ms/step - loss: 0.7871 - accuracy: 0.5021 - val_loss: 1.4871 - val_accuracy: 0.4467\n",
      "Epoch 15/50\n",
      "75/75 [==============================] - 0s 2ms/step - loss: 0.7636 - accuracy: 0.5021 - val_loss: 1.4327 - val_accuracy: 0.4467\n",
      "Epoch 16/50\n",
      "75/75 [==============================] - 0s 2ms/step - loss: 0.7446 - accuracy: 0.5021 - val_loss: 1.3978 - val_accuracy: 0.4467\n",
      "Epoch 17/50\n",
      "75/75 [==============================] - 0s 2ms/step - loss: 0.7349 - accuracy: 0.5021 - val_loss: 1.3793 - val_accuracy: 0.4467\n",
      "Epoch 18/50\n",
      "75/75 [==============================] - 0s 2ms/step - loss: 0.7296 - accuracy: 0.5021 - val_loss: 1.3718 - val_accuracy: 0.4467\n",
      "Epoch 19/50\n",
      "75/75 [==============================] - 0s 2ms/step - loss: 0.7210 - accuracy: 0.5021 - val_loss: 1.3581 - val_accuracy: 0.4467\n",
      "Epoch 20/50\n",
      "75/75 [==============================] - 0s 2ms/step - loss: 0.7161 - accuracy: 0.5021 - val_loss: 1.3492 - val_accuracy: 0.4467\n",
      "Epoch 21/50\n",
      "75/75 [==============================] - 0s 2ms/step - loss: 0.7125 - accuracy: 0.5021 - val_loss: 1.3467 - val_accuracy: 0.4467\n",
      "Epoch 22/50\n",
      "75/75 [==============================] - 0s 2ms/step - loss: 0.7072 - accuracy: 0.5021 - val_loss: 1.3350 - val_accuracy: 0.4467\n",
      "Epoch 23/50\n",
      "75/75 [==============================] - 0s 2ms/step - loss: 0.7056 - accuracy: 0.5021 - val_loss: 1.3255 - val_accuracy: 0.4467\n",
      "Epoch 24/50\n",
      "75/75 [==============================] - 0s 2ms/step - loss: 0.7031 - accuracy: 0.5021 - val_loss: 1.3242 - val_accuracy: 0.4467\n",
      "Epoch 25/50\n",
      "75/75 [==============================] - 0s 2ms/step - loss: 0.7020 - accuracy: 0.5021 - val_loss: 1.3192 - val_accuracy: 0.4467\n",
      "Epoch 26/50\n",
      "75/75 [==============================] - 0s 2ms/step - loss: 0.7003 - accuracy: 0.5021 - val_loss: 1.3142 - val_accuracy: 0.4467\n",
      "Epoch 27/50\n",
      "75/75 [==============================] - 0s 2ms/step - loss: 0.6982 - accuracy: 0.5021 - val_loss: 1.3128 - val_accuracy: 0.4467\n",
      "Epoch 28/50\n",
      "75/75 [==============================] - 0s 2ms/step - loss: 0.6951 - accuracy: 0.5021 - val_loss: 1.3054 - val_accuracy: 0.4467\n",
      "Epoch 29/50\n",
      "75/75 [==============================] - 0s 2ms/step - loss: 0.6919 - accuracy: 0.5021 - val_loss: 1.2992 - val_accuracy: 0.4467\n",
      "Epoch 30/50\n",
      "75/75 [==============================] - 0s 2ms/step - loss: 0.6905 - accuracy: 0.5021 - val_loss: 1.2963 - val_accuracy: 0.4467\n",
      "Epoch 31/50\n",
      "75/75 [==============================] - 0s 2ms/step - loss: 0.6886 - accuracy: 0.5021 - val_loss: 1.2942 - val_accuracy: 0.4467\n",
      "Epoch 32/50\n",
      "75/75 [==============================] - 0s 2ms/step - loss: 0.6882 - accuracy: 0.5021 - val_loss: 1.2914 - val_accuracy: 0.4467\n",
      "Epoch 33/50\n",
      "75/75 [==============================] - 0s 2ms/step - loss: 0.6889 - accuracy: 0.5021 - val_loss: 1.2898 - val_accuracy: 0.4467\n",
      "Epoch 34/50\n",
      "75/75 [==============================] - 0s 2ms/step - loss: 0.6872 - accuracy: 0.5021 - val_loss: 1.2902 - val_accuracy: 0.4467\n"
     ]
    }
   ],
   "source": [
    "'''\n",
    "Train the Sequential Model\n",
    "'''\n",
    "\n",
    "x_train_reviews = train_reviews[review_columns[0]]\n",
    "y_train_sentiment_scores = train_reviews[review_columns[1]]\n",
    "\n",
    "x_validation_reviews = validation_reviews[review_columns[0]]\n",
    "y_validation_sentiment_scores = validation_reviews[review_columns[1]]\n",
    "\n",
    "validation_data = (x_validation_reviews, y_validation_sentiment_scores)\n",
    "\n",
    "#Actually train the model.\n",
    "model_results = sequential_model.fit(x=x_train_reviews\n",
    "                                    ,y=y_train_sentiment_scores\n",
    "                                    ,validation_data=validation_data\n",
    "                                    ,callbacks = EarlyStopping(monitor = 'val_loss')\n",
    "                                    ,epochs=50)\n",
    "\n"
   ],
   "metadata": {
    "collapsed": false,
    "ExecuteTime": {
     "end_time": "2023-10-24T14:51:55.154294800Z",
     "start_time": "2023-10-24T14:51:49.356185400Z"
    }
   },
   "id": "47a89f1c4592dec5"
  },
  {
   "cell_type": "code",
   "execution_count": 350,
   "outputs": [
    {
     "data": {
      "text/plain": "<Figure size 1400x600 with 2 Axes>",
      "image/png": "[encoded data removed]"
     },
     "metadata": {},
     "output_type": "display_data"
    }
   ],
   "source": [
    "'''\n",
    "Chart Accuracy and Lost Metrics\n",
    "'''\n",
    "\n",
    "plot_accuracy_metrics(model_results.history)"
   ],
   "metadata": {
    "collapsed": false,
    "ExecuteTime": {
     "end_time": "2023-10-24T14:51:55.399719400Z",
     "start_time": "2023-10-24T14:51:55.164883300Z"
    }
   },
   "id": "18733d5c4cb0f95c"
  },
  {
   "cell_type": "code",
   "execution_count": 351,
   "outputs": [
    {
     "name": "stdout",
     "output_type": "stream",
     "text": [
      "10/10 [==============================] - 0s 1ms/step - loss: 1.3950 - accuracy: 0.5367\n",
      "\n",
      "Model Evaluation with Test Dataset Results:\n",
      "===========================================\n",
      "Loss Function Used: BinaryCrossentropy [Loss closer to 0 is best.]\n",
      "\n",
      "Loss: 1.3949817419052124\n",
      "Accuracy: 0.5366666913032532\n"
     ]
    }
   ],
   "source": [
    "'''\n",
    "Evaluate the Model\n",
    "'''\n",
    "x_test_reviews = testing_reviews[review_columns[0]]\n",
    "y_test_sentiment_scores = testing_reviews[review_columns[1]]\n",
    "\n",
    "(loss, accuracy) = sequential_model.evaluate(x_test_reviews, y_test_sentiment_scores)\n",
    "\n",
    "evaluation = f'''\n",
    "Model Evaluation with Test Dataset Results:\n",
    "===========================================\n",
    "Loss Function Used: {nameof(BinaryCrossentropy)} [Loss closer to 0 is best.]\n",
    "\n",
    "Loss: {loss}\n",
    "Accuracy: {accuracy}\n",
    "'''\n",
    "print(evaluation)"
   ],
   "metadata": {
    "collapsed": false,
    "ExecuteTime": {
     "end_time": "2023-10-24T14:51:55.534289900Z",
     "start_time": "2023-10-24T14:51:55.406502300Z"
    }
   },
   "id": "1609015e29487836"
  },
  {
   "cell_type": "code",
   "execution_count": 352,
   "outputs": [
    {
     "name": "stdout",
     "output_type": "stream",
     "text": [
      "INFO:tensorflow:Assets written to: ./sentiment_classification_model\\assets\n"
     ]
    },
    {
     "name": "stderr",
     "output_type": "stream",
     "text": [
      "INFO:tensorflow:Assets written to: ./sentiment_classification_model\\assets\n"
     ]
    }
   ],
   "source": [
    "'''\n",
    "Save the Model\n",
    "'''\n",
    "sequential_model.save('./sentiment_classification_model', save_format='tf') #.h5 This file format is considered legacy."
   ],
   "metadata": {
    "collapsed": false,
    "ExecuteTime": {
     "end_time": "2023-10-24T14:51:55.939892500Z",
     "start_time": "2023-10-24T14:51:55.474624800Z"
    }
   },
   "id": "79436f8446c55ac1"
  },
  {
   "cell_type": "markdown",
   "source": [
    "<a id=\"network-architecture\"></a>\n",
    "# C2: Network Architecture\n",
    ">The submission completely and accurately discusses the number of layers, the type of layers, and the total number of parameters in the network.\n",
    "\n",
    "The Network Architecture of the [`Sequential Model`](https://keras.io/guides/sequential_model/) has 4 layers:\n",
    "\n",
    " * The First Layer is the Input layer. This layer is set as `Input(shape=(1,), dtype=tf.string)` which indicates that each input item is a 1-dimensional array of text.\n",
    " * Second Layer is the [`TextVectorization`](https://keras.io/api/layers/preprocessing_layers/core_preprocessing_layers/text_vectorization/) which handles converting text into tokens and then vectorization (embeddings).\n",
    " * Third Layer is a [`Dense`](https://keras.io/api/layers/core_layers/dense/) layer which is the hidden layer. In this case, it's initialized with 6 neurons and uses the activation function 'relu'. The Total number of parameters is *606*\n",
    " * Fourth Layer is which the `softmax` activation function is applied and includes 7 parameters.\n",
    "\n",
    "The summary of the above Sequential Model is:\n",
    "\n",
    "Total params: 613 (2.39 KB)\n",
    "Trainable params: 613 (2.39 KB)\n",
    "Non-trainable params: 0 (0.00 Byte)"
   ],
   "metadata": {
    "collapsed": false
   },
   "id": "9b90d42666bad852"
  },
  {
   "cell_type": "markdown",
   "source": [
    "<a id=\"hyperparameters\"></a>\n",
    "# C3: Hyperparameters\n",
    ">The submission logically justifies the choice of hyperparameters, including each of the 6 listed elements, and each element aligns with the network used.\n",
    "\n",
    "Hyperparameters used for this Sequential Model include:\n",
    "\n",
    " * **Activation Function**: [`ReLU`](https://keras.io/api/layers/activation_layers/relu/) is the activation function used for our Network. This type of activation function returns the value it gets if it's positive otherwise if it's negative it will return 0. This is considered a low latency activation function for neural networks and has pretty good performance and helps make training easier. <br /><br />\n",
    " * **Nodes Per Layer**: Even with merging the three datasets 1500 rows in a dataset is pretty small. The hidden layer (3rd Layer) uses 6 nodes, and the output layer (4th Layer) has one node for the output. <br /><br />\n",
    " * **Loss Function**: Our sentiment scores are binary, and we want probabilistic loss so we used the loss function 'BinaryCrossentropy()' <br /><br />\n",
    " * **Optimizer**: Throughout the demonstrations in this course it was recommended to use the `adam` optimizer as it is great for working with smaller limited datasets. It does this because it has dynamic learning rates. <br /><br />\n",
    " * **Stopping Criteria**: [`EarlyStopping`](https://keras.io/api/callbacks/early_stopping/) was used to help prevent over-fitting of the model. It also stops the training process if things begin to degrade performance wise. <br /><br />\n",
    " * **Evaluation Metric**: [`Accuracy`](https://keras.io/api/metrics/accuracy_metrics/) was chosen for our metrics. It is used to calculate how often the labels and predictions are equal.    <br /><br />"
   ],
   "metadata": {
    "collapsed": false
   },
   "id": "b5076253c258201f"
  },
  {
   "cell_type": "markdown",
   "source": [
    "<a id=\"stopping-criteria\"></a>\n",
    "# D1: Stopping Criteria\n",
    ">The submission accurately discusses the impact of using stopping criteria to include defining the number of epochs. A screenshot showing the final training epoch is provided."
   ],
   "metadata": {
    "collapsed": false
   },
   "id": "d52d548523b3589"
  },
  {
   "cell_type": "markdown",
   "source": [
    "<a id=\"fitness\"></a>\n",
    "# D2: Fitness\n",
    ">The submission completely and accurately assesses the fitness of the model, and the assessment includes any actions taken to address overfitting."
   ],
   "metadata": {
    "collapsed": false
   },
   "id": "69e8dc0bde2f3d86"
  },
  {
   "cell_type": "markdown",
   "source": [
    "<a id=\"training-process\"></a>\n",
    "# D3: Training Process\n",
    ">The submission provides complete visualizations of the model’s training process, including a line graph of the loss and the chosen evaluation metric. The visualizations are clearly labeled and align with the model’s training process."
   ],
   "metadata": {
    "collapsed": false
   },
   "id": "5c613d3410f5e5b"
  },
  {
   "cell_type": "markdown",
   "source": [
    "<a id=\"predictive-accuracy\"></a>\n",
    "# D4: Predictive Accuracy\n",
    ">The submission discusses the predictive accuracy of the trained network using the chosen evaluation metric from part D3."
   ],
   "metadata": {
    "collapsed": false
   },
   "id": "8926612b310cbcc8"
  },
  {
   "cell_type": "markdown",
   "source": [
    "<a id=\"source-code\"></a>\n",
    "# E: Code\n",
    "\n",
    "##### NOTE: This Jupyter Notebook (`.ipynb`) is acting as the Paper and Code together. Please review the notebook for all sections of appropriate code."
   ],
   "metadata": {
    "collapsed": false
   },
   "id": "583e94b2083b1df1"
  },
  {
   "cell_type": "markdown",
   "source": [
    "<a id=\"functionality\"></a>\n",
    "# H: Functionality\n",
    ">The submission accurately discusses the functionality of the neural network, including the impact of the network architecture. The discussion aligns with the research question from part A."
   ],
   "metadata": {
    "collapsed": false
   },
   "id": "676538644d2f2443"
  },
  {
   "cell_type": "markdown",
   "source": [
    "<a id=\"recommendations\"></a>\n",
    "# G: Recommendations\n",
    ">The submission recommends an appropriate course of action based on the results as they relate to the research question."
   ],
   "metadata": {
    "collapsed": false
   },
   "id": "9808f066bc992da0"
  },
  {
   "cell_type": "markdown",
   "source": [
    "<a id=\"reporting\"></a>\n",
    "# H: Reporting\n",
    ">The neural network is shown in an industry-relevant interactive development environment and is complete, accurate, and in alignment with the data analysis of the report. A PDF or HTML document of the executed notebook presentation is provided."
   ],
   "metadata": {
    "collapsed": false
   },
   "id": "764d2e6cad998a0d"
  },
  {
   "cell_type": "markdown",
   "source": [
    "<a id=\"code-references\"></a>\n",
    "# I: Sources for Third Party Code"
   ],
   "metadata": {
    "collapsed": false
   },
   "id": "200bbc8686c2c44e"
  },
  {
   "cell_type": "markdown",
   "source": [
    "<a id=\"source-references\"></a>\n",
    "# J: Source References\n",
    "\n",
    " * Kotzias,Dimitrios. (2015). Sentiment Labelled Sentences. UCI Machine Learning Repository. https://doi.org/10.24432/C57604. <br /> <br />\n",
    " * Géron, A. (2022). Hands-On Machine Learning with Scikit-Learn, Keras, and Tensorflow: Concepts, Tools, and Techniques to Build Intelligent Systems. <br /><br /> \n",
    " * Suman, A. (2020, Sept). Limitation of NN and CNN. Medium. https://anjanisuman.medium.com/limitation-of-nn-and-cnn-ee21a4cdc9eb <br /> <br />\n",
    " * Tal Perry. (n.d.). What is Tokenization in Natural Language Processing? Retrieved from https://www.machinelearningplus.com/nlp/what-is-tokenization-in-natural-language-processing/<br /> <br />\n",
    " * Brownlee, J. (August 25, 2020). How to Stop Training Deep Neural Networks at the Right Time Using Early Stopping. Machine Learning Mastery. https://machinelearningmastery.com/how-to-stop-training-deep-neural-networks-at-the-right-time-using-early-stopping/ <br /> <br />\n",
    " "
   ],
   "metadata": {
    "collapsed": false
   },
   "id": "f0576134a9f9b661"
  }
 ],
 "metadata": {
  "kernelspec": {
   "display_name": "Python 3",
   "language": "python",
   "name": "python3"
  },
  "language_info": {
   "codemirror_mode": {
    "name": "ipython",
    "version": 2
   },
   "file_extension": ".py",
   "mimetype": "text/x-python",
   "name": "python",
   "nbconvert_exporter": "python",
   "pygments_lexer": "ipython2",
   "version": "2.7.6"
  }
 },
 "nbformat": 4,
 "nbformat_minor": 5
}
