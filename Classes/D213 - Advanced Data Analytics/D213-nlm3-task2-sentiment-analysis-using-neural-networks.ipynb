{
 "cells": [
  {
   "cell_type": "markdown",
   "source": [
    "# D213 - Advanced Data Analytics\n",
    "### NLM3 Task 2: Sentiment Analysis Using Neural Networks\n",
    "#### Advanced Data Analytics — D213\n",
    "#### PRFA — NLM3\n",
    "> André Davis\n",
    "> StudentID: 010630641\n",
    "> MSDA\n",
    ">\n",
    "> Competencies\n",
    "> 4030.7.1 : Constructing Neural Networks\n",
    "> The graduate builds neural networks in the context of machine-learning modeling.\n",
    "> \n",
    "> 4030.7.3 : Natural Language Processing\n",
    "> The graduate extracts insights from text data using effective and appropriate natural language processing (NLP) models."
   ],
   "metadata": {
    "collapsed": false
   },
   "id": "9a0a6f3a9c4c7b83"
  },
  {
   "cell_type": "markdown",
   "source": [
    "##### Table of Contents\n",
    "\n",
    " <ul>\n",
    "    <li><a href=\"#documentation\">Documentation</a></li>\n",
    "    <li><a href=\"#research-question\">A1: Research Question</a></li>\n",
    "    <li><a href=\"#objectives\">A2: Objectives Or Goals</a></li>\n",
    "    <li><a href=\"#neural-networks-identification\">A3: Prescribed Network Neural Network Identification</a></li>\n",
    "    <li><a href=\"#data-exploration\">B1: Data Exploration</a></li>\n",
    "    <li><a href=\"#tokenization-process\">B2: Tokenization</a></li>\n",
    "    <li><a href=\"#padding-process\">B3: Padding Process</a></li> \n",
    "    <li><a href=\"#categories-of-sentiment\">B4: Categories Of Sentiment</a></li>\n",
    "    <li><a href=\"#data-preparation\">B5: Steps To Prepare the Data</a></li>\n",
    "    <li><a href=\"#copy-of-prepared-data\">B6: Prepared Dataset</a></li>\n",
    "    <li><a href=\"#tensorflow-model-summary\">C1: Model Summary</a></li>\n",
    "    <li><a href=\"#network-architecture\">C2: Network Architecture</a></li>\n",
    "    <li><a href=\"#hyperparameters\">C3: Hyperparameters</a></li>\n",
    "    <li><a href=\"#stopping-criteria\">D1: Stopping Criteria</a></li>\n",
    "    <li><a href=\"#fitness\">D2: Fitness</a></li>\n",
    "    <li><a href=\"#training-process\">D3: Training Process</a></li>\n",
    "    <li><a href=\"#predictive-accuracy\">D4: Predictive Accuracy</a></li>\n",
    "    <li><a href=\"#source-code\">E: Code</a></li> \n",
    "    <li><a href=\"#functionality\">H: Functionality</a></li> \n",
    "    <li><a href=\"#recommendations\">G: Recommendeds</a></li>\n",
    "    <li><a href=\"#reporting\">H: Reporting</a></li>\n",
    "    <li><a href=\"#code-references\">I: Sources for Thirday Party Code</a></li>\n",
    "    <li><a href=\"#source-references\">J: Source References</a></li>    \n",
    "  </ul>"
   ],
   "metadata": {
    "collapsed": false
   },
   "id": "a6f4b1b44192be39"
  },
  {
   "cell_type": "markdown",
   "source": [
    "# Documentation\n",
    "\n",
    " * [TensorFlow](https://www.tensorflow.org/)\n",
    " * [Keras](https://keras.io/)\n",
    "     * [Dot Products](https://www.khanacademy.org/math/multivariable-calculus/thinking-about-multivariable-function/x786f2022:vectors-and-matrices/a/dot-products-mvc)    "
   ],
   "metadata": {
    "collapsed": false
   },
   "id": "72638253c5494f7c"
  },
  {
   "cell_type": "markdown",
   "source": [
    "<a id=\"research-question\"></a>\n",
    "# A1: Research Question\n",
    "\n",
    "Is it feasible to ascertain the sentiment polarity—whether positive or negative—of an IMDb movie review to a reasonably reliable extent, solely based on the textual content of the review?"
   ],
   "metadata": {
    "collapsed": false
   },
   "id": "acf84ccb3d1ed8e3"
  },
  {
   "cell_type": "markdown",
   "source": [
    "<a id=\"objectives\"></a>\n",
    "# A2: Objectives and Goals of Analysis\n",
    "\n",
    "The main goal of this analysis is to build a neural network model that can fairly accurately tell if an IMDb movie review is positive or negative based on its text. A secondary goal is to try out different neural network setups and settings to find which one works best for our data and aim."
   ],
   "metadata": {
    "collapsed": false
   },
   "id": "46d89ab2f5ad3e9e"
  },
  {
   "cell_type": "markdown",
   "source": [
    "<a id=\"neural-networks-identification\"></a>\n",
    "# A3: Prescribed Network Neural Network Identification"
   ],
   "metadata": {
    "collapsed": false
   },
   "id": "8ab0672265087149"
  },
  {
   "cell_type": "markdown",
   "source": [
    "<a id=\"data-exploration\"></a>\n",
    "# B1: Exploratory Data Analysis"
   ],
   "metadata": {
    "collapsed": false
   },
   "id": "c5cee6834de79fd8"
  },
  {
   "cell_type": "code",
   "execution_count": 1,
   "outputs": [
    {
     "name": "stdout",
     "output_type": "stream",
     "text": [
      "Requirement already satisfied: numpy in c:\\python\\3.11.2\\lib\\site-packages (1.23.5)\n",
      "Requirement already satisfied: pandas in c:\\python\\3.11.2\\lib\\site-packages (2.0.2)\n",
      "Requirement already satisfied: python-dateutil>=2.8.2 in c:\\python\\3.11.2\\lib\\site-packages (from pandas) (2.8.2)\n",
      "Requirement already satisfied: pytz>=2020.1 in c:\\python\\3.11.2\\lib\\site-packages (from pandas) (2023.3)\n",
      "Requirement already satisfied: tzdata>=2022.1 in c:\\python\\3.11.2\\lib\\site-packages (from pandas) (2023.3)\n",
      "Requirement already satisfied: numpy>=1.21.0 in c:\\python\\3.11.2\\lib\\site-packages (from pandas) (1.23.5)\n",
      "Requirement already satisfied: six>=1.5 in c:\\python\\3.11.2\\lib\\site-packages (from python-dateutil>=2.8.2->pandas) (1.16.0)\n",
      "Requirement already satisfied: scikit-learn in c:\\python\\3.11.2\\lib\\site-packages (1.2.2)\n",
      "Requirement already satisfied: numpy>=1.17.3 in c:\\python\\3.11.2\\lib\\site-packages (from scikit-learn) (1.23.5)\n",
      "Requirement already satisfied: scipy>=1.3.2 in c:\\python\\3.11.2\\lib\\site-packages (from scikit-learn) (1.10.1)\n",
      "Requirement already satisfied: joblib>=1.1.1 in c:\\python\\3.11.2\\lib\\site-packages (from scikit-learn) (1.2.0)\n",
      "Requirement already satisfied: threadpoolctl>=2.0.0 in c:\\python\\3.11.2\\lib\\site-packages (from scikit-learn) (3.1.0)\n",
      "Requirement already satisfied: tensorflow in c:\\python\\3.11.2\\lib\\site-packages (2.12.0)\n",
      "Requirement already satisfied: tensorflow-intel==2.12.0 in c:\\python\\3.11.2\\lib\\site-packages (from tensorflow) (2.12.0)\n",
      "Requirement already satisfied: absl-py>=1.0.0 in c:\\python\\3.11.2\\lib\\site-packages (from tensorflow-intel==2.12.0->tensorflow) (1.4.0)\n",
      "Requirement already satisfied: astunparse>=1.6.0 in c:\\python\\3.11.2\\lib\\site-packages (from tensorflow-intel==2.12.0->tensorflow) (1.6.3)\n",
      "Requirement already satisfied: flatbuffers>=2.0 in c:\\python\\3.11.2\\lib\\site-packages (from tensorflow-intel==2.12.0->tensorflow) (23.5.26)\n",
      "Requirement already satisfied: gast<=0.4.0,>=0.2.1 in c:\\python\\3.11.2\\lib\\site-packages (from tensorflow-intel==2.12.0->tensorflow) (0.4.0)\n",
      "Requirement already satisfied: google-pasta>=0.1.1 in c:\\python\\3.11.2\\lib\\site-packages (from tensorflow-intel==2.12.0->tensorflow) (0.2.0)\n",
      "Requirement already satisfied: h5py>=2.9.0 in c:\\python\\3.11.2\\lib\\site-packages (from tensorflow-intel==2.12.0->tensorflow) (3.8.0)\n",
      "Requirement already satisfied: jax>=0.3.15 in c:\\python\\3.11.2\\lib\\site-packages (from tensorflow-intel==2.12.0->tensorflow) (0.4.11)\n",
      "Requirement already satisfied: libclang>=13.0.0 in c:\\python\\3.11.2\\lib\\site-packages (from tensorflow-intel==2.12.0->tensorflow) (16.0.0)\n",
      "Requirement already satisfied: numpy<1.24,>=1.22 in c:\\python\\3.11.2\\lib\\site-packages (from tensorflow-intel==2.12.0->tensorflow) (1.23.5)\n",
      "Requirement already satisfied: opt-einsum>=2.3.2 in c:\\python\\3.11.2\\lib\\site-packages (from tensorflow-intel==2.12.0->tensorflow) (3.3.0)\n",
      "Requirement already satisfied: packaging in c:\\python\\3.11.2\\lib\\site-packages (from tensorflow-intel==2.12.0->tensorflow) (23.1)\n",
      "Requirement already satisfied: protobuf!=4.21.0,!=4.21.1,!=4.21.2,!=4.21.3,!=4.21.4,!=4.21.5,<5.0.0dev,>=3.20.3 in c:\\python\\3.11.2\\lib\\site-packages (from tensorflow-intel==2.12.0->tensorflow) (4.23.2)\n",
      "Requirement already satisfied: setuptools in c:\\python\\3.11.2\\lib\\site-packages (from tensorflow-intel==2.12.0->tensorflow) (65.5.0)\n",
      "Requirement already satisfied: six>=1.12.0 in c:\\python\\3.11.2\\lib\\site-packages (from tensorflow-intel==2.12.0->tensorflow) (1.16.0)\n",
      "Requirement already satisfied: termcolor>=1.1.0 in c:\\python\\3.11.2\\lib\\site-packages (from tensorflow-intel==2.12.0->tensorflow) (2.3.0)\n",
      "Requirement already satisfied: typing-extensions>=3.6.6 in c:\\python\\3.11.2\\lib\\site-packages (from tensorflow-intel==2.12.0->tensorflow) (4.6.3)\n",
      "Requirement already satisfied: wrapt<1.15,>=1.11.0 in c:\\python\\3.11.2\\lib\\site-packages (from tensorflow-intel==2.12.0->tensorflow) (1.14.1)\n",
      "Requirement already satisfied: grpcio<2.0,>=1.24.3 in c:\\python\\3.11.2\\lib\\site-packages (from tensorflow-intel==2.12.0->tensorflow) (1.54.2)\n",
      "Requirement already satisfied: tensorboard<2.13,>=2.12 in c:\\python\\3.11.2\\lib\\site-packages (from tensorflow-intel==2.12.0->tensorflow) (2.12.3)\n",
      "Requirement already satisfied: tensorflow-estimator<2.13,>=2.12.0 in c:\\python\\3.11.2\\lib\\site-packages (from tensorflow-intel==2.12.0->tensorflow) (2.12.0)\n",
      "Requirement already satisfied: keras<2.13,>=2.12.0 in c:\\python\\3.11.2\\lib\\site-packages (from tensorflow-intel==2.12.0->tensorflow) (2.12.0)\n",
      "Requirement already satisfied: tensorflow-io-gcs-filesystem>=0.23.1 in c:\\python\\3.11.2\\lib\\site-packages (from tensorflow-intel==2.12.0->tensorflow) (0.31.0)\n",
      "Requirement already satisfied: wheel<1.0,>=0.23.0 in c:\\python\\3.11.2\\lib\\site-packages (from astunparse>=1.6.0->tensorflow-intel==2.12.0->tensorflow) (0.40.0)\n",
      "Requirement already satisfied: ml-dtypes>=0.1.0 in c:\\python\\3.11.2\\lib\\site-packages (from jax>=0.3.15->tensorflow-intel==2.12.0->tensorflow) (0.2.0)\n",
      "Requirement already satisfied: scipy>=1.7 in c:\\python\\3.11.2\\lib\\site-packages (from jax>=0.3.15->tensorflow-intel==2.12.0->tensorflow) (1.10.1)\n",
      "Requirement already satisfied: google-auth<3,>=1.6.3 in c:\\python\\3.11.2\\lib\\site-packages (from tensorboard<2.13,>=2.12->tensorflow-intel==2.12.0->tensorflow) (2.19.1)\n",
      "Requirement already satisfied: google-auth-oauthlib<1.1,>=0.5 in c:\\python\\3.11.2\\lib\\site-packages (from tensorboard<2.13,>=2.12->tensorflow-intel==2.12.0->tensorflow) (1.0.0)\n",
      "Requirement already satisfied: markdown>=2.6.8 in c:\\python\\3.11.2\\lib\\site-packages (from tensorboard<2.13,>=2.12->tensorflow-intel==2.12.0->tensorflow) (3.4.3)\n",
      "Requirement already satisfied: requests<3,>=2.21.0 in c:\\python\\3.11.2\\lib\\site-packages (from tensorboard<2.13,>=2.12->tensorflow-intel==2.12.0->tensorflow) (2.31.0)\n",
      "Requirement already satisfied: tensorboard-data-server<0.8.0,>=0.7.0 in c:\\python\\3.11.2\\lib\\site-packages (from tensorboard<2.13,>=2.12->tensorflow-intel==2.12.0->tensorflow) (0.7.0)\n",
      "Requirement already satisfied: werkzeug>=1.0.1 in c:\\python\\3.11.2\\lib\\site-packages (from tensorboard<2.13,>=2.12->tensorflow-intel==2.12.0->tensorflow) (2.3.5)\n",
      "Requirement already satisfied: cachetools<6.0,>=2.0.0 in c:\\python\\3.11.2\\lib\\site-packages (from google-auth<3,>=1.6.3->tensorboard<2.13,>=2.12->tensorflow-intel==2.12.0->tensorflow) (5.3.1)\n",
      "Requirement already satisfied: pyasn1-modules>=0.2.1 in c:\\python\\3.11.2\\lib\\site-packages (from google-auth<3,>=1.6.3->tensorboard<2.13,>=2.12->tensorflow-intel==2.12.0->tensorflow) (0.3.0)\n",
      "Requirement already satisfied: rsa<5,>=3.1.4 in c:\\python\\3.11.2\\lib\\site-packages (from google-auth<3,>=1.6.3->tensorboard<2.13,>=2.12->tensorflow-intel==2.12.0->tensorflow) (4.9)\n",
      "Requirement already satisfied: urllib3<2.0 in c:\\python\\3.11.2\\lib\\site-packages (from google-auth<3,>=1.6.3->tensorboard<2.13,>=2.12->tensorflow-intel==2.12.0->tensorflow) (1.26.16)\n",
      "Requirement already satisfied: requests-oauthlib>=0.7.0 in c:\\python\\3.11.2\\lib\\site-packages (from google-auth-oauthlib<1.1,>=0.5->tensorboard<2.13,>=2.12->tensorflow-intel==2.12.0->tensorflow) (1.3.1)\n",
      "Requirement already satisfied: charset-normalizer<4,>=2 in c:\\python\\3.11.2\\lib\\site-packages (from requests<3,>=2.21.0->tensorboard<2.13,>=2.12->tensorflow-intel==2.12.0->tensorflow) (3.1.0)\n",
      "Requirement already satisfied: idna<4,>=2.5 in c:\\python\\3.11.2\\lib\\site-packages (from requests<3,>=2.21.0->tensorboard<2.13,>=2.12->tensorflow-intel==2.12.0->tensorflow) (3.4)\n",
      "Requirement already satisfied: certifi>=2017.4.17 in c:\\python\\3.11.2\\lib\\site-packages (from requests<3,>=2.21.0->tensorboard<2.13,>=2.12->tensorflow-intel==2.12.0->tensorflow) (2023.5.7)\n",
      "Requirement already satisfied: MarkupSafe>=2.1.1 in c:\\python\\3.11.2\\lib\\site-packages (from werkzeug>=1.0.1->tensorboard<2.13,>=2.12->tensorflow-intel==2.12.0->tensorflow) (2.1.3)\n",
      "Requirement already satisfied: pyasn1<0.6.0,>=0.4.6 in c:\\python\\3.11.2\\lib\\site-packages (from pyasn1-modules>=0.2.1->google-auth<3,>=1.6.3->tensorboard<2.13,>=2.12->tensorflow-intel==2.12.0->tensorflow) (0.5.0)\n",
      "Requirement already satisfied: oauthlib>=3.0.0 in c:\\python\\3.11.2\\lib\\site-packages (from requests-oauthlib>=0.7.0->google-auth-oauthlib<1.1,>=0.5->tensorboard<2.13,>=2.12->tensorflow-intel==2.12.0->tensorflow) (3.2.2)\n"
     ]
    }
   ],
   "source": [
    "!pip install numpy\n",
    "!pip install pandas\n",
    "!pip install scikit-learn\n",
    "!pip install tensorflow"
   ],
   "metadata": {
    "collapsed": false,
    "ExecuteTime": {
     "end_time": "2023-10-17T19:54:19.772565Z",
     "start_time": "2023-10-17T19:54:12.361712800Z"
    }
   },
   "id": "165a4e30d3e7e4a8"
  },
  {
   "cell_type": "code",
   "execution_count": 2,
   "outputs": [
    {
     "name": "stdout",
     "output_type": "stream",
     "text": [
      "<class 'pandas.core.frame.DataFrame'>\n",
      "RangeIndex: 1000 entries, 0 to 999\n",
      "Data columns (total 2 columns):\n",
      " #   Column           Non-Null Count  Dtype \n",
      "---  ------           --------------  ----- \n",
      " 0   review           1000 non-null   object\n",
      " 1   sentiment_score  1000 non-null   int64 \n",
      "dtypes: int64(1), object(1)\n",
      "memory usage: 15.8+ KB\n",
      "None\n",
      "                                              review  sentiment_score\n",
      "0  A very, very, very slow-moving, aimless movie ...                0\n",
      "1  Not sure who was more lost - the flat characte...                0\n",
      "2  Attempting artiness with black & white and cle...                0\n",
      "3       Very little music or anything to speak of.                  0\n",
      "4  The best scene in the movie was when Gerardo i...                1\n"
     ]
    }
   ],
   "source": [
    "import numpy as np\n",
    "import pandas as pd\n",
    "from sklearn.model_selection import train_test_split\n",
    "import tensorflow as tf\n",
    "\n",
    "'''\n",
    "File format as presented in the readme.txt:\n",
    "\n",
    "=======\n",
    "Format:\n",
    "=======\n",
    "sentence \\t score \\n\n",
    "\n",
    "\n",
    "=======\n",
    "Details:\n",
    "=======\n",
    "Score is either 1 (for positive) or 0 (for negative)\n",
    "'''\n",
    "imdb_columns = ['review', 'sentiment_score']\n",
    "imdb_reviews = pd.read_csv('./imdb_labelled.txt', engine='python', sep='\\t+', header=None, names=imdb_columns)\n",
    "print(imdb_reviews.info())\n",
    "print(imdb_reviews.head())"
   ],
   "metadata": {
    "collapsed": false,
    "ExecuteTime": {
     "end_time": "2023-10-17T19:54:26.002692100Z",
     "start_time": "2023-10-17T19:54:19.773553200Z"
    }
   },
   "id": "dc6813b056a56039"
  },
  {
   "cell_type": "code",
   "execution_count": 3,
   "outputs": [
    {
     "name": "stdout",
     "output_type": "stream",
     "text": [
      "Positive Sentiments Loaded: 500\n",
      "Negative Sentiments Loaded: 500\n"
     ]
    }
   ],
   "source": [
    "'''\n",
    "readme.txt states that the data should contain 500 positive and 500 negative sentences, a 50/50 split.\n",
    "\n",
    "Verifying dataset is complete\n",
    "'''\n",
    "\n",
    "positive_sentiments = len(imdb_reviews[imdb_reviews['sentiment_score'] == 1])\n",
    "negative_sentiments = len(imdb_reviews[imdb_reviews['sentiment_score'] == 0])\n",
    "\n",
    "print(f'Positive Sentiments Loaded: {positive_sentiments}')\n",
    "print(f'Negative Sentiments Loaded: {negative_sentiments}')\n",
    "\n",
    "assert positive_sentiments == 500, 'Failed to load all the positive sentiment scores'\n",
    "assert negative_sentiments == 500, 'Failed to load all the negative sentiment scores'\n"
   ],
   "metadata": {
    "collapsed": false,
    "ExecuteTime": {
     "end_time": "2023-10-17T19:54:26.013535400Z",
     "start_time": "2023-10-17T19:54:26.005706500Z"
    }
   },
   "id": "77dc2996bb63271e"
  },
  {
   "cell_type": "markdown",
   "source": [
    "<a id=\"tokenization-process\"></a>\n",
    "# B2: Tokenization"
   ],
   "metadata": {
    "collapsed": false
   },
   "id": "19732814baf2d8a8"
  },
  {
   "cell_type": "markdown",
   "source": [
    "<a id=\"padding-process\"></a>\n",
    "# B3: Padding Process"
   ],
   "metadata": {
    "collapsed": false
   },
   "id": "f503c4111573ff1a"
  },
  {
   "cell_type": "markdown",
   "source": [
    "<a id=\"categories-of-sentiment\"></a>\n",
    "# B4: Categories Of Sentiment"
   ],
   "metadata": {
    "collapsed": false
   },
   "id": "54b1d366ba44fd4f"
  },
  {
   "cell_type": "markdown",
   "source": [
    "<a id=\"data-preparation\"></a>\n",
    "# B5: Steps To Prepare the Data"
   ],
   "metadata": {
    "collapsed": false
   },
   "id": "e029be5499a7d6ad"
  },
  {
   "cell_type": "markdown",
   "source": [
    "<a id=\"copy-of-prepared-data\"></a>\n",
    "# B6: Prepared Dataset"
   ],
   "metadata": {
    "collapsed": false
   },
   "id": "c8ea2329d210e14c"
  },
  {
   "cell_type": "markdown",
   "source": [
    "<a id=\"tensorflow-model-summary\"></a>\n",
    "# C1: Model Summary"
   ],
   "metadata": {
    "collapsed": false
   },
   "id": "8156d83340e0130c"
  },
  {
   "cell_type": "markdown",
   "source": [
    "<a id=\"network-architecture\"></a>\n",
    "# C2: Network Architecture"
   ],
   "metadata": {
    "collapsed": false
   },
   "id": "9b90d42666bad852"
  },
  {
   "cell_type": "markdown",
   "source": [
    "<a id=\"hyperparameters\"></a>\n",
    "# C3: Hyperparameters\n"
   ],
   "metadata": {
    "collapsed": false
   },
   "id": "b5076253c258201f"
  },
  {
   "cell_type": "markdown",
   "source": [
    "<a id=\"stopping-criteria\"></a>\n",
    "# D1: Stopping Criteria"
   ],
   "metadata": {
    "collapsed": false
   },
   "id": "d52d548523b3589"
  },
  {
   "cell_type": "markdown",
   "source": [
    "<a id=\"fitness\"></a>\n",
    "# D2: Fitness"
   ],
   "metadata": {
    "collapsed": false
   },
   "id": "69e8dc0bde2f3d86"
  },
  {
   "cell_type": "markdown",
   "source": [
    "<a id=\"training-process\"></a>\n",
    "# D3: Training Process"
   ],
   "metadata": {
    "collapsed": false
   },
   "id": "5c613d3410f5e5b"
  },
  {
   "cell_type": "markdown",
   "source": [
    "<a id=\"predictive-accuracy\"></a>\n",
    "# D4: Predictive Accuracy\n"
   ],
   "metadata": {
    "collapsed": false
   },
   "id": "8926612b310cbcc8"
  },
  {
   "cell_type": "markdown",
   "source": [
    "<a id=\"source-code\"></a>\n",
    "# E: Code"
   ],
   "metadata": {
    "collapsed": false
   },
   "id": "583e94b2083b1df1"
  },
  {
   "cell_type": "markdown",
   "source": [
    "<a id=\"functionality\"></a>\n",
    "# H: Functionality"
   ],
   "metadata": {
    "collapsed": false
   },
   "id": "676538644d2f2443"
  },
  {
   "cell_type": "markdown",
   "source": [
    "<a id=\"recommendations\"></a>\n",
    "# G: Recommendations"
   ],
   "metadata": {
    "collapsed": false
   },
   "id": "9808f066bc992da0"
  },
  {
   "cell_type": "markdown",
   "source": [
    "<a id=\"reporting\"></a>\n",
    "# H: Reporting"
   ],
   "metadata": {
    "collapsed": false
   },
   "id": "764d2e6cad998a0d"
  },
  {
   "cell_type": "markdown",
   "source": [
    "<a id=\"code-references\"></a>\n",
    "# I: Sources for Third Party Code"
   ],
   "metadata": {
    "collapsed": false
   },
   "id": "200bbc8686c2c44e"
  },
  {
   "cell_type": "markdown",
   "source": [
    "<a id=\"source-references\"></a>\n",
    "# J: Source References\n",
    "\n",
    " * Kotzias,Dimitrios. (2015). Sentiment Labelled Sentences. UCI Machine Learning Repository. https://doi.org/10.24432/C57604. <br /> <br />\n",
    " * Géron, A. (2022). Hands-On Machine Learning with Scikit-Learn, Keras, and Tensorflow: Concepts, Tools, and Techniques to Build Intelligent Systems. <br /><br /> "
   ],
   "metadata": {
    "collapsed": false
   },
   "id": "f0576134a9f9b661"
  }
 ],
 "metadata": {
  "kernelspec": {
   "display_name": "Python 3",
   "language": "python",
   "name": "python3"
  },
  "language_info": {
   "codemirror_mode": {
    "name": "ipython",
    "version": 2
   },
   "file_extension": ".py",
   "mimetype": "text/x-python",
   "name": "python",
   "nbconvert_exporter": "python",
   "pygments_lexer": "ipython2",
   "version": "2.7.6"
  }
 },
 "nbformat": 4,
 "nbformat_minor": 5
}
