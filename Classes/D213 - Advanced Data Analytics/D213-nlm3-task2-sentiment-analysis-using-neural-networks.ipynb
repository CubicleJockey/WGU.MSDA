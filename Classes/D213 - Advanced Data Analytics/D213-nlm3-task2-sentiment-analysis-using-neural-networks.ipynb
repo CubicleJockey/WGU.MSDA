{
 "cells": [
  {
   "cell_type": "markdown",
   "source": [
    "# D213 - Advanced Data Analytics\n",
    "### NLM3 Task 2: Sentiment Analysis Using Neural Networks\n",
    "#### Advanced Data Analytics — D213\n",
    "#### PRFA — NLM3\n",
    "> André Davis\n",
    "> StudentID: 010630641\n",
    "> MSDA\n",
    ">\n",
    "> Competencies\n",
    "> 4030.7.1 : Constructing Neural Networks\n",
    "> The graduate builds neural networks in the context of machine-learning modeling.\n",
    "> \n",
    "> 4030.7.3 : Natural Language Processing\n",
    "> The graduate extracts insights from text data using effective and appropriate natural language processing (NLP) models."
   ],
   "metadata": {
    "collapsed": false
   },
   "id": "9a0a6f3a9c4c7b83"
  },
  {
   "cell_type": "markdown",
   "source": [
    "##### Table of Contents\n",
    "\n",
    " <ul>\n",
    "    <li><a href=\"#research-question\">A1: Research Question</a></li>\n",
    "    <li><a href=\"#objectives\">A2: Objectives and Goals of Analysis</a></li>\n",
    "    <li><a href=\"#neural-networks-identification\">A3: Neutral Network Identification</a></li>\n",
    "    <li><a href=\"#explaratory-data-analysis\">B1: Exploratory Data Analysis</a></li>\n",
    "    <li><a href=\"#tokenization-process\">B2: Tokenization Process</a></li>\n",
    "    <li><a href=\"#padding-process\">B3: Padding Process</a></li> \n",
    "    <li><a href=\"#sentiment-categories-activation-function\">B4: Sentiment Categories & Activation Function</a></li>\n",
    "    <li><a href=\"#data-preparation\">B5: Data Preparation Steps</a></li>\n",
    "    <li><a href=\"#copy-of-prepared-data\">B6: Copy of Prepared Dataset</a></li>\n",
    "    <li><a href=\"#tensorflow-model-summary\">C1: TensorFlow Model Summary</a></li>\n",
    "    <li><a href=\"#layers-and-parameters\">C2: Layers & Parameters</a></li>\n",
    "    <li><a href=\"#hyperparameter-justifications\">C3: Hyperparameter Justifications</a></li>\n",
    "    <li><a href=\"#impact-of-stopping-criteria\">D1: Impact of Stopping Criteria</a></li>\n",
    "    <li><a href=\"#training-visualizations\">D2: Training Visualizations</a></li>\n",
    "    <li><a href=\"#fitness-of-model\">D3: Fitness of Model</a></li>\n",
    "    <li><a href=\"#trained-predictive-accuracy\">D4: Trained Predictive Accuracy</a></li>\n",
    "    <li><a href=\"#trained-network-code\">E: Trained Network Code</a></li> \n",
    "    <li><a href=\"#functionality-of-network\">H: Functionality of Network</a></li> \n",
    "    <li><a href=\"#recommendations\">G: Recommended Action</a></li>\n",
    "    <li><a href=\"#reporting\">H: Reporting</a></li>\n",
    "    <li><a href=\"#code-references\">I: Code References</a></li>\n",
    "    <li><a href=\"#source-references\">J: Source References</a></li>    \n",
    "  </ul>"
   ],
   "metadata": {
    "collapsed": false
   },
   "id": "a6f4b1b44192be39"
  },
  {
   "cell_type": "markdown",
   "source": [
    "<a id=\"research-question\"></a>\n",
    "# A1: Research Question"
   ],
   "metadata": {
    "collapsed": false
   },
   "id": "acf84ccb3d1ed8e3"
  },
  {
   "cell_type": "markdown",
   "source": [
    "<a id=\"objectives\"></a>\n",
    "# A2: Objectives and Goals of Analysis"
   ],
   "metadata": {
    "collapsed": false
   },
   "id": "46d89ab2f5ad3e9e"
  },
  {
   "cell_type": "markdown",
   "source": [
    "<a id=\"neural-networks-identification\"></a>\n",
    "# A3: Neural Network Identification"
   ],
   "metadata": {
    "collapsed": false
   },
   "id": "8ab0672265087149"
  },
  {
   "cell_type": "markdown",
   "source": [
    "<a id=\"explaratory-data-analysis\"></a>\n",
    "# B1: Exploratory Data Analysis"
   ],
   "metadata": {
    "collapsed": false
   },
   "id": "c5cee6834de79fd8"
  },
  {
   "cell_type": "markdown",
   "source": [
    "<a id=\"tokenization-process\"></a>\n",
    "# B2: Tokenization Process"
   ],
   "metadata": {
    "collapsed": false
   },
   "id": "19732814baf2d8a8"
  },
  {
   "cell_type": "markdown",
   "source": [
    "<a id=\"padding-process\"></a>\n",
    "# B3: Padding Process"
   ],
   "metadata": {
    "collapsed": false
   },
   "id": "f503c4111573ff1a"
  },
  {
   "cell_type": "markdown",
   "source": [
    "<a id=\"sentiment-categories-activation-function\"></a>\n",
    "# B4: Sentiment Categories & Activation Function"
   ],
   "metadata": {
    "collapsed": false
   },
   "id": "54b1d366ba44fd4f"
  },
  {
   "cell_type": "markdown",
   "source": [
    "<a id=\"data-preparation\"></a>\n",
    "# B5: Data Preparation Steps"
   ],
   "metadata": {
    "collapsed": false
   },
   "id": "e029be5499a7d6ad"
  },
  {
   "cell_type": "markdown",
   "source": [
    "<a id=\"copy-of-prepared-data\"></a>\n",
    "# B6: Copy of Prepared Dataset"
   ],
   "metadata": {
    "collapsed": false
   },
   "id": "c8ea2329d210e14c"
  },
  {
   "cell_type": "markdown",
   "source": [
    "<a id=\"tensorflow-model-summary\"></a>\n",
    "# C1: TensorFlow Model Summary"
   ],
   "metadata": {
    "collapsed": false
   },
   "id": "8156d83340e0130c"
  },
  {
   "cell_type": "markdown",
   "source": [
    "<a id=\"layers-and-parameters\"></a>\n",
    "# C2: Layers & Parameters"
   ],
   "metadata": {
    "collapsed": false
   },
   "id": "9b90d42666bad852"
  },
  {
   "cell_type": "markdown",
   "source": [
    "<a id=\"hyperparameter-justifications\"></a>\n",
    "# C3: Hyperparameter Justifications\n"
   ],
   "metadata": {
    "collapsed": false
   },
   "id": "b5076253c258201f"
  },
  {
   "cell_type": "markdown",
   "source": [
    "<a id=\"impact-of-stopping-criteria\"></a>\n",
    "# D1: Impact of Stopping Criteria"
   ],
   "metadata": {
    "collapsed": false
   },
   "id": "d52d548523b3589"
  },
  {
   "cell_type": "markdown",
   "source": [
    "<a id=\"training-visualizations\"></a>\n",
    "# D2: Training Visualizations"
   ],
   "metadata": {
    "collapsed": false
   },
   "id": "69e8dc0bde2f3d86"
  },
  {
   "cell_type": "markdown",
   "source": [
    "<a id=\"fitness-of-model\"></a>\n",
    "# D3: Fitness of Model"
   ],
   "metadata": {
    "collapsed": false
   },
   "id": "5c613d3410f5e5b"
  },
  {
   "cell_type": "markdown",
   "source": [
    "<a id=\"trained-predictive-accuracy\"></a>\n",
    "# D4: Trained Predictive Accuracy\n"
   ],
   "metadata": {
    "collapsed": false
   },
   "id": "8926612b310cbcc8"
  },
  {
   "cell_type": "markdown",
   "source": [
    "<a id=\"trained-network-code\"></a>\n",
    "# E: Trained Network Code"
   ],
   "metadata": {
    "collapsed": false
   },
   "id": "583e94b2083b1df1"
  },
  {
   "cell_type": "markdown",
   "source": [
    "<a id=\"functionality-of-network\"></a>\n",
    "# H: Functionality of Network"
   ],
   "metadata": {
    "collapsed": false
   },
   "id": "676538644d2f2443"
  },
  {
   "cell_type": "markdown",
   "source": [
    "<a id=\"recommendations\"></a>\n",
    "# G: Recommended Action"
   ],
   "metadata": {
    "collapsed": false
   },
   "id": "9808f066bc992da0"
  },
  {
   "cell_type": "markdown",
   "source": [
    "<a id=\"reporting\"></a>\n",
    "# H: Reporting"
   ],
   "metadata": {
    "collapsed": false
   },
   "id": "764d2e6cad998a0d"
  },
  {
   "cell_type": "markdown",
   "source": [
    "<a id=\"code-references\"></a>\n",
    "# I: Code References"
   ],
   "metadata": {
    "collapsed": false
   },
   "id": "200bbc8686c2c44e"
  },
  {
   "cell_type": "markdown",
   "source": [
    "<a id=\"source-references\"></a>\n",
    "# J: Source References"
   ],
   "metadata": {
    "collapsed": false
   },
   "id": "f0576134a9f9b661"
  }
 ],
 "metadata": {
  "kernelspec": {
   "display_name": "Python 3",
   "language": "python",
   "name": "python3"
  },
  "language_info": {
   "codemirror_mode": {
    "name": "ipython",
    "version": 2
   },
   "file_extension": ".py",
   "mimetype": "text/x-python",
   "name": "python",
   "nbconvert_exporter": "python",
   "pygments_lexer": "ipython2",
   "version": "2.7.6"
  }
 },
 "nbformat": 4,
 "nbformat_minor": 5
}
