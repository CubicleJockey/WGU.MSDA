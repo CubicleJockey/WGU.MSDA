{
 "cells": [
  {
   "cell_type": "markdown",
   "source": [
    "# D214 - Data Analytics Graduate Capstone\n",
    "### NKM2 Task 2: Data Analytics Report and Executive Summary\n",
    "#### Data Analytics Graduate Capstone — D214\n",
    "#### PRFA - NKM2\n",
    "> André Davis\n",
    "> StudentID: 010630641\n",
    "> MSDA\n",
    ">\n",
    "> Competencies\n",
    "> 981.1.1 : Capstone\n",
    "> The graduate integrates and synthesizes competencies from across the degree program and thereby demonstrates the ability to participate in and contribute value to the chosen professional field."
   ],
   "metadata": {
    "collapsed": false
   },
   "id": "6e76c0ccd2ac8730"
  },
  {
   "cell_type": "markdown",
   "source": [
    "##### Table of Contents\n",
    "\n",
    "<ul>\n",
    "    <li><a href=\"#research-question\">A: Research Question</a></li>\n",
    "    <li><a href=\"#data-collection\">B: Data Collection</a></li>\n",
    "    <li><a href=\"#data-extraction-and-preparation\">C: Data Extraction and Preparation</a></li>\n",
    "    <li><a href=\"#analysis\">Analysis</a></li>\n",
    "    <li><a href=\"#data-summary-and-implications\">Data Summary and Implications</a></li>\n",
    "    <li><a href=\"#sources\">Sources</a></li>\n",
    "</ul>"
   ],
   "metadata": {
    "collapsed": false
   },
   "id": "dd6f4a96728fa8a5"
  },
  {
   "cell_type": "markdown",
   "source": [
    "<a id=\"research-question\"></a>\n",
    "# A: Research Question"
   ],
   "metadata": {
    "collapsed": false
   },
   "id": "790b035419964ef5"
  },
  {
   "cell_type": "markdown",
   "source": [
    "<a id=\"data-collection\"></a>\n",
    "# B: Data Collection"
   ],
   "metadata": {
    "collapsed": false
   },
   "id": "ccea40610699bf8b"
  },
  {
   "cell_type": "markdown",
   "source": [
    "<a id=\"data-extraction-and-preparation\"></a>\n",
    "# C: Data Extraction and Preparation"
   ],
   "metadata": {
    "collapsed": false
   },
   "id": "79fa2d98e76de6cb"
  },
  {
   "cell_type": "markdown",
   "source": [
    "<a id=\"analysis\"></a>\n",
    "# D: Analysis"
   ],
   "metadata": {
    "collapsed": false
   },
   "id": "2760c021e2d4b167"
  },
  {
   "cell_type": "markdown",
   "source": [
    "<a id=\"data-summary-and-implications\"></a>\n",
    "# E: Data Summary and Implications"
   ],
   "metadata": {
    "collapsed": false
   },
   "id": "8fc5dab3b02d992"
  },
  {
   "cell_type": "markdown",
   "source": [
    "<a id=\"sources\"></a>\n",
    "# F: Sources"
   ],
   "metadata": {
    "collapsed": false
   },
   "id": "168c90fed75111bd"
  }
 ],
 "metadata": {
  "kernelspec": {
   "display_name": "Python 3",
   "language": "python",
   "name": "python3"
  },
  "language_info": {
   "codemirror_mode": {
    "name": "ipython",
    "version": 2
   },
   "file_extension": ".py",
   "mimetype": "text/x-python",
   "name": "python",
   "nbconvert_exporter": "python",
   "pygments_lexer": "ipython2",
   "version": "2.7.6"
  }
 },
 "nbformat": 4,
 "nbformat_minor": 5
}
