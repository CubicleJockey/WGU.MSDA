{
 "cells": [
  {
   "cell_type": "code",
   "execution_count": 31,
   "id": "initial_id",
   "metadata": {
    "collapsed": true,
    "ExecuteTime": {
     "end_time": "2023-11-13T23:25:43.962598600Z",
     "start_time": "2023-11-13T23:25:43.726205100Z"
    }
   },
   "outputs": [],
   "source": [
    "import polars as pl\n",
    "\n",
    "'''\n",
    "enron_columns = {\n",
    "     'label': 'IsSpam'\n",
    "    ,'text': 'EmailContent'\n",
    "}\n",
    "\n",
    "dtypes={'label': pl.Int8, 'text': pl.Utf8}\n",
    "'''\n",
    "\n",
    "dtypes={'index': pl.Int32, 'label': pl.Int8, 'text': pl.Utf8}\n",
    "\n",
    "'''\n",
    "Data was pre-split due to GitHub file limitation. Index was added for joining the data.\n",
    "Removed for use in project.\n",
    "'''\n",
    "data_top = pl.read_csv('./Data/0-enron-emails-labeled.csv', dtypes=dtypes)\n",
    "data_bottom = pl.read_csv('./Data/1-enron-emails-labeled.csv', dtypes=dtypes)\n",
    "\n"
   ]
  },
  {
   "cell_type": "code",
   "execution_count": 32,
   "outputs": [
    {
     "data": {
      "text/plain": "shape: (41_724, 3)\n┌───────┬───────┬───────────────────────────────────┐\n│ index ┆ label ┆ text                              │\n│ ---   ┆ ---   ┆ ---                               │\n│ i32   ┆ i8    ┆ str                               │\n╞═══════╪═══════╪═══════════════════════════════════╡\n│ 41724 ┆ 1     ┆ hello , how are you doing ?       │\n│       ┆       ┆ bett…                             │\n│ 41725 ┆ 0     ┆ maybe you're looking for somethi… │\n│ 41726 ┆ 0     ┆  begin pgp signed message hash s… │\n│ 41727 ┆ 0     ┆  why filename xmp it should be b… │\n│ …     ┆ …     ┆ …                                 │\n│ 83444 ┆ 1     ┆ now you can order software on cd… │\n│ 83445 ┆ 1     ┆ dear valued member canadianpharm… │\n│ 83446 ┆ 0     ┆ subscribe change profile contact… │\n│ 83447 ┆ 1     ┆ get the most out of life ! viagr… │\n└───────┴───────┴───────────────────────────────────┘",
      "text/html": "<div><style>\n.dataframe > thead > tr > th,\n.dataframe > tbody > tr > td {\n  text-align: right;\n  white-space: pre-wrap;\n}\n</style>\n<small>shape: (41_724, 3)</small><table border=\"1\" class=\"dataframe\"><thead><tr><th>index</th><th>label</th><th>text</th></tr><tr><td>i32</td><td>i8</td><td>str</td></tr></thead><tbody><tr><td>41724</td><td>1</td><td>&quot;hello , how ar…</td></tr><tr><td>41725</td><td>0</td><td>&quot;maybe you&#x27;re l…</td></tr><tr><td>41726</td><td>0</td><td>&quot; begin pgp sig…</td></tr><tr><td>41727</td><td>0</td><td>&quot; why filename …</td></tr><tr><td>41728</td><td>1</td><td>&quot;lynnette just …</td></tr><tr><td>41729</td><td>1</td><td>&quot;companion shor…</td></tr><tr><td>41730</td><td>0</td><td>&quot;you have recei…</td></tr><tr><td>41731</td><td>1</td><td>&quot;hello ,\nwe sen…</td></tr><tr><td>41732</td><td>1</td><td>&quot;dear valued me…</td></tr><tr><td>41733</td><td>1</td><td>&quot;from the offic…</td></tr><tr><td>41734</td><td>0</td><td>&quot;you can use th…</td></tr><tr><td>41735</td><td>1</td><td>&quot;stock watch ai…</td></tr><tr><td>&hellip;</td><td>&hellip;</td><td>&hellip;</td></tr><tr><td>83436</td><td>0</td><td>&quot;hi list please…</td></tr><tr><td>83437</td><td>1</td><td>&quot;a tescapenumbe…</td></tr><tr><td>83438</td><td>1</td><td>&quot;downloadable s…</td></tr><tr><td>83439</td><td>1</td><td>&quot;http printlost…</td></tr><tr><td>83440</td><td>0</td><td>&quot;howstuffworks …</td></tr><tr><td>83441</td><td>1</td><td>&quot;lowest prices …</td></tr><tr><td>83442</td><td>0</td><td>&quot;tewk wrote pat…</td></tr><tr><td>83443</td><td>0</td><td>&quot;hi given a dat…</td></tr><tr><td>83444</td><td>1</td><td>&quot;now you can or…</td></tr><tr><td>83445</td><td>1</td><td>&quot;dear valued me…</td></tr><tr><td>83446</td><td>0</td><td>&quot;subscribe chan…</td></tr><tr><td>83447</td><td>1</td><td>&quot;get the most o…</td></tr></tbody></table></div>"
     },
     "execution_count": 32,
     "metadata": {},
     "output_type": "execute_result"
    }
   ],
   "source": [
    "data_top"
   ],
   "metadata": {
    "collapsed": false,
    "ExecuteTime": {
     "end_time": "2023-11-13T23:25:43.970149800Z",
     "start_time": "2023-11-13T23:25:43.962598600Z"
    }
   },
   "id": "c543767c8eab9d4"
  },
  {
   "cell_type": "code",
   "execution_count": 33,
   "outputs": [
    {
     "data": {
      "text/plain": "shape: (41_724, 3)\n┌───────┬───────┬───────────────────────────────────┐\n│ index ┆ label ┆ text                              │\n│ ---   ┆ ---   ┆ ---                               │\n│ i32   ┆ i8    ┆ str                               │\n╞═══════╪═══════╪═══════════════════════════════════╡\n│ 0     ┆ 1     ┆ ounce feather bowl hummingbird o… │\n│ 1     ┆ 1     ┆ wulvob get your medircations onl… │\n│ 2     ┆ 0     ┆  computer connection from cnn co… │\n│ 3     ┆ 1     ┆ university degree obtain a prosp… │\n│ …     ┆ …     ┆ …                                 │\n│ 41720 ┆ 1     ┆ while we may have high expectati… │\n│ 41721 ┆ 1     ┆ hello , welcome to pharmonl nunc… │\n│ 41722 ┆ 0     ┆ linux cifs client bounces shiris… │\n│ 41723 ┆ 1     ┆ numeric keypad dot matrix printe… │\n└───────┴───────┴───────────────────────────────────┘",
      "text/html": "<div><style>\n.dataframe > thead > tr > th,\n.dataframe > tbody > tr > td {\n  text-align: right;\n  white-space: pre-wrap;\n}\n</style>\n<small>shape: (41_724, 3)</small><table border=\"1\" class=\"dataframe\"><thead><tr><th>index</th><th>label</th><th>text</th></tr><tr><td>i32</td><td>i8</td><td>str</td></tr></thead><tbody><tr><td>0</td><td>1</td><td>&quot;ounce feather …</td></tr><tr><td>1</td><td>1</td><td>&quot;wulvob get you…</td></tr><tr><td>2</td><td>0</td><td>&quot; computer conn…</td></tr><tr><td>3</td><td>1</td><td>&quot;university deg…</td></tr><tr><td>4</td><td>0</td><td>&quot;thanks for all…</td></tr><tr><td>5</td><td>0</td><td>&quot;larry king liv…</td></tr><tr><td>6</td><td>0</td><td>&quot;michael pobega…</td></tr><tr><td>7</td><td>0</td><td>&quot;hi i have this…</td></tr><tr><td>8</td><td>1</td><td>&quot;works gateway …</td></tr><tr><td>9</td><td>1</td><td>&quot;upon this acco…</td></tr><tr><td>10</td><td>1</td><td>&quot;my dear fellow…</td></tr><tr><td>11</td><td>1</td><td>&quot;dear valued me…</td></tr><tr><td>&hellip;</td><td>&hellip;</td><td>&hellip;</td></tr><tr><td>41712</td><td>0</td><td>&quot;author jpeach …</td></tr><tr><td>41713</td><td>0</td><td>&quot;the extension …</td></tr><tr><td>41714</td><td>0</td><td>&quot;the following …</td></tr><tr><td>41715</td><td>1</td><td>&quot;important comm…</td></tr><tr><td>41716</td><td>1</td><td>&quot;anatrim an ext…</td></tr><tr><td>41717</td><td>1</td><td>&quot;attention men …</td></tr><tr><td>41718</td><td>0</td><td>&quot;information on…</td></tr><tr><td>41719</td><td>1</td><td>&quot;srea jumps esc…</td></tr><tr><td>41720</td><td>1</td><td>&quot;while we may h…</td></tr><tr><td>41721</td><td>1</td><td>&quot;hello , welcom…</td></tr><tr><td>41722</td><td>0</td><td>&quot;linux cifs cli…</td></tr><tr><td>41723</td><td>1</td><td>&quot;numeric keypad…</td></tr></tbody></table></div>"
     },
     "execution_count": 33,
     "metadata": {},
     "output_type": "execute_result"
    }
   ],
   "source": [
    "data_bottom"
   ],
   "metadata": {
    "collapsed": false,
    "ExecuteTime": {
     "end_time": "2023-11-13T23:25:43.975528800Z",
     "start_time": "2023-11-13T23:25:43.969140100Z"
    }
   },
   "id": "22623f93481b2d39"
  },
  {
   "cell_type": "code",
   "execution_count": 34,
   "outputs": [
    {
     "name": "stdout",
     "output_type": "stream",
     "text": [
      "Total Entries: 83448\n"
     ]
    },
    {
     "data": {
      "text/plain": "shape: (83_448, 2)\n┌───────┬───────────────────────────────────┐\n│ label ┆ text                              │\n│ ---   ┆ ---                               │\n│ i8    ┆ str                               │\n╞═══════╪═══════════════════════════════════╡\n│ 1     ┆ hello , how are you doing ?       │\n│       ┆ bett…                             │\n│ 0     ┆ maybe you're looking for somethi… │\n│ 0     ┆  begin pgp signed message hash s… │\n│ 0     ┆  why filename xmp it should be b… │\n│ …     ┆ …                                 │\n│ 1     ┆ while we may have high expectati… │\n│ 1     ┆ hello , welcome to pharmonl nunc… │\n│ 0     ┆ linux cifs client bounces shiris… │\n│ 1     ┆ numeric keypad dot matrix printe… │\n└───────┴───────────────────────────────────┘",
      "text/html": "<div><style>\n.dataframe > thead > tr > th,\n.dataframe > tbody > tr > td {\n  text-align: right;\n  white-space: pre-wrap;\n}\n</style>\n<small>shape: (83_448, 2)</small><table border=\"1\" class=\"dataframe\"><thead><tr><th>label</th><th>text</th></tr><tr><td>i8</td><td>str</td></tr></thead><tbody><tr><td>1</td><td>&quot;hello , how ar…</td></tr><tr><td>0</td><td>&quot;maybe you&#x27;re l…</td></tr><tr><td>0</td><td>&quot; begin pgp sig…</td></tr><tr><td>0</td><td>&quot; why filename …</td></tr><tr><td>1</td><td>&quot;lynnette just …</td></tr><tr><td>1</td><td>&quot;companion shor…</td></tr><tr><td>0</td><td>&quot;you have recei…</td></tr><tr><td>1</td><td>&quot;hello ,\nwe sen…</td></tr><tr><td>1</td><td>&quot;dear valued me…</td></tr><tr><td>1</td><td>&quot;from the offic…</td></tr><tr><td>0</td><td>&quot;you can use th…</td></tr><tr><td>1</td><td>&quot;stock watch ai…</td></tr><tr><td>&hellip;</td><td>&hellip;</td></tr><tr><td>0</td><td>&quot;author jpeach …</td></tr><tr><td>0</td><td>&quot;the extension …</td></tr><tr><td>0</td><td>&quot;the following …</td></tr><tr><td>1</td><td>&quot;important comm…</td></tr><tr><td>1</td><td>&quot;anatrim an ext…</td></tr><tr><td>1</td><td>&quot;attention men …</td></tr><tr><td>0</td><td>&quot;information on…</td></tr><tr><td>1</td><td>&quot;srea jumps esc…</td></tr><tr><td>1</td><td>&quot;while we may h…</td></tr><tr><td>1</td><td>&quot;hello , welcom…</td></tr><tr><td>0</td><td>&quot;linux cifs cli…</td></tr><tr><td>1</td><td>&quot;numeric keypad…</td></tr></tbody></table></div>"
     },
     "execution_count": 34,
     "metadata": {},
     "output_type": "execute_result"
    }
   ],
   "source": [
    "enron_original = pl.concat([data_top, data_bottom]).drop('index')\n",
    "\n",
    "expected_data_count = 83448\n",
    "assert expected_data_count == enron_original.height, f'Original data should total: {expected_data_count}'\n",
    "\n",
    "print(f'Total Entries: {enron_original.height}')\n",
    "\n",
    "enron_original"
   ],
   "metadata": {
    "collapsed": false,
    "ExecuteTime": {
     "end_time": "2023-11-13T23:25:44.105480900Z",
     "start_time": "2023-11-13T23:25:43.975528800Z"
    }
   },
   "id": "364bb16fb0b5685f"
  }
 ],
 "metadata": {
  "kernelspec": {
   "display_name": "Python 3",
   "language": "python",
   "name": "python3"
  },
  "language_info": {
   "codemirror_mode": {
    "name": "ipython",
    "version": 2
   },
   "file_extension": ".py",
   "mimetype": "text/x-python",
   "name": "python",
   "nbconvert_exporter": "python",
   "pygments_lexer": "ipython2",
   "version": "2.7.6"
  }
 },
 "nbformat": 4,
 "nbformat_minor": 5
}
