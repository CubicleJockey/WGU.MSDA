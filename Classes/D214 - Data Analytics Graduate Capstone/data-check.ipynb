{
 "cells": [
  {
   "cell_type": "code",
   "execution_count": 6,
   "outputs": [],
   "source": [
    "data_columns = {\n",
    "    'label': 'IsSpam'\n",
    "    ,'text': 'EmailContent'\n",
    "}"
   ],
   "metadata": {
    "collapsed": false,
    "ExecuteTime": {
     "end_time": "2023-11-15T00:05:29.355225700Z",
     "start_time": "2023-11-15T00:05:29.348548Z"
    }
   },
   "id": "b672184da755c972"
  },
  {
   "cell_type": "code",
   "execution_count": 10,
   "outputs": [
    {
     "data": {
      "text/plain": "shape: (83_448, 2)\n┌────────┬───────────────────────────────────┐\n│ IsSpam ┆ EmailContent                      │\n│ ---    ┆ ---                               │\n│ i64    ┆ str                               │\n╞════════╪═══════════════════════════════════╡\n│ 1      ┆ hello , how are you doing ?\n       │\n│        ┆ bet…                              │\n│ 0      ┆ maybe you're looking for somethi… │\n│ 0      ┆  begin pgp signed message hash s… │\n│ 0      ┆  why filename xmp it should be b… │\n│ …      ┆ …                                 │\n│ 1      ┆ while we may have high expectati… │\n│ 1      ┆ hello , welcome to pharmonl nunc… │\n│ 0      ┆ linux cifs client bounces shiris… │\n│ 1      ┆ numeric keypad dot matrix printe… │\n└────────┴───────────────────────────────────┘",
      "text/html": "<div><style>\n.dataframe > thead > tr > th,\n.dataframe > tbody > tr > td {\n  text-align: right;\n  white-space: pre-wrap;\n}\n</style>\n<small>shape: (83_448, 2)</small><table border=\"1\" class=\"dataframe\"><thead><tr><th>IsSpam</th><th>EmailContent</th></tr><tr><td>i64</td><td>str</td></tr></thead><tbody><tr><td>1</td><td>&quot;hello , how ar…</td></tr><tr><td>0</td><td>&quot;maybe you&#x27;re l…</td></tr><tr><td>0</td><td>&quot; begin pgp sig…</td></tr><tr><td>0</td><td>&quot; why filename …</td></tr><tr><td>1</td><td>&quot;lynnette just …</td></tr><tr><td>1</td><td>&quot;companion shor…</td></tr><tr><td>0</td><td>&quot;you have recei…</td></tr><tr><td>1</td><td>&quot;hello ,\r\nwe se…</td></tr><tr><td>1</td><td>&quot;dear valued me…</td></tr><tr><td>1</td><td>&quot;from the offic…</td></tr><tr><td>0</td><td>&quot;you can use th…</td></tr><tr><td>1</td><td>&quot;stock watch ai…</td></tr><tr><td>&hellip;</td><td>&hellip;</td></tr><tr><td>0</td><td>&quot;author jpeach …</td></tr><tr><td>0</td><td>&quot;the extension …</td></tr><tr><td>0</td><td>&quot;the following …</td></tr><tr><td>1</td><td>&quot;important comm…</td></tr><tr><td>1</td><td>&quot;anatrim an ext…</td></tr><tr><td>1</td><td>&quot;attention men …</td></tr><tr><td>0</td><td>&quot;information on…</td></tr><tr><td>1</td><td>&quot;srea jumps esc…</td></tr><tr><td>1</td><td>&quot;while we may h…</td></tr><tr><td>1</td><td>&quot;hello , welcom…</td></tr><tr><td>0</td><td>&quot;linux cifs cli…</td></tr><tr><td>1</td><td>&quot;numeric keypad…</td></tr></tbody></table></div>"
     },
     "execution_count": 10,
     "metadata": {},
     "output_type": "execute_result"
    }
   ],
   "source": [
    "#Polars vs Pandas benchmarking\n",
    "#https://www.pola.rs/benchmarks.html\n",
    "import polars as pl\n",
    "\n",
    "pl_top_data = pl.read_csv('./Data/0-enron-emails-labeled.csv')\n",
    "pl_bottom_data = pl.read_csv('./Data/1-enron-emails-labeled.csv')\n",
    "\n",
    "merged = pl.concat([pl_top_data, pl_bottom_data]).drop('index')\n",
    "\n",
    "expected_rows = 83448\n",
    "assert expected_rows == merged.height, f'Expected merged data to contain {expected_rows} rows.'\n",
    "\n",
    "labeled_emails = merged.rename(data_columns)\n",
    "\n",
    "labeled_emails"
   ],
   "metadata": {
    "collapsed": false,
    "ExecuteTime": {
     "end_time": "2023-11-15T00:08:03.441966900Z",
     "start_time": "2023-11-15T00:08:03.140545900Z"
    }
   },
   "id": "7d6cb477e9f96e75"
  },
  {
   "cell_type": "code",
   "execution_count": 1,
   "id": "initial_id",
   "metadata": {
    "collapsed": true,
    "ExecuteTime": {
     "end_time": "2023-11-14T05:03:11.481724900Z",
     "start_time": "2023-11-14T05:03:10.207276700Z"
    }
   },
   "outputs": [],
   "source": [
    "import pandas as pd\n",
    "\n",
    "'''\n",
    "Data was pre-split due to GitHub file limitation. Index was added for joining the data.\n",
    "Removed for use in project.\n",
    "'''\n",
    "data_top = pd.read_csv('./Data/0-enron-emails-labeled.csv').drop('index', axis=1)\n",
    "data_bottom = pd.read_csv('./Data/1-enron-emails-labeled.csv').drop('index', axis=1)\n",
    "\n"
   ]
  },
  {
   "cell_type": "code",
   "execution_count": 2,
   "outputs": [
    {
     "data": {
      "text/plain": "       label                                               text\n0          1  hello , how are you doing ?\\r\\nbetter than all...\n1          0  maybe you're looking for something like this x...\n2          0   begin pgp signed message hash shaescapenumber...\n3          0   why filename xmp it should be basename xmp no...\n4          1  lynnette just told me about what they have bee...\n...      ...                                                ...\n41719      0  hi given a date how do i get the last date of ...\n41720      1  now you can order software on cd or download i...\n41721      1  dear valued member canadianpharmacy provides a...\n41722      0  subscribe change profile contact us long term ...\n41723      1  get the most out of life ! viagra has helped m...\n\n[41724 rows x 2 columns]",
      "text/html": "<div>\n<style scoped>\n    .dataframe tbody tr th:only-of-type {\n        vertical-align: middle;\n    }\n\n    .dataframe tbody tr th {\n        vertical-align: top;\n    }\n\n    .dataframe thead th {\n        text-align: right;\n    }\n</style>\n<table border=\"1\" class=\"dataframe\">\n  <thead>\n    <tr style=\"text-align: right;\">\n      <th></th>\n      <th>label</th>\n      <th>text</th>\n    </tr>\n  </thead>\n  <tbody>\n    <tr>\n      <th>0</th>\n      <td>1</td>\n      <td>hello , how are you doing ?\\r\\nbetter than all...</td>\n    </tr>\n    <tr>\n      <th>1</th>\n      <td>0</td>\n      <td>maybe you're looking for something like this x...</td>\n    </tr>\n    <tr>\n      <th>2</th>\n      <td>0</td>\n      <td>begin pgp signed message hash shaescapenumber...</td>\n    </tr>\n    <tr>\n      <th>3</th>\n      <td>0</td>\n      <td>why filename xmp it should be basename xmp no...</td>\n    </tr>\n    <tr>\n      <th>4</th>\n      <td>1</td>\n      <td>lynnette just told me about what they have bee...</td>\n    </tr>\n    <tr>\n      <th>...</th>\n      <td>...</td>\n      <td>...</td>\n    </tr>\n    <tr>\n      <th>41719</th>\n      <td>0</td>\n      <td>hi given a date how do i get the last date of ...</td>\n    </tr>\n    <tr>\n      <th>41720</th>\n      <td>1</td>\n      <td>now you can order software on cd or download i...</td>\n    </tr>\n    <tr>\n      <th>41721</th>\n      <td>1</td>\n      <td>dear valued member canadianpharmacy provides a...</td>\n    </tr>\n    <tr>\n      <th>41722</th>\n      <td>0</td>\n      <td>subscribe change profile contact us long term ...</td>\n    </tr>\n    <tr>\n      <th>41723</th>\n      <td>1</td>\n      <td>get the most out of life ! viagra has helped m...</td>\n    </tr>\n  </tbody>\n</table>\n<p>41724 rows × 2 columns</p>\n</div>"
     },
     "execution_count": 2,
     "metadata": {},
     "output_type": "execute_result"
    }
   ],
   "source": [
    "data_top"
   ],
   "metadata": {
    "collapsed": false,
    "ExecuteTime": {
     "end_time": "2023-11-14T05:03:11.488286300Z",
     "start_time": "2023-11-14T05:03:11.479890800Z"
    }
   },
   "id": "c543767c8eab9d4"
  },
  {
   "cell_type": "code",
   "execution_count": 3,
   "outputs": [
    {
     "data": {
      "text/plain": "       label                                               text\n0          1  ounce feather bowl hummingbird opec moment ala...\n1          1  wulvob get your medircations online qnb ikud v...\n2          0   computer connection from cnn com wednesday es...\n3          1  university degree obtain a prosperous future m...\n4          0  thanks for all your answers guys i know i shou...\n...      ...                                                ...\n41719      1  srea jumps escapenumber after news releases sc...\n41720      1  while we may have high expectations of our ass...\n41721      1  hello , welcome to pharmonl nuncupate ine s pa...\n41722      0  linux cifs client bounces shirishp us ibm com ...\n41723      1  numeric keypad dot matrix printer superscript ...\n\n[41724 rows x 2 columns]",
      "text/html": "<div>\n<style scoped>\n    .dataframe tbody tr th:only-of-type {\n        vertical-align: middle;\n    }\n\n    .dataframe tbody tr th {\n        vertical-align: top;\n    }\n\n    .dataframe thead th {\n        text-align: right;\n    }\n</style>\n<table border=\"1\" class=\"dataframe\">\n  <thead>\n    <tr style=\"text-align: right;\">\n      <th></th>\n      <th>label</th>\n      <th>text</th>\n    </tr>\n  </thead>\n  <tbody>\n    <tr>\n      <th>0</th>\n      <td>1</td>\n      <td>ounce feather bowl hummingbird opec moment ala...</td>\n    </tr>\n    <tr>\n      <th>1</th>\n      <td>1</td>\n      <td>wulvob get your medircations online qnb ikud v...</td>\n    </tr>\n    <tr>\n      <th>2</th>\n      <td>0</td>\n      <td>computer connection from cnn com wednesday es...</td>\n    </tr>\n    <tr>\n      <th>3</th>\n      <td>1</td>\n      <td>university degree obtain a prosperous future m...</td>\n    </tr>\n    <tr>\n      <th>4</th>\n      <td>0</td>\n      <td>thanks for all your answers guys i know i shou...</td>\n    </tr>\n    <tr>\n      <th>...</th>\n      <td>...</td>\n      <td>...</td>\n    </tr>\n    <tr>\n      <th>41719</th>\n      <td>1</td>\n      <td>srea jumps escapenumber after news releases sc...</td>\n    </tr>\n    <tr>\n      <th>41720</th>\n      <td>1</td>\n      <td>while we may have high expectations of our ass...</td>\n    </tr>\n    <tr>\n      <th>41721</th>\n      <td>1</td>\n      <td>hello , welcome to pharmonl nuncupate ine s pa...</td>\n    </tr>\n    <tr>\n      <th>41722</th>\n      <td>0</td>\n      <td>linux cifs client bounces shirishp us ibm com ...</td>\n    </tr>\n    <tr>\n      <th>41723</th>\n      <td>1</td>\n      <td>numeric keypad dot matrix printer superscript ...</td>\n    </tr>\n  </tbody>\n</table>\n<p>41724 rows × 2 columns</p>\n</div>"
     },
     "execution_count": 3,
     "metadata": {},
     "output_type": "execute_result"
    }
   ],
   "source": [
    "data_bottom"
   ],
   "metadata": {
    "collapsed": false,
    "ExecuteTime": {
     "end_time": "2023-11-14T05:03:11.497623900Z",
     "start_time": "2023-11-14T05:03:11.488286300Z"
    }
   },
   "id": "22623f93481b2d39"
  },
  {
   "cell_type": "code",
   "execution_count": 4,
   "outputs": [
    {
     "name": "stdout",
     "output_type": "stream",
     "text": [
      "              label\n",
      "count  83448.000000\n",
      "mean       0.526196\n",
      "std        0.499316\n",
      "min        0.000000\n",
      "25%        0.000000\n",
      "50%        1.000000\n",
      "75%        1.000000\n",
      "max        1.000000\n",
      "Total Entries: 83448\n",
      "0\n"
     ]
    },
    {
     "data": {
      "text/plain": "       IsSpam                                       EmailContent\n0           1  hello , how are you doing ?\\r\\nbetter than all...\n1           0  maybe you're looking for something like this x...\n2           0   begin pgp signed message hash shaescapenumber...\n3           0   why filename xmp it should be basename xmp no...\n4           1  lynnette just told me about what they have bee...\n...       ...                                                ...\n83443       1  srea jumps escapenumber after news releases sc...\n83444       1  while we may have high expectations of our ass...\n83445       1  hello , welcome to pharmonl nuncupate ine s pa...\n83446       0  linux cifs client bounces shirishp us ibm com ...\n83447       1  numeric keypad dot matrix printer superscript ...\n\n[83448 rows x 2 columns]",
      "text/html": "<div>\n<style scoped>\n    .dataframe tbody tr th:only-of-type {\n        vertical-align: middle;\n    }\n\n    .dataframe tbody tr th {\n        vertical-align: top;\n    }\n\n    .dataframe thead th {\n        text-align: right;\n    }\n</style>\n<table border=\"1\" class=\"dataframe\">\n  <thead>\n    <tr style=\"text-align: right;\">\n      <th></th>\n      <th>IsSpam</th>\n      <th>EmailContent</th>\n    </tr>\n  </thead>\n  <tbody>\n    <tr>\n      <th>0</th>\n      <td>1</td>\n      <td>hello , how are you doing ?\\r\\nbetter than all...</td>\n    </tr>\n    <tr>\n      <th>1</th>\n      <td>0</td>\n      <td>maybe you're looking for something like this x...</td>\n    </tr>\n    <tr>\n      <th>2</th>\n      <td>0</td>\n      <td>begin pgp signed message hash shaescapenumber...</td>\n    </tr>\n    <tr>\n      <th>3</th>\n      <td>0</td>\n      <td>why filename xmp it should be basename xmp no...</td>\n    </tr>\n    <tr>\n      <th>4</th>\n      <td>1</td>\n      <td>lynnette just told me about what they have bee...</td>\n    </tr>\n    <tr>\n      <th>...</th>\n      <td>...</td>\n      <td>...</td>\n    </tr>\n    <tr>\n      <th>83443</th>\n      <td>1</td>\n      <td>srea jumps escapenumber after news releases sc...</td>\n    </tr>\n    <tr>\n      <th>83444</th>\n      <td>1</td>\n      <td>while we may have high expectations of our ass...</td>\n    </tr>\n    <tr>\n      <th>83445</th>\n      <td>1</td>\n      <td>hello , welcome to pharmonl nuncupate ine s pa...</td>\n    </tr>\n    <tr>\n      <th>83446</th>\n      <td>0</td>\n      <td>linux cifs client bounces shirishp us ibm com ...</td>\n    </tr>\n    <tr>\n      <th>83447</th>\n      <td>1</td>\n      <td>numeric keypad dot matrix printer superscript ...</td>\n    </tr>\n  </tbody>\n</table>\n<p>83448 rows × 2 columns</p>\n</div>"
     },
     "execution_count": 4,
     "metadata": {},
     "output_type": "execute_result"
    }
   ],
   "source": [
    "data_top = data_top.reset_index(drop=True)\n",
    "data_bottom = data_bottom.reset_index(drop=True)\n",
    "enron_original = pd.concat([data_top, data_bottom], ignore_index=True)\n",
    "\n",
    "print(enron_original.describe())\n",
    "\n",
    "enron_original_size = len(enron_original)\n",
    "print(f'Total Entries: {enron_original_size}')\n",
    "\n",
    "expected_data_count = 83448\n",
    "assert expected_data_count == enron_original_size, f'Original data should total: {expected_data_count}'\n",
    "\n",
    "column_names = {\n",
    "    'label': 'IsSpam',\n",
    "    'text': 'EmailContent'\n",
    "}\n",
    "\n",
    "enron_original.rename(columns=column_names, inplace=True)\n",
    "\n",
    "print(enron_original['IsSpam'].isna().sum())\n",
    "\n",
    "enron_original"
   ],
   "metadata": {
    "collapsed": false,
    "ExecuteTime": {
     "end_time": "2023-11-14T05:03:11.534990900Z",
     "start_time": "2023-11-14T05:03:11.497623900Z"
    }
   },
   "id": "364bb16fb0b5685f"
  },
  {
   "cell_type": "code",
   "execution_count": 5,
   "outputs": [
    {
     "name": "stdout",
     "output_type": "stream",
     "text": [
      "\n",
      "        Total Element: 166896\n",
      "        Total Missing IsSpam: 0\n",
      "        Total Missing EmailContent: 0\n",
      "        Sparsity Percentage: 0 / 166896\n",
      "        \n",
      "Sparsity Percentage: 0.0\n"
     ]
    }
   ],
   "source": [
    "def calculate_sparsity(labelled_emails: pd.DataFrame, debug: bool=False) -> float:\n",
    "    \"\"\"\n",
    "    :param labelled_emails: Data with emails labelled as (1)-SPAM or (0)-HAM\n",
    "    :type labelled_emails: pd.DataFrame  \n",
    "    \n",
    "    :return: Percentage of Sparsity (Empty Values) \n",
    "    \"\"\"\n",
    "    #Check IsSpam for empty/non-correct values\n",
    "    total_missing_is_spam = labelled_emails['IsSpam'].isna().sum()\n",
    "       \n",
    "    #Check EmailContent for empty values\n",
    "    total_missing_email_content = labelled_emails['EmailContent'].isna().sum()\n",
    "    \n",
    "    total_elements = labelled_emails.size #total of \n",
    "    \n",
    "    # Calculate the number of zero elements\n",
    "    zero_elements = (total_missing_is_spam + total_missing_email_content)\n",
    "    # Calculate sparsity\n",
    "    sparsity_percentage = zero_elements / total_elements\n",
    "    \n",
    "    if debug:\n",
    "        debug_info = f'''\n",
    "        Total Element: {total_elements}\n",
    "        Total Missing IsSpam: {total_missing_is_spam}\n",
    "        Total Missing EmailContent: {total_missing_email_content}\n",
    "        Sparsity Percentage: {zero_elements} / {total_elements}\n",
    "        '''\n",
    "        print(debug_info)\n",
    "    \n",
    "    return sparsity_percentage\n",
    "\n",
    "sparsity = calculate_sparsity(enron_original, True)\n",
    "print(f'Sparsity Percentage: {sparsity}')"
   ],
   "metadata": {
    "collapsed": false,
    "ExecuteTime": {
     "end_time": "2023-11-14T05:03:11.581118600Z",
     "start_time": "2023-11-14T05:03:11.514894Z"
    }
   },
   "id": "490b2c071d751630"
  }
 ],
 "metadata": {
  "kernelspec": {
   "display_name": "Python 3",
   "language": "python",
   "name": "python3"
  },
  "language_info": {
   "codemirror_mode": {
    "name": "ipython",
    "version": 2
   },
   "file_extension": ".py",
   "mimetype": "text/x-python",
   "name": "python",
   "nbconvert_exporter": "python",
   "pygments_lexer": "ipython2",
   "version": "2.7.6"
  }
 },
 "nbformat": 4,
 "nbformat_minor": 5
}
