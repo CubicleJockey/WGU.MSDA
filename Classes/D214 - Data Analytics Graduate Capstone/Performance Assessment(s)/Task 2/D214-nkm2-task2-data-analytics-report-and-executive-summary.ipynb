{
 "cells": [
  {
   "cell_type": "markdown",
   "source": [
    "# D214 - Data Analytics Graduate Capstone\n",
    "### NKM2 Task 2: Data Analytics Report and Executive Summary\n",
    "#### Data Analytics Graduate Capstone — D214\n",
    "#### PRFA - NKM2\n",
    "> André Davis\n",
    "> StudentID: 010630641\n",
    "> MSDA\n",
    ">\n",
    "> Competencies\n",
    "> 981.1.1 : Capstone\n",
    "> The graduate integrates and synthesizes competencies from across the degree program and thereby demonstrates the ability to participate in and contribute value to the chosen professional field."
   ],
   "metadata": {
    "collapsed": false
   },
   "id": "6e76c0ccd2ac8730"
  },
  {
   "cell_type": "markdown",
   "source": [
    "##### Table of Contents\n",
    "\n",
    "<ul>\n",
    "    <li><a href=\"#research-question\">A: Research Question</a></li>\n",
    "    <li><a href=\"#data-collection\">B: Data Collection</a></li>\n",
    "    <li><a href=\"#data-extraction-and-preparation\">C: Data Extraction and Preparation</a></li>\n",
    "    <li><a href=\"#analysis\">D: Analysis</a></li>\n",
    "    <li><a href=\"#data-summary-and-implications\">E: Data Summary and Implications</a></li>\n",
    "    <li><a href=\"#sources\">F: Sources</a></li>\n",
    "</ul>"
   ],
   "metadata": {
    "collapsed": false
   },
   "id": "dd6f4a96728fa8a5"
  },
  {
   "cell_type": "markdown",
   "source": [
    "<a id=\"research-question\"></a>\n",
    "# A: Research Question\n",
    ">Summarize the original real-data research question you identified in task 1. Your summary should include justification for the research question you identified in task 1, a description of the context in which the research question exists, and a discussion of your hypothesis.\n",
    "\n",
    "#### Research Question:\n",
    "Is it possible to develop a machine learning model that can accurately classify new content as SPAM or non-SPAM (HAM), using a dataset comprising known SPAM and regular content from the 2007 TREC Public Spam Corpus and Enron emails? \n",
    "\n",
    "\n",
    "#### Justification:\n",
    "Spam presents a significant challenge for both businesses and households. It not only consumes valuable storage space and impedes the identification of critical emails, but it also poses a substantial security risk. Spam emails can serve as conduits for malicious threats such as viruses, worms, phishing scams, and ransomware. Therefore, implementing models capable of accurately detecting spam is essential. These models are not only crucial for enhancing security measures but also for ensuring that email server storage is reserved exclusively for important organizational communications.\n",
    "\n",
    "\n",
    "#### Hypothesis:\n",
    "\n",
    "**Null hypothesis (*HΦ*)**- The machine learning model developed using the 2007 TREC Public Spam Corpus and Enron emails dataset cannot accurately classify new content as SPAM or non-SPAM (HAM) with an accuracy score of 95% or higher. This implies that any observed accuracy in classification does not significantly exceed what would be expected by chance. \n",
    "\n",
    "**Alternate Hypothesis (*Ha*)**- The machine learning model developed using the 2007 TREC Public Spam Corpus and Enron emails dataset can accurately classify new content as SPAM or non-SPAM (HAM) with an accuracy score of 95% or higher. This suggests that the model has learned effective patterns within the dataset, enabling it to differentiate between SPAM and non-SPAM content significantly better than chance."
   ],
   "metadata": {
    "collapsed": false
   },
   "id": "790b035419964ef5"
  },
  {
   "cell_type": "markdown",
   "source": [
    "<a id=\"data-collection\"></a>\n",
    "# B: Data Collection\n",
    ">Report on your data-collection process by describing the relevant data you collected, discussing one advantage and one disadvantage of the data-gathering methodology you used, and discussing how you overcame any challenges you encountered during the process of collecting your data.\n",
    "\n",
    "##### Data Collected\n",
    "\n",
    "The dataset under discussion, titled *'Spam Email Classification Dataset'*, encompasses a meticulously curated collection of email content. Each email within this dataset has been accurately categorized as either 'SPAM' or 'NOT SPAM' (often referred to as 'HAM'). This valuable compilation of data was sourced from the well-known platform, [kaggle.com](https://www.kaggle.com/).\n",
    "\n",
    "The composition of the dataset is diverse, integrating data from two prominent sources: the Enron Corpus and the TREC Public Spam Corpus. This blend ensures a rich variety of email samples. One of the key features of this dataset is its pre-labeled nature. The emails, which exhibit a range of unstructured content, have been pre-classified, rendering the dataset immediately applicable for training machine learning models in spam detection and email filtering tasks. Such ready-to-use, pre-labeled datasets are instrumental in facilitating efficient model training and accurate spam classification.\n",
    "\n",
    "Dataset Description:\n",
    "\n",
    "| Feature        | Datatype      | Description                                                                                                                                                                                          |\n",
    "|----------------|---------------|------------------------------------------------------------------------------------------------------------------------------------------------------------------------------------------------------|\n",
    "| label          | Qualitative   | This is the feature that is the label of the dataset. It is a Boolean represented as 1 or 0<br/>1 represents the associated text is SPAM<br/>0 represents the associated text is HAM (Not SPAM)      |\n",
    "| text           | Qualitative   | This is just text content (unstructured data). In the case of this dataset the contents are an Email. This is the data that will be used to train and is pre-labeled for the Machine Learning model. |"
   ],
   "metadata": {
    "collapsed": false
   },
   "id": "ccea40610699bf8b"
  },
  {
   "cell_type": "markdown",
   "source": [
    "<a id=\"data-extraction-and-preparation\"></a>\n",
    "# C: Data Extraction and Preparation\n",
    ">Describe your data-extraction and preparation process and provide screenshots to illustrate each step. Explain the tools and techniques you used for data extraction and data preparation, including how these tools and techniques were used on the data. Justify why you used these particular tools and techniques, including one advantage and one disadvantage when they are used with your data-extraction and -preparation methods. \n",
    "\n",
    ">TODO: Perform data loading and preparation here"
   ],
   "metadata": {
    "collapsed": false
   },
   "id": "79fa2d98e76de6cb"
  },
  {
   "cell_type": "markdown",
   "source": [
    "<a id=\"analysis\"></a>\n",
    "# D: Analysis\n",
    ">  Report on your data-analysis process by describing the analysis technique(s) you used to appropriately analyze the data. Include the calculations you performed and their outputs. Justify how you selected the analysis technique(s) you used, including one advantage and one disadvantage of these technique(s)."
   ],
   "metadata": {
    "collapsed": false
   },
   "id": "2760c021e2d4b167"
  },
  {
   "cell_type": "markdown",
   "source": [
    "<a id=\"data-summary-and-implications\"></a>\n",
    "# E: Data Summary and Implications\n",
    ">Summarize the implications of your data analysis by discussing the results of your data analysis in the context of the research question, including one limitation of your analysis. Within the context of your research question, recommend a course of action based on your results. Then propose two directions or approaches for future study of the data set."
   ],
   "metadata": {
    "collapsed": false
   },
   "id": "8fc5dab3b02d992"
  },
  {
   "cell_type": "markdown",
   "source": [
    "<a id=\"sources\"></a>\n",
    "# F: Sources\n",
    ">Acknowledge sources, using in-text citations and references, for content that is quoted.\n",
    "\n",
    "* PURU SINGHVI. (n.d.). Spam Email Classification Dataset Kaggle.\n",
    "  Retrieved from https://www.kaggle.com/datasets/purusinghvi/email-spam-classification-dataset\n",
    "  <br /><br />\n",
    "  \n",
    "* GitHub. (n.d.). About large files on GitHub. GitHub Docs. \n",
    "  Retrieved from https://docs.github.com/en/repositories/working-with-files/managing-large-files/about-large-files-on-github\n",
    "  <br /><br />"
   ],
   "metadata": {
    "collapsed": false
   },
   "id": "168c90fed75111bd"
  }
 ],
 "metadata": {
  "kernelspec": {
   "display_name": "Python 3",
   "language": "python",
   "name": "python3"
  },
  "language_info": {
   "codemirror_mode": {
    "name": "ipython",
    "version": 2
   },
   "file_extension": ".py",
   "mimetype": "text/x-python",
   "name": "python",
   "nbconvert_exporter": "python",
   "pygments_lexer": "ipython2",
   "version": "2.7.6"
  }
 },
 "nbformat": 4,
 "nbformat_minor": 5
}
