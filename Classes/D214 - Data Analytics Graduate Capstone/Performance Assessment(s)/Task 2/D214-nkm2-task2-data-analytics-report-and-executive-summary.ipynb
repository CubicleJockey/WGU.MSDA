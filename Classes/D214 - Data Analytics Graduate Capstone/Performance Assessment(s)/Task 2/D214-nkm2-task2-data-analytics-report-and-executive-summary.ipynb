{
 "cells": [
  {
   "cell_type": "markdown",
   "source": [
    "# D214 - Data Analytics Graduate Capstone\n",
    "### NKM2 Task 2: Data Analytics Report and Executive Summary\n",
    "#### Data Analytics Graduate Capstone — D214\n",
    "#### PRFA - NKM2\n",
    "> André Davis\n",
    "> StudentID: 010630641\n",
    "> MSDA\n",
    ">\n",
    "> Competencies\n",
    "> 981.1.1 : Capstone\n",
    "> The graduate integrates and synthesizes competencies from across the degree program and thereby demonstrates the ability to participate in and contribute value to the chosen professional field."
   ],
   "metadata": {
    "collapsed": false
   },
   "id": "6e76c0ccd2ac8730"
  },
  {
   "cell_type": "markdown",
   "source": [
    "##### Table of Contents\n",
    "\n",
    "<ul>\n",
    "    <li><a href=\"#research-question\">A: Research Question</a></li>\n",
    "    <li><a href=\"#data-collection\">B: Data Collection</a></li>\n",
    "    <li><a href=\"#data-extraction-and-preparation\">C: Data Extraction and Preparation</a></li>\n",
    "    <li><a href=\"#analysis\">D: Analysis</a></li>\n",
    "    <li><a href=\"#data-summary-and-implications\">E: Data Summary and Implications</a></li>\n",
    "    <li><a href=\"#sources\">F: Sources</a></li>\n",
    "</ul>"
   ],
   "metadata": {
    "collapsed": false
   },
   "id": "dd6f4a96728fa8a5"
  },
  {
   "cell_type": "markdown",
   "source": [
    "<a id=\"research-question\"></a>\n",
    "# A: Research Question\n",
    ">Summarize the original real-data research question you identified in task 1. Your summary should include justification for the research question you identified in task 1, a description of the context in which the research question exists, and a discussion of your hypothesis.\n",
    "\n",
    "#### Research Question:\n",
    "Is it possible to develop a machine learning model that can accurately classify new content as SPAM or non-SPAM (HAM), using a dataset comprising known SPAM and regular content from the 2007 TREC Public Spam Corpus and Enron emails? \n",
    "\n",
    "\n",
    "#### Justification:\n",
    "Spam presents a significant challenge for both businesses and households. It not only consumes valuable storage space and impedes the identification of critical emails, but it also poses a substantial security risk. Spam emails can serve as conduits for malicious threats such as viruses, worms, phishing scams, and ransomware. Therefore, implementing models capable of accurately detecting spam is essential. These models are not only crucial for enhancing security measures but also for ensuring that email server storage is reserved exclusively for important organizational communications.\n",
    "\n",
    "\n",
    "#### Hypothesis:\n",
    "\n",
    "**Null hypothesis (*HΦ*)**- The machine learning model developed using the 2007 TREC Public Spam Corpus and Enron emails dataset cannot accurately classify new content as SPAM or non-SPAM (HAM) with an accuracy score of 95% or higher. This implies that any observed accuracy in classification does not significantly exceed what would be expected by chance. \n",
    "\n",
    "**Alternate Hypothesis (*Ha*)**- The machine learning model developed using the 2007 TREC Public Spam Corpus and Enron emails dataset can accurately classify new content as SPAM or non-SPAM (HAM) with an accuracy score of 95% or higher. This suggests that the model has learned effective patterns within the dataset, enabling it to differentiate between SPAM and non-SPAM content significantly better than chance."
   ],
   "metadata": {
    "collapsed": false
   },
   "id": "790b035419964ef5"
  },
  {
   "cell_type": "markdown",
   "source": [
    "<a id=\"data-collection\"></a>\n",
    "# B: Data Collection\n",
    ">Report on your data-collection process by describing the relevant data you collected, discussing one advantage and one disadvantage of the data-gathering methodology you used, and discussing how you overcame any challenges you encountered during the process of collecting your data.\n",
    "\n",
    "##### Data Collected\n",
    "\n",
    "The dataset under discussion, titled *'Spam Email Classification Dataset'*, encompasses a meticulously curated collection of email content. Each email within this dataset has been accurately categorized as either 'SPAM' or 'NOT SPAM' (often referred to as 'HAM'). This valuable compilation of data was sourced from the well-known platform, [kaggle.com](https://www.kaggle.com/).\n",
    "\n",
    "The composition of the dataset is diverse, integrating data from two prominent sources: the Enron Corpus and the TREC Public Spam Corpus. This blend ensures a rich variety of email samples. One of the key features of this dataset is its pre-labeled nature. The emails, which exhibit a range of unstructured content, have been pre-classified, rendering the dataset immediately applicable for training machine learning models in spam detection and email filtering tasks. Such ready-to-use, pre-labeled datasets are instrumental in facilitating efficient model training and accurate spam classification.\n",
    "\n",
    "Dataset Description:\n",
    "\n",
    "| Feature        | Datatype      | Description                                                                                                                                                                                          |\n",
    "|----------------|---------------|------------------------------------------------------------------------------------------------------------------------------------------------------------------------------------------------------|\n",
    "| label          | Qualitative   | This is the feature that is the label of the dataset. It is a Boolean represented as 1 or 0<br/>1 represents the associated text is SPAM<br/>0 represents the associated text is HAM (Not SPAM)      |\n",
    "| text           | Qualitative   | This is just text content (unstructured data). In the case of this dataset the contents are an Email. This is the data that will be used to train and is pre-labeled for the Machine Learning model. |\n",
    "\n",
    "### Data Collection Advantage\n",
    "Utilizing a data repository such as [kaggle.com](https://www.kaggle.com/) offers the distinct advantage of having the data collection process already completed from the original source(s). In the majority of instances, the nature of the data is comprehensively described, its usability is assessed through scoring, and any instances of missing data are diligently documented.\n",
    "\n",
    "### Data Collection Disadvantage\n",
    "\n",
    "One drawback associated with this approach is that achieving a comprehensive verification of all the sources used in creating the dataset necessitates visiting the listed original sources and meticulously conducting a thorough comparison between the original data and the content contained within the Kaggle dataset.\n",
    "\n",
    "### Challenges and Overcoming Them\n",
    "\n",
    "This particular challenge is not related to the collection per se but rather the storage of the data collected and its storage in GitHub as my WGU work has been stored there. \n",
    "\n",
    ">GitHub blocks files larger than 100 MiB.\n",
    "> Source: [GitHub Large Files](https://docs.github.com/en/repositories/working-with-files/managing-large-files/about-large-files-on-github)\n",
    "\n",
    "The 'Spam Email Classification Dataset' consists of approximately 84,000 rows, with a file size ranging between 133MB and 144MB. To incorporate this dataset into my GitHub repository for the Capstone Project, I divided it into two separate files. While this approach facilitated the dataset's inclusion in my repository, it introduced an additional step in the coding process. Specifically, I will need to perform two separate file reads and subsequently merge the datasets back into the original one.\n",
    "\n"
   ],
   "metadata": {
    "collapsed": false
   },
   "id": "ccea40610699bf8b"
  },
  {
   "cell_type": "markdown",
   "source": [
    "<a id=\"data-extraction-and-preparation\"></a>\n",
    "# C: Data Extraction and Preparation\n",
    ">Describe your data-extraction and preparation process and provide screenshots to illustrate each step. Explain the tools and techniques you used for data extraction and data preparation, including how these tools and techniques were used on the data. Justify why you used these particular tools and techniques, including one advantage and one disadvantage when they are used with your data-extraction and -preparation methods. \n",
    "\n",
    "#### NOTE To Evaluator: \n",
    "\n",
    "Because this is an interactive Jupyter Notebook the description will be in Markdown and instead of screenshots inline code and charts will be used.\n",
    "\n",
    "---\n",
    "\n",
    "Before commencing the data extraction, it is necessary to reassemble the dataset, which was previously segmented to comply with [GitHub's file size limitation of 100MB](https://docs.github.com/en/repositories/working-with-files/managing-large-files/about-large-files-on-github) for check-ins. Once this re-merging is completed, we can proceed with the performance evaluation phase of the data extraction process.\n",
    "\n",
    "The data extraction process involves working with a pre-labeled dataset, specifically the \"Spam Email Classification Dataset\" available on [Kaggle.com](https://www.kaggle.com/datasets/purusinghvi/email-spam-classification-dataset?rvi=1). The initial phase of this process includes verifying the dataset's integrity by confirming the total number of records (83,446) and ensuring the absence of missing values. Additionally, the distribution of labels within the dataset will be examined both visually, through histograms, and analytically, with the results being graphically presented for easy interpretation. Following this, the dataset's 'EmailContent', which comprises unstructured text, requires pre-processing and vectorization. This step is critical as Logistic Regression, the chosen model for this task, cannot operate directly on raw text data.\n",
    "\n",
    "The tools and techniques used during the data extraction and preparation process are as follows:\n",
    "* [Python](https://www.python.org/)\n",
    "   *  Python is renowned for its user-friendly nature, making it an ideal choice for scientists who may not have a programming background. This accessibility represents Python's significant advantage in fostering a diverse user community. However, it is important to acknowledge that the very features contributing to Python's ease of use can also result in slower run-time performance. This dichotomy highlights the need for balancing user-friendliness with efficiency in computational tasks.\n",
    "      * **Advantage:** Easy to Use\n",
    "      * **Disadvantage:** [Slow Run-Time](https://bodyvisionmedical.com/articles/why-is-python-so-slow-tackling-pythons-performance-issues)  \n",
    "* [Polars](https://www.pola.rs/) \n",
    "   * [Polars](https://www.pola.rs/) is a data manipulation library akin to [Pandas](https://pandas.pydata.org/), renowned for its efficiency with small to medium-sized datasets. However, Polars distinguishes itself by being developed in Rust, a language that combines Python's simplicity with the high performance of C. This project will employ Polars not only as a practical example of its application but also to address the common occurrence of large datasets in real-life scenarios.\n",
    "      * **Advantage:** Operates on larger datasets faster than Pandas as it's underlying implementation of [Rust Programming Langauge](https://www.rust-lang.org/).\n",
    "      * **Disadvantage:** Being newer than Panda the ecosystem and community support is much smaller. \n",
    "* [Matplotlib](https://matplotlib.org/)\n",
    "   * This is a community standard visualization library and performed well for all other performance assessments. Although, it has heavy integration with [Pandas](https://pandas.pydata.org/), it is not a requirement to use the visualization library. In terms of the data collection and preparation process this is used to help check whether the labeled dataset is balanced or imbalanced visually.\n",
    "      * **Advantage:** Extensive and highly customizable plotting library. Can do a spanse of plotting such as scatter plots, line graphs, bar charts, histograms, 3D plots just to name a few.\n",
    "      * **Disadvantage:** Very steep learning curve. I was constantly deep in the documentation for sometimes what would seem like basic operations.\n",
    "* [Seaborn](https://seaborn.pydata.org/)\n",
    "   *  This is a statistical data visualization library. It is built on top of matplotlib. It provides high-level interfaces\n",
    "      * **Advantage:** The high-level interfaces make some Matplotlib plotting easier. For example heatmaps are pretty complex in Matplotlib this simplifies getting a heatmap generated.\n",
    "      * **Disadvantage:**  Because it moves things to a higher-level of interfaces some of the customization aspects of Matplotlib are reduced or lost.\n",
    "* [NLTK (Natural Language Toolkit)](https://www.nltk.org/)\n",
    "   * This toolkit is widely recognized for its effectiveness in natural language processing. In the context of data collection and preparation, it will be utilized to eliminate stopwords during vectorization and to segment the text into smaller, manageable units for further analysis.\n",
    "      * **Advantage:** Very easy to use for language processing\n",
    "      * **Disadvantage:** The toolkit exhibits reduced performance efficiency when handling larger datasets, leading to slower processing speeds. Consequently, its suitability for production environments is limited, rendering it more appropriate as a resource for educational and prototype development purposes rather than for high-scale, commercial applications.\n",
    "* [Emoji](https://github.com/carpedm20/emoji/)\n",
    "   * During the pre-processing process before the model is created this library makes it easier to identify non-standard characters that come in the form of emojis and will aid in removing them before modeling.\n",
    "      * **Advantage:** Works great at removing emoji related material from text.\n",
    "      * **Disadvantage:**  Doesn't really do anything else, so it's only an add-in to other frameworks.\n",
    "* [Unidecode](https://pypi.org/project/Unidecode/)\n",
    "   * During the pre-processing process before the model is created, this helps remove Unicode ASCII type characters that may be introduced and cause issues. These will be removed.\n",
    "      * **Advantage:** Great at converting non-ASCII characters equivalent to add in removal or pre-processing.\n",
    "      * **Disadvantage:** Only operations ASCII meaning other languages can lose meaning if used on non-english. \n",
    "* [Scikit-Learn TfidfVectorizer](https://scikit-learn.org/stable/modules/generated/sklearn.feature_extraction.text.TfidfVectorizer.html)\n",
    "   * To facilitate the logistic regression analysis, it is essential to convert the unstructured text, categorized as either 'SPAM' or 'Not SPAM (HAM)', into a numerical format suitable for modeling. For this purpose, the `TfidfVectorizer` will be employed. This tool will not only execute a custom preprocessing function but also transform the text into numerical embeddings, thereby enabling effective model execution on the dataset.\n",
    "      * Custom Preprocessing function `preprocess_and_tokenize` steps include:\n",
    "           * Convert all text to lowercase\n",
    "           * Remove Unicode text\n",
    "           * Remove emojis\n",
    "           * Remove punctuation\n",
    "           * Tokenize unstructured text\n",
    "           * Remove stop words that end vectorization\n",
    "   <br /> <br />             \n",
    "      * **Advantage:** Proficient in transforming raw documents, which are typically unstructured text, into structured, feature-based representations suitable for analysis.\n",
    "      * **Disadvantage:** Due to its emphasis on term frequency, there is a potential loss of the contextual significance behind word tokens in the process.\n",
    " \n"
   ],
   "metadata": {
    "collapsed": false
   },
   "id": "79fa2d98e76de6cb"
  },
  {
   "cell_type": "code",
   "execution_count": 27,
   "outputs": [
    {
     "name": "stderr",
     "output_type": "stream",
     "text": [
      "[nltk_data] Downloading package punkt to\n",
      "[nltk_data]     C:\\Users\\cubic\\AppData\\Roaming\\nltk_data...\n",
      "[nltk_data]   Package punkt is already up-to-date!\n",
      "[nltk_data] Downloading package stopwords to\n",
      "[nltk_data]     C:\\Users\\cubic\\AppData\\Roaming\\nltk_data...\n",
      "[nltk_data]   Package stopwords is already up-to-date!\n"
     ]
    }
   ],
   "source": [
    "import math\n",
    "\n",
    "'''\n",
    "Python Library Imports\n",
    "'''\n",
    "import warnings\n",
    "warnings.filterwarnings('ignore')\n",
    "\n",
    "import re, pprint, math\n",
    "from typing import List\n",
    "\n",
    "#Data Manipulation\n",
    "import polars as pl\n",
    "import numpy as np\n",
    "import matplotlib.pyplot as plt\n",
    "import seaborn as sns\n",
    "\n",
    "#Data Extraction and Preprocessing\n",
    "import nltk\n",
    "nltk.download('punkt')\n",
    "nltk.download('stopwords')\n",
    "from nltk.corpus import stopwords\n",
    "from nltk.tokenize import word_tokenize\n",
    "import emoji\n",
    "from unidecode import unidecode\n",
    "from sklearn.feature_extraction.text import TfidfVectorizer\n",
    "from sklearn.model_selection import train_test_split\n",
    "\n",
    "#Logisitcal Regression Modeling and Model Evaluation\n",
    "from sklearn.linear_model import LogisticRegression\n",
    "from sklearn.metrics import (mean_squared_error\n",
    "                            ,accuracy_score\n",
    "                            ,classification_report\n",
    "                            ,confusion_matrix\n",
    "                            ,roc_curve\n",
    "                            ,roc_auc_score)\n",
    "from statsmodels.api import Logit, add_constant\n"
   ],
   "metadata": {
    "collapsed": false,
    "ExecuteTime": {
     "end_time": "2023-12-06T21:33:47.708096600Z",
     "start_time": "2023-12-06T21:33:47.638124100Z"
    }
   },
   "id": "3b4dcf3e54e35ea6"
  },
  {
   "cell_type": "markdown",
   "source": [
    "# Loading the labeled SPAM data\n",
    "\n",
    "As outlined in Section B, we will be importing a dataset that has been divided into two separate files. This division was necessary to comply with GitHub's file size limitation of 100 MB.\n",
    "\n",
    "1. Load files\n",
    "   * '0-enron-emails-labeled.csv'\n",
    "   * '1-enron-emails-labeled.csv'\n",
    "2. Merge files back into original dataset, expect 83448 rows of data\n",
    "3. Rename columns to IsSpam and EmailContent for readability"
   ],
   "metadata": {
    "collapsed": false
   },
   "id": "8462ea833b030163"
  },
  {
   "cell_type": "code",
   "execution_count": 28,
   "outputs": [],
   "source": [
    "def check_expected_row(data: pl.DataFrame) -> None:\n",
    "    \"\"\"   \n",
    "    :param data: Polars Dataframe to check the projects row count \n",
    "    :type data: pl.DataFrame\n",
    "     \n",
    "    :return: None\n",
    "    \"\"\"\n",
    "    expected_rows = 83448\n",
    "    assert expected_rows == data.height, f'Expected data to contain {expected_rows} rows.'"
   ],
   "metadata": {
    "collapsed": false,
    "ExecuteTime": {
     "end_time": "2023-12-06T21:33:47.722420300Z",
     "start_time": "2023-12-06T21:33:47.709901800Z"
    }
   },
   "id": "696f598476042bd2"
  },
  {
   "cell_type": "code",
   "execution_count": 29,
   "outputs": [
    {
     "data": {
      "text/plain": "shape: (83_448, 2)\n┌────────┬───────────────────────────────────┐\n│ IsSpam ┆ EmailContent                      │\n│ ---    ┆ ---                               │\n│ i64    ┆ str                               │\n╞════════╪═══════════════════════════════════╡\n│ 1      ┆ hello , how are you doing ?\n       │\n│        ┆ bet…                              │\n│ 0      ┆ maybe you're looking for somethi… │\n│ 0      ┆  begin pgp signed message hash s… │\n│ 0      ┆  why filename xmp it should be b… │\n│ …      ┆ …                                 │\n│ 1      ┆ while we may have high expectati… │\n│ 1      ┆ hello , welcome to pharmonl nunc… │\n│ 0      ┆ linux cifs client bounces shiris… │\n│ 1      ┆ numeric keypad dot matrix printe… │\n└────────┴───────────────────────────────────┘",
      "text/html": "<div><style>\n.dataframe > thead > tr > th,\n.dataframe > tbody > tr > td {\n  text-align: right;\n  white-space: pre-wrap;\n}\n</style>\n<small>shape: (83_448, 2)</small><table border=\"1\" class=\"dataframe\"><thead><tr><th>IsSpam</th><th>EmailContent</th></tr><tr><td>i64</td><td>str</td></tr></thead><tbody><tr><td>1</td><td>&quot;hello , how ar…</td></tr><tr><td>0</td><td>&quot;maybe you&#x27;re l…</td></tr><tr><td>0</td><td>&quot; begin pgp sig…</td></tr><tr><td>0</td><td>&quot; why filename …</td></tr><tr><td>1</td><td>&quot;lynnette just …</td></tr><tr><td>1</td><td>&quot;companion shor…</td></tr><tr><td>0</td><td>&quot;you have recei…</td></tr><tr><td>1</td><td>&quot;hello ,\r\nwe se…</td></tr><tr><td>1</td><td>&quot;dear valued me…</td></tr><tr><td>1</td><td>&quot;from the offic…</td></tr><tr><td>0</td><td>&quot;you can use th…</td></tr><tr><td>1</td><td>&quot;stock watch ai…</td></tr><tr><td>&hellip;</td><td>&hellip;</td></tr><tr><td>0</td><td>&quot;author jpeach …</td></tr><tr><td>0</td><td>&quot;the extension …</td></tr><tr><td>0</td><td>&quot;the following …</td></tr><tr><td>1</td><td>&quot;important comm…</td></tr><tr><td>1</td><td>&quot;anatrim an ext…</td></tr><tr><td>1</td><td>&quot;attention men …</td></tr><tr><td>0</td><td>&quot;information on…</td></tr><tr><td>1</td><td>&quot;srea jumps esc…</td></tr><tr><td>1</td><td>&quot;while we may h…</td></tr><tr><td>1</td><td>&quot;hello , welcom…</td></tr><tr><td>0</td><td>&quot;linux cifs cli…</td></tr><tr><td>1</td><td>&quot;numeric keypad…</td></tr></tbody></table></div>"
     },
     "execution_count": 29,
     "metadata": {},
     "output_type": "execute_result"
    }
   ],
   "source": [
    "top_data = pl.read_csv('./0-enron-emails-labeled.csv')\n",
    "bottom_data = pl.read_csv('./1-enron-emails-labeled.csv')\n",
    "\n",
    "merged = pl.concat([top_data, bottom_data]).drop('index')\n",
    "\n",
    "assert merged.is_empty() == False, f'The merged Polars dataframe should not be empty.'\n",
    "\n",
    "check_expected_row(merged)\n",
    "\n",
    "renamed = {\n",
    "     'label': 'IsSpam'\n",
    "    ,'text': 'EmailContent' \n",
    "}\n",
    "\n",
    "labeled_emails = merged.rename(mapping=renamed)\n",
    "\n",
    "labeled_emails"
   ],
   "metadata": {
    "collapsed": false,
    "ExecuteTime": {
     "end_time": "2023-12-06T21:33:48.030461500Z",
     "start_time": "2023-12-06T21:33:47.724420600Z"
    }
   },
   "id": "77f8d570418b5c86"
  },
  {
   "cell_type": "markdown",
   "source": [
    "#### Check for empty values \n",
    "\n",
    "The dataset *'Spam Email Classification Dataset'* from [Kaggle](https://www.kaggle.com/) stated there are NO missing values. This is a verification step."
   ],
   "metadata": {
    "collapsed": false
   },
   "id": "8ef75d1463f56911"
  },
  {
   "cell_type": "code",
   "execution_count": 30,
   "outputs": [],
   "source": [
    "def missing_values_check(data: pl.DataFrame) -> None:\n",
    "    \"\"\"\n",
    "    :param data: Dataframe to check for missing values per column\n",
    "    :type data: pl.DataFrame\n",
    "     \n",
    "    :return: None\n",
    "    \"\"\"\n",
    "    \n",
    "    missing_values = data.null_count()\n",
    "    for column in missing_values.columns:\n",
    "        print(f'Checking [{column}] for missing values...')\n",
    "        missing_count = missing_values[column][0]\n",
    "        assert missing_count == 0, f'{column} feature should have zero missing values but found {missing_count}'\n",
    "        print(f'[{column}] has no missing values.')"
   ],
   "metadata": {
    "collapsed": false,
    "ExecuteTime": {
     "end_time": "2023-12-06T21:33:48.034317100Z",
     "start_time": "2023-12-06T21:33:48.031806600Z"
    }
   },
   "id": "de6d99bb16f4a02f"
  },
  {
   "cell_type": "code",
   "execution_count": 31,
   "outputs": [
    {
     "name": "stdout",
     "output_type": "stream",
     "text": [
      "Checking [IsSpam] for missing values...\n",
      "[IsSpam] has no missing values.\n",
      "Checking [EmailContent] for missing values...\n",
      "[EmailContent] has no missing values.\n"
     ]
    }
   ],
   "source": [
    "missing_values_check(labeled_emails)"
   ],
   "metadata": {
    "collapsed": false,
    "ExecuteTime": {
     "end_time": "2023-12-06T21:33:48.043746600Z",
     "start_time": "2023-12-06T21:33:48.033317Z"
    }
   },
   "id": "2a468aaf25b75c05"
  },
  {
   "cell_type": "code",
   "execution_count": 32,
   "outputs": [
    {
     "data": {
      "text/plain": "shape: (9, 3)\n┌────────────┬──────────┬───────────────────────────────────┐\n│ describe   ┆ IsSpam   ┆ EmailContent                      │\n│ ---        ┆ ---      ┆ ---                               │\n│ str        ┆ f64      ┆ str                               │\n╞════════════╪══════════╪═══════════════════════════════════╡\n│ count      ┆ 83448.0  ┆ 83448                             │\n│ null_count ┆ 0.0      ┆ 0                                 │\n│ mean       ┆ 0.526196 ┆ null                              │\n│ std        ┆ 0.499316 ┆ null                              │\n│ min        ┆ 0.0      ┆ \u0001 & who wants to help millions ?…  │\n│ 25%        ┆ 0.0      ┆ null                              │\n│ 50%        ┆ 1.0      ┆ null                              │\n│ 75%        ┆ 1.0      ┆ null                              │\n│ max        ┆ 1.0      ┆ 李俊杰 wrote dear r lister one of │\n│            ┆          ┆ m…                                │\n└────────────┴──────────┴───────────────────────────────────┘",
      "text/html": "<div><style>\n.dataframe > thead > tr > th,\n.dataframe > tbody > tr > td {\n  text-align: right;\n  white-space: pre-wrap;\n}\n</style>\n<small>shape: (9, 3)</small><table border=\"1\" class=\"dataframe\"><thead><tr><th>describe</th><th>IsSpam</th><th>EmailContent</th></tr><tr><td>str</td><td>f64</td><td>str</td></tr></thead><tbody><tr><td>&quot;count&quot;</td><td>83448.0</td><td>&quot;83448&quot;</td></tr><tr><td>&quot;null_count&quot;</td><td>0.0</td><td>&quot;0&quot;</td></tr><tr><td>&quot;mean&quot;</td><td>0.526196</td><td>null</td></tr><tr><td>&quot;std&quot;</td><td>0.499316</td><td>null</td></tr><tr><td>&quot;min&quot;</td><td>0.0</td><td>&quot;\u0001 &amp; who wants …</td></tr><tr><td>&quot;25%&quot;</td><td>0.0</td><td>null</td></tr><tr><td>&quot;50%&quot;</td><td>1.0</td><td>null</td></tr><tr><td>&quot;75%&quot;</td><td>1.0</td><td>null</td></tr><tr><td>&quot;max&quot;</td><td>1.0</td><td>&quot;李俊杰 wrote dear…</td></tr></tbody></table></div>"
     },
     "execution_count": 32,
     "metadata": {},
     "output_type": "execute_result"
    }
   ],
   "source": [
    "'''\n",
    "Describe the Data\n",
    "'''\n",
    "labeled_emails.describe()"
   ],
   "metadata": {
    "collapsed": false,
    "ExecuteTime": {
     "end_time": "2023-12-06T21:33:48.091071500Z",
     "start_time": "2023-12-06T21:33:48.043746600Z"
    }
   },
   "id": "dc236aa1b839a166"
  },
  {
   "cell_type": "markdown",
   "source": [
    "### Data Balance Check\n",
    "\n",
    "Verifying Visually and Mathematically that the data is balanced for the Logistical Regression Model."
   ],
   "metadata": {
    "collapsed": false
   },
   "id": "fa7276e32f1333d3"
  },
  {
   "cell_type": "code",
   "execution_count": 33,
   "outputs": [
    {
     "data": {
      "text/plain": "<Figure size 1400x800 with 1 Axes>",
      "image/png": "[encoded data removed]"
     },
     "metadata": {},
     "output_type": "display_data"
    }
   ],
   "source": [
    "'''\n",
    "Generate a Histogram Chart to visual display HAM(0) vs SPAM(1) balance\n",
    "'''\n",
    "is_spam_label = ['HAM (0)', 'SPAM (1)']\n",
    "\n",
    "hist_data = labeled_emails['IsSpam'].hist(bins=(0,1))\n",
    "bins = hist_data['break_point'].to_numpy()[:-1].astype(int)\n",
    "counts = hist_data['IsSpam_count'].to_numpy()[:-1].astype(int)\n",
    "\n",
    "plt.figure(figsize=(14,8))\n",
    "\n",
    "#values to place inside bar\n",
    "for index, value in enumerate(counts):\n",
    "    plt.text(bins[index], value, str(value), ha='center', va='bottom')\n",
    "\n",
    "plt.bar(bins, counts, width=1, color='green')\n",
    "plt.xlabel('IsSpam')\n",
    "plt.xticks(ticks=bins, labels=is_spam_label)\n",
    "plt.ylabel('Frequency')\n",
    "plt.title('IsSpam Data Frequency')\n",
    "plt.show()"
   ],
   "metadata": {
    "collapsed": false,
    "ExecuteTime": {
     "end_time": "2023-12-06T21:33:48.188663900Z",
     "start_time": "2023-12-06T21:33:48.058533500Z"
    }
   },
   "id": "f9d6a5411571bac5"
  },
  {
   "cell_type": "code",
   "execution_count": 34,
   "outputs": [
    {
     "name": "stdout",
     "output_type": "stream",
     "text": [
      "\n",
      "Percentages:\n",
      "------------\n",
      " HAM(0): 47.38%\n",
      "SPAM(1): 52.62%\n"
     ]
    }
   ],
   "source": [
    "'''\n",
    "Calculate percentage of HAM(0) vs SPAM(1) to pair with visual balance check.\n",
    "'''\n",
    "total_results = (counts[0] + counts[1])\n",
    "ham_percentage = counts[0] / total_results\n",
    "spam_percentage = counts[1] / total_results\n",
    "\n",
    "ham_percentage_formatted = \"{:.2f}\".format(ham_percentage * 100)\n",
    "spam_percentage_formatted = \"{:.2f}\".format(spam_percentage * 100)\n",
    "\n",
    "balance_results = f'''\n",
    "Percentages:\n",
    "------------\n",
    " HAM(0): {ham_percentage_formatted}%\n",
    "SPAM(1): {spam_percentage_formatted}%\n",
    "'''\n",
    "print(balance_results)"
   ],
   "metadata": {
    "collapsed": false,
    "ExecuteTime": {
     "end_time": "2023-12-06T21:33:48.189665Z",
     "start_time": "2023-12-06T21:33:48.145406100Z"
    }
   },
   "id": "b32293abebc98b48"
  },
  {
   "cell_type": "code",
   "execution_count": 35,
   "outputs": [
    {
     "data": {
      "text/plain": "<Figure size 640x480 with 1 Axes>",
      "image/png": "[encoded data removed]"
     },
     "metadata": {},
     "output_type": "display_data"
    }
   ],
   "source": [
    "'''\n",
    "Visualization of the calculated percentages of IsSpam.\n",
    "'''\n",
    "plt.pie([ham_percentage, spam_percentage], labels=is_spam_label, autopct='%.2f%%')\n",
    "plt.axis('equal')\n",
    "plt.show()"
   ],
   "metadata": {
    "collapsed": false,
    "ExecuteTime": {
     "end_time": "2023-12-06T21:33:48.310802300Z",
     "start_time": "2023-12-06T21:33:48.147422500Z"
    }
   },
   "id": "649e3e9307b2de69"
  },
  {
   "cell_type": "markdown",
   "source": [
    "### Pre-Processing EmailContent (text) for Vectorization/Embedding\n",
    "\n",
    "In this phase, we will undertake the professional preprocessing of `EmailContent`, which inherently possesses an unstructured format due to its origin as email text. The process will involve the meticulous removal of special characters and stop words. This refinement is essential to enable the model to concentrate more effectively on the critical components of the email text content."
   ],
   "metadata": {
    "collapsed": false
   },
   "id": "c24598e3c1a17d8f"
  },
  {
   "cell_type": "code",
   "execution_count": 36,
   "outputs": [],
   "source": [
    "def preprocess_and_tokenize(text:str) -> List[str]:\n",
    "    \"\"\"\n",
    "    :param text: Content that needs to be cleaned before vectorization/embeddings\n",
    "    :type text: str\n",
    "     \n",
    "    :return: Cleaned Content Tokenized\n",
    "    \"\"\"\n",
    "    \n",
    "    text = text.lower()\n",
    "    text = unidecode(text) #normalization. Dealing with things like accents\n",
    "    text = emoji.demojize(text) #fix emojis\n",
    "    text = re.sub(r'[^\\w\\s]', '', text) #remove punctuations\n",
    "    \n",
    "    tokens = word_tokenize(text)\n",
    "    stop_words = set(stopwords.words('english'))\n",
    "    \n",
    "    filtered = list()\n",
    "    for word in tokens:\n",
    "        if word not in stop_words:\n",
    "            filtered.append(word)\n",
    "    \n",
    "    return filtered\n"
   ],
   "metadata": {
    "collapsed": false,
    "ExecuteTime": {
     "end_time": "2023-12-06T21:33:48.313811Z",
     "start_time": "2023-12-06T21:33:48.190664100Z"
    }
   },
   "id": "32fb19d4b3c0b8b5"
  },
  {
   "cell_type": "code",
   "execution_count": 54,
   "outputs": [],
   "source": [
    "'''\n",
    "Split into training and testing data\n",
    "'''\n",
    "#Independent\n",
    "email_contents = labeled_emails['EmailContent'].to_numpy()\n",
    "\n",
    "#Dependent\n",
    "email_labels = labeled_emails['IsSpam'].to_numpy()\n",
    "\n",
    "X_train_emails, X_test_emails, y_train_labels, y_test_labels = train_test_split(email_contents, email_labels, test_size=.2, random_state=999)"
   ],
   "metadata": {
    "collapsed": false,
    "ExecuteTime": {
     "end_time": "2023-12-06T21:42:27.968028900Z",
     "start_time": "2023-12-06T21:42:27.860986800Z"
    }
   },
   "id": "f0a3f38c7e81ad0a"
  },
  {
   "cell_type": "code",
   "execution_count": 38,
   "outputs": [],
   "source": [
    "'''\n",
    "Vectorization (Embeddings) for Logistical Regression Modeling\n",
    "'''\n",
    "vectorizer  = TfidfVectorizer(tokenizer=preprocess_and_tokenize, lowercase=True)\n",
    "\n",
    "fitted_vectorizer = vectorizer.fit(X_train_emails)\n",
    "\n",
    "X_train_emails_embeddings = fitted_vectorizer.transform(X_train_emails)\n",
    "X_test_emails_embeddings = fitted_vectorizer.transform(X_test_emails)"
   ],
   "metadata": {
    "collapsed": false,
    "ExecuteTime": {
     "end_time": "2023-12-06T21:37:25.077122700Z",
     "start_time": "2023-12-06T21:33:48.300290300Z"
    }
   },
   "id": "d6d1ed8536337be6"
  },
  {
   "cell_type": "markdown",
   "source": [
    "<a id=\"analysis\"></a>\n",
    "# D: Analysis\n",
    ">  Report on your data-analysis process by describing the analysis technique(s) you used to appropriately analyze the data. Include the calculations you performed and their outputs. Justify how you selected the analysis technique(s) you used, including one advantage and one disadvantage of these technique(s)."
   ],
   "metadata": {
    "collapsed": false
   },
   "id": "2760c021e2d4b167"
  },
  {
   "cell_type": "markdown",
   "source": [
    "## SPAM Detection Analysis with Logistical Regression\n",
    "\n",
    "The data collection and exploratory data analysis (EDA) phases have been successfully completed, paving the way for the implementation of the Logistic Regression Model. The subsequent step involves evaluating the model's effectiveness in detecting spam.\n",
    "\n",
    "Throughout the data collection phase, a crucial transformation was undertaken: converting the textual content of the emails (`EmailContent`) into vector format (embeddings). This conversion is essential for the logistic regression model, as it cannot process plain text data. As we enter the modeling phase, our dataset, comprising of the binary `IsSpam` (1 for spam, 0 for non-spam) and `EmailContent` (now in vector format), has been segregated into training and testing subsets. This segregation is vital for both the training of the model and the evaluation of its performance.\n",
    "\n",
    "### Reasons for chosen Logistical Regression Model\n",
    "\n",
    "Logistic Regression was selected as the method of choice for the Spam Detection Model due to several compelling reasons. Firstly, its inherent design for binary classification aligns perfectly with the \"Is or Is Not\" framework of our task, making it an ideal tool for distinguishing spam from non-spam emails. This model's primary function aligns precisely with our requirements.\n",
    "\n",
    "Secondly, Logistic Regression offers the advantage of providing probabilistic outcomes. These probabilities lend a degree of nuance to the classification process, allowing for a more detailed understanding of the likelihood that a given email falls into the spam category.\n",
    "\n",
    "Thirdly, this model stands out for its efficiency paired with simplicity, delivering reliable results without the complexity of more advanced models. This efficiency is particularly beneficial for quickly establishing a functional spam detection system, potentially serving as a foundation while exploring more sophisticated solutions, such as Neural Network-based machine learning models.\n",
    "\n",
    "Finally, Logistic Regression is commendable for its robustness against over-fitting and its scalability. It maintains its performance integrity even as the dataset expands, making it a sustainable choice for evolving spam detection needs. These qualities, combined with its ability to handle increasing volumes of data effectively, underscore its suitability for our spam detection model.\n",
    "\n",
    "### Advantages and Disadvantages of Logistic Regression Model\n",
    "***Advantage:***\n",
    "Logistic Regression is renowned for its simplicity and ease of implementation, making it a highly accessible and straightforward option. This feature positions it as an optimal starting point for binary classification tasks, such as our 'Spam Email Classification Dataset'. Its user-friendly nature does not compromise its effectiveness, offering a reliable solution for initial classification challenges.\n",
    "\n",
    "***Disadvantage:***\n",
    "However, this model exhibits sensitivity to certain data characteristics. Imbalances in the labeled data can lead to biased outcomes, while outliers can disproportionately affect its performance. Such issues necessitate careful data preprocessing and balancing to ensure the integrity and reliability of the model’s predictions. In scenarios where data imbalances or outliers are prevalent, Logistic Regression may require additional attention to mitigate these influences.\n",
    "\n",
    "#### Fitting the Model\n",
    "The initial step involved fitting the model with the training segment of our dataset. Here, *y* represents our labels (`IsSpam`), while *X* denotes our `EmailContent`, transformed into vectorized form as embeddings. This process is fundamental in preparing the model for effective spam detection.\n",
    "\n",
    "#### Evaluating Model Accuracy\n",
    "Following the model fitting, we employed the [`.score()`](https://scikit-learn.org/stable/modules/generated/sklearn.linear_model.LogisticRegression.html#sklearn.linear_model.LogisticRegression.score) method to ascertain the accuracy of the model. The computed accuracy score stood at `0.9895593037538573`, indicating a remarkable 99% accuracy rate and a mere 1% inaccuracy. Despite this high level of accuracy, our evaluation extends beyond this metric to thoroughly assess the model's overall effectiveness in spam detection. This comprehensive analysis is crucial to ensure that the model is not only accurate but also reliable and robust in diverse scenarios.\n",
    "\n",
    "* ***Advantage:*** This score is a quick and easy way to get an initial assessment of overall model performance without writing additional code to perform custom metrics for evaluation.\n",
    "* ***Disadvantage:*** Like of insight or customization to get in-depth insights into models ability to accurately predict.\n",
    "\n",
    "### Evaluating Model Prediction Accuracy \n",
    "##### (Accuracy Classification Score)\n",
    "\n",
    "Next, we will proceed to evaluate the model's predictive capabilities, specifically its proficiency in accurately classifying email content as either SPAM or Not SPAM (HAM). The initial step involves utilizing the [`.predict()`](https://scikit-learn.org/stable/modules/generated/sklearn.linear_model.LogisticRegression.html#sklearn.linear_model.LogisticRegression.predict) function of the fitted model. This function will generate prediction labels (SPAM(1)/HAM(0)) based on the test dataset's `EmailContent` embeddings.\n",
    "\n",
    "Following this, we will apply Scikit-Learn's metrics package, particularly the [`accuracy_score`](https://scikit-learn.org/stable/modules/generated/sklearn.metrics.accuracy_score.html) function. This function facilitates a comparison between the predicted labels obtained from `.predict()` and the actual labels from the test dataset, thereby yielding an accuracy score. For our current fitted model, this score was calculated to be `0.9826842420611145`, which translates to a 98% accuracy and a 2% inaccuracy ratio. This step is crucial for a comprehensive understanding of the model's performance in real-world scenarios.\n",
    "\n",
    "* ***Advantage:***\n",
    "  * `.predict()` - Directly gain predictions based on your classes, i.e *SPAM/HAM*\n",
    "  * `accuracy_score()` - Easy to understand metric with regards to classification prediction.\n",
    "* ***Disadvantage:*** \n",
    "  * `.predict()` - Does not give insight into model flaws.\n",
    "  * `accuracy_score()` - Is very sensitive to unbalanced datasets.\n",
    "\n",
    "### ROC AUC Score Performance Assessment\n",
    "##### (Receiver Operator Characteristics & Area Under the Curve)\n",
    "\n",
    "Utilizing the [`roc_curve`](https://scikit-learn.org/stable/modules/generated/sklearn.metrics.roc_curve.html) and [`roc_auc_score`](https://scikit-learn.org/stable/modules/generated/sklearn.metrics.roc_auc_score.html) functions from the Scikit-Learn metrics package, we will conduct a thorough evaluation of our fitted model's capability to accurately differentiate between the two classes, SPAM (1) and HAM (0), using the `EmailContent` Embedding as input. The process begins with the application of the `roc_curve` function, which involves the comparison of the y_labels from the test dataset against the predicted y_labels. This comparison yields the false positive and true positive rates, which can be graphically represented to visually assess the model's classification performance.\n",
    "\n",
    "Subsequently, the `roc_auc_score` function is employed to quantitatively measure the model's predictive accuracy. This measurement categorizes the model's performance into one of four distinct levels: always predicting the opposite class, performing no better than random guessing, outperforming random guessing, and achieving perfect classification predictions. In our case, the AUC score was recorded as `0.9821508589186757` (98.22%), indicating a performance level that significantly surpasses random guessing but falls just short of perfect prediction in distinguishing between the SPAM and HAM classes. This high AUC score is indicative of the model's strong discriminative ability in this specific context.\n",
    "\n",
    "* ***Advantage:***\n",
    "  * `roc_curve()` \\ `roc_auc_score()` - great for visually comparing performance of multiple models.\n",
    "* ***Disadvantage:***\n",
    "  * `roc_curve()` \\ * `roc_auc_score()` - Limited to binary classifications\n",
    "\n",
    "### Predictions Classification Report\n",
    "\n",
    "To get a bit more into the details of evaluating the model we'll use the\n",
    "[`classification_report()`](https://scikit-learn.org/stable/modules/generated/sklearn.metrics.classification_report.html) function. This will provide us details in a few categories such as precision, recall, f1-score, support and some averages.\n",
    "\n",
    "1. **Precision:** the ratio of correcly predicted classifications of SPAM (1) or HAM(0).\n",
    "2. **Recall:** the percentage of correctly predicted classifications aka the true positive percentage. This can be highly important in areas were missing a classification has big ramifications such as cancer diagnosis for example.\n",
    "3. **F1-Score:** This is a merging of *Precision* and *Recall*, providing a balanced view between the two.\n",
    "4. **Support:** is the total count in the dataset that fall into each classification. In SPAM detection these two classificaitons are SPAM(1) and HAM(0).\n",
    "\n",
    "##### Classification Report Results:\n",
    "\n",
    "|              | precision | recall | f1-score | support |\n",
    "|--------------|-----------|--------|----------|---------|\n",
    "| 0            | 0.99      | 0.97   | 0.98     | 7952    |\n",
    "| 1            | 0.97      | 0.99   | 0.98     | 8738    |\n",
    "|              |           |        |          |         |\n",
    "| accuracy     |           |        | 0.98     | 16690   |\n",
    "| macro avg    | 0.98      | 0.98   | 0.98     | 16690   |\n",
    "| weighted avg | 0.98      | 0.98   | 0.98     | 16690   |\n",
    "\n",
    "\n",
    "##### Classification Summary of Values:\n",
    "\n",
    "**Class 0 (HAM '0')**\n",
    "\n",
    "* **Precision:** 99% (Of all items labeled as '0', 99% were correct)\n",
    "* **Recall:** 97% (Of all actual '0' items, 97% were correctly identified)\n",
    "* **F1-Score:** 98% (A balance between precision and recall for '0')\n",
    "* **Support:** 7,952 (Total number of actual instances of '0' in the dataset)\n",
    "\n",
    "**Class 1 (SPAM '1')**\n",
    "\n",
    "* **Precision:** 97% (Of all items labeled as '1', 97% were correct)\n",
    "* **Recall:** 99% (Of all actual '1' items, 99% were correctly identified)\n",
    "* **F1-Score:** 98% (A balance between precision and recall for '1')\n",
    "* **Support:** 8,738 (Total number of actual instances of '1' in the dataset)\n",
    "\n",
    "**Overall Model Performance**\n",
    "\n",
    "Accuracy: 98% (Overall, the model correctly identified 98% of both classes)\n",
    "Macro Average: 98% (The average performance of the model across both classes, treating each class equally)\n",
    "Weighted Average: 98% (The average performance, but with importance weighted based on the support of each class)\n",
    "\n",
    "* ***Advantage:*** Breaks down scores on a per class basis.\n",
    "* ***Disadvantage:*** Is strictly used for binary classifications."
   ],
   "metadata": {
    "collapsed": false
   },
   "id": "77ae9f62ec37c8f0"
  },
  {
   "cell_type": "code",
   "execution_count": 39,
   "outputs": [],
   "source": [
    "'''\n",
    "Analytics Custom Functions\n",
    "'''\n",
    "\n",
    "def binary_percentage_pie_chart(percentages: List[float], labels: List[str], title: str) -> None:\n",
    "    \"\"\"\n",
    "    :param percentages: Binary Percentages\n",
    "    :type percentages: List[float]\n",
    "    \n",
    "    :param labels: Binary Percentages Labels\n",
    "    :type labels: List[str]\n",
    "    \n",
    "    :param title: Title for the chart\n",
    "    :type title: str\n",
    "    \n",
    "    :return: None\n",
    "    \"\"\"\n",
    "    plt.pie(percentages\n",
    "            ,labels=labels #chart labels\n",
    "            ,explode=(.1, 0) #Make pie piece stick out\n",
    "            ,autopct='%1.1f%%' #Add percentage labels to chart\n",
    "            ,colors=['lightgreen', 'green']\n",
    "            ,textprops={ 'color': 'black', 'weight': 'bold' }\n",
    "            )\n",
    "    plt.title(title)\n",
    "    plt.axis('equal')\n",
    "    plt.show()\n",
    "\n",
    "def confusion_matrix_user_friendly(matrix: np.ndarray) -> str:\n",
    "    \"\"\"\n",
    "    :param matrix: Confusion Matrix Data\n",
    "    :type matrix: List[List[int]]\n",
    "     \n",
    "    :return: None\n",
    "    \"\"\"\n",
    "\n",
    "    display_friendly = f'''\n",
    "    True-Negatives: {matrix[0][0]}\n",
    "    False-Positives: {matrix[0][1]}\n",
    "    False-Negative: {matrix[1][0]}\n",
    "    True-Positives: {matrix[1][1]}\n",
    "    '''\n",
    "    return display_friendly\n",
    "\n",
    "def get_probabilities_by_threshold(probabilities: np.ndarray, threshold: float = .6) -> dict:\n",
    "    \"\"\"  \n",
    "    :param probabilities: Labeled probabilities (0 - HAM, 1 - SPAM)\n",
    "    :type probabilities: np.ndarray \n",
    "    \n",
    "    :param threshold: Threshold that is considered low-confidence\n",
    "    :type threshold: float, defaults to .6 (60%)\n",
    "    \n",
    "    :return: Dictionary of low-confidence \n",
    "    \"\"\"\n",
    "    \n",
    "    low_confidence_values = dict()\n",
    "    for current, (ham_prob, spam_prob) in enumerate(probabilities):\n",
    "        biggest_probability = max(ham_prob, spam_prob)\n",
    "        if biggest_probability < threshold:\n",
    "            low_confidence_values[current] = f'HAM(0): {ham_prob} | SPAM(1): {spam_prob}'\n",
    "            \n",
    "    return low_confidence_values"
   ],
   "metadata": {
    "collapsed": false,
    "ExecuteTime": {
     "end_time": "2023-12-06T21:37:25.084151700Z",
     "start_time": "2023-12-06T21:37:25.078128100Z"
    }
   },
   "id": "57ae4eac8d8cf8dd"
  },
  {
   "cell_type": "code",
   "execution_count": 40,
   "outputs": [],
   "source": [
    "'''\n",
    "Fitting the Model\n",
    "'''\n",
    "model = LogisticRegression(solver='lbfgs', max_iter=100)\n",
    "trained_model = model.fit(X_train_emails_embeddings, y_train_labels)"
   ],
   "metadata": {
    "collapsed": false,
    "ExecuteTime": {
     "end_time": "2023-12-06T21:37:28.778366600Z",
     "start_time": "2023-12-06T21:37:25.084151700Z"
    }
   },
   "id": "1bbc64d3c2623c8c"
  },
  {
   "cell_type": "code",
   "execution_count": 41,
   "outputs": [
    {
     "name": "stdout",
     "output_type": "stream",
     "text": [
      "Model Accuracy: 0.9895593037538573\n"
     ]
    },
    {
     "data": {
      "text/plain": "<Figure size 640x480 with 1 Axes>",
      "image/png": "[encoded data removed]"
     },
     "metadata": {},
     "output_type": "display_data"
    }
   ],
   "source": [
    "'''\n",
    "Model Evaluation\n",
    "\n",
    "Evaluate how accurate the model is.\n",
    "'''\n",
    "model_accuracy = trained_model.score(X_train_emails_embeddings, y_train_labels)\n",
    "model_inaccuracy = 1.0 - model_accuracy\n",
    "\n",
    "print(f'Model Accuracy: {model_accuracy}')\n",
    "\n",
    "model_accuracy_percentages = [model_accuracy, model_inaccuracy]\n",
    "model_accuracy_labels = ['Accurate', 'Inaccurate']\n",
    "\n",
    "binary_percentage_pie_chart(model_accuracy_percentages, model_accuracy_labels, 'Model Accuracy')"
   ],
   "metadata": {
    "collapsed": false,
    "ExecuteTime": {
     "end_time": "2023-12-06T21:37:28.841686900Z",
     "start_time": "2023-12-06T21:37:28.779367400Z"
    }
   },
   "id": "163d0e03665a2407"
  },
  {
   "cell_type": "code",
   "execution_count": 42,
   "outputs": [],
   "source": [
    "'''\n",
    "Making Predictions\n",
    "'''\n",
    "\n",
    "y_label_predictions = trained_model.predict(X_test_emails_embeddings)"
   ],
   "metadata": {
    "collapsed": false,
    "ExecuteTime": {
     "end_time": "2023-12-06T21:37:28.851786500Z",
     "start_time": "2023-12-06T21:37:28.843205Z"
    }
   },
   "id": "a348473baed490a5"
  },
  {
   "cell_type": "code",
   "execution_count": 43,
   "outputs": [
    {
     "name": "stdout",
     "output_type": "stream",
     "text": [
      "Model Prediction Accuracy 0.9826842420611145\n"
     ]
    },
    {
     "data": {
      "text/plain": "<Figure size 640x480 with 1 Axes>",
      "image/png": "[encoded data removed]"
     },
     "metadata": {},
     "output_type": "display_data"
    }
   ],
   "source": [
    "'''\n",
    "Predictions Accuracy\n",
    "'''\n",
    "\n",
    "spam_prediction_accuracy = accuracy_score(y_test_labels, y_label_predictions)\n",
    "spam_prediction_inaccuracy = 1.0 - spam_prediction_accuracy\n",
    "\n",
    "print(f'Model Prediction Accuracy {spam_prediction_accuracy}')\n",
    "\n",
    "spam_prediction_accuracy_percentages = [spam_prediction_accuracy, spam_prediction_inaccuracy]\n",
    "spam_predictions_accuracy_labels = ['Prediction Accuracy', 'Prediction Inaccuracy']\n",
    "\n",
    "binary_percentage_pie_chart(spam_prediction_accuracy_percentages, spam_predictions_accuracy_labels, 'Prediction Accuracy Results')"
   ],
   "metadata": {
    "collapsed": false,
    "ExecuteTime": {
     "end_time": "2023-12-06T21:37:28.903496100Z",
     "start_time": "2023-12-06T21:37:28.853120400Z"
    }
   },
   "id": "a09e8c447faf3e20"
  },
  {
   "cell_type": "code",
   "execution_count": 44,
   "outputs": [
    {
     "data": {
      "text/plain": "<Figure size 640x480 with 1 Axes>",
      "image/png": "[encoded data removed]"
     },
     "metadata": {},
     "output_type": "display_data"
    }
   ],
   "source": [
    "'''\n",
    "Receiver Operator Characteristic (ROC) Curve & Score, Performance Assessment\n",
    "'''\n",
    "\n",
    "# Plotting ROC\n",
    "false_positive_rate, true_positive_rate, _ = roc_curve(y_test_labels, y_label_predictions)\n",
    "plt.plot([0,1], [0,1], 'k--')\n",
    "plt.plot(false_positive_rate, true_positive_rate, label='Logistic Regression')\n",
    "plt.xlabel('False Positive Rate')\n",
    "plt.ylabel('True Positive Rate')\n",
    "plt.title('Logistical Regression ROC Curve')\n",
    "plt.show()"
   ],
   "metadata": {
    "collapsed": false,
    "ExecuteTime": {
     "end_time": "2023-12-06T21:37:28.996331300Z",
     "start_time": "2023-12-06T21:37:28.902991100Z"
    }
   },
   "id": "ad789e670c611369"
  },
  {
   "cell_type": "code",
   "execution_count": 45,
   "outputs": [
    {
     "name": "stdout",
     "output_type": "stream",
     "text": [
      "AUC (Area Under the Curve) Score: 0.9821508589186757 (98.22)\n",
      "Fitted model predicts better than random guessing.\n"
     ]
    }
   ],
   "source": [
    "'''\n",
    "Area Under the Curve\n",
    "'''\n",
    "log_roc_auc_score = roc_auc_score(y_true=y_test_labels, y_score=y_label_predictions)\n",
    "print(f'AUC (Area Under the Curve) Score: {log_roc_auc_score} ({round(log_roc_auc_score * 100, 2)})')\n",
    "\n",
    "if log_roc_auc_score == .0:\n",
    "    print('Fitted model predicts opposite classification.')\n",
    "elif .0 < log_roc_auc_score < .5:\n",
    "    print('Fitted model predicts no better than random guessing.')\n",
    "elif .5 < log_roc_auc_score < .99:\n",
    "    print('Fitted model predicts better than random guessing.')\n",
    "else:\n",
    "    print('Fitted model perfectly predicts classifications.')\n",
    "\n"
   ],
   "metadata": {
    "collapsed": false,
    "ExecuteTime": {
     "end_time": "2023-12-06T21:37:29.003174500Z",
     "start_time": "2023-12-06T21:37:28.993326900Z"
    }
   },
   "id": "9c495b0db66dcd5f"
  },
  {
   "cell_type": "code",
   "execution_count": 46,
   "outputs": [
    {
     "name": "stdout",
     "output_type": "stream",
     "text": [
      "              precision    recall  f1-score   support\n",
      "\n",
      "           0       0.99      0.97      0.98      7952\n",
      "           1       0.97      0.99      0.98      8738\n",
      "\n",
      "    accuracy                           0.98     16690\n",
      "   macro avg       0.98      0.98      0.98     16690\n",
      "weighted avg       0.98      0.98      0.98     16690\n"
     ]
    }
   ],
   "source": [
    "'''\n",
    "Predictions Classification Report\n",
    "'''\n",
    "spam_classification_report = classification_report(y_test_labels, y_label_predictions)\n",
    "\n",
    "print(spam_classification_report)"
   ],
   "metadata": {
    "collapsed": false,
    "ExecuteTime": {
     "end_time": "2023-12-06T21:37:29.058767200Z",
     "start_time": "2023-12-06T21:37:29.000589700Z"
    }
   },
   "id": "318db92247fe48e8"
  },
  {
   "cell_type": "code",
   "execution_count": 47,
   "outputs": [
    {
     "name": "stdout",
     "output_type": "stream",
     "text": [
      "\n",
      "Total Test Values: 16690\n",
      "Mean Squared Error (MSE): 0.01731575793888556 (1.73 %)\n",
      "   -Squared difference between the predicted value and the actual value\n",
      "Root Mean Squared Error (RMSE): 0.13158935344048758 (13.16%)\n",
      "   -Average error per prediction\n"
     ]
    }
   ],
   "source": [
    "'''\n",
    "Predictions Mean Squared Error (MSE) | Root Mean Squared Error (RMSE) Results\n",
    "'''\n",
    "\n",
    "mse = mean_squared_error(y_test_labels, y_label_predictions)\n",
    "rmse = math.sqrt(mse)\n",
    "\n",
    "error_results_display = f'''\n",
    "Total Test Values: {len(y_test_labels)}\n",
    "Mean Squared Error (MSE): {mse} ({round(mse * 100, 2)} %)\n",
    "   -Squared difference between the predicted value and the actual value\n",
    "Root Mean Squared Error (RMSE): {rmse} ({round(rmse * 100 ,2)}%)\n",
    "   -Average error per prediction\n",
    "'''\n",
    "\n",
    "print(error_results_display)"
   ],
   "metadata": {
    "collapsed": false,
    "ExecuteTime": {
     "end_time": "2023-12-06T21:37:29.059768100Z",
     "start_time": "2023-12-06T21:37:29.021809400Z"
    }
   },
   "id": "ad63ee551db4637b"
  },
  {
   "cell_type": "code",
   "execution_count": 48,
   "outputs": [
    {
     "name": "stdout",
     "output_type": "stream",
     "text": [
      "[[7720  232]\n",
      " [  57 8681]]\n",
      "\n",
      "    True-Negatives: 7720\n",
      "    False-Positives: 232\n",
      "    False-Negative: 57\n",
      "    True-Positives: 8681\n",
      "    \n"
     ]
    }
   ],
   "source": [
    "'''\n",
    "Predictions Confusion Matrix\n",
    "'''\n",
    "\n",
    "spam_prediction_confusion_matrix = confusion_matrix(y_test_labels, y_label_predictions)\n",
    "\n",
    "print(spam_prediction_confusion_matrix)\n",
    "\n",
    "spcm_display = confusion_matrix_user_friendly(spam_prediction_confusion_matrix)\n",
    "\n",
    "print(spcm_display)\n",
    "\n"
   ],
   "metadata": {
    "collapsed": false,
    "ExecuteTime": {
     "end_time": "2023-12-06T21:37:29.060845800Z",
     "start_time": "2023-12-06T21:37:29.026273900Z"
    }
   },
   "id": "5258cb581e6e4f77"
  },
  {
   "cell_type": "code",
   "execution_count": 49,
   "outputs": [
    {
     "data": {
      "text/plain": "<Figure size 1600x800 with 2 Axes>",
      "image/png": "[encoded data removed]"
     },
     "metadata": {},
     "output_type": "display_data"
    }
   ],
   "source": [
    "'''\n",
    "Heat Map of Predictions Confusion Matrix\n",
    "'''\n",
    "plt.figure(figsize=(16,8))\n",
    "sns.heatmap(spam_prediction_confusion_matrix, annot=True, fmt='g', cmap='Greens')\n",
    "plt.xlabel('Predicted IsSpam Labels')\n",
    "plt.ylabel('True Labels')\n",
    "plt.title('SPAM Detection Confusion Matrix')\n",
    "\n",
    "plt.show()"
   ],
   "metadata": {
    "collapsed": false,
    "ExecuteTime": {
     "end_time": "2023-12-06T21:37:29.150676900Z",
     "start_time": "2023-12-06T21:37:29.034657500Z"
    }
   },
   "id": "d8ee0fb4f7d06b3c"
  },
  {
   "cell_type": "code",
   "execution_count": 50,
   "outputs": [
    {
     "name": "stdout",
     "output_type": "stream",
     "text": [
      "Percentage of Low-Probabilities using test email embeddings is 1.62%\n"
     ]
    }
   ],
   "source": [
    "'''\n",
    "Probability Estimates\n",
    "'''\n",
    "\n",
    "spam_probabilities = trained_model.predict_proba(X_test_emails_embeddings)\n",
    "\n",
    "low_confidence_results = get_probabilities_by_threshold(spam_probabilities)\n",
    "\n",
    "low_confidence_percentage = len(low_confidence_results) / len(spam_probabilities)\n",
    "print(f'Percentage of Low-Probabilities using test email embeddings is {round(low_confidence_percentage * 100, 2)}%')"
   ],
   "metadata": {
    "collapsed": false,
    "ExecuteTime": {
     "end_time": "2023-12-06T21:37:29.169185700Z",
     "start_time": "2023-12-06T21:37:29.151677500Z"
    }
   },
   "id": "2bc1c9cde5ca6a75"
  },
  {
   "cell_type": "code",
   "execution_count": 51,
   "outputs": [
    {
     "name": "stdout",
     "output_type": "stream",
     "text": [
      "{   88: 'HAM(0): 0.4286285842008236 | SPAM(1): 0.5713714157991764',\n",
      "    107: 'HAM(0): 0.5737335942310544 | SPAM(1): 0.42626640576894553',\n",
      "    118: 'HAM(0): 0.5128623552023287 | SPAM(1): 0.4871376447976713',\n",
      "    172: 'HAM(0): 0.42407133122441254 | SPAM(1): 0.5759286687755875',\n",
      "    255: 'HAM(0): 0.42448482606722593 | SPAM(1): 0.5755151739327741',\n",
      "    361: 'HAM(0): 0.4303811868641141 | SPAM(1): 0.5696188131358859',\n",
      "    431: 'HAM(0): 0.5632771616240112 | SPAM(1): 0.4367228383759888',\n",
      "    476: 'HAM(0): 0.5875574739560047 | SPAM(1): 0.41244252604399534',\n",
      "    481: 'HAM(0): 0.47757835849960295 | SPAM(1): 0.522421641500397',\n",
      "    505: 'HAM(0): 0.5798584481198239 | SPAM(1): 0.4201415518801761',\n",
      "    578: 'HAM(0): 0.5370724570786474 | SPAM(1): 0.4629275429213526',\n",
      "    587: 'HAM(0): 0.5307697444155721 | SPAM(1): 0.46923025558442794',\n",
      "    622: 'HAM(0): 0.45587963717333435 | SPAM(1): 0.5441203628266656',\n",
      "    747: 'HAM(0): 0.5548812415221356 | SPAM(1): 0.44511875847786436',\n",
      "    783: 'HAM(0): 0.4003989111396721 | SPAM(1): 0.5996010888603279',\n",
      "    839: 'HAM(0): 0.41104661355097816 | SPAM(1): 0.5889533864490218',\n",
      "    851: 'HAM(0): 0.5031237211292199 | SPAM(1): 0.49687627887078006',\n",
      "    898: 'HAM(0): 0.47471616843973696 | SPAM(1): 0.525283831560263',\n",
      "    994: 'HAM(0): 0.4911748363876637 | SPAM(1): 0.5088251636123363',\n",
      "    1014: 'HAM(0): 0.45640119203250484 | SPAM(1): 0.5435988079674952',\n",
      "    1099: 'HAM(0): 0.4739457097084616 | SPAM(1): 0.5260542902915384',\n",
      "    1129: 'HAM(0): 0.4107384001820892 | SPAM(1): 0.5892615998179108',\n",
      "    1137: 'HAM(0): 0.5447832109905761 | SPAM(1): 0.4552167890094238',\n",
      "    1183: 'HAM(0): 0.4012532398359153 | SPAM(1): 0.5987467601640847',\n",
      "    1208: 'HAM(0): 0.49775740519440137 | SPAM(1): 0.5022425948055986',\n",
      "    1351: 'HAM(0): 0.4836225664549787 | SPAM(1): 0.5163774335450213',\n",
      "    1360: 'HAM(0): 0.5161809309949965 | SPAM(1): 0.48381906900500343',\n",
      "    1372: 'HAM(0): 0.5140221900326327 | SPAM(1): 0.48597780996736734',\n",
      "    1465: 'HAM(0): 0.5188522198167971 | SPAM(1): 0.4811477801832029',\n",
      "    1500: 'HAM(0): 0.42479519580407366 | SPAM(1): 0.5752048041959263',\n",
      "    1680: 'HAM(0): 0.5187501108617929 | SPAM(1): 0.4812498891382071',\n",
      "    1891: 'HAM(0): 0.4802370755470098 | SPAM(1): 0.5197629244529902',\n",
      "    1897: 'HAM(0): 0.49005242477188093 | SPAM(1): 0.5099475752281191',\n",
      "    1927: 'HAM(0): 0.5494625407879641 | SPAM(1): 0.4505374592120359',\n",
      "    1976: 'HAM(0): 0.5665242952926202 | SPAM(1): 0.43347570470737984',\n",
      "    2010: 'HAM(0): 0.4950271288658047 | SPAM(1): 0.5049728711341953',\n",
      "    2060: 'HAM(0): 0.4132641956720806 | SPAM(1): 0.5867358043279194',\n",
      "    2067: 'HAM(0): 0.5875734208479328 | SPAM(1): 0.4124265791520671',\n",
      "    2075: 'HAM(0): 0.5656825155084986 | SPAM(1): 0.43431748449150137',\n",
      "    2089: 'HAM(0): 0.5927102532038013 | SPAM(1): 0.40728974679619867',\n",
      "    2176: 'HAM(0): 0.5720539550066353 | SPAM(1): 0.4279460449933647',\n",
      "    2218: 'HAM(0): 0.4679409062553149 | SPAM(1): 0.5320590937446851',\n",
      "    2229: 'HAM(0): 0.5745633161126873 | SPAM(1): 0.42543668388731265',\n",
      "    2238: 'HAM(0): 0.5957966325758145 | SPAM(1): 0.4042033674241855',\n",
      "    2462: 'HAM(0): 0.42747561192156946 | SPAM(1): 0.5725243880784305',\n",
      "    2553: 'HAM(0): 0.42548233284256953 | SPAM(1): 0.5745176671574305',\n",
      "    2597: 'HAM(0): 0.599790628542089 | SPAM(1): 0.400209371457911',\n",
      "    2641: 'HAM(0): 0.4105831859844298 | SPAM(1): 0.5894168140155702',\n",
      "    2657: 'HAM(0): 0.5076587780043929 | SPAM(1): 0.49234122199560715',\n",
      "    2658: 'HAM(0): 0.4823913749885551 | SPAM(1): 0.5176086250114449',\n",
      "    2677: 'HAM(0): 0.45689015790275045 | SPAM(1): 0.5431098420972496',\n",
      "    2768: 'HAM(0): 0.4581026831598679 | SPAM(1): 0.5418973168401321',\n",
      "    2802: 'HAM(0): 0.5643236865907668 | SPAM(1): 0.43567631340923313',\n",
      "    2828: 'HAM(0): 0.43583325150416785 | SPAM(1): 0.5641667484958321',\n",
      "    2908: 'HAM(0): 0.5027325870267578 | SPAM(1): 0.49726741297324223',\n",
      "    2966: 'HAM(0): 0.581491014501053 | SPAM(1): 0.41850898549894694',\n",
      "    3067: 'HAM(0): 0.4346234497321444 | SPAM(1): 0.5653765502678556',\n",
      "    3226: 'HAM(0): 0.5720858089574343 | SPAM(1): 0.4279141910425657',\n",
      "    3314: 'HAM(0): 0.5133752395404083 | SPAM(1): 0.48662476045959163',\n",
      "    3414: 'HAM(0): 0.42011043312962093 | SPAM(1): 0.5798895668703791',\n",
      "    3519: 'HAM(0): 0.5653173167170115 | SPAM(1): 0.43468268328298854',\n",
      "    3594: 'HAM(0): 0.5947617505138904 | SPAM(1): 0.40523824948610965',\n",
      "    3600: 'HAM(0): 0.5660472685220069 | SPAM(1): 0.43395273147799307',\n",
      "    3782: 'HAM(0): 0.40732052667453666 | SPAM(1): 0.5926794733254633',\n",
      "    3947: 'HAM(0): 0.48456638896243975 | SPAM(1): 0.5154336110375602',\n",
      "    4029: 'HAM(0): 0.44656925725633956 | SPAM(1): 0.5534307427436604',\n",
      "    4040: 'HAM(0): 0.5032304985524831 | SPAM(1): 0.4967695014475169',\n",
      "    4046: 'HAM(0): 0.4197045389254447 | SPAM(1): 0.5802954610745553',\n",
      "    4084: 'HAM(0): 0.458200082782806 | SPAM(1): 0.541799917217194',\n",
      "    4153: 'HAM(0): 0.5102189036448872 | SPAM(1): 0.48978109635511285',\n",
      "    4165: 'HAM(0): 0.5083413926746905 | SPAM(1): 0.49165860732530947',\n",
      "    4233: 'HAM(0): 0.47346903416742714 | SPAM(1): 0.5265309658325729',\n",
      "    4303: 'HAM(0): 0.5804553004098977 | SPAM(1): 0.4195446995901023',\n",
      "    4372: 'HAM(0): 0.4779297652795854 | SPAM(1): 0.5220702347204146',\n",
      "    4400: 'HAM(0): 0.4096124843778831 | SPAM(1): 0.5903875156221169',\n",
      "    4448: 'HAM(0): 0.47288045290975145 | SPAM(1): 0.5271195470902486',\n",
      "    4471: 'HAM(0): 0.46490015140474017 | SPAM(1): 0.5350998485952598',\n",
      "    4474: 'HAM(0): 0.5915400917023221 | SPAM(1): 0.4084599082976778',\n",
      "    4492: 'HAM(0): 0.41262824843358914 | SPAM(1): 0.5873717515664109',\n",
      "    4500: 'HAM(0): 0.47676985720062903 | SPAM(1): 0.523230142799371',\n",
      "    4501: 'HAM(0): 0.4253323180574644 | SPAM(1): 0.5746676819425356',\n",
      "    4610: 'HAM(0): 0.4136657544558706 | SPAM(1): 0.5863342455441294',\n",
      "    4859: 'HAM(0): 0.40654252600791574 | SPAM(1): 0.5934574739920843',\n",
      "    4880: 'HAM(0): 0.42388959327792586 | SPAM(1): 0.5761104067220741',\n",
      "    4897: 'HAM(0): 0.40341192763313616 | SPAM(1): 0.5965880723668638',\n",
      "    4939: 'HAM(0): 0.575511391671075 | SPAM(1): 0.42448860832892493',\n",
      "    4970: 'HAM(0): 0.5369721563077046 | SPAM(1): 0.46302784369229544',\n",
      "    5096: 'HAM(0): 0.4208346858428923 | SPAM(1): 0.5791653141571077',\n",
      "    5100: 'HAM(0): 0.42903104715953444 | SPAM(1): 0.5709689528404656',\n",
      "    5145: 'HAM(0): 0.48075203293298896 | SPAM(1): 0.519247967067011',\n",
      "    5154: 'HAM(0): 0.556826987641382 | SPAM(1): 0.4431730123586179',\n",
      "    5172: 'HAM(0): 0.590846578982968 | SPAM(1): 0.40915342101703206',\n",
      "    5270: 'HAM(0): 0.5838056394369426 | SPAM(1): 0.41619436056305736',\n",
      "    5402: 'HAM(0): 0.517763562380243 | SPAM(1): 0.48223643761975693',\n",
      "    5568: 'HAM(0): 0.40329817565448467 | SPAM(1): 0.5967018243455153',\n",
      "    5585: 'HAM(0): 0.5645602288806828 | SPAM(1): 0.4354397711193172',\n",
      "    5702: 'HAM(0): 0.4223026404396817 | SPAM(1): 0.5776973595603183',\n",
      "    5999: 'HAM(0): 0.46485661256603117 | SPAM(1): 0.5351433874339688',\n",
      "    6014: 'HAM(0): 0.5179247682880272 | SPAM(1): 0.48207523171197275',\n",
      "    6073: 'HAM(0): 0.4933942557547193 | SPAM(1): 0.5066057442452807',\n",
      "    6142: 'HAM(0): 0.45775585735310087 | SPAM(1): 0.5422441426468991',\n",
      "    6220: 'HAM(0): 0.49636602114843353 | SPAM(1): 0.5036339788515665',\n",
      "    6240: 'HAM(0): 0.4268509059423826 | SPAM(1): 0.5731490940576174',\n",
      "    6315: 'HAM(0): 0.5083285492810945 | SPAM(1): 0.49167145071890545',\n",
      "    6405: 'HAM(0): 0.4794581051567791 | SPAM(1): 0.5205418948432209',\n",
      "    6416: 'HAM(0): 0.5249378706933318 | SPAM(1): 0.47506212930666825',\n",
      "    6473: 'HAM(0): 0.42640545642331984 | SPAM(1): 0.5735945435766802',\n",
      "    6546: 'HAM(0): 0.4966311333317026 | SPAM(1): 0.5033688666682974',\n",
      "    6577: 'HAM(0): 0.4212143684141938 | SPAM(1): 0.5787856315858062',\n",
      "    6889: 'HAM(0): 0.4919970588347725 | SPAM(1): 0.5080029411652275',\n",
      "    7022: 'HAM(0): 0.560840139904482 | SPAM(1): 0.43915986009551794',\n",
      "    7054: 'HAM(0): 0.5207980463879082 | SPAM(1): 0.47920195361209184',\n",
      "    7098: 'HAM(0): 0.41789869132696167 | SPAM(1): 0.5821013086730383',\n",
      "    7110: 'HAM(0): 0.5624800342651188 | SPAM(1): 0.4375199657348812',\n",
      "    7330: 'HAM(0): 0.5395231135997625 | SPAM(1): 0.4604768864002376',\n",
      "    7333: 'HAM(0): 0.5947214033919863 | SPAM(1): 0.4052785966080137',\n",
      "    7351: 'HAM(0): 0.4774903725009718 | SPAM(1): 0.5225096274990282',\n",
      "    7405: 'HAM(0): 0.5793476057207136 | SPAM(1): 0.42065239427928636',\n",
      "    7423: 'HAM(0): 0.589417428484523 | SPAM(1): 0.4105825715154769',\n",
      "    7426: 'HAM(0): 0.5465207498335378 | SPAM(1): 0.4534792501664621',\n",
      "    7438: 'HAM(0): 0.5897760845656168 | SPAM(1): 0.41022391543438325',\n",
      "    7446: 'HAM(0): 0.48453084150421244 | SPAM(1): 0.5154691584957876',\n",
      "    7523: 'HAM(0): 0.4544602303917138 | SPAM(1): 0.5455397696082862',\n",
      "    7592: 'HAM(0): 0.5127240220588098 | SPAM(1): 0.4872759779411901',\n",
      "    7605: 'HAM(0): 0.4226544992296982 | SPAM(1): 0.5773455007703018',\n",
      "    7756: 'HAM(0): 0.43221552877416525 | SPAM(1): 0.5677844712258348',\n",
      "    7757: 'HAM(0): 0.4079788429723238 | SPAM(1): 0.5920211570276762',\n",
      "    7760: 'HAM(0): 0.5352452785879684 | SPAM(1): 0.4647547214120315',\n",
      "    8185: 'HAM(0): 0.5603307180257484 | SPAM(1): 0.43966928197425165',\n",
      "    8206: 'HAM(0): 0.5635193353716623 | SPAM(1): 0.4364806646283376',\n",
      "    8221: 'HAM(0): 0.5450140190823292 | SPAM(1): 0.4549859809176708',\n",
      "    8266: 'HAM(0): 0.5130102153196239 | SPAM(1): 0.48698978468037607',\n",
      "    8314: 'HAM(0): 0.5375952020785422 | SPAM(1): 0.4624047979214579',\n",
      "    8320: 'HAM(0): 0.48242665439281107 | SPAM(1): 0.5175733456071889',\n",
      "    8363: 'HAM(0): 0.568611589302128 | SPAM(1): 0.431388410697872',\n",
      "    8410: 'HAM(0): 0.4159439476667426 | SPAM(1): 0.5840560523332574',\n",
      "    8422: 'HAM(0): 0.42807938472254126 | SPAM(1): 0.5719206152774587',\n",
      "    8442: 'HAM(0): 0.5945122279095989 | SPAM(1): 0.40548777209040116',\n",
      "    8544: 'HAM(0): 0.46440323610283274 | SPAM(1): 0.5355967638971673',\n",
      "    8599: 'HAM(0): 0.560201802957375 | SPAM(1): 0.43979819704262507',\n",
      "    8635: 'HAM(0): 0.5166708023150041 | SPAM(1): 0.48332919768499594',\n",
      "    8644: 'HAM(0): 0.4936288345419969 | SPAM(1): 0.5063711654580031',\n",
      "    8663: 'HAM(0): 0.4479165773414695 | SPAM(1): 0.5520834226585305',\n",
      "    8671: 'HAM(0): 0.5611067849102691 | SPAM(1): 0.43889321508973084',\n",
      "    8676: 'HAM(0): 0.4968188214599326 | SPAM(1): 0.5031811785400674',\n",
      "    8864: 'HAM(0): 0.576047654923133 | SPAM(1): 0.4239523450768669',\n",
      "    8868: 'HAM(0): 0.4187718265720284 | SPAM(1): 0.5812281734279716',\n",
      "    8981: 'HAM(0): 0.44209504127269306 | SPAM(1): 0.5579049587273069',\n",
      "    8987: 'HAM(0): 0.5912273814281843 | SPAM(1): 0.40877261857181574',\n",
      "    9018: 'HAM(0): 0.4061810281624624 | SPAM(1): 0.5938189718375376',\n",
      "    9057: 'HAM(0): 0.5518926461026645 | SPAM(1): 0.4481073538973355',\n",
      "    9110: 'HAM(0): 0.5949167667617749 | SPAM(1): 0.40508323323822515',\n",
      "    9129: 'HAM(0): 0.43492098872500085 | SPAM(1): 0.5650790112749992',\n",
      "    9160: 'HAM(0): 0.41241452031384795 | SPAM(1): 0.587585479686152',\n",
      "    9180: 'HAM(0): 0.4058724235841643 | SPAM(1): 0.5941275764158357',\n",
      "    9196: 'HAM(0): 0.5835488463260541 | SPAM(1): 0.416451153673946',\n",
      "    9221: 'HAM(0): 0.4436628078611411 | SPAM(1): 0.5563371921388589',\n",
      "    9340: 'HAM(0): 0.5634046442554574 | SPAM(1): 0.4365953557445425',\n",
      "    9394: 'HAM(0): 0.5364941268519547 | SPAM(1): 0.46350587314804526',\n",
      "    9397: 'HAM(0): 0.450984981837492 | SPAM(1): 0.549015018162508',\n",
      "    9531: 'HAM(0): 0.4689223119569701 | SPAM(1): 0.5310776880430299',\n",
      "    9581: 'HAM(0): 0.45037100308859956 | SPAM(1): 0.5496289969114004',\n",
      "    9662: 'HAM(0): 0.5153701303993432 | SPAM(1): 0.48462986960065685',\n",
      "    9664: 'HAM(0): 0.5288925082817053 | SPAM(1): 0.47110749171829464',\n",
      "    9696: 'HAM(0): 0.5664020071294957 | SPAM(1): 0.4335979928705043',\n",
      "    9699: 'HAM(0): 0.5517708744018665 | SPAM(1): 0.44822912559813355',\n",
      "    9823: 'HAM(0): 0.5572362632516554 | SPAM(1): 0.4427637367483446',\n",
      "    10000: 'HAM(0): 0.4500224965996904 | SPAM(1): 0.5499775034003096',\n",
      "    10027: 'HAM(0): 0.5224707946130287 | SPAM(1): 0.4775292053869713',\n",
      "    10029: 'HAM(0): 0.4024499122858878 | SPAM(1): 0.5975500877141122',\n",
      "    10050: 'HAM(0): 0.5776287794499111 | SPAM(1): 0.42237122055008897',\n",
      "    10217: 'HAM(0): 0.41530904291553405 | SPAM(1): 0.584690957084466',\n",
      "    10320: 'HAM(0): 0.47985765500962396 | SPAM(1): 0.520142344990376',\n",
      "    10377: 'HAM(0): 0.5831020181949904 | SPAM(1): 0.41689798180500953',\n",
      "    10469: 'HAM(0): 0.5484242408668806 | SPAM(1): 0.4515757591331194',\n",
      "    10585: 'HAM(0): 0.44458765117932364 | SPAM(1): 0.5554123488206764',\n",
      "    10655: 'HAM(0): 0.5600865907570518 | SPAM(1): 0.43991340924294825',\n",
      "    10838: 'HAM(0): 0.42544834706647616 | SPAM(1): 0.5745516529335238',\n",
      "    10863: 'HAM(0): 0.5710040801117844 | SPAM(1): 0.42899591988821567',\n",
      "    10880: 'HAM(0): 0.5151994138279972 | SPAM(1): 0.4848005861720029',\n",
      "    10934: 'HAM(0): 0.4731905873981658 | SPAM(1): 0.5268094126018342',\n",
      "    10945: 'HAM(0): 0.4367846114524039 | SPAM(1): 0.5632153885475961',\n",
      "    11001: 'HAM(0): 0.5639046480235717 | SPAM(1): 0.4360953519764284',\n",
      "    11003: 'HAM(0): 0.5984929300246654 | SPAM(1): 0.4015070699753346',\n",
      "    11168: 'HAM(0): 0.4212049896459751 | SPAM(1): 0.5787950103540249',\n",
      "    11194: 'HAM(0): 0.590796072403351 | SPAM(1): 0.409203927596649',\n",
      "    11225: 'HAM(0): 0.45859867934426735 | SPAM(1): 0.5414013206557327',\n",
      "    11385: 'HAM(0): 0.5340816460431581 | SPAM(1): 0.46591835395684184',\n",
      "    11391: 'HAM(0): 0.597618495695742 | SPAM(1): 0.40238150430425795',\n",
      "    11438: 'HAM(0): 0.5043135383790043 | SPAM(1): 0.4956864616209957',\n",
      "    11474: 'HAM(0): 0.5421487670609666 | SPAM(1): 0.4578512329390334',\n",
      "    11492: 'HAM(0): 0.45910401974608084 | SPAM(1): 0.5408959802539192',\n",
      "    11521: 'HAM(0): 0.4435798058391759 | SPAM(1): 0.5564201941608241',\n",
      "    11524: 'HAM(0): 0.46891926086524494 | SPAM(1): 0.5310807391347551',\n",
      "    11649: 'HAM(0): 0.5491938040502206 | SPAM(1): 0.45080619594977944',\n",
      "    11694: 'HAM(0): 0.5565250839202206 | SPAM(1): 0.4434749160797794',\n",
      "    11762: 'HAM(0): 0.5978523285747468 | SPAM(1): 0.4021476714252532',\n",
      "    11767: 'HAM(0): 0.43959865232568207 | SPAM(1): 0.5604013476743179',\n",
      "    11777: 'HAM(0): 0.4024830867448589 | SPAM(1): 0.5975169132551411',\n",
      "    11819: 'HAM(0): 0.42608076597946587 | SPAM(1): 0.5739192340205341',\n",
      "    11832: 'HAM(0): 0.4697970459427673 | SPAM(1): 0.5302029540572327',\n",
      "    11932: 'HAM(0): 0.5398946810877603 | SPAM(1): 0.46010531891223966',\n",
      "    11939: 'HAM(0): 0.5617000958507052 | SPAM(1): 0.4382999041492947',\n",
      "    11967: 'HAM(0): 0.4576470705906791 | SPAM(1): 0.5423529294093209',\n",
      "    11984: 'HAM(0): 0.5640798515641268 | SPAM(1): 0.43592014843587323',\n",
      "    12110: 'HAM(0): 0.42224338494519975 | SPAM(1): 0.5777566150548002',\n",
      "    12277: 'HAM(0): 0.4435061807282792 | SPAM(1): 0.5564938192717208',\n",
      "    12399: 'HAM(0): 0.4159439476667426 | SPAM(1): 0.5840560523332574',\n",
      "    12582: 'HAM(0): 0.4965910454874226 | SPAM(1): 0.5034089545125774',\n",
      "    12622: 'HAM(0): 0.41216537837903966 | SPAM(1): 0.5878346216209603',\n",
      "    12660: 'HAM(0): 0.428581542357506 | SPAM(1): 0.571418457642494',\n",
      "    12663: 'HAM(0): 0.5343928865715414 | SPAM(1): 0.4656071134284586',\n",
      "    12689: 'HAM(0): 0.49816682966992976 | SPAM(1): 0.5018331703300702',\n",
      "    12784: 'HAM(0): 0.4740001742456339 | SPAM(1): 0.5259998257543661',\n",
      "    12888: 'HAM(0): 0.48453147779643957 | SPAM(1): 0.5154685222035604',\n",
      "    12979: 'HAM(0): 0.5624211587353083 | SPAM(1): 0.43757884126469165',\n",
      "    13395: 'HAM(0): 0.5240066056706424 | SPAM(1): 0.4759933943293576',\n",
      "    13449: 'HAM(0): 0.4149163553610211 | SPAM(1): 0.5850836446389789',\n",
      "    13581: 'HAM(0): 0.45943859959971767 | SPAM(1): 0.5405614004002823',\n",
      "    13600: 'HAM(0): 0.4612191304504535 | SPAM(1): 0.5387808695495465',\n",
      "    13603: 'HAM(0): 0.4512377102014513 | SPAM(1): 0.5487622897985487',\n",
      "    13674: 'HAM(0): 0.5501715663948403 | SPAM(1): 0.4498284336051597',\n",
      "    13701: 'HAM(0): 0.563899875907421 | SPAM(1): 0.43610012409257903',\n",
      "    13751: 'HAM(0): 0.5360928419615065 | SPAM(1): 0.4639071580384935',\n",
      "    13754: 'HAM(0): 0.4188399543352702 | SPAM(1): 0.5811600456647298',\n",
      "    13787: 'HAM(0): 0.5443780481767851 | SPAM(1): 0.45562195182321485',\n",
      "    13868: 'HAM(0): 0.46219673436124054 | SPAM(1): 0.5378032656387595',\n",
      "    13884: 'HAM(0): 0.4326869080114 | SPAM(1): 0.5673130919886',\n",
      "    13896: 'HAM(0): 0.5649451364587822 | SPAM(1): 0.4350548635412178',\n",
      "    13935: 'HAM(0): 0.58640063902253 | SPAM(1): 0.41359936097746997',\n",
      "    14051: 'HAM(0): 0.4030145591342865 | SPAM(1): 0.5969854408657135',\n",
      "    14188: 'HAM(0): 0.573429901496137 | SPAM(1): 0.42657009850386296',\n",
      "    14214: 'HAM(0): 0.44717174291365247 | SPAM(1): 0.5528282570863475',\n",
      "    14306: 'HAM(0): 0.5771064334704639 | SPAM(1): 0.4228935665295362',\n",
      "    14381: 'HAM(0): 0.54819057887706 | SPAM(1): 0.45180942112294',\n",
      "    14437: 'HAM(0): 0.5081961231402821 | SPAM(1): 0.491803876859718',\n",
      "    14501: 'HAM(0): 0.5898627809193382 | SPAM(1): 0.41013721908066186',\n",
      "    14567: 'HAM(0): 0.5101404533057747 | SPAM(1): 0.4898595466942253',\n",
      "    14600: 'HAM(0): 0.5901462019384021 | SPAM(1): 0.4098537980615979',\n",
      "    14660: 'HAM(0): 0.5538602076527233 | SPAM(1): 0.4461397923472767',\n",
      "    14705: 'HAM(0): 0.4629039796784534 | SPAM(1): 0.5370960203215466',\n",
      "    14735: 'HAM(0): 0.4043152582415108 | SPAM(1): 0.5956847417584892',\n",
      "    14813: 'HAM(0): 0.44103171800404983 | SPAM(1): 0.5589682819959502',\n",
      "    14915: 'HAM(0): 0.4302364764945522 | SPAM(1): 0.5697635235054478',\n",
      "    14921: 'HAM(0): 0.4867208266636881 | SPAM(1): 0.5132791733363119',\n",
      "    15212: 'HAM(0): 0.49506038510700756 | SPAM(1): 0.5049396148929924',\n",
      "    15281: 'HAM(0): 0.5033820548373245 | SPAM(1): 0.49661794516267554',\n",
      "    15337: 'HAM(0): 0.5255391368795452 | SPAM(1): 0.4744608631204547',\n",
      "    15418: 'HAM(0): 0.437160582402098 | SPAM(1): 0.562839417597902',\n",
      "    15450: 'HAM(0): 0.5380811337025222 | SPAM(1): 0.4619188662974778',\n",
      "    15466: 'HAM(0): 0.4837200044777791 | SPAM(1): 0.5162799955222209',\n",
      "    15516: 'HAM(0): 0.4508214242429852 | SPAM(1): 0.5491785757570148',\n",
      "    15521: 'HAM(0): 0.49258660681307065 | SPAM(1): 0.5074133931869294',\n",
      "    15654: 'HAM(0): 0.46852320114465507 | SPAM(1): 0.5314767988553449',\n",
      "    15922: 'HAM(0): 0.548438340214571 | SPAM(1): 0.45156165978542895',\n",
      "    15935: 'HAM(0): 0.4620101660436451 | SPAM(1): 0.5379898339563549',\n",
      "    15963: 'HAM(0): 0.5816880786995733 | SPAM(1): 0.4183119213004267',\n",
      "    16012: 'HAM(0): 0.48134682823060304 | SPAM(1): 0.518653171769397',\n",
      "    16138: 'HAM(0): 0.5933011045959935 | SPAM(1): 0.4066988954040065',\n",
      "    16208: 'HAM(0): 0.4040990071228594 | SPAM(1): 0.5959009928771406',\n",
      "    16231: 'HAM(0): 0.5831853614910163 | SPAM(1): 0.41681463850898365',\n",
      "    16310: 'HAM(0): 0.4927176881639519 | SPAM(1): 0.5072823118360481',\n",
      "    16317: 'HAM(0): 0.45969073494370327 | SPAM(1): 0.5403092650562967',\n",
      "    16370: 'HAM(0): 0.41997655162770575 | SPAM(1): 0.5800234483722942',\n",
      "    16415: 'HAM(0): 0.4065219180626204 | SPAM(1): 0.5934780819373796',\n",
      "    16476: 'HAM(0): 0.49549534673150475 | SPAM(1): 0.5045046532684953',\n",
      "    16515: 'HAM(0): 0.4582533006147239 | SPAM(1): 0.5417466993852761',\n",
      "    16539: 'HAM(0): 0.512794466795562 | SPAM(1): 0.4872055332044381',\n",
      "    16547: 'HAM(0): 0.541777893430696 | SPAM(1): 0.4582221065693039',\n",
      "    16683: 'HAM(0): 0.4664872366254159 | SPAM(1): 0.5335127633745841'}\n"
     ]
    }
   ],
   "source": [
    "'''\n",
    "Low-Confidence Probabilities Collected\n",
    "'''\n",
    "pp = pprint.PrettyPrinter(indent=4)\n",
    "pp.pprint(low_confidence_results)"
   ],
   "metadata": {
    "collapsed": false,
    "ExecuteTime": {
     "end_time": "2023-12-06T21:37:29.257748900Z",
     "start_time": "2023-12-06T21:37:29.170185400Z"
    }
   },
   "id": "1937249556ba1f06"
  },
  {
   "cell_type": "code",
   "execution_count": 52,
   "outputs": [
    {
     "name": "stdout",
     "output_type": "stream",
     "text": [
      "Total Coefficients: 281315\n",
      "[[-0.11389033 -1.91096235 -0.90721212 ...  0.06358261  0.02314254\n",
      "  -0.07163677]]\n"
     ]
    }
   ],
   "source": [
    "'''\n",
    "Model Interpretation\n",
    "'''\n",
    "model_coefficients = trained_model.coef_\n",
    "print(f'Total Coefficients: {len(model_coefficients[0])}')\n",
    "print(model_coefficients)\n",
    "\n",
    "#Data is too big for this. MemoryError now matter which solver I pick for LogisticRegression\n",
    "#logit_constant = add_constant(X_train_emails_embeddings)\n",
    "#logit_model = Logit(y_train_labels, logit_constant)\n",
    "#fitted_logit_model = logit_model.fit()\n",
    "\n",
    "#print(fitted_logit_model.summary())"
   ],
   "metadata": {
    "collapsed": false,
    "ExecuteTime": {
     "end_time": "2023-12-06T21:37:29.258749800Z",
     "start_time": "2023-12-06T21:37:29.176700Z"
    }
   },
   "id": "30c986fcd7d27389"
  },
  {
   "cell_type": "markdown",
   "source": [
    "<a id=\"data-summary-and-implications\"></a>\n",
    "# E: Data Summary and Implications\n",
    ">Summarize the implications of your data analysis by discussing the results of your data analysis in the context of the research question, including one limitation of your analysis. Within the context of your research question, recommend a course of action based on your results. Then propose two directions or approaches for future study of the data set."
   ],
   "metadata": {
    "collapsed": false
   },
   "id": "8fc5dab3b02d992"
  },
  {
   "cell_type": "markdown",
   "source": [
    "<a id=\"sources\"></a>\n",
    "# F: Sources\n",
    ">Acknowledge sources, using in-text citations and references, for content that is quoted.\n",
    "\n",
    "* PURU SINGHVI. (n.d.). Spam Email Classification Dataset Kaggle.\n",
    "  Retrieved from https://www.kaggle.com/datasets/purusinghvi/email-spam-classification-dataset\n",
    "  <br /><br />\n",
    "  \n",
    "* GitHub. (n.d.). About large files on GitHub. GitHub Docs. \n",
    "  Retrieved from https://docs.github.com/en/repositories/working-with-files/managing-large-files/about-large-files-on-github\n",
    "  <br /><br />"
   ],
   "metadata": {
    "collapsed": false
   },
   "id": "168c90fed75111bd"
  }
 ],
 "metadata": {
  "kernelspec": {
   "display_name": "Python 3",
   "language": "python",
   "name": "python3"
  },
  "language_info": {
   "codemirror_mode": {
    "name": "ipython",
    "version": 2
   },
   "file_extension": ".py",
   "mimetype": "text/x-python",
   "name": "python",
   "nbconvert_exporter": "python",
   "pygments_lexer": "ipython2",
   "version": "2.7.6"
  }
 },
 "nbformat": 4,
 "nbformat_minor": 5
}
