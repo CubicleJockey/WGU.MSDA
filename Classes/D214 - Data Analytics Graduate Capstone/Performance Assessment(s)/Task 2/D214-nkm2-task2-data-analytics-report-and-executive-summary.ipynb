{
 "cells": [
  {
   "cell_type": "markdown",
   "source": [
    "# D214 - Data Analytics Graduate Capstone\n",
    "### NKM2 Task 2: Data Analytics Report and Executive Summary\n",
    "#### Data Analytics Graduate Capstone — D214\n",
    "#### PRFA - NKM2\n",
    "> André Davis\n",
    "> StudentID: 010630641\n",
    "> MSDA\n",
    ">\n",
    "> Competencies\n",
    "> 981.1.1 : Capstone\n",
    "> The graduate integrates and synthesizes competencies from across the degree program and thereby demonstrates the ability to participate in and contribute value to the chosen professional field."
   ],
   "metadata": {
    "collapsed": false
   },
   "id": "6e76c0ccd2ac8730"
  },
  {
   "cell_type": "markdown",
   "source": [
    "##### Table of Contents\n",
    "\n",
    "<ul>\n",
    "    <li><a href=\"#research-question\">A: Research Question</a></li>\n",
    "    <li><a href=\"#data-collection\">B: Data Collection</a></li>\n",
    "    <li><a href=\"#data-extraction-and-preparation\">C: Data Extraction and Preparation</a></li>\n",
    "    <li><a href=\"#analysis\">D: Analysis</a></li>\n",
    "    <li><a href=\"#data-summary-and-implications\">E: Data Summary and Implications</a></li>\n",
    "    <li><a href=\"#sources\">F: Sources</a></li>\n",
    "</ul>"
   ],
   "metadata": {
    "collapsed": false
   },
   "id": "dd6f4a96728fa8a5"
  },
  {
   "cell_type": "markdown",
   "source": [
    "<a id=\"research-question\"></a>\n",
    "# A: Research Question\n",
    ">Summarize the original real-data research question you identified in task 1. Your summary should include justification for the research question you identified in task 1, a description of the context in which the research question exists, and a discussion of your hypothesis.\n",
    "\n",
    "#### Research Question:\n",
    "Is it possible to develop a machine learning model that can accurately classify new content as SPAM or non-SPAM (HAM), using a dataset comprising known SPAM and regular content from the 2007 TREC Public Spam Corpus and Enron emails? \n",
    "\n",
    "\n",
    "#### Justification:\n",
    "Spam presents a significant challenge for both businesses and households. It not only consumes valuable storage space and impedes the identification of critical emails, but it also poses a substantial security risk. Spam emails can serve as conduits for malicious threats such as viruses, worms, phishing scams, and ransomware. Therefore, implementing models capable of accurately detecting spam is essential. These models are not only crucial for enhancing security measures but also for ensuring that email server storage is reserved exclusively for important organizational communications.\n",
    "\n",
    "\n",
    "#### Hypothesis:\n",
    "\n",
    "**Null hypothesis (*HΦ*)**- The machine learning model developed using the 2007 TREC Public Spam Corpus and Enron emails dataset cannot accurately classify new content as SPAM or non-SPAM (HAM) with an accuracy score of 95% or higher. This implies that any observed accuracy in classification does not significantly exceed what would be expected by chance. \n",
    "\n",
    "**Alternate Hypothesis (*Ha*)**- The machine learning model developed using the 2007 TREC Public Spam Corpus and Enron emails dataset can accurately classify new content as SPAM or non-SPAM (HAM) with an accuracy score of 95% or higher. This suggests that the model has learned effective patterns within the dataset, enabling it to differentiate between SPAM and non-SPAM content significantly better than chance."
   ],
   "metadata": {
    "collapsed": false
   },
   "id": "790b035419964ef5"
  },
  {
   "cell_type": "markdown",
   "source": [
    "<a id=\"data-collection\"></a>\n",
    "# B: Data Collection\n",
    ">Report on your data-collection process by describing the relevant data you collected, discussing one advantage and one disadvantage of the data-gathering methodology you used, and discussing how you overcame any challenges you encountered during the process of collecting your data.\n",
    "\n",
    "##### Data Collected\n",
    "\n",
    "The dataset under discussion, titled *'Spam Email Classification Dataset'*, encompasses a collection of email content which is pre-labeled. Each email within this dataset has been accurately categorized as either 'SPAM' or 'NOT SPAM' (often referred to as 'HAM'). This dataset was sourced from the platform, [kaggle.com](https://www.kaggle.com/).\n",
    "\n",
    "The make-up of the dataset is diverse, integrating data from two prominent sources: the Enron Corpus and the TREC Public Spam Corpus. This blend ensures a variety of email samples. The biggest features of this dataset is its pre-labeled metadata. The emails, which include a range of unstructured content, have been pre-classified, rendering the dataset immediately applicable for training machine learning models in spam detection and email filtering tasks. Pre-labelled data is extremely valuable in training models for accuracy.\n",
    "\n",
    "Dataset Description:\n",
    "\n",
    "| Feature        | Datatype      | Description                                                                                                                                                                                          |\n",
    "|----------------|---------------|------------------------------------------------------------------------------------------------------------------------------------------------------------------------------------------------------|\n",
    "| label          | Qualitative   | This is the feature that is the label of the dataset. It is a Boolean represented as 1 or 0<br/>1 represents the associated text is SPAM<br/>0 represents the associated text is HAM (Not SPAM)      |\n",
    "| text           | Qualitative   | This is just text content (unstructured data). In the case of this dataset the contents are an Email. This is the data that will be used to train and is pre-labeled for the Machine Learning model. |\n",
    "\n",
    "### Data Collection Advantage\n",
    "Utilizing a data repository such as [kaggle.com](https://www.kaggle.com/) offers the advantage of having the data collection process already completed from the original source(s). A lot of Kaggle datasets, are throughly described, its usability is assessed through scoring, and any instances of missing data are diligently documented.\n",
    "\n",
    "### Data Collection Disadvantage\n",
    "\n",
    "One drawback associated with this approach is that achieving a comprehensive verification of all the sources used in creating the dataset requires someone to visit all  the listed original sources and conducting a thorough comparison between the original data and the content contained within the Kaggle dataset.\n",
    "\n",
    "### Challenges and Overcoming Them\n",
    "\n",
    "This particular challenge is not related to the collection per se but rather the storage of the data collected and its storage in GitHub as my WGU work has been stored there. As a Sr. Software Developer by day I am used to utilizing repositories to keep my code safe.\n",
    "\n",
    ">GitHub blocks files larger than 100 MiB.\n",
    "> Source: [GitHub Large Files](https://docs.github.com/en/repositories/working-with-files/managing-large-files/about-large-files-on-github)\n",
    "\n",
    "The 'Spam Email Classification Dataset' consists of approximately 84,000 rows, with a file size ranging between 133MB and 144MB. To incorporate this dataset into my GitHub repository for the Capstone Project, I divided it into two separate files. While this approach allowed the dataset's to avoid the repository file-size limit, it introduced an additional step in the coding process. Specifically, I will need to perform two separate file reads and subsequently merge the datasets back into the original one.\n",
    "\n"
   ],
   "metadata": {
    "collapsed": false
   },
   "id": "ccea40610699bf8b"
  },
  {
   "cell_type": "markdown",
   "source": [
    "<a id=\"data-extraction-and-preparation\"></a>\n",
    "# C: Data Extraction and Preparation\n",
    ">Describe your data-extraction and preparation process and provide screenshots to illustrate each step. Explain the tools and techniques you used for data extraction and data preparation, including how these tools and techniques were used on the data. Justify why you used these particular tools and techniques, including one advantage and one disadvantage when they are used with your data-extraction and -preparation methods. \n",
    "\n",
    "#### NOTE To Evaluator: \n",
    "\n",
    "Because this is an interactive Jupyter Notebook the description will be in Markdown and instead of screenshots inline code and charts will be used.\n",
    "\n",
    "---\n",
    "\n",
    "Before performing the data extraction steps, it is necessary to reassemble the dataset, which was previously segmented to comply with [GitHub's file size limitation of 100MB](https://docs.github.com/en/repositories/working-with-files/managing-large-files/about-large-files-on-github) for check-ins. Once this re-merging is completed, I can proceed with the performance evaluation phase of the data extraction process.\n",
    "\n",
    "The data extraction process involves working with a pre-labeled dataset, specifically the \"Spam Email Classification Dataset\" available on [Kaggle.com](https://www.kaggle.com/datasets/purusinghvi/email-spam-classification-dataset?rvi=1). The initial phase of this process includes verifying the dataset's integrity by confirming the total number of records (83,446) and ensuring the absence of missing values. Additionally, the distribution of labels within the dataset will be examined both visually, through histograms, and analytically, with the results being graphically presented for easy interpretation. Following this, the dataset's 'EmailContent', which consists of unstructured text, requires pre-processing and vectorization (embeddings). This step is critical as Logistic Regression, the chosen model for this task, cannot operate directly on raw text data.\n",
    "\n",
    "The tools and techniques used during the data extraction and preparation process are as follows:\n",
    "* [Python](https://www.python.org/)\n",
    "   *  Python is highly used for its user-friendly nature, making it an ideal choice for scientists and others who may not have a programming background. This accessibility represents Python's significant advantage in fostering a diverse user community. However, it is important to acknowledge that the very features contributing to Python's ease of use can also result in slower run-time performance.\n",
    "      * **Advantage:** Easy to Use\n",
    "      * **Disadvantage:** [Slow Run-Time](https://bodyvisionmedical.com/articles/why-is-python-so-slow-tackling-pythons-performance-issues)  \n",
    "* [Polars](https://www.pola.rs/) \n",
    "   * [Polars](https://www.pola.rs/) is a data manipulation library that is very similar to [Pandas](https://pandas.pydata.org/), which is great in terms of its efficiency with small to medium-sized datasets. However, Polars distinguishes itself by being developed in Rust, a language that combines Python's simplicity with the speed of C programming language. This project will use Polars as my dataset is quite large..\n",
    "      * **Advantage:** Operates on larger datasets faster than Pandas as it's underlying implementation of [Rust Programming Langauge](https://www.rust-lang.org/).\n",
    "      * **Disadvantage:** Being newer than Panda the community support is much smaller. \n",
    "* [Matplotlib](https://matplotlib.org/)\n",
    "   * This is a community standard visualization library and performed well for all other performance assessments. Although, it has heavy integration with [Pandas](https://pandas.pydata.org/), Pandas is not a requirement to use the visualization library. In terms of the data collection and preparation process this is used to help check whether the labeled dataset is balanced or imbalanced visually. As well as do any other charting during the analysis phase for interoperability.\n",
    "      * **Advantage:** Extensive and highly customizable plotting library. Can do a large variety of plotting such as scatter plots, line graphs, bar charts, histograms, 3D plots just to name a few.\n",
    "      * **Disadvantage:** Very steep learning curve. I was constantly deep in the documentation for sometimes what would seem like basic operations. There could probably be classes dedicated entirely to Matplotlib.\n",
    "* [Seaborn](https://seaborn.pydata.org/)\n",
    "   *  This is a statistical data visualization library. It is built on top of matplotlib. It provides high-level interfaces to make it easier to plot than Matplotlib alone.\n",
    "      * **Advantage:** The high-level interfaces make some Matplotlib plotting easier. For example heatmaps are pretty complex in Matplotlib this simplifies getting a heatmap generated.\n",
    "      * **Disadvantage:**  Because it moves things to a higher-level of interfaces some of the customization aspects of Matplotlib are reduced or lost.\n",
    "* [NLTK (Natural Language Toolkit)](https://www.nltk.org/)\n",
    "   * This toolkit is a natural language processor. In the context of data collection and preparation, it will be utilized to eliminate stopwords during vectorization (embeddings creation) and to segment the text into smaller, manageable units (chunks) for further analysis.\n",
    "      * **Advantage:** Very easy to use for language processing\n",
    "      * **Disadvantage:** The toolkit exhibits reduced performance efficiency when handling larger datasets, leading to slower processing speeds.\n",
    "* [Emoji](https://github.com/carpedm20/emoji/)\n",
    "   * During the pre-processing and before the model is created this library makes it easier to identify non-standard characters that come in the form of emojis and will aid in removing them before modeling.\n",
    "      * **Advantage:** Works great at removing emoji related material from text.\n",
    "      * **Disadvantage:**  Doesn't really do anything else, so it's only an add-in to other frameworks.\n",
    "* [Unidecode](https://pypi.org/project/Unidecode/)\n",
    "   * During the pre-processing process and before the model is created, this helps remove Unicode ASCII type characters that may be introduced and cause issues. These will be removed.\n",
    "      * **Advantage:** Great at converting non-ASCII characters equivalent to add in removal or pre-processing.\n",
    "      * **Disadvantage:** Only operations ASCII meaning other languages can lose meaning if used on non-english. \n",
    "* [Scikit-Learn TfidfVectorizer](https://scikit-learn.org/stable/modules/generated/sklearn.feature_extraction.text.TfidfVectorizer.html)\n",
    "   * Logistical Regression cannot be performed on text. Because of this it is essential to convert the unstructured text, into a numerical format suitable for modeling. For this purpose, the `TfidfVectorizer` class will be used. This tool will not only execute a custom preprocessing function but will also transform the text into numerical embeddings. In vectorized (embedded) format we can use Logical Regression for SPAM detection.\n",
    "      * Custom Preprocessing function `preprocess_and_tokenize` steps include:\n",
    "           * Convert all text to lowercase\n",
    "           * Remove Unicode text\n",
    "           * Remove emojis\n",
    "           * Remove punctuation\n",
    "           * Tokenize unstructured text\n",
    "           * Remove stop words that end vectorization\n",
    "   <br /> <br />             \n",
    "      * **Advantage:** Able to convert unstructured text, into structured, vectorized embeddings suitable for logistical regression analysis.\n",
    "      * **Disadvantage:** \"TF-IDF does not pay any attention to the sequential order of the words in the text. This alone leads to some context being lost after the text is vectorized.\" (Aashish, 2023)\n",
    " \n"
   ],
   "metadata": {
    "collapsed": false
   },
   "id": "79fa2d98e76de6cb"
  },
  {
   "cell_type": "code",
   "execution_count": 1,
   "outputs": [
    {
     "name": "stderr",
     "output_type": "stream",
     "text": [
      "[nltk_data] Downloading package punkt to\n",
      "[nltk_data]     C:\\Users\\cubic\\AppData\\Roaming\\nltk_data...\n",
      "[nltk_data]   Package punkt is already up-to-date!\n",
      "[nltk_data] Downloading package stopwords to\n",
      "[nltk_data]     C:\\Users\\cubic\\AppData\\Roaming\\nltk_data...\n",
      "[nltk_data]   Package stopwords is already up-to-date!\n"
     ]
    }
   ],
   "source": [
    "'''\n",
    "Python Library Imports\n",
    "'''\n",
    "import warnings\n",
    "warnings.filterwarnings('ignore')\n",
    "\n",
    "import re, pprint, math\n",
    "from typing import List\n",
    "\n",
    "#Data Manipulation\n",
    "import polars as pl\n",
    "import numpy as np\n",
    "import matplotlib.pyplot as plt\n",
    "import seaborn as sns\n",
    "\n",
    "#Data Extraction and Preprocessing\n",
    "import nltk\n",
    "nltk.download('punkt')\n",
    "nltk.download('stopwords')\n",
    "from nltk.corpus import stopwords\n",
    "from nltk.tokenize import word_tokenize\n",
    "import emoji\n",
    "from unidecode import unidecode\n",
    "from sklearn.feature_extraction.text import TfidfVectorizer\n",
    "from sklearn.model_selection import train_test_split\n",
    "\n",
    "#Logisitcal Regression Modeling and Model Evaluation\n",
    "from sklearn.linear_model import LogisticRegression\n",
    "from sklearn.metrics import (mean_squared_error\n",
    "                            ,accuracy_score\n",
    "                            ,classification_report\n",
    "                            ,confusion_matrix\n",
    "                            ,roc_curve\n",
    "                            ,roc_auc_score)\n",
    "from statsmodels.api import Logit, add_constant\n"
   ],
   "metadata": {
    "collapsed": false,
    "ExecuteTime": {
     "end_time": "2023-12-08T22:16:17.016256600Z",
     "start_time": "2023-12-08T22:16:16.211570800Z"
    }
   },
   "id": "3b4dcf3e54e35ea6"
  },
  {
   "cell_type": "markdown",
   "source": [
    "# Loading the labeled SPAM data\n",
    "\n",
    "As outlined in Section B, I'll be importing a dataset that has been divided into two separate files. This division was necessary to comply with GitHub's file size limitation of 100 MB.\n",
    "\n",
    "1. Load files\n",
    "   * ['0-enron-emails-labeled.csv'](./0-enron-emails-labeled.csv)\n",
    "   * ['1-enron-emails-labeled.csv'](./1-enron-emails-labeled.csv)\n",
    "2. Merge files back into original dataset, expect *83448* rows of data\n",
    "3. Rename columns to IsSpam(*1|0*) and EmailContent(*Text*) for readability"
   ],
   "metadata": {
    "collapsed": false
   },
   "id": "8462ea833b030163"
  },
  {
   "cell_type": "code",
   "execution_count": 2,
   "outputs": [],
   "source": [
    "def check_expected_row(data: pl.DataFrame) -> None:\n",
    "    \"\"\"   \n",
    "    :param data: Polars Dataframe to check the projects row count \n",
    "    :type data: pl.DataFrame\n",
    "     \n",
    "    :return: None\n",
    "    \"\"\"\n",
    "    expected_rows = 83448\n",
    "    assert expected_rows == data.height, f'Expected data to contain {expected_rows} rows.'"
   ],
   "metadata": {
    "collapsed": false,
    "ExecuteTime": {
     "end_time": "2023-12-08T22:16:17.018000800Z",
     "start_time": "2023-12-08T22:16:17.015257Z"
    }
   },
   "id": "696f598476042bd2"
  },
  {
   "cell_type": "code",
   "execution_count": 3,
   "outputs": [
    {
     "data": {
      "text/plain": "shape: (83_448, 2)\n┌────────┬───────────────────────────────────┐\n│ IsSpam ┆ EmailContent                      │\n│ ---    ┆ ---                               │\n│ i64    ┆ str                               │\n╞════════╪═══════════════════════════════════╡\n│ 1      ┆ hello , how are you doing ?\n       │\n│        ┆ bet…                              │\n│ 0      ┆ maybe you're looking for somethi… │\n│ 0      ┆  begin pgp signed message hash s… │\n│ 0      ┆  why filename xmp it should be b… │\n│ …      ┆ …                                 │\n│ 1      ┆ while we may have high expectati… │\n│ 1      ┆ hello , welcome to pharmonl nunc… │\n│ 0      ┆ linux cifs client bounces shiris… │\n│ 1      ┆ numeric keypad dot matrix printe… │\n└────────┴───────────────────────────────────┘",
      "text/html": "<div><style>\n.dataframe > thead > tr > th,\n.dataframe > tbody > tr > td {\n  text-align: right;\n  white-space: pre-wrap;\n}\n</style>\n<small>shape: (83_448, 2)</small><table border=\"1\" class=\"dataframe\"><thead><tr><th>IsSpam</th><th>EmailContent</th></tr><tr><td>i64</td><td>str</td></tr></thead><tbody><tr><td>1</td><td>&quot;hello , how ar…</td></tr><tr><td>0</td><td>&quot;maybe you&#x27;re l…</td></tr><tr><td>0</td><td>&quot; begin pgp sig…</td></tr><tr><td>0</td><td>&quot; why filename …</td></tr><tr><td>1</td><td>&quot;lynnette just …</td></tr><tr><td>1</td><td>&quot;companion shor…</td></tr><tr><td>0</td><td>&quot;you have recei…</td></tr><tr><td>1</td><td>&quot;hello ,\r\nwe se…</td></tr><tr><td>1</td><td>&quot;dear valued me…</td></tr><tr><td>1</td><td>&quot;from the offic…</td></tr><tr><td>0</td><td>&quot;you can use th…</td></tr><tr><td>1</td><td>&quot;stock watch ai…</td></tr><tr><td>&hellip;</td><td>&hellip;</td></tr><tr><td>0</td><td>&quot;author jpeach …</td></tr><tr><td>0</td><td>&quot;the extension …</td></tr><tr><td>0</td><td>&quot;the following …</td></tr><tr><td>1</td><td>&quot;important comm…</td></tr><tr><td>1</td><td>&quot;anatrim an ext…</td></tr><tr><td>1</td><td>&quot;attention men …</td></tr><tr><td>0</td><td>&quot;information on…</td></tr><tr><td>1</td><td>&quot;srea jumps esc…</td></tr><tr><td>1</td><td>&quot;while we may h…</td></tr><tr><td>1</td><td>&quot;hello , welcom…</td></tr><tr><td>0</td><td>&quot;linux cifs cli…</td></tr><tr><td>1</td><td>&quot;numeric keypad…</td></tr></tbody></table></div>"
     },
     "execution_count": 3,
     "metadata": {},
     "output_type": "execute_result"
    }
   ],
   "source": [
    "top_data = pl.read_csv('./0-enron-emails-labeled.csv')\n",
    "bottom_data = pl.read_csv('./1-enron-emails-labeled.csv')\n",
    "\n",
    "merged = pl.concat([top_data, bottom_data]).drop('index')\n",
    "\n",
    "assert merged.is_empty() == False, f'The merged Polars dataframe should not be empty.'\n",
    "\n",
    "check_expected_row(merged)\n",
    "\n",
    "renamed = {\n",
    "     'label': 'IsSpam'\n",
    "    ,'text': 'EmailContent' \n",
    "}\n",
    "\n",
    "labeled_emails = merged.rename(mapping=renamed)\n",
    "\n",
    "labeled_emails"
   ],
   "metadata": {
    "collapsed": false,
    "ExecuteTime": {
     "end_time": "2023-12-08T22:16:17.326397700Z",
     "start_time": "2023-12-08T22:16:17.019002Z"
    }
   },
   "id": "77f8d570418b5c86"
  },
  {
   "cell_type": "markdown",
   "source": [
    "#### Check for empty values \n",
    "\n",
    "The dataset *'Spam Email Classification Dataset'* from [Kaggle](https://www.kaggle.com/) stated there are NO missing values. This is a verification step."
   ],
   "metadata": {
    "collapsed": false
   },
   "id": "8ef75d1463f56911"
  },
  {
   "cell_type": "code",
   "execution_count": 4,
   "outputs": [],
   "source": [
    "def missing_values_check(data: pl.DataFrame) -> None:\n",
    "    \"\"\"\n",
    "    :param data: Dataframe to check for missing values per column\n",
    "    :type data: pl.DataFrame\n",
    "     \n",
    "    :return: None\n",
    "    \"\"\"\n",
    "    \n",
    "    missing_values = data.null_count()\n",
    "    for column in missing_values.columns:\n",
    "        print(f'Checking [{column}] for missing values...')\n",
    "        missing_count = missing_values[column][0]\n",
    "        assert missing_count == 0, f'{column} feature should have zero missing values but found {missing_count}'\n",
    "        print(f'[{column}] has no missing values.')"
   ],
   "metadata": {
    "collapsed": false,
    "ExecuteTime": {
     "end_time": "2023-12-08T22:16:17.326397700Z",
     "start_time": "2023-12-08T22:16:17.322378800Z"
    }
   },
   "id": "de6d99bb16f4a02f"
  },
  {
   "cell_type": "code",
   "execution_count": 5,
   "outputs": [
    {
     "name": "stdout",
     "output_type": "stream",
     "text": [
      "Checking [IsSpam] for missing values...\n",
      "[IsSpam] has no missing values.\n",
      "Checking [EmailContent] for missing values...\n",
      "[EmailContent] has no missing values.\n"
     ]
    }
   ],
   "source": [
    "missing_values_check(labeled_emails)"
   ],
   "metadata": {
    "collapsed": false,
    "ExecuteTime": {
     "end_time": "2023-12-08T22:16:17.337006400Z",
     "start_time": "2023-12-08T22:16:17.324396100Z"
    }
   },
   "id": "2a468aaf25b75c05"
  },
  {
   "cell_type": "code",
   "execution_count": 6,
   "outputs": [
    {
     "data": {
      "text/plain": "shape: (9, 3)\n┌────────────┬──────────┬───────────────────────────────────┐\n│ describe   ┆ IsSpam   ┆ EmailContent                      │\n│ ---        ┆ ---      ┆ ---                               │\n│ str        ┆ f64      ┆ str                               │\n╞════════════╪══════════╪═══════════════════════════════════╡\n│ count      ┆ 83448.0  ┆ 83448                             │\n│ null_count ┆ 0.0      ┆ 0                                 │\n│ mean       ┆ 0.526196 ┆ null                              │\n│ std        ┆ 0.499316 ┆ null                              │\n│ min        ┆ 0.0      ┆ \u0001 & who wants to help millions ?…  │\n│ 25%        ┆ 0.0      ┆ null                              │\n│ 50%        ┆ 1.0      ┆ null                              │\n│ 75%        ┆ 1.0      ┆ null                              │\n│ max        ┆ 1.0      ┆ 李俊杰 wrote dear r lister one of │\n│            ┆          ┆ m…                                │\n└────────────┴──────────┴───────────────────────────────────┘",
      "text/html": "<div><style>\n.dataframe > thead > tr > th,\n.dataframe > tbody > tr > td {\n  text-align: right;\n  white-space: pre-wrap;\n}\n</style>\n<small>shape: (9, 3)</small><table border=\"1\" class=\"dataframe\"><thead><tr><th>describe</th><th>IsSpam</th><th>EmailContent</th></tr><tr><td>str</td><td>f64</td><td>str</td></tr></thead><tbody><tr><td>&quot;count&quot;</td><td>83448.0</td><td>&quot;83448&quot;</td></tr><tr><td>&quot;null_count&quot;</td><td>0.0</td><td>&quot;0&quot;</td></tr><tr><td>&quot;mean&quot;</td><td>0.526196</td><td>null</td></tr><tr><td>&quot;std&quot;</td><td>0.499316</td><td>null</td></tr><tr><td>&quot;min&quot;</td><td>0.0</td><td>&quot;\u0001 &amp; who wants …</td></tr><tr><td>&quot;25%&quot;</td><td>0.0</td><td>null</td></tr><tr><td>&quot;50%&quot;</td><td>1.0</td><td>null</td></tr><tr><td>&quot;75%&quot;</td><td>1.0</td><td>null</td></tr><tr><td>&quot;max&quot;</td><td>1.0</td><td>&quot;李俊杰 wrote dear…</td></tr></tbody></table></div>"
     },
     "execution_count": 6,
     "metadata": {},
     "output_type": "execute_result"
    }
   ],
   "source": [
    "'''\n",
    "Describe the Data\n",
    "'''\n",
    "labeled_emails.describe()"
   ],
   "metadata": {
    "collapsed": false,
    "ExecuteTime": {
     "end_time": "2023-12-08T22:16:17.378632200Z",
     "start_time": "2023-12-08T22:16:17.337006400Z"
    }
   },
   "id": "dc236aa1b839a166"
  },
  {
   "cell_type": "markdown",
   "source": [
    "### Data Balance Check\n",
    "\n",
    "Verifying Visually and Mathematically that the data is balanced for the Logistical Regression Model."
   ],
   "metadata": {
    "collapsed": false
   },
   "id": "fa7276e32f1333d3"
  },
  {
   "cell_type": "code",
   "execution_count": 7,
   "outputs": [
    {
     "data": {
      "text/plain": "<Figure size 1400x800 with 1 Axes>",
      "image/png": "[encoded data removed]"
     },
     "metadata": {},
     "output_type": "display_data"
    }
   ],
   "source": [
    "'''\n",
    "Generate a Histogram Chart to visual display HAM(0) vs SPAM(1) balance\n",
    "'''\n",
    "is_spam_label = ['HAM (0)', 'SPAM (1)']\n",
    "\n",
    "hist_data = labeled_emails['IsSpam'].hist(bins=(0,1))\n",
    "bins = hist_data['break_point'].to_numpy()[:-1].astype(int)\n",
    "counts = hist_data['IsSpam_count'].to_numpy()[:-1].astype(int)\n",
    "\n",
    "plt.figure(figsize=(14,8))\n",
    "\n",
    "#values to place inside bar\n",
    "for index, value in enumerate(counts):\n",
    "    plt.text(bins[index], value, str(value), ha='center', va='bottom')\n",
    "\n",
    "plt.bar(bins, counts, width=1, color='green')\n",
    "plt.xlabel('IsSpam')\n",
    "plt.xticks(ticks=bins, labels=is_spam_label)\n",
    "plt.ylabel('Frequency')\n",
    "plt.title('IsSpam Data Frequency')\n",
    "plt.show()"
   ],
   "metadata": {
    "collapsed": false,
    "ExecuteTime": {
     "end_time": "2023-12-08T22:16:17.492241100Z",
     "start_time": "2023-12-08T22:16:17.352088400Z"
    }
   },
   "id": "f9d6a5411571bac5"
  },
  {
   "cell_type": "code",
   "execution_count": 8,
   "outputs": [
    {
     "name": "stdout",
     "output_type": "stream",
     "text": [
      "\n",
      "Percentages:\n",
      "------------\n",
      " HAM(0): 47.38%\n",
      "SPAM(1): 52.62%\n"
     ]
    }
   ],
   "source": [
    "'''\n",
    "Calculate percentage of HAM(0) vs SPAM(1) to pair with visual balance check.\n",
    "'''\n",
    "total_results = (counts[0] + counts[1])\n",
    "ham_percentage = counts[0] / total_results\n",
    "spam_percentage = counts[1] / total_results\n",
    "\n",
    "ham_percentage_formatted = \"{:.2f}\".format(ham_percentage * 100)\n",
    "spam_percentage_formatted = \"{:.2f}\".format(spam_percentage * 100)\n",
    "\n",
    "balance_results = f'''\n",
    "Percentages:\n",
    "------------\n",
    " HAM(0): {ham_percentage_formatted}%\n",
    "SPAM(1): {spam_percentage_formatted}%\n",
    "'''\n",
    "print(balance_results)"
   ],
   "metadata": {
    "collapsed": false,
    "ExecuteTime": {
     "end_time": "2023-12-08T22:16:17.493242100Z",
     "start_time": "2023-12-08T22:16:17.452245200Z"
    }
   },
   "id": "b32293abebc98b48"
  },
  {
   "cell_type": "code",
   "execution_count": 9,
   "outputs": [
    {
     "data": {
      "text/plain": "<Figure size 640x480 with 1 Axes>",
      "image/png": "[encoded data removed]"
     },
     "metadata": {},
     "output_type": "display_data"
    }
   ],
   "source": [
    "'''\n",
    "Visualization of the calculated percentages of IsSpam.\n",
    "'''\n",
    "plt.pie([ham_percentage, spam_percentage], labels=is_spam_label, autopct='%.2f%%')\n",
    "plt.axis('equal')\n",
    "plt.show()"
   ],
   "metadata": {
    "collapsed": false,
    "ExecuteTime": {
     "end_time": "2023-12-08T22:16:17.625414100Z",
     "start_time": "2023-12-08T22:16:17.458166900Z"
    }
   },
   "id": "649e3e9307b2de69"
  },
  {
   "cell_type": "markdown",
   "source": [
    "### Pre-Processing EmailContent (text) for Vectorization/Embedding\n",
    "\n",
    "In this phase, I'll undertake the preprocessing of `EmailContent`, which is unstructured text in format due to its origins as email. The process will involve the removal of special characters and stop words. Preprocessing is important as it will allow for proper vectorization (embeddings conversion) for Logistical Regression Analysis."
   ],
   "metadata": {
    "collapsed": false
   },
   "id": "c24598e3c1a17d8f"
  },
  {
   "cell_type": "code",
   "execution_count": 10,
   "outputs": [],
   "source": [
    "def preprocess_and_tokenize(text:str) -> List[str]:\n",
    "    \"\"\"\n",
    "    :param text: Content that needs to be cleaned before vectorization/embeddings\n",
    "    :type text: str\n",
    "     \n",
    "    :return: Cleaned Content Tokenized\n",
    "    \"\"\"\n",
    "    \n",
    "    text = text.lower()\n",
    "    text = unidecode(text) #normalization. Dealing with things like accents\n",
    "    text = emoji.demojize(text) #fix emojis\n",
    "    text = re.sub(r'[^\\w\\s]', '', text) #remove punctuations\n",
    "    \n",
    "    tokens = word_tokenize(text)\n",
    "    stop_words = set(stopwords.words('english'))\n",
    "    \n",
    "    filtered = list()\n",
    "    for word in tokens:\n",
    "        if word not in stop_words:\n",
    "            filtered.append(word)\n",
    "    \n",
    "    return filtered\n"
   ],
   "metadata": {
    "collapsed": false,
    "ExecuteTime": {
     "end_time": "2023-12-08T22:16:17.626394300Z",
     "start_time": "2023-12-08T22:16:17.501463600Z"
    }
   },
   "id": "32fb19d4b3c0b8b5"
  },
  {
   "cell_type": "code",
   "execution_count": 11,
   "outputs": [],
   "source": [
    "'''\n",
    "Split into training and testing data\n",
    "'''\n",
    "#Independent\n",
    "email_contents = labeled_emails['EmailContent'].to_numpy()\n",
    "\n",
    "#Dependent\n",
    "email_labels = labeled_emails['IsSpam'].to_numpy()\n",
    "\n",
    "X_train_emails, X_test_emails, y_train_labels, y_test_labels = train_test_split(email_contents, email_labels, test_size=.2, random_state=999)"
   ],
   "metadata": {
    "collapsed": false,
    "ExecuteTime": {
     "end_time": "2023-12-08T22:16:17.684450600Z",
     "start_time": "2023-12-08T22:16:17.505515200Z"
    }
   },
   "id": "f0a3f38c7e81ad0a"
  },
  {
   "cell_type": "code",
   "execution_count": null,
   "outputs": [],
   "source": [
    "'''\n",
    "Vectorization (Embeddings) for Logistical Regression Modeling\n",
    "'''\n",
    "vectorizer  = TfidfVectorizer(tokenizer=preprocess_and_tokenize, lowercase=True)\n",
    "\n",
    "fitted_vectorizer = vectorizer.fit(X_train_emails)\n",
    "\n",
    "X_train_emails_embeddings = fitted_vectorizer.transform(X_train_emails)\n",
    "X_test_emails_embeddings = fitted_vectorizer.transform(X_test_emails)"
   ],
   "metadata": {
    "collapsed": false,
    "is_executing": true,
    "ExecuteTime": {
     "start_time": "2023-12-08T22:16:17.596326700Z"
    }
   },
   "id": "d6d1ed8536337be6"
  },
  {
   "cell_type": "markdown",
   "source": [
    "<a id=\"analysis\"></a>\n",
    "# D: Analysis\n",
    ">  Report on your data-analysis process by describing the analysis technique(s) you used to appropriately analyze the data. Include the calculations you performed and their outputs. Justify how you selected the analysis technique(s) you used, including one advantage and one disadvantage of these technique(s)."
   ],
   "metadata": {
    "collapsed": false
   },
   "id": "2760c021e2d4b167"
  },
  {
   "cell_type": "markdown",
   "source": [
    "## SPAM Detection Analysis with Logistical Regression\n",
    "\n",
    "The data collection and exploratory data analysis (EDA) phases have been successfully completed, paving the way for the implementation of the Logistic Regression Model. The subsequent step involves evaluating the model's effectiveness in detecting spam.\n",
    "\n",
    "Throughout the data collection phase, a crucial transformation was undertaken: converting the textual content of the emails (`EmailContent`) into vector format (embeddings). This conversion is essential for the logistic regression model, as it cannot process plain text data. As I enter the modeling phase, the dataset, which comprises the binary `IsSpam` (1 for spam, 0 for non-spam) and `EmailContent` (whic is now in vector format as embeddings), has been segregated into training and testing subsets of the main dataset. This segregation is vital for both the training of the model and the evaluation of its performance.\n",
    "\n",
    "### Reasons for chosen Logistical Regression Model\n",
    "\n",
    "Logistic Regression was selected as the method of choice for the Spam Detection Model due to several reasons. Firstly, its inherent design for binary classification aligns perfectly with the \"Is or Is Not\" framework of our task, making it an ideal tool for distinguishing spam from non-spam emails. \n",
    "\n",
    "Secondly, Logistic Regression offers the advantage of providing probabilistic outcomes. These probabilities of classifications allows for a more detailed understanding of the likelihood that a given email falls into the spam category.\n",
    "\n",
    "Thirdly, this model provides a simplistic implementation with reliable results. This makes logistical regression ideal for first pass SPAM detection model. Although, there are things like Neural Networks they take more time and resources to get up and running, making logistical regression model a quick and effective choice.\n",
    "\n",
    "Finally, Logistic Regression is fairly resistant to over-fitting again making it a great simple choice with great outcomes.\n",
    "\n",
    "### Advantages and Disadvantages of Logistic Regression Model\n",
    "***Advantage:***\n",
    "Logistic Regression is renowned for its simplicity and ease of implementation, making it a highly accessible and straightforward option. This feature positions it as an optimal starting point for binary classification tasks, such as our 'Spam Email Classification Dataset'. Its user-friendly nature does not compromise its effectiveness, offering a reliable solution for initial classification challenges.\n",
    "\n",
    "***Disadvantage:***\n",
    "Logistical Regression is sensitive to imbalanced data as this could introduce bias into the model very easily. Another reason Exploratory Data Analysis (EDA) is so important.\n",
    "\n",
    "#### Fitting the Model\n",
    "The initial step involved fitting the model with the training segment of our dataset. Here, *y* represents our labels (`IsSpam`), while *X* denotes our `EmailContent`, transformed into vectorized form as embeddings. This process is fundamental in preparing the model for effective spam detection.\n",
    "\n",
    "#### Evaluating Model Accuracy\n",
    "Following the model fitting, I employed the [`.score()`](https://scikit-learn.org/stable/modules/generated/sklearn.linear_model.LogisticRegression.html#sklearn.linear_model.LogisticRegression.score) method to ascertain the accuracy of the model. The computed accuracy score stood at `0.9895593037538573`, indicating a remarkable 99% accuracy rate and a mere 1% inaccuracy. Despite this high level of accuracy, our evaluation extends beyond this metric to thoroughly assess the model's overall effectiveness as a spam detector. \n",
    "\n",
    "* ***Advantage:*** This score is a quick and easy way to get an initial assessment of overall model performance without writing additional code to perform custom metrics for evaluation.\n",
    "* ***Disadvantage:*** Lacks insight or customization to get in-depth information on the models ability to predict accurately.\n",
    "\n",
    "### Evaluating Model Prediction Accuracy \n",
    "##### (Accuracy Classification Score)\n",
    "\n",
    "Next, I will proceed to evaluate the model's predictive capabilities, specifically its proficiency in accurately classifying email content as either SPAM (1) or Not SPAM (HAM(0)). The initial step involves utilizing the [`.predict()`](https://scikit-learn.org/stable/modules/generated/sklearn.linear_model.LogisticRegression.html#sklearn.linear_model.LogisticRegression.predict) function of the fitted model. This function will generate prediction labels (SPAM(1)/HAM(0)) based on the test dataset's `EmailContent` embeddings.\n",
    "\n",
    "Following this, I will apply Scikit-Learns [`accuracy_score`](https://scikit-learn.org/stable/modules/generated/sklearn.metrics.accuracy_score.html) function. This function compares between the predicted labels obtained from `.predict()` and the actual labels from the test dataset, giving me an accuracy score. For my current fitted model, this score was calculated to be `0.9826842420611145`, which translates to a 98% accuracy and a 2% inaccuracy ratio. \n",
    "\n",
    "* ***Advantage:***\n",
    "  * `.predict()` - Directly gain predictions based on your classes, i.e *SPAM(1)/HAM(0)*\n",
    "  * `accuracy_score()` - Easy to understand metric for classification prediction.\n",
    "* ***Disadvantage:*** \n",
    "  * `.predict()` - Does not give insight into model flaws.\n",
    "  * `accuracy_score()` - Is very sensitive to unbalanced (bias) datasets.\n",
    "\n",
    "### ROC AUC Score Performance Assessment\n",
    "##### (Receiver Operator Characteristics & Area Under the Curve)\n",
    "\n",
    "Utilizing the [`roc_curve`](https://scikit-learn.org/stable/modules/generated/sklearn.metrics.roc_curve.html) and [`roc_auc_score`](https://scikit-learn.org/stable/modules/generated/sklearn.metrics.roc_auc_score.html) functions from the Scikit-Learn metrics package, I'll conduct a thorough evaluation of our fitted model's capability to accurately differentiate between the two classes, SPAM (1) and HAM (0), using the `EmailContent` Embedding as input. The process begins with the application of the `roc_curve` function. This involves the comparison of the `y_labels` from the test dataset against the predicted `y_labels`. This comparison yields the *false positive* and *true positive* rates of prediction. These false and true positive rates can be graphically represented to visually assess the model's classification performance.\n",
    "\n",
    "Subsequently, the `roc_auc_score` function is used to quantitatively measure the model's predictive accuracy. This measurement categorizes the model's performance into one of four distinct levels (listed below): \n",
    "1. always predicting the opposite class\n",
    "2. performing no better than random guessing\n",
    "3. outperforming random guessing\n",
    "4. achieving perfect classification predictions \n",
    " \n",
    "In my case, the AUC score was recorded as `0.9821508589186757` (98.22%), indicating a performance level that significantly surpasses random guessing but falls just short of perfect prediction in distinguishing between the SPAM(1) and HAM(0) classes.\n",
    "\n",
    "* ***Advantage:***\n",
    "  * `roc_curve()` \\ `roc_auc_score()` - great for visually comparing performance of multiple models.\n",
    "* ***Disadvantage:***\n",
    "  * `roc_curve()` \\ * `roc_auc_score()` - Limited to binary classifications.\n",
    "\n",
    "### Predictions Classification Report\n",
    "\n",
    "To get a bit more into the details of evaluating the model I'll use the\n",
    "[`classification_report()`](https://scikit-learn.org/stable/modules/generated/sklearn.metrics.classification_report.html) function. This will provide details in the following categories: \n",
    "\n",
    "1. **Precision:** the ratio of correctly predicted classifications of SPAM (1) or HAM(0).\n",
    "2. **Recall:** the percentage of correctly predicted classifications aka the true positive percentage. This can be highly important in areas were missing a classification has big ramifications such as cancer diagnosis for example.\n",
    "3. **F1-Score:** This is a merging of *Precision* and *Recall*, providing a balanced view between the two.\n",
    "4. **Support:** is the total count in the dataset that fall into each classification. In SPAM detection these two classifications are SPAM(1) and HAM(0).\n",
    "\n",
    "##### Classification Report Results:\n",
    "\n",
    "|              | precision | recall | f1-score | support |\n",
    "|--------------|-----------|--------|----------|---------|\n",
    "| 0            | 0.99      | 0.97   | 0.98     | 7952    |\n",
    "| 1            | 0.97      | 0.99   | 0.98     | 8738    |\n",
    "|              |           |        |          |         |\n",
    "| accuracy     |           |        | 0.98     | 16690   |\n",
    "| macro avg    | 0.98      | 0.98   | 0.98     | 16690   |\n",
    "| weighted avg | 0.98      | 0.98   | 0.98     | 16690   |\n",
    "\n",
    "\n",
    "##### Classification Summary of Values:\n",
    "\n",
    "**Class 0 (HAM '0')**\n",
    "\n",
    "* **Precision:** 99% (Of all items labeled as '0', 99% were correct)\n",
    "* **Recall:** 97% (Of all actual '0' items, 97% were correctly identified)\n",
    "* **F1-Score:** 98% (A balance between precision and recall for '0')\n",
    "* **Support:** 7,952 (Total number of actual instances of '0' in the dataset)\n",
    "\n",
    "**Class 1 (SPAM '1')**\n",
    "\n",
    "* **Precision:** 97% (Of all items labeled as '1', 97% were correct)\n",
    "* **Recall:** 99% (Of all actual '1' items, 99% were correctly identified)\n",
    "* **F1-Score:** 98% (A balance between precision and recall for '1')\n",
    "* **Support:** 8,738 (Total number of actual instances of '1' in the dataset)\n",
    "\n",
    "**Overall Model Performance**\n",
    "\n",
    "**Accuracy:** 98% (Overall, the model correctly identified 98% of both classes)\n",
    "**Macro Average:** 98% (The average performance of the model across both classes, treating each class equally)\n",
    "**Weighted Average:**\n",
    " 98% (The average performance, but with importance weighted based on the support of each class)\n",
    "\n",
    "* ***Advantage:*** Breaks down scores on a per class basis.\n",
    "* ***Disadvantage:*** Is strictly used for binary classifications.\n",
    "\n",
    "### Mean Square Error and Root Mean Squared Error Results:\n",
    "\n",
    "**Total Test Values:** 16690\n",
    "\n",
    "**Mean Squared Error (MSE):** 0.01731575793888556 (1.73 %)\n",
    "* Squared difference between the predicted value and the actual value\n",
    "\n",
    "**Root Mean Squared Error (RMSE):** 0.13158935344048758 (13.16%)\n",
    "* Average error per prediction\n",
    "\n",
    "The logistic regression model has an MSE of 0.0173 (1.73%) and an RMSE of 0.1316 (13.16%). These results suggest that, on average, the model's predictions are relatively accurate.\n",
    "\n",
    "* ***Advantage:*** \n",
    "  * `MSE` - It's very simple math.\n",
    "  * `RMSE` - Easier to convey to non-technical people as the measurement units are same as original data.\n",
    "* ***Disadvantage:***\n",
    "  * `MSE` - Sensitive to outliers and measurements aren't the same as original data, harder to explain to non-technical people.\n",
    "  * `RMSE` - Doesn't work well with machine learning models like MSE.\n",
    "    \n",
    "### Predictions Confusion Matrix\n",
    "\n",
    "A confusion matrix is a table that is often used to evaluate the performance of a classification algorithm or model. It provides a summary of the model's predictions compared to the actual outcomes.\n",
    "\n",
    "Confusion Matrix:\n",
    "\n",
    "|                 | Predicted SPAM | Predicted HAM |\n",
    "|-----------------|----------------|---------------|\n",
    "| **Actual SPAM** | 7720           | 232           |\n",
    "| **Actual HAM**  | 57             | 8681          |\n",
    "\n",
    "* ***Advantage:*** Confusion matrices provide a detailed and comprehensive summary of a model's performance. This is also easy to plot with a heatmap for an easy-to-understand visual.\n",
    "* ***Disadvantage:*** Limited to binary classifications.\n",
    "\n",
    "\n",
    "### Probability Estimates on Test Dataset\n",
    "\n",
    "In the context of binary classification, the use of the `.predict_proba()` function serves to acquire probability estimates for each class, such as SPAM(1) and HAM(0), with regard to a given input instance. These probability estimates serve as indicators of the model's level of confidence in labeling a given text vector (embedding) as SPAM(1) or HAM(0)\n",
    "\n",
    "To enhance the functionality in this regard, I have implemented a custom function called `get_probabilities_by_threshold`. This function takes a list of probabilities as input and assesses whether either the SPAM or HAM probability falls below a specified threshold (which is parameterized, with the default set at 60%). Specifically, it identifies the maximum of the two classification probabilities and checks if it is below the designated threshold.\n",
    "\n",
    "The subsequent step involves the calculation of the `low_confidence_percentage`. This is achieved by determining the ratio of instances with low confidence predictions (as identified by the `get_probabilities_by_threshold` function) to the total number of SPAM probabilities in the dataset. The resulting `low_confidence_percentage` was found to be 1.62%.\n",
    "\n",
    "* ***Advantage:*** Allows for the customization of confidence threshold, similar to my custom confidence function `get_probabilities_by_threshold`\n",
    "* ***Disadvantage:*** Can be computationally expensive depending on probability list size.\n",
    "\n",
    "### Model Interpretation with Coefficients\n",
    "\n",
    "In my efforts to further analyze the trained model, specifically by applying the `trained_model.coef_` coefficients to the [`Logit()` function](https://www.statsmodels.org/dev/generated/statsmodels.discrete.discrete_model.Logit.html), I encountered significant hardware limitations. This challenge manifested as a `MemoryError`, indicating that more than 200GB of memory for the computation. Due to this limitation, I was unable to provide a detailed interpretation of the model coefficients at this time. However, it is important to note that such an interpretation would have offered valuable insights into the influence of predictor variables, as indicated by the coefficients (`trained_model.coef_`) in the context of the probabilities they represent. "
   ],
   "metadata": {
    "collapsed": false
   },
   "id": "77ae9f62ec37c8f0"
  },
  {
   "cell_type": "code",
   "execution_count": null,
   "outputs": [],
   "source": [
    "'''\n",
    "Analytics Custom Functions\n",
    "'''\n",
    "\n",
    "def binary_percentage_pie_chart(percentages: List[float], labels: List[str], title: str) -> None:\n",
    "    \"\"\"\n",
    "    :param percentages: Binary Percentages\n",
    "    :type percentages: List[float]\n",
    "    \n",
    "    :param labels: Binary Percentages Labels\n",
    "    :type labels: List[str]\n",
    "    \n",
    "    :param title: Title for the chart\n",
    "    :type title: str\n",
    "    \n",
    "    :return: None\n",
    "    \"\"\"\n",
    "    plt.pie(percentages\n",
    "            ,labels=labels #chart labels\n",
    "            ,explode=(.1, 0) #Make pie piece stick out\n",
    "            ,autopct='%1.1f%%' #Add percentage labels to chart\n",
    "            ,colors=['lightgreen', 'green']\n",
    "            ,textprops={ 'color': 'black', 'weight': 'bold' }\n",
    "            )\n",
    "    plt.title(title)\n",
    "    plt.axis('equal')\n",
    "    plt.show()\n",
    "\n",
    "def confusion_matrix_user_friendly(matrix: np.ndarray) -> str:\n",
    "    \"\"\"\n",
    "    :param matrix: Confusion Matrix Data\n",
    "    :type matrix: List[List[int]]\n",
    "     \n",
    "    :return: None\n",
    "    \"\"\"\n",
    "\n",
    "    display_friendly = f'''\n",
    "    True-Negatives: \\t{matrix[0][0]}\n",
    "    False-Positives:\\t{matrix[0][1]}\n",
    "    False-Negative: \\t{matrix[1][0]}\n",
    "    True-Positives: \\t{matrix[1][1]}\n",
    "    '''\n",
    "    return display_friendly\n",
    "\n",
    "def get_probabilities_by_threshold(probabilities: np.ndarray, threshold: float = .6) -> dict:\n",
    "    \"\"\"  \n",
    "    :param probabilities: Labeled probabilities (0 - HAM, 1 - SPAM)\n",
    "    :type probabilities: np.ndarray \n",
    "    \n",
    "    :param threshold: Threshold that is considered low-confidence\n",
    "    :type threshold: float, defaults to .6 (60%)\n",
    "    \n",
    "    :return: Dictionary of low-confidence \n",
    "    \"\"\"\n",
    "    \n",
    "    low_confidence_values = dict()\n",
    "    for current, (ham_prob, spam_prob) in enumerate(probabilities):\n",
    "        biggest_probability = max(ham_prob, spam_prob)\n",
    "        if biggest_probability < threshold:\n",
    "            low_confidence_values[current] = f'HAM(0): {ham_prob} | SPAM(1): {spam_prob}'\n",
    "            \n",
    "    return low_confidence_values"
   ],
   "metadata": {
    "collapsed": false,
    "is_executing": true
   },
   "id": "57ae4eac8d8cf8dd"
  },
  {
   "cell_type": "code",
   "execution_count": null,
   "outputs": [],
   "source": [
    "'''\n",
    "Fitting the Model\n",
    "'''\n",
    "model = LogisticRegression()\n",
    "trained_model = model.fit(X_train_emails_embeddings, y_train_labels)"
   ],
   "metadata": {
    "collapsed": false,
    "is_executing": true
   },
   "id": "1bbc64d3c2623c8c"
  },
  {
   "cell_type": "code",
   "execution_count": null,
   "outputs": [],
   "source": [
    "'''\n",
    "Model Evaluation\n",
    "\n",
    "Evaluate how accurate the model is.\n",
    "'''\n",
    "model_accuracy = trained_model.score(X_train_emails_embeddings, y_train_labels)\n",
    "model_inaccuracy = 1.0 - model_accuracy\n",
    "\n",
    "print(f'Model Accuracy: {model_accuracy}')\n",
    "\n",
    "model_accuracy_percentages = [model_accuracy, model_inaccuracy]\n",
    "model_accuracy_labels = ['Accurate', 'Inaccurate']\n",
    "\n",
    "binary_percentage_pie_chart(model_accuracy_percentages, model_accuracy_labels, 'Model Accuracy')"
   ],
   "metadata": {
    "collapsed": false,
    "is_executing": true
   },
   "id": "163d0e03665a2407"
  },
  {
   "cell_type": "code",
   "execution_count": null,
   "outputs": [],
   "source": [
    "'''\n",
    "Making Predictions\n",
    "'''\n",
    "\n",
    "y_label_predictions = trained_model.predict(X_test_emails_embeddings)"
   ],
   "metadata": {
    "collapsed": false,
    "is_executing": true
   },
   "id": "a348473baed490a5"
  },
  {
   "cell_type": "code",
   "execution_count": null,
   "outputs": [],
   "source": [
    "'''\n",
    "Predictions Accuracy\n",
    "'''\n",
    "\n",
    "spam_prediction_accuracy = accuracy_score(y_test_labels, y_label_predictions)\n",
    "spam_prediction_inaccuracy = 1.0 - spam_prediction_accuracy\n",
    "\n",
    "print(f'Model Prediction Accuracy {spam_prediction_accuracy}')\n",
    "\n",
    "spam_prediction_accuracy_percentages = [spam_prediction_accuracy, spam_prediction_inaccuracy]\n",
    "spam_predictions_accuracy_labels = ['Prediction Accuracy', 'Prediction Inaccuracy']\n",
    "\n",
    "binary_percentage_pie_chart(spam_prediction_accuracy_percentages, spam_predictions_accuracy_labels, 'Prediction Accuracy Results')"
   ],
   "metadata": {
    "collapsed": false,
    "is_executing": true
   },
   "id": "a09e8c447faf3e20"
  },
  {
   "cell_type": "code",
   "execution_count": null,
   "outputs": [],
   "source": [
    "'''\n",
    "Receiver Operator Characteristic (ROC) Curve & Score, Performance Assessment\n",
    "'''\n",
    "\n",
    "# Plotting ROC\n",
    "false_positive_rate, true_positive_rate, _ = roc_curve(y_test_labels, y_label_predictions)\n",
    "print(f'False Positive Rate: {false_positive_rate[1]}')\n",
    "print(f'True Positive Rate: {true_positive_rate[1]}')\n",
    "\n",
    "#Chart\n",
    "plt.plot([0,1], [0,1], 'k--')\n",
    "plt.plot(false_positive_rate, true_positive_rate, label='Logistic Regression Rates')\n",
    "plt.xlabel('False Positive Rate')\n",
    "plt.ylabel('True Positive Rate')\n",
    "plt.title('Logistical Regression ROC Curve')\n",
    "plt.show()"
   ],
   "metadata": {
    "collapsed": false,
    "is_executing": true
   },
   "id": "ad789e670c611369"
  },
  {
   "cell_type": "code",
   "execution_count": null,
   "outputs": [],
   "source": [
    "'''\n",
    "Area Under the Curve\n",
    "'''\n",
    "log_roc_auc_score = roc_auc_score(y_true=y_test_labels, y_score=y_label_predictions)\n",
    "print(f'AUC (Area Under the Curve) Score: {log_roc_auc_score} ({round(log_roc_auc_score * 100, 2)})')\n",
    "\n",
    "if log_roc_auc_score == .0:\n",
    "    print('Fitted model predicts opposite classification.')\n",
    "elif .0 < log_roc_auc_score < .5:\n",
    "    print('Fitted model predicts no better than random guessing.')\n",
    "elif .5 < log_roc_auc_score < .99:\n",
    "    print('Fitted model predicts better than random guessing.')\n",
    "else:\n",
    "    print('Fitted model perfectly predicts classifications.')\n",
    "\n"
   ],
   "metadata": {
    "collapsed": false,
    "is_executing": true
   },
   "id": "9c495b0db66dcd5f"
  },
  {
   "cell_type": "code",
   "execution_count": null,
   "outputs": [],
   "source": [
    "'''\n",
    "Predictions Classification Report\n",
    "'''\n",
    "spam_classification_report = classification_report(y_test_labels, y_label_predictions)\n",
    "\n",
    "print(spam_classification_report)"
   ],
   "metadata": {
    "collapsed": false,
    "is_executing": true
   },
   "id": "318db92247fe48e8"
  },
  {
   "cell_type": "code",
   "execution_count": null,
   "outputs": [],
   "source": [
    "'''\n",
    "Predictions Mean Squared Error (MSE) | Root Mean Squared Error (RMSE) Results\n",
    "'''\n",
    "\n",
    "mse = mean_squared_error(y_test_labels, y_label_predictions)\n",
    "rmse = math.sqrt(mse)\n",
    "\n",
    "error_results_display = f'''\n",
    "Total Test Values: {len(y_test_labels)}\n",
    "---------------------------------\n",
    "Mean Squared Error (MSE): {mse} ({round(mse * 100, 2)} %)\n",
    "   -Squared difference between the predicted value and the actual value\n",
    "Root Mean Squared Error (RMSE): {rmse} ({round(rmse * 100 ,2)}%)\n",
    "   -Average error per prediction\n",
    "'''\n",
    "\n",
    "print(error_results_display)"
   ],
   "metadata": {
    "collapsed": false,
    "is_executing": true
   },
   "id": "ad63ee551db4637b"
  },
  {
   "cell_type": "code",
   "execution_count": null,
   "outputs": [],
   "source": [
    "'''\n",
    "Predictions Confusion Matrix\n",
    "'''\n",
    "\n",
    "spam_prediction_confusion_matrix = confusion_matrix(y_test_labels, y_label_predictions)\n",
    "\n",
    "print(spam_prediction_confusion_matrix)\n",
    "\n",
    "spcm_display = confusion_matrix_user_friendly(spam_prediction_confusion_matrix)\n",
    "\n",
    "print(spcm_display)\n",
    "\n"
   ],
   "metadata": {
    "collapsed": false,
    "is_executing": true
   },
   "id": "5258cb581e6e4f77"
  },
  {
   "cell_type": "code",
   "execution_count": null,
   "outputs": [],
   "source": [
    "'''\n",
    "Heat Map of Predictions Confusion Matrix\n",
    "'''\n",
    "plt.figure(figsize=(16,8))\n",
    "sns.heatmap(spam_prediction_confusion_matrix, annot=True, fmt='g', cmap='Greens')\n",
    "plt.xlabel('Predicted IsSpam Labels')\n",
    "plt.ylabel('True Labels')\n",
    "plt.title('SPAM Detection Confusion Matrix')\n",
    "\n",
    "plt.show()"
   ],
   "metadata": {
    "collapsed": false,
    "is_executing": true
   },
   "id": "d8ee0fb4f7d06b3c"
  },
  {
   "cell_type": "code",
   "execution_count": null,
   "outputs": [],
   "source": [
    "'''\n",
    "Probability Estimates\n",
    "'''\n",
    "\n",
    "spam_probabilities = trained_model.predict_proba(X_test_emails_embeddings)\n",
    "low_confidence_results = get_probabilities_by_threshold(spam_probabilities)\n",
    "\n",
    "low_confidence_percentage = len(low_confidence_results) / len(spam_probabilities)\n",
    "print(f'Percentage of Low-Probabilities (< 60%) using test email embeddings is ({round(low_confidence_percentage * 100, 2)}%)')"
   ],
   "metadata": {
    "collapsed": false,
    "is_executing": true
   },
   "id": "2bc1c9cde5ca6a75"
  },
  {
   "cell_type": "code",
   "execution_count": null,
   "outputs": [],
   "source": [
    "'''\n",
    "Low-Confidence Probabilities Collected\n",
    "'''\n",
    "pp = pprint.PrettyPrinter(indent=4)\n",
    "pp.pprint(low_confidence_results)"
   ],
   "metadata": {
    "collapsed": false,
    "is_executing": true
   },
   "id": "1937249556ba1f06"
  },
  {
   "cell_type": "code",
   "execution_count": null,
   "outputs": [],
   "source": [
    "'''\n",
    "Model Interpretation\n",
    "'''\n",
    "model_coefficients = trained_model.coef_\n",
    "print(f'Total Coefficients: {len(model_coefficients[0])}')\n",
    "print(model_coefficients)\n",
    "\n",
    "#Data is too big for this. MemoryError now matter which solver I pick for LogisticRegression\n",
    "#logit_constant = add_constant(X_train_emails_embeddings)\n",
    "#logit_model = Logit(y_train_labels, logit_constant)\n",
    "#fitted_logit_model = logit_model.fit()\n",
    "\n",
    "#print(fitted_logit_model.summary())\n",
    "\n",
    "issue_text = '''\n",
    "This Logit method produces error:\n",
    "\n",
    "MemoryError: Unable to allocate 280. GiB for an array with shape (18780026770, 2) and data type int64\n",
    "'''\n",
    "\n",
    "print(issue_text)"
   ],
   "metadata": {
    "collapsed": false,
    "is_executing": true
   },
   "id": "30c986fcd7d27389"
  },
  {
   "cell_type": "markdown",
   "source": [
    "<a id=\"data-summary-and-implications\"></a>\n",
    "# E: Data Summary and Implications\n",
    ">Summarize the implications of your data analysis by discussing the results of your data analysis in the context of the research question, including one limitation of your analysis. Within the context of your research question, recommend a course of action based on your results. Then propose two directions or approaches for future study of the data set.\n",
    "\n",
    "## Summary\n",
    "\n",
    "#### Research Question\n",
    "The research question focuses on the feasibility of developing a machine learning model that can accurately classify content as SPAM or non-SPAM (HAM), using a specific dataset.\n",
    "\n",
    "<br />\n",
    "\n",
    "---\n",
    "\n",
    "#### Analysis of Results:\n",
    "\n",
    "**High Accuracy:**\n",
    " The model exhibits a high accuracy of about 98.96% and a prediction accuracy of approximately 98.27%. This indicates a strong capability in distinguishing SPAM(1) from HAM(0). A Logistical Regression Model can be effectively trained for such classification tasks using datasets like the TREC Public Spam Corpus and Enron emails.\n",
    "\n",
    "**AUC Score:** \n",
    "An AUC (Area Under the Curve) Score of 98.2% suggests that the model has a high true positive rate and a low false positive rate. With regard to SPAM detection this is important as it means we have a low mis-classification (false-positive) of emails as SPAM(1) when they are actually HAM(0) \n",
    "\n",
    "**Precision and Recall:** \n",
    "The precision and recall values are both high across SPAM(1) and HAM(0) classifications. This balance is essential for practical applications to ensure that both spam and legitimate emails are accurately identified.\n",
    "\n",
    "**Error Metrics:** \n",
    "The Mean Squared Error (MSE) and Root Mean Squared Error (RMSE) are relatively low, indicating that the model's predictions are generally close to the actual values.\n",
    "\n",
    "<br />\n",
    "\n",
    "---\n",
    "\n",
    "#### Limitations:\n",
    "\n",
    "**Dataset Limitation:** The model's training is based on data from 2007, which may not fully represent the evolving nature of SPAM. SPAM tactics and content have likely evolved since then, which could affect the model's effectiveness against current SPAM.\n",
    "\n",
    "<br />\n",
    "\n",
    "---\n",
    "\n",
    "#### Recommendation:\n",
    "\n",
    "Given the high accuracy and effectiveness of this Logistical Regression Model trained on labeled SPAM(1)/HAM(0) emails, it is recommended to deploy this model in a controlled environment. This will allow for further evaluates of its performance with current email data. This would involve monitoring its classification accuracy in real-time and adjusting thresholds or indicate if we need to gather more data to improve the model.\n",
    "\n",
    "<br />\n",
    "\n",
    "---\n",
    "\n",
    "#### Future Study Directions:\n",
    "1. **Model Updating and Fine-Tuning:** To address the dataset limitation of being an older from 2007 dataset, future studies could focus on continuously updating the model with newer SPAM(1) and HAM(0) datasets. This would help the model adapt to the evolving nature of SPAM and maintain its high accuracy over time.\n",
    "\n",
    "<br />\n",
    "\n",
    "2. **Algorithm Comparison:** Exploring and comparing other machine learning algorithms or deep learning models such as `Neural Networks` for example, might yield even better results or efficiency. Studies could focus on comparing different models to understand which ones are most effective for SPAM(1) detection in various contexts, including different languages, email formats, and evolving SPAM(1) tactics.\n",
    "\n",
    "<br />\n",
    "\n",
    "---\n",
    "\n",
    "#### Conclusion:\n",
    "The current Logistical Regression Model demonstrates a promising approach to SPAM(1) detection. Although, this is a great starting point the model from this Performance Assessment should constantly be updated as well as other types of models researched, created and deployed as the SPAM(1) game is every changing and isn't one that will disappear anytime soon.\n",
    "\n",
    "---\n",
    "\n",
    "#### Accept or Reject the Null(*HΦ*) Hypothesis:\n",
    "\n",
    "In a variety of metrics that I used to evaluate the Logistical Regression Model it was consistently over 95%. These means I will ***REJECT*** the Null(*HΦ*) Hypothesis. I will accept the Alternate Hypothesis (*Ha*) as the Logistical Regression Model is accurate above 95%.\n"
   ],
   "metadata": {
    "collapsed": false
   },
   "id": "8fc5dab3b02d992"
  },
  {
   "cell_type": "markdown",
   "source": [
    "<a id=\"sources\"></a>\n",
    "# F: Sources\n",
    ">Acknowledge sources, using in-text citations and references, for content that is quoted.\n",
    "\n",
    "* PURU SINGHVI. (n.d.). Spam Email Classification Dataset Kaggle.\n",
    "  Retrieved from https://www.kaggle.com/datasets/purusinghvi/email-spam-classification-dataset\n",
    "  <br /><br />\n",
    "\n",
    "* Nair, Aashish. (2021, November 22). TF-IDF Demystified. Towards Data Science. \n",
    "  Retrieved from https://towardsdatascience.com/tf-idf-demystified-7dd3ef071b24  \n",
    "  <br /><br />\n",
    "\n",
    "* GitHub. (n.d.). About large files on GitHub. GitHub Docs. \n",
    "  Retrieved from https://docs.github.com/en/repositories/working-with-files/managing-large-files/about-large-files-on-github\n",
    "  <br /><br />"
   ],
   "metadata": {
    "collapsed": false
   },
   "id": "168c90fed75111bd"
  },
  {
   "cell_type": "code",
   "execution_count": null,
   "outputs": [],
   "source": [],
   "metadata": {
    "collapsed": false,
    "is_executing": true
   },
   "id": "9e16e97600e5da0f"
  }
 ],
 "metadata": {
  "kernelspec": {
   "display_name": "Python 3",
   "language": "python",
   "name": "python3"
  },
  "language_info": {
   "codemirror_mode": {
    "name": "ipython",
    "version": 2
   },
   "file_extension": ".py",
   "mimetype": "text/x-python",
   "name": "python",
   "nbconvert_exporter": "python",
   "pygments_lexer": "ipython2",
   "version": "2.7.6"
  }
 },
 "nbformat": 4,
 "nbformat_minor": 5
}
