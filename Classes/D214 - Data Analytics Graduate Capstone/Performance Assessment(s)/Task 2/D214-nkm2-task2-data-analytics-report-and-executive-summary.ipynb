{
 "cells": [
  {
   "cell_type": "markdown",
   "source": [
    "# D214 - Data Analytics Graduate Capstone\n",
    "### NKM2 Task 2: Data Analytics Report and Executive Summary\n",
    "#### Data Analytics Graduate Capstone — D214\n",
    "#### PRFA - NKM2\n",
    "> André Davis\n",
    "> StudentID: 010630641\n",
    "> MSDA\n",
    ">\n",
    "> Competencies\n",
    "> 981.1.1 : Capstone\n",
    "> The graduate integrates and synthesizes competencies from across the degree program and thereby demonstrates the ability to participate in and contribute value to the chosen professional field."
   ],
   "metadata": {
    "collapsed": false
   },
   "id": "6e76c0ccd2ac8730"
  },
  {
   "cell_type": "markdown",
   "source": [
    "##### Table of Contents\n",
    "\n",
    "<ul>\n",
    "    <li><a href=\"#research-question\">A: Research Question</a></li>\n",
    "    <li><a href=\"#data-collection\">B: Data Collection</a></li>\n",
    "    <li><a href=\"#data-extraction-and-preparation\">C: Data Extraction and Preparation</a></li>\n",
    "    <li><a href=\"#analysis\">D: Analysis</a></li>\n",
    "    <li><a href=\"#data-summary-and-implications\">E: Data Summary and Implications</a></li>\n",
    "    <li><a href=\"#sources\">F: Sources</a></li>\n",
    "</ul>"
   ],
   "metadata": {
    "collapsed": false
   },
   "id": "dd6f4a96728fa8a5"
  },
  {
   "cell_type": "markdown",
   "source": [
    "<a id=\"research-question\"></a>\n",
    "# A: Research Question\n",
    ">Summarize the original real-data research question you identified in task 1. Your summary should include justification for the research question you identified in task 1, a description of the context in which the research question exists, and a discussion of your hypothesis.\n",
    "\n",
    "#### Research Question:\n",
    "Is it possible to develop a machine learning model that can accurately classify new content as SPAM or non-SPAM (HAM), using a dataset comprising known SPAM and regular content from the 2007 TREC Public Spam Corpus and Enron emails? \n",
    "\n",
    "\n",
    "#### Justification:\n",
    "Spam presents a significant challenge for both businesses and households. It not only consumes valuable storage space and impedes the identification of critical emails, but it also poses a substantial security risk. Spam emails can serve as conduits for malicious threats such as viruses, worms, phishing scams, and ransomware. Therefore, implementing models capable of accurately detecting spam is essential. These models are not only crucial for enhancing security measures but also for ensuring that email server storage is reserved exclusively for important organizational communications.\n",
    "\n",
    "\n",
    "#### Hypothesis:\n",
    "\n",
    "**Null hypothesis (*HΦ*)**- The machine learning model developed using the 2007 TREC Public Spam Corpus and Enron emails dataset cannot accurately classify new content as SPAM or non-SPAM (HAM) with an accuracy score of 95% or higher. This implies that any observed accuracy in classification does not significantly exceed what would be expected by chance. \n",
    "\n",
    "**Alternate Hypothesis (*Ha*)**- The machine learning model developed using the 2007 TREC Public Spam Corpus and Enron emails dataset can accurately classify new content as SPAM or non-SPAM (HAM) with an accuracy score of 95% or higher. This suggests that the model has learned effective patterns within the dataset, enabling it to differentiate between SPAM and non-SPAM content significantly better than chance."
   ],
   "metadata": {
    "collapsed": false
   },
   "id": "790b035419964ef5"
  },
  {
   "cell_type": "markdown",
   "source": [
    "<a id=\"data-collection\"></a>\n",
    "# B: Data Collection\n",
    ">Report on your data-collection process by describing the relevant data you collected, discussing one advantage and one disadvantage of the data-gathering methodology you used, and discussing how you overcame any challenges you encountered during the process of collecting your data.\n",
    "\n",
    "##### Data Collected\n",
    "\n",
    "The dataset under discussion, titled *'Spam Email Classification Dataset'*, encompasses a meticulously curated collection of email content. Each email within this dataset has been accurately categorized as either 'SPAM' or 'NOT SPAM' (often referred to as 'HAM'). This valuable compilation of data was sourced from the well-known platform, [kaggle.com](https://www.kaggle.com/).\n",
    "\n",
    "The composition of the dataset is diverse, integrating data from two prominent sources: the Enron Corpus and the TREC Public Spam Corpus. This blend ensures a rich variety of email samples. One of the key features of this dataset is its pre-labeled nature. The emails, which exhibit a range of unstructured content, have been pre-classified, rendering the dataset immediately applicable for training machine learning models in spam detection and email filtering tasks. Such ready-to-use, pre-labeled datasets are instrumental in facilitating efficient model training and accurate spam classification.\n",
    "\n",
    "Dataset Description:\n",
    "\n",
    "| Feature        | Datatype      | Description                                                                                                                                                                                          |\n",
    "|----------------|---------------|------------------------------------------------------------------------------------------------------------------------------------------------------------------------------------------------------|\n",
    "| label          | Qualitative   | This is the feature that is the label of the dataset. It is a Boolean represented as 1 or 0<br/>1 represents the associated text is SPAM<br/>0 represents the associated text is HAM (Not SPAM)      |\n",
    "| text           | Qualitative   | This is just text content (unstructured data). In the case of this dataset the contents are an Email. This is the data that will be used to train and is pre-labeled for the Machine Learning model. |\n",
    "\n",
    "### Data Collection Advantage\n",
    "Utilizing a data repository such as [kaggle.com](https://www.kaggle.com/) offers the distinct advantage of having the data collection process already completed from the original source(s). In the majority of instances, the nature of the data is comprehensively described, its usability is assessed through scoring, and any instances of missing data are diligently documented.\n",
    "\n",
    "### Data Collection Disadvantage\n",
    "\n",
    "One drawback associated with this approach is that achieving a comprehensive verification of all the sources used in creating the dataset necessitates visiting the listed original sources and meticulously conducting a thorough comparison between the original data and the content contained within the Kaggle dataset.\n",
    "\n",
    "### Challenges and Overcoming Them\n",
    "\n",
    "This particular challenge is not related to the collection per se but rather the storage of the data collected and its storage in GitHub as my WGU work has been stored there. \n",
    "\n",
    ">GitHub blocks files larger than 100 MiB.\n",
    "> Source: [GitHub Large Files](https://docs.github.com/en/repositories/working-with-files/managing-large-files/about-large-files-on-github)\n",
    "\n",
    "The 'Spam Email Classification Dataset' consists of approximately 84,000 rows, with a file size ranging between 133MB and 144MB. To incorporate this dataset into my GitHub repository for the Capstone Project, I divided it into two separate files. While this approach facilitated the dataset's inclusion in my repository, it introduced an additional step in the coding process. Specifically, I will need to perform two separate file reads and subsequently merge the datasets back into the original one.\n",
    "\n"
   ],
   "metadata": {
    "collapsed": false
   },
   "id": "ccea40610699bf8b"
  },
  {
   "cell_type": "markdown",
   "source": [
    "<a id=\"data-extraction-and-preparation\"></a>\n",
    "# C: Data Extraction and Preparation\n",
    ">Describe your data-extraction and preparation process and provide screenshots to illustrate each step. Explain the tools and techniques you used for data extraction and data preparation, including how these tools and techniques were used on the data. Justify why you used these particular tools and techniques, including one advantage and one disadvantage when they are used with your data-extraction and -preparation methods. \n",
    "\n",
    "TODO: Explain the tools and techniques used:\n",
    "       1. Advantage\n",
    "       2. Disadvantage\n",
    "\n",
    "\n",
    "\n",
    "#### NOTE To Evaluator: \n",
    "\n",
    "Because this is an interactive Jupyter Notebook the description will be in Markdown and instead of screenshots inline code and charts will be used."
   ],
   "metadata": {
    "collapsed": false
   },
   "id": "79fa2d98e76de6cb"
  },
  {
   "cell_type": "code",
   "execution_count": 124,
   "outputs": [
    {
     "name": "stderr",
     "output_type": "stream",
     "text": [
      "[nltk_data] Downloading package punkt to\n",
      "[nltk_data]     C:\\Users\\cubic\\AppData\\Roaming\\nltk_data...\n",
      "[nltk_data]   Package punkt is already up-to-date!\n",
      "[nltk_data] Downloading package stopwords to\n",
      "[nltk_data]     C:\\Users\\cubic\\AppData\\Roaming\\nltk_data...\n",
      "[nltk_data]   Package stopwords is already up-to-date!\n"
     ]
    }
   ],
   "source": [
    "'''\n",
    "Python Library Imports\n",
    "'''\n",
    "import re\n",
    "\n",
    "import polars as pl\n",
    "import numpy as np\n",
    "import matplotlib.pyplot as plt\n",
    "\n",
    "import nltk\n",
    "nltk.download('punkt')\n",
    "nltk.download('stopwords')\n",
    "from nltk.corpus import stopwords\n",
    "from nltk.tokenize import word_tokenize\n",
    "\n",
    "import emoji\n",
    "from unidecode import unidecode\n",
    "from sklearn.feature_extraction.text import CountVectorizer\n",
    "from sklearn.linear_model import LogisticRegression\n",
    "from sklearn.metrics import mean_squared_error\n",
    "from statsmodels.stats.outliers_influence import variance_inflation_factor\n",
    "from statsmodels.api import Logit\n",
    "from sklearn.model_selection import train_test_split\n",
    "from sklearn.metrics import confusion_matrix"
   ],
   "metadata": {
    "collapsed": false,
    "ExecuteTime": {
     "end_time": "2023-11-27T04:53:36.047907700Z",
     "start_time": "2023-11-27T04:53:36.014168800Z"
    }
   },
   "id": "3b4dcf3e54e35ea6"
  },
  {
   "cell_type": "markdown",
   "source": [
    "# Loading the labeled SPAM data\n",
    "\n",
    "As outlined in Section B, we will be importing a dataset that has been divided into two separate files. This division was necessary to comply with GitHub's file size limitation of 100 MB.\n",
    "\n",
    "1. Load files\n",
    "   * '0-enron-emails-labeled.csv'\n",
    "   * '1-enron-emails-labeled.csv'\n",
    "2. Merge files back into original dataset, expect 83448 rows of data\n",
    "3. Rename columns to IsSpam and EmailContent for readability"
   ],
   "metadata": {
    "collapsed": false
   },
   "id": "8462ea833b030163"
  },
  {
   "cell_type": "code",
   "execution_count": 125,
   "outputs": [],
   "source": [
    "def check_expected_row(data: pl.DataFrame) -> None:\n",
    "    \"\"\"   \n",
    "    :param data: Polars Dataframe to check the projects row count \n",
    "    :type data: pl.DataFrame\n",
    "     \n",
    "    :return: None\n",
    "    \"\"\"\n",
    "    expected_rows = 83448\n",
    "    assert expected_rows == data.height, f'Expected data to contain {expected_rows} rows.'"
   ],
   "metadata": {
    "collapsed": false,
    "ExecuteTime": {
     "end_time": "2023-11-27T04:53:36.053038200Z",
     "start_time": "2023-11-27T04:53:36.019486500Z"
    }
   },
   "id": "696f598476042bd2"
  },
  {
   "cell_type": "code",
   "execution_count": 126,
   "outputs": [
    {
     "data": {
      "text/plain": "shape: (83_448, 2)\n┌────────┬───────────────────────────────────┐\n│ IsSpam ┆ EmailContent                      │\n│ ---    ┆ ---                               │\n│ i64    ┆ str                               │\n╞════════╪═══════════════════════════════════╡\n│ 1      ┆ hello , how are you doing ?\n       │\n│        ┆ bet…                              │\n│ 0      ┆ maybe you're looking for somethi… │\n│ 0      ┆  begin pgp signed message hash s… │\n│ 0      ┆  why filename xmp it should be b… │\n│ …      ┆ …                                 │\n│ 1      ┆ while we may have high expectati… │\n│ 1      ┆ hello , welcome to pharmonl nunc… │\n│ 0      ┆ linux cifs client bounces shiris… │\n│ 1      ┆ numeric keypad dot matrix printe… │\n└────────┴───────────────────────────────────┘",
      "text/html": "<div><style>\n.dataframe > thead > tr > th,\n.dataframe > tbody > tr > td {\n  text-align: right;\n  white-space: pre-wrap;\n}\n</style>\n<small>shape: (83_448, 2)</small><table border=\"1\" class=\"dataframe\"><thead><tr><th>IsSpam</th><th>EmailContent</th></tr><tr><td>i64</td><td>str</td></tr></thead><tbody><tr><td>1</td><td>&quot;hello , how ar…</td></tr><tr><td>0</td><td>&quot;maybe you&#x27;re l…</td></tr><tr><td>0</td><td>&quot; begin pgp sig…</td></tr><tr><td>0</td><td>&quot; why filename …</td></tr><tr><td>1</td><td>&quot;lynnette just …</td></tr><tr><td>1</td><td>&quot;companion shor…</td></tr><tr><td>0</td><td>&quot;you have recei…</td></tr><tr><td>1</td><td>&quot;hello ,\r\nwe se…</td></tr><tr><td>1</td><td>&quot;dear valued me…</td></tr><tr><td>1</td><td>&quot;from the offic…</td></tr><tr><td>0</td><td>&quot;you can use th…</td></tr><tr><td>1</td><td>&quot;stock watch ai…</td></tr><tr><td>&hellip;</td><td>&hellip;</td></tr><tr><td>0</td><td>&quot;author jpeach …</td></tr><tr><td>0</td><td>&quot;the extension …</td></tr><tr><td>0</td><td>&quot;the following …</td></tr><tr><td>1</td><td>&quot;important comm…</td></tr><tr><td>1</td><td>&quot;anatrim an ext…</td></tr><tr><td>1</td><td>&quot;attention men …</td></tr><tr><td>0</td><td>&quot;information on…</td></tr><tr><td>1</td><td>&quot;srea jumps esc…</td></tr><tr><td>1</td><td>&quot;while we may h…</td></tr><tr><td>1</td><td>&quot;hello , welcom…</td></tr><tr><td>0</td><td>&quot;linux cifs cli…</td></tr><tr><td>1</td><td>&quot;numeric keypad…</td></tr></tbody></table></div>"
     },
     "execution_count": 126,
     "metadata": {},
     "output_type": "execute_result"
    }
   ],
   "source": [
    "top_data = pl.read_csv('./0-enron-emails-labeled.csv')\n",
    "bottom_data = pl.read_csv('./1-enron-emails-labeled.csv')\n",
    "\n",
    "merged = pl.concat([top_data, bottom_data]).drop('index')\n",
    "\n",
    "assert merged.is_empty() == False, f'The merged Polars dataframe should not be empty.'\n",
    "\n",
    "check_expected_row(merged)\n",
    "\n",
    "renamed = {\n",
    "     'label': 'IsSpam'\n",
    "    ,'text': 'EmailContent' \n",
    "}\n",
    "\n",
    "labeled_emails = merged.rename(mapping=renamed)\n",
    "\n",
    "labeled_emails"
   ],
   "metadata": {
    "collapsed": false,
    "ExecuteTime": {
     "end_time": "2023-11-27T04:53:36.344237700Z",
     "start_time": "2023-11-27T04:53:36.026669200Z"
    }
   },
   "id": "77f8d570418b5c86"
  },
  {
   "cell_type": "markdown",
   "source": [
    "#### Check for empty values \n",
    "\n",
    "The dataset *'Spam Email Classification Dataset'* from [Kaggle](https://www.kaggle.com/) stated there are NO missing values. This is a verification step."
   ],
   "metadata": {
    "collapsed": false
   },
   "id": "8ef75d1463f56911"
  },
  {
   "cell_type": "code",
   "execution_count": 127,
   "outputs": [],
   "source": [
    "def missing_values_check(data: pl.DataFrame) -> None:\n",
    "    \"\"\"\n",
    "    :param data: Dataframe to check for missing values per column\n",
    "    :type data: pl.DataFrame\n",
    "     \n",
    "    :return: None\n",
    "    \"\"\"\n",
    "    \n",
    "    missing_values = data.null_count()\n",
    "    for column in missing_values.columns:\n",
    "        print(f'Checking [{column}] for missing values...')\n",
    "        missing_count = missing_values[column][0]\n",
    "        assert missing_count == 0, f'{column} feature should have zero missing values but found {missing_count}'\n",
    "        print(f'[{column}] has no missing values.')"
   ],
   "metadata": {
    "collapsed": false,
    "ExecuteTime": {
     "end_time": "2023-11-27T04:53:36.346259400Z",
     "start_time": "2023-11-27T04:53:36.342854300Z"
    }
   },
   "id": "de6d99bb16f4a02f"
  },
  {
   "cell_type": "code",
   "execution_count": 128,
   "outputs": [
    {
     "name": "stdout",
     "output_type": "stream",
     "text": [
      "Checking [IsSpam] for missing values...\n",
      "[IsSpam] has no missing values.\n",
      "Checking [EmailContent] for missing values...\n",
      "[EmailContent] has no missing values.\n"
     ]
    }
   ],
   "source": [
    "missing_values_check(labeled_emails)"
   ],
   "metadata": {
    "collapsed": false,
    "ExecuteTime": {
     "end_time": "2023-11-27T04:53:36.366064600Z",
     "start_time": "2023-11-27T04:53:36.345753200Z"
    }
   },
   "id": "2a468aaf25b75c05"
  },
  {
   "cell_type": "code",
   "execution_count": 129,
   "outputs": [
    {
     "data": {
      "text/plain": "shape: (9, 3)\n┌────────────┬──────────┬───────────────────────────────────┐\n│ describe   ┆ IsSpam   ┆ EmailContent                      │\n│ ---        ┆ ---      ┆ ---                               │\n│ str        ┆ f64      ┆ str                               │\n╞════════════╪══════════╪═══════════════════════════════════╡\n│ count      ┆ 83448.0  ┆ 83448                             │\n│ null_count ┆ 0.0      ┆ 0                                 │\n│ mean       ┆ 0.526196 ┆ null                              │\n│ std        ┆ 0.499316 ┆ null                              │\n│ min        ┆ 0.0      ┆ \u0001 & who wants to help millions ?…  │\n│ 25%        ┆ 0.0      ┆ null                              │\n│ 50%        ┆ 1.0      ┆ null                              │\n│ 75%        ┆ 1.0      ┆ null                              │\n│ max        ┆ 1.0      ┆ 李俊杰 wrote dear r lister one of │\n│            ┆          ┆ m…                                │\n└────────────┴──────────┴───────────────────────────────────┘",
      "text/html": "<div><style>\n.dataframe > thead > tr > th,\n.dataframe > tbody > tr > td {\n  text-align: right;\n  white-space: pre-wrap;\n}\n</style>\n<small>shape: (9, 3)</small><table border=\"1\" class=\"dataframe\"><thead><tr><th>describe</th><th>IsSpam</th><th>EmailContent</th></tr><tr><td>str</td><td>f64</td><td>str</td></tr></thead><tbody><tr><td>&quot;count&quot;</td><td>83448.0</td><td>&quot;83448&quot;</td></tr><tr><td>&quot;null_count&quot;</td><td>0.0</td><td>&quot;0&quot;</td></tr><tr><td>&quot;mean&quot;</td><td>0.526196</td><td>null</td></tr><tr><td>&quot;std&quot;</td><td>0.499316</td><td>null</td></tr><tr><td>&quot;min&quot;</td><td>0.0</td><td>&quot;\u0001 &amp; who wants …</td></tr><tr><td>&quot;25%&quot;</td><td>0.0</td><td>null</td></tr><tr><td>&quot;50%&quot;</td><td>1.0</td><td>null</td></tr><tr><td>&quot;75%&quot;</td><td>1.0</td><td>null</td></tr><tr><td>&quot;max&quot;</td><td>1.0</td><td>&quot;李俊杰 wrote dear…</td></tr></tbody></table></div>"
     },
     "execution_count": 129,
     "metadata": {},
     "output_type": "execute_result"
    }
   ],
   "source": [
    "'''\n",
    "Describe the Data\n",
    "'''\n",
    "labeled_emails.describe()"
   ],
   "metadata": {
    "collapsed": false,
    "ExecuteTime": {
     "end_time": "2023-11-27T04:53:36.398604300Z",
     "start_time": "2023-11-27T04:53:36.363046800Z"
    }
   },
   "id": "dc236aa1b839a166"
  },
  {
   "cell_type": "markdown",
   "source": [
    "### Data Balance Check\n",
    "\n",
    "Verifying Visually and Mathematically that the data is balanced for the Logistical Regression Model."
   ],
   "metadata": {
    "collapsed": false
   },
   "id": "fa7276e32f1333d3"
  },
  {
   "cell_type": "code",
   "execution_count": 130,
   "outputs": [
    {
     "data": {
      "text/plain": "<Figure size 1400x800 with 1 Axes>",
      "image/png": "[encoded data removed]"
     },
     "metadata": {},
     "output_type": "display_data"
    }
   ],
   "source": [
    "'''\n",
    "Generate a Histogram Chart to visual display HAM(0) vs SPAM(1) balance\n",
    "'''\n",
    "is_spam_label = ['HAM (0)', 'SPAM (1)']\n",
    "\n",
    "hist_data = labeled_emails['IsSpam'].hist(bins=(0,1))\n",
    "bins = hist_data['break_point'].to_numpy()[:-1].astype(int)\n",
    "counts = hist_data['IsSpam_count'].to_numpy()[:-1].astype(int)\n",
    "\n",
    "plt.figure(figsize=(14,8))\n",
    "\n",
    "#values to place inside bar\n",
    "for index, value in enumerate(counts):\n",
    "    plt.text(bins[index], value, str(value), ha='center', va='bottom')\n",
    "\n",
    "plt.bar(bins, counts, width=1, color='green')\n",
    "plt.xlabel('IsSpam')\n",
    "plt.xticks(ticks=bins, labels=is_spam_label)\n",
    "plt.ylabel('Frequency')\n",
    "plt.title('IsSpam Data Frequency')\n",
    "plt.show()"
   ],
   "metadata": {
    "collapsed": false,
    "ExecuteTime": {
     "end_time": "2023-11-27T04:53:36.476028900Z",
     "start_time": "2023-11-27T04:53:36.374401100Z"
    }
   },
   "id": "f9d6a5411571bac5"
  },
  {
   "cell_type": "code",
   "execution_count": 131,
   "outputs": [
    {
     "name": "stdout",
     "output_type": "stream",
     "text": [
      "\n",
      "Percentages:\n",
      "------------\n",
      " HAM(0): 47.38%\n",
      "SPAM(1): 52.62%\n"
     ]
    }
   ],
   "source": [
    "'''\n",
    "Calculate percentage of HAM(0) vs SPAM(1) to pair with visual balance check.\n",
    "'''\n",
    "total_results = (counts[0] + counts[1])\n",
    "ham_percentage = counts[0] / total_results\n",
    "spam_percentage = counts[1] / total_results\n",
    "\n",
    "ham_percentage_formatted = \"{:.2f}\".format(ham_percentage * 100)\n",
    "spam_percentage_formatted = \"{:.2f}\".format(spam_percentage * 100)\n",
    "\n",
    "balance_results = f'''\n",
    "Percentages:\n",
    "------------\n",
    " HAM(0): {ham_percentage_formatted}%\n",
    "SPAM(1): {spam_percentage_formatted}%\n",
    "'''\n",
    "print(balance_results)"
   ],
   "metadata": {
    "collapsed": false,
    "ExecuteTime": {
     "end_time": "2023-11-27T04:53:36.477038100Z",
     "start_time": "2023-11-27T04:53:36.465298700Z"
    }
   },
   "id": "b32293abebc98b48"
  },
  {
   "cell_type": "code",
   "execution_count": 132,
   "outputs": [
    {
     "data": {
      "text/plain": "<Figure size 640x480 with 1 Axes>",
      "image/png": "[encoded data removed]"
     },
     "metadata": {},
     "output_type": "display_data"
    }
   ],
   "source": [
    "'''\n",
    "Visualization of the calculated percentages of IsSpam.\n",
    "'''\n",
    "plt.pie([ham_percentage, spam_percentage], labels=is_spam_label, autopct='%.2f%%')\n",
    "plt.axis('equal')\n",
    "plt.show()"
   ],
   "metadata": {
    "collapsed": false,
    "ExecuteTime": {
     "end_time": "2023-11-27T04:53:36.584918400Z",
     "start_time": "2023-11-27T04:53:36.469409200Z"
    }
   },
   "id": "649e3e9307b2de69"
  },
  {
   "cell_type": "markdown",
   "source": [
    "### Pre-Processing EmailContent (text) for Vectorization/Embedding\n",
    "\n",
    "In this phase, we will undertake the professional preprocessing of `EmailContent`, which inherently possesses an unstructured format due to its origin as email text. The process will involve the meticulous removal of special characters and stop words. This refinement is essential to enable the model to concentrate more effectively on the critical components of the email text content."
   ],
   "metadata": {
    "collapsed": false
   },
   "id": "c24598e3c1a17d8f"
  },
  {
   "cell_type": "code",
   "execution_count": 133,
   "outputs": [],
   "source": [
    "def preprocess_text(text:str) -> str:\n",
    "    \"\"\"\n",
    "    :param text: Content that needs to be cleaned before vectorization/embeddings\n",
    "    :type text: str\n",
    "     \n",
    "    :return: Cleaned Content\n",
    "    \"\"\"\n",
    "    \n",
    "    text = text.lower()\n",
    "    text = unidecode(text) #normalization. Dealing with things like accents\n",
    "    text = emoji.demojize(text) #fix emojis\n",
    "    text = re.sub(r'[^\\w\\s]', '', text) #remove punctuations\n",
    "    \n",
    "    tokens = word_tokenize(text)\n",
    "    stop_words = set(stopwords.words('english'))\n",
    "    \n",
    "    filtered = list()\n",
    "    for word in tokens:\n",
    "        if word not in stop_words:\n",
    "            filtered.append(word)\n",
    "    \n",
    "    processed_text = ' '.join(filtered)\n",
    "    return processed_text\n"
   ],
   "metadata": {
    "collapsed": false,
    "ExecuteTime": {
     "end_time": "2023-11-27T04:53:36.584918400Z",
     "start_time": "2023-11-27T04:53:36.537382800Z"
    }
   },
   "id": "32fb19d4b3c0b8b5"
  },
  {
   "cell_type": "code",
   "execution_count": 134,
   "outputs": [
    {
     "name": "stdout",
     "output_type": "stream",
     "text": [
      "Checking [IsSpam] for missing values...\n",
      "[IsSpam] has no missing values.\n",
      "Checking [EmailContent] for missing values...\n",
      "[EmailContent] has no missing values.\n",
      "Checking [PreProcessed_EmailContent] for missing values...\n",
      "[PreProcessed_EmailContent] has no missing values.\n"
     ]
    },
    {
     "data": {
      "text/plain": "shape: (5, 3)\n┌────────┬───────────────────────────────────┬───────────────────────────────────┐\n│ IsSpam ┆ EmailContent                      ┆ PreProcessed_EmailContent         │\n│ ---    ┆ ---                               ┆ ---                               │\n│ i64    ┆ str                               ┆ str                               │\n╞════════╪═══════════════════════════════════╪═══════════════════════════════════╡\n│ 1      ┆ hello , how are you doing ?\n       ┆ hello better spam filters delive… │\n│        ┆ bet…                              ┆                                   │\n│ 0      ┆ maybe you're looking for somethi… ┆ maybe youre looking something li… │\n│ 0      ┆  begin pgp signed message hash s… ┆ begin pgp signed message hash sh… │\n│ 0      ┆  why filename xmp it should be b… ┆ filename xmp basename xmp dot pr… │\n│ 1      ┆ lynnette just told me about what… ┆ lynnette told lately going belie… │\n└────────┴───────────────────────────────────┴───────────────────────────────────┘",
      "text/html": "<div><style>\n.dataframe > thead > tr > th,\n.dataframe > tbody > tr > td {\n  text-align: right;\n  white-space: pre-wrap;\n}\n</style>\n<small>shape: (5, 3)</small><table border=\"1\" class=\"dataframe\"><thead><tr><th>IsSpam</th><th>EmailContent</th><th>PreProcessed_EmailContent</th></tr><tr><td>i64</td><td>str</td><td>str</td></tr></thead><tbody><tr><td>1</td><td>&quot;hello , how ar…</td><td>&quot;hello better s…</td></tr><tr><td>0</td><td>&quot;maybe you&#x27;re l…</td><td>&quot;maybe youre lo…</td></tr><tr><td>0</td><td>&quot; begin pgp sig…</td><td>&quot;begin pgp sign…</td></tr><tr><td>0</td><td>&quot; why filename …</td><td>&quot;filename xmp b…</td></tr><tr><td>1</td><td>&quot;lynnette just …</td><td>&quot;lynnette told …</td></tr></tbody></table></div>"
     },
     "execution_count": 134,
     "metadata": {},
     "output_type": "execute_result"
    }
   ],
   "source": [
    "preprocessed_labeled_emails = labeled_emails.with_columns(\n",
    "    labeled_emails['EmailContent'].map_elements(preprocess_text)\n",
    "                                  .alias('PreProcessed_EmailContent')\n",
    ")\n",
    "\n",
    "check_expected_row(preprocessed_labeled_emails)\n",
    "missing_values_check(preprocessed_labeled_emails)\n",
    "\n",
    "preprocessed_labeled_emails.head(n=5)"
   ],
   "metadata": {
    "collapsed": false,
    "ExecuteTime": {
     "end_time": "2023-11-27T04:55:34.150819200Z",
     "start_time": "2023-11-27T04:53:36.540546400Z"
    }
   },
   "id": "d6d1ed8536337be6"
  },
  {
   "cell_type": "markdown",
   "source": [
    "<a id=\"analysis\"></a>\n",
    "# D: Analysis\n",
    ">  Report on your data-analysis process by describing the analysis technique(s) you used to appropriately analyze the data. Include the calculations you performed and their outputs. Justify how you selected the analysis technique(s) you used, including one advantage and one disadvantage of these technique(s)."
   ],
   "metadata": {
    "collapsed": false
   },
   "id": "2760c021e2d4b167"
  },
  {
   "cell_type": "markdown",
   "source": [
    "<a id=\"data-summary-and-implications\"></a>\n",
    "# E: Data Summary and Implications\n",
    ">Summarize the implications of your data analysis by discussing the results of your data analysis in the context of the research question, including one limitation of your analysis. Within the context of your research question, recommend a course of action based on your results. Then propose two directions or approaches for future study of the data set."
   ],
   "metadata": {
    "collapsed": false
   },
   "id": "8fc5dab3b02d992"
  },
  {
   "cell_type": "markdown",
   "source": [
    "<a id=\"sources\"></a>\n",
    "# F: Sources\n",
    ">Acknowledge sources, using in-text citations and references, for content that is quoted.\n",
    "\n",
    "* PURU SINGHVI. (n.d.). Spam Email Classification Dataset Kaggle.\n",
    "  Retrieved from https://www.kaggle.com/datasets/purusinghvi/email-spam-classification-dataset\n",
    "  <br /><br />\n",
    "  \n",
    "* GitHub. (n.d.). About large files on GitHub. GitHub Docs. \n",
    "  Retrieved from https://docs.github.com/en/repositories/working-with-files/managing-large-files/about-large-files-on-github\n",
    "  <br /><br />"
   ],
   "metadata": {
    "collapsed": false
   },
   "id": "168c90fed75111bd"
  }
 ],
 "metadata": {
  "kernelspec": {
   "display_name": "Python 3",
   "language": "python",
   "name": "python3"
  },
  "language_info": {
   "codemirror_mode": {
    "name": "ipython",
    "version": 2
   },
   "file_extension": ".py",
   "mimetype": "text/x-python",
   "name": "python",
   "nbconvert_exporter": "python",
   "pygments_lexer": "ipython2",
   "version": "2.7.6"
  }
 },
 "nbformat": 4,
 "nbformat_minor": 5
}
