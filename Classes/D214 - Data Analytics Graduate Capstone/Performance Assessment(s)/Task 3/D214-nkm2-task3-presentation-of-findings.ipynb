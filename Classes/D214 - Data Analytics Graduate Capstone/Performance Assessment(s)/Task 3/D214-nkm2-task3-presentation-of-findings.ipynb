{
 "cells": [
  {
   "cell_type": "markdown",
   "source": [
    "# D214 - Data Analytics Graduate Capstone\n",
    "### NKM2 Task 3: Presentation Of Findings\n",
    "#### Data Analytics Graduate Capstone — D214\n",
    "#### PRFA - NKM2\n",
    "> André Davis\n",
    "> StudentID: 010630641\n",
    "> MSDA\n",
    ">\n",
    "> Competencies\n",
    "> 981.1.1 : Capstone\n",
    "> The graduate integrates and synthesizes competencies from across the degree program and thereby demonstrates the ability to participate in and contribute value to the chosen professional field."
   ],
   "metadata": {
    "collapsed": false
   },
   "id": "e037bebf472027d2"
  },
  {
   "cell_type": "markdown",
   "source": [
    "##### Table of Contents\n",
    "\n",
    "<ul>\n",
    "    <li><a href=\"#executive-summary-and-implications\">A: Executive Summary and Implications</a></li>\n",
    "    <li><a href=\"#presentation-of-findings\">B: Presentation of Findings</a></li>\n",
    "    <li><a href=\"#sources\">C: Sources</a></li>\n",
    "    <li><a href=\"#professional-communication\">D: Professional Communication</a></li>\n",
    "</ul>"
   ],
   "metadata": {
    "collapsed": false
   },
   "id": "9fa4926eaebf0441"
  },
  {
   "cell_type": "markdown",
   "source": [
    "<a id=\"executive-summary-and-implications\"></a>\n",
    "# A: Executive Summary and Implications\n",
    "\n",
    "> Develop an executive summary using your data and results from task 2. The summary should be written for a technical audience of your data-analytics peers or members of your team and should include each of the following: \n",
    "> * a statement of the problem and the hypothesis \n",
    "> * a summary of the data-analysis process\n",
    "> * an outline of the findings  \n",
    "> * an explanation of the limitations of the techniques and tools used\n",
    "> * a summary of proposed actions\n",
    "> * expected benefits of the study (be as specific and quantitative as possible)\n",
    " \n",
    "\n",
    "#### Executive Summary And Implications File (Microsoft [Word](https://www.microsoft.com/en-us/microsoft-365/word)):\n",
    "\n",
    "[Executive Summary](./D214-nkm2-task3-executive-summary-and-implications.docx)\n",
    "[Executive Summary - PDF]()"
   ],
   "metadata": {
    "collapsed": false
   },
   "id": "42923b2459cca1ea"
  },
  {
   "cell_type": "markdown",
   "source": [
    "<a id=\"presentation-of-findings\"></a>\n",
    "# B: Presentation of Findings\n",
    "\n",
    "> Present your Capstone project to a non-technical audience. Use Panopto to record yourself delivering a presentation that includes slides displayed by a multimedia tool (e.g., PowerPoint, Keynote, Prezi). Your recording should capture your multimedia presentation. Your presentation should also demonstrate appropriate communication skills for the audience.\n",
    "> \n",
    "> * Cover in your presentation each of the following points:\n",
    ">  * a brief introduction of yourself and your background\n",
    ">  * a statement of the problem and the hypothesis \n",
    ">  * a summary of the data-analysis process    \n",
    ">  * an outline of the findings \n",
    ">  * an explanation of the limitations of the techniques and tools used \n",
    ">  * a summary of proposed actions \n",
    ">  * expected benefits of the study (be as specific and quantitative as possible)\n",
    " \n",
    "\n",
    "#### Presentation File (Microsoft [PowerPoint](https://www.microsoft.com/en-us/microsoft-365/powerpoint)):\n",
    "\n",
    "[Presentation](./D214-nkm2-task3-presentation-of-findings.pptx)"
   ],
   "metadata": {
    "collapsed": false
   },
   "id": "95d3a87acbed4533"
  },
  {
   "cell_type": "markdown",
   "source": [
    "<a id=\"sources\"></a>\n",
    "# C: Sources\n",
    "\n",
    "> Acknowledge sources, using in-text citations and references, for content that is quoted, paraphrased, or summarized."
   ],
   "metadata": {
    "collapsed": false
   },
   "id": "bab086de1426583c"
  },
  {
   "cell_type": "markdown",
   "source": [
    "<a id=\"professional-communication\"></a>\n",
    "# D: Professional Communication\n",
    "\n",
    "> Demonstrate professional communication in the content and presentation of your submission."
   ],
   "metadata": {
    "collapsed": false
   },
   "id": "db08c8fc8db8dbd1"
  }
 ],
 "metadata": {
  "kernelspec": {
   "display_name": "Python 3",
   "language": "python",
   "name": "python3"
  },
  "language_info": {
   "codemirror_mode": {
    "name": "ipython",
    "version": 2
   },
   "file_extension": ".py",
   "mimetype": "text/x-python",
   "name": "python",
   "nbconvert_exporter": "python",
   "pygments_lexer": "ipython2",
   "version": "2.7.6"
  }
 },
 "nbformat": 4,
 "nbformat_minor": 5
}
