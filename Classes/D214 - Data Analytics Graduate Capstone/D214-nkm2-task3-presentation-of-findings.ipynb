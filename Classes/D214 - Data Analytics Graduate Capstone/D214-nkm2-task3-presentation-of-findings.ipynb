{
 "cells": [
  {
   "cell_type": "markdown",
   "source": [
    "# D214 - Data Analytics Graduate Capstone\n",
    "### NKM2 Task 3: Presentation Of Findings\n",
    "#### Data Analytics Graduate Capstone — D214\n",
    "#### PRFA - NKM2\n",
    "> André Davis\n",
    "> StudentID: 010630641\n",
    "> MSDA\n",
    ">\n",
    "> Competencies\n",
    "> 981.1.1 : Capstone\n",
    "> The graduate integrates and synthesizes competencies from across the degree program and thereby demonstrates the ability to participate in and contribute value to the chosen professional field."
   ],
   "metadata": {
    "collapsed": false
   },
   "id": "e037bebf472027d2"
  },
  {
   "cell_type": "markdown",
   "source": [
    "##### Table of Contents\n",
    "\n",
    "<ul>\n",
    "    <li><a href=\"#executive-summary-and-implications\">A: Executive Summary and Implications</a></li>\n",
    "    <li><a href=\"#presentation\">B: Presentation: Organization and Professionalism</a></li>\n",
    "    <li><a href=\"#presentation-content\">B1: Presentation Content</a></li>\n",
    "    <li><a href=\"#sources\">C: Sources</a></li>\n",
    "    <li><a href=\"#professional-communication\">Professional Communication</a></li>\n",
    "</ul>"
   ],
   "metadata": {
    "collapsed": false
   },
   "id": "9fa4926eaebf0441"
  },
  {
   "cell_type": "markdown",
   "source": [
    "<a id=\"executive-summary-and-implications\"></a>\n",
    "# A: Executive Summary and Implications"
   ],
   "metadata": {
    "collapsed": false
   },
   "id": "42923b2459cca1ea"
  },
  {
   "cell_type": "markdown",
   "source": [
    "<a id=\"presentation\"></a>\n",
    "# B: Presentation"
   ],
   "metadata": {
    "collapsed": false
   },
   "id": "c423c066bb6462bb"
  },
  {
   "cell_type": "markdown",
   "source": [
    "<a id=\"presentation-content\"></a>\n",
    "# B1: Presentation Content"
   ],
   "metadata": {
    "collapsed": false
   },
   "id": "95d3a87acbed4533"
  },
  {
   "cell_type": "markdown",
   "source": [
    "<a id=\"sources\"></a>\n",
    "# C: Sources"
   ],
   "metadata": {
    "collapsed": false
   },
   "id": "bab086de1426583c"
  },
  {
   "cell_type": "markdown",
   "source": [
    "<a id=\"professional-communication\"></a>\n",
    "# D: Professional Communication"
   ],
   "metadata": {
    "collapsed": false
   },
   "id": "db08c8fc8db8dbd1"
  }
 ],
 "metadata": {
  "kernelspec": {
   "display_name": "Python 3",
   "language": "python",
   "name": "python3"
  },
  "language_info": {
   "codemirror_mode": {
    "name": "ipython",
    "version": 2
   },
   "file_extension": ".py",
   "mimetype": "text/x-python",
   "name": "python",
   "nbconvert_exporter": "python",
   "pygments_lexer": "ipython2",
   "version": "2.7.6"
  }
 },
 "nbformat": 4,
 "nbformat_minor": 5
}
