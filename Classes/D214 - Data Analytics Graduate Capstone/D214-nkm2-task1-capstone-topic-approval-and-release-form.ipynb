{
 "cells": [
  {
   "cell_type": "markdown",
   "source": [
    "# D214 - Data Analytics Graduate Capstone\n",
    "### NKM2 Task 1: Capstone Topic Approval and Release Form\n",
    "#### Data Analytics Graduate Capstone — D214\n",
    "#### PRFA - NKM2\n",
    "> André Davis\n",
    "> StudentID: 010630641\n",
    "> MSDA\n",
    ">\n",
    "> Competencies\n",
    "> 981.1.1 : Capstone\n",
    "> The graduate integrates and synthesizes competencies from across the degree program and thereby demonstrates the ability to participate in and contribute value to the chosen professional field."
   ],
   "metadata": {
    "collapsed": false
   },
   "id": "c277778813ddc5b0"
  },
  {
   "cell_type": "markdown",
   "source": [
    "##### Table of Contents\n",
    "\n",
    "<ul>\n",
    "    <li><a href=\"#topic-approval-form\">A: Topic Approval Form</a></li>\n",
    "    <li><a href=\"#capstone-release-form\">B: Capstone Release Form</a></li>\n",
    "    <li><a href=\"#sources\">C: Sources</a></li>\n",
    "</ul>"
   ],
   "metadata": {
    "collapsed": false
   },
   "id": "2682326aec96a1b1"
  },
  {
   "cell_type": "markdown",
   "source": [
    "<a id=\"topic-approval-form\"></a>\n",
    "# A: Topic Approval Form "
   ],
   "metadata": {
    "collapsed": false
   },
   "id": "cf797d7925bb2d41"
  },
  {
   "cell_type": "markdown",
   "source": [
    "<a id=\"capstone-release-form\"></a>\n",
    "# B: Capstone Release Form"
   ],
   "metadata": {
    "collapsed": false
   },
   "id": "f0c515cfe11c1cb6"
  },
  {
   "cell_type": "markdown",
   "source": [
    "<a id=\"sources\"></a>\n",
    "# C: Sources"
   ],
   "metadata": {
    "collapsed": false
   },
   "id": "eb328949cfae5a5"
  }
 ],
 "metadata": {
  "kernelspec": {
   "display_name": "Python 3",
   "language": "python",
   "name": "python3"
  },
  "language_info": {
   "codemirror_mode": {
    "name": "ipython",
    "version": 2
   },
   "file_extension": ".py",
   "mimetype": "text/x-python",
   "name": "python",
   "nbconvert_exporter": "python",
   "pygments_lexer": "ipython2",
   "version": "2.7.6"
  }
 },
 "nbformat": 4,
 "nbformat_minor": 5
}
