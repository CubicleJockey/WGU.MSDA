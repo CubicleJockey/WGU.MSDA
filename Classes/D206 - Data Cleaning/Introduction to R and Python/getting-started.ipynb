{
 "cells": [
  {
   "cell_type": "code",
   "execution_count": 1,
   "id": "cf4c8223-fd49-4c70-99c9-4806f3066eef",
   "metadata": {},
   "outputs": [],
   "source": [
    "import pandas as pd\n",
    "import numpy as np\n",
    "\n",
    "df = pd.read_csv('boston-housing-data.csv', dtype={'locationid':np.int64})\n",
    "df.head(5);"
   ]
  },
  {
   "cell_type": "code",
   "execution_count": null,
   "id": "7124e37c-e5e6-42f9-a8b9-e23bdee7f5a2",
   "metadata": {},
   "outputs": [],
   "source": []
  }
 ],
 "metadata": {
  "kernelspec": {
   "display_name": "Python 3 (ipykernel)",
   "language": "python",
   "name": "python3"
  },
  "language_info": {
   "codemirror_mode": {
    "name": "ipython",
    "version": 3
   },
   "file_extension": ".py",
   "mimetype": "text/x-python",
   "name": "python",
   "nbconvert_exporter": "python",
   "pygments_lexer": "ipython3",
   "version": "3.9.13"
  }
 },
 "nbformat": 4,
 "nbformat_minor": 5
}
