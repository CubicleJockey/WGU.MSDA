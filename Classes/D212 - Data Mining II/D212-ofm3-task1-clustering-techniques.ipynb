{
 "cells": [
  {
   "cell_type": "markdown",
   "source": [
    "# D212 - Data Mining II\n",
    "### OFM3 Task 1: Clustering Technique\n",
    "#### Data Mining II — D212\n",
    "#### PRFA — OFM3\n",
    "> André Davis\n",
    "> StudentID: 010630641\n",
    "> MSDA\n",
    ">\n",
    "> Competencies\n",
    "> 4030.06.4 : Clustering Techniques\n",
    "> The graduate applies clustering techniques to accurately predict outcomes of interest."
   ],
   "metadata": {
    "collapsed": false
   }
  },
  {
   "cell_type": "markdown",
   "source": [
    "#### Table of Contents\n",
    "<ul>\n",
    "    <li><a href=\"#research-question\">A1: Research Question</a></li>\n",
    "    <li><a href=\"#objectives\">A2: Objectives and Goals of Analysis</a></li>\n",
    "    <li><a href=\"#explination-of-clustering\">B1: Explanation of Clustering Technique</a></li>\n",
    "    <li><a href=\"#assumptions\">B2: Assumptions of Clustering Technique</a></li>\n",
    "    <li><a href=\"#benefits-of-tool\">B3: Benefits of Chosen Tools</a></li>\n",
    "    <li><a href=\"#preparation-goals\">C1: Data Preparation Goals and Necessary Manipulation</a></li>\n",
    "    <li><a href=\"#variable-selection\">C2: Variable Selection & Identification</a></li>\n",
    "    <li><a href=\"#data-preparation\">C3: Preparation of Data</a></li>\n",
    "    <li><a href=\"#copy-of-dataset\">C4: Copy of Prepared Data Set</a></li>\n",
    "    <li><a href=\"#analysis-description\">D1: Analysis Description</a></li>\n",
    "    <li><a href=\"#classification-analaysis-code\">D2: Classification Analysis Code</a></li>\n",
    "    <li><a href=\"#model-accuracy\">E1: Accuracy of Clustering Model</a></li>\n",
    "    <li><a href=\"#model-results\">E2: Model Results</a></li>\n",
    "    <li><a href=\"#model-limitations\">E3: Model Limitations</a></li>\n",
    "    <li><a href=\"#recommended-action\">E4: Recommended Action</a></li>\n",
    "    <li><a href=\"#panopto-recording\">F: Panopto Recording</a></li>\n",
    "    <li><a href=\"#code-reference\">G: Code References</a></li>\n",
    "    <li><a href=\"#source-reference\">H: Source References</a></li>\n",
    "</ul>"
   ],
   "metadata": {
    "collapsed": false
   }
  },
  {
   "cell_type": "markdown",
   "source": [
    "<a id=\"research-question\"></a>\n",
    "# A1: Research Question\n",
    "\n",
    "During the exploration of the Data Analytics life-cycle and the presentation of our findings to the Executive and support team, the focus of the [`WGU Medical Data`](https://access.wgu.edu/ASP3/aap/content/d8fj4l3d9s94jfu43kf9.zip) has been primarily on the concrete data and inquiries regarding re-admissions. In the context of WGU MSDA-D211, when sharing the findings of the data analytics teams, we initiated the creation of visual maps to represent patient perception based on geographical location.\n",
    "\n",
    "Upon recognizing the potential relationship between patient perception and re-admissions, the executive team assigned us the task of analyzing the survey-specific data. In section `C3: Preparation of Data`, we verified the distribution of the survey questions and observed that they followed a very similiar distributions which may be hiding meaningful information. In order to uncover any additional meaningful insights, we will utilize hierarchical clustering to determine if there is indeed any additional significance to be derived.\n",
    "\n",
    "**Research Question:**\n",
    "> Using hierarchical clustering, are we able to gain additional significant insights into the survey data found within the WGU Medical Dataset?"
   ],
   "metadata": {
    "collapsed": false
   }
  },
  {
   "cell_type": "markdown",
   "source": [
    "<a id=\"objectives\"></a>\n",
    "# A2: Objectives and Goals of Analysis\n",
    "\n",
    "The objective of conducting Hierarchical Clustering Analysis on the survey section of the [`WGU Medical Dataset`](https://access.wgu.edu/ASP3/aap/content/d8fj4l3d9s94jfu43kf9.zip) is to uncover potentially significant insights hidden within the similarly distributed data. By clustering the data, we aim to identify specific areas of focus that can contribute to improving patient perception and reducing WGU Hospital Readmission rates in ways that may not be immediately apparent. Fundamentally, our goal is to examine the survey data and identify groups of patients who could potentially receive better service, while simultaneously reducing readmission rates to meet third-party [`HRRP`](https://www.cms.gov/medicare/medicare-fee-for-service-payment/acuteinpatientpps/readmissions-reduction-program) requirements. This approach has the potential to generate cost benefits for the hospital, patients, and the broader healthcare system as a whole."
   ],
   "metadata": {
    "collapsed": false
   }
  },
  {
   "cell_type": "markdown",
   "source": [
    "<a id=\"explination-of-clustering\"></a>\n",
    "# B1: Explanation of Clustering Technique\n",
    "\n",
    "\"Hierarchical clustering allows the user to visualize the effect of specifying different numbers of clusters.\"(Bruce et al., 2020) . It creates a hierarchical structure of clusters by successively merging or splitting clusters. This technique helps to reveal underlying patterns and relationships within a dataset, allowing us to identify distinct groups or clusters that share common characteristics. The resulting hierarchy can be visualized using a dendrogram, which provides a visual representation of the clustering process. Hierarchical clustering is a valuable tool for exploratory data analysis and can assist in making informed decisions and gaining insights from complex datasets.\n",
    "\n",
    "Dendrogram:\n",
    "> \"Hierarchical clustering lends itself to a natural graphical display as a tree,...\" (Bruce et al., 2020).\n",
    "\n",
    "### Hierarchical Clustering Example:\n",
    "![Hierarchical Clustering Example](./Images/hierarchical-clustering-example-datacamp.png)\n",
    "*Image Citation:* (Keita, 2023)\n",
    "\n",
    "##### How hierarchical clustering will be performed:\n",
    " 1. The survey data of all the WGU Medical Dataset patients will be stored in a [`Pandas DataFrame`](https://pandas.pydata.org/pandas-docs/stable/reference/api/pandas.DataFrame.html?highlight=dataframe#pandas.DataFrame) for processing.\n",
    " 2. The [`SciPy`](https://scipy.org/) library provides a function called [`linkage`](https://docs.scipy.org/doc/scipy/reference/generated/scipy.cluster.hierarchy.linkage.html) that allows us to take the dataframe and produce a matrix of data that represents the hierarchical tree data.\n",
    " 3. Graphically displaying the hierarchical tree data for human consumption with a [`Dendrogram`](https://en.wikipedia.org/wiki/Dendrogram) diagram with the [`SciPy dendrogram function`](https://docs.scipy.org/doc/scipy/reference/generated/scipy.cluster.hierarchy.dendrogram.html#scipy.cluster.hierarchy.dendrogram). This will provide an easy-to-understand visualization of the clusters and their distance from one another.\n",
    " 4. Finally, we'll add labels to the clusters with [`fcluster`](https://docs.scipy.org/doc/scipy/reference/generated/scipy.cluster.hierarchy.fcluster.html#scipy.cluster.hierarchy.fcluster)\n",
    " 5. Use the final labeled Dendrogram to analyze for additional patterns."
   ],
   "metadata": {
    "collapsed": false
   }
  },
  {
   "cell_type": "markdown",
   "source": [
    "<a id=\"assumptions\"></a>\n",
    "# B2: Assumption of Clustering Technique"
   ],
   "metadata": {
    "collapsed": false
   }
  },
  {
   "cell_type": "markdown",
   "source": [
    "<a id=\"benefits-of-tool\"></a>\n",
    "# B3: Benefits of Chosen Tools"
   ],
   "metadata": {
    "collapsed": false
   }
  },
  {
   "cell_type": "markdown",
   "source": [
    "<a id=\"preparation-goals\"></a>\n",
    "# C1: Data Preparation Goals and Necessary Manipulation"
   ],
   "metadata": {
    "collapsed": false
   }
  },
  {
   "cell_type": "code",
   "execution_count": null,
   "outputs": [],
   "source": [
    "\n",
    "\n"
   ],
   "metadata": {
    "collapsed": false
   }
  },
  {
   "cell_type": "markdown",
   "source": [
    "<a id=\"variable-selection\"></a>\n",
    "# C2: Variable Selection & Identification"
   ],
   "metadata": {
    "collapsed": false
   }
  },
  {
   "cell_type": "code",
   "execution_count": null,
   "outputs": [],
   "source": [],
   "metadata": {
    "collapsed": false
   }
  },
  {
   "cell_type": "markdown",
   "source": [
    "<a id=\"data-preparation\"></a>\n",
    "# C3: Preparation of Data"
   ],
   "metadata": {
    "collapsed": false
   }
  },
  {
   "cell_type": "code",
   "execution_count": null,
   "outputs": [],
   "source": [
    "import pandas as pd\n",
    "import matplotlib.pyplot as plt\n",
    "\n",
    "medical_data = pd.read_csv('./medical_clean.csv')\n",
    "\n",
    "survey_data = medical_data[['Item1', 'Item2', 'Item3', 'Item4', 'Item5', 'Item6', 'Item7', 'Item8']]\n",
    "\n",
    "column_renames = {\n",
    "    'Item1': 'Timely_Admission'\n",
    "    ,'Item2': 'Timely_Treatment'\n",
    "    ,'Item3': 'Timely_Visits'\n",
    "    ,'Item4': 'Reliability'\n",
    "    ,'Item5': 'Options'\n",
    "    ,'Item6': 'Hours_Of_Treatment'\n",
    "    ,'Item7': 'Courteous_Staff'\n",
    "    ,'Item8': 'Listening' #Evidence of active listening from Doctor\n",
    "}\n",
    "\n",
    "survey_data.rename(columns=column_renames, inplace=True)\n",
    "\n",
    "print(survey_data.info())\n",
    "\n",
    "'''\n",
    "Exploratory items:\n",
    "  * Double-checking the distributions of the data\n",
    "'''\n",
    "number_of_bins = 8\n",
    "survey_columns = survey_data.columns.tolist()\n",
    "for column in survey_columns:\n",
    "    plt.hist(survey_data[column], bins=number_of_bins)\n",
    "    plt.xlabel('Data')\n",
    "    plt.ylabel('Frequency')\n",
    "    plt.title(f'{column} Distribution')\n",
    "    plt.show()"
   ],
   "metadata": {
    "collapsed": false
   }
  },
  {
   "cell_type": "markdown",
   "source": [
    "<a id=\"copy-of-dataset\"></a>\n",
    "# C4: Copy of Prepared Data Set"
   ],
   "metadata": {
    "collapsed": false
   }
  },
  {
   "cell_type": "code",
   "execution_count": null,
   "outputs": [],
   "source": [],
   "metadata": {
    "collapsed": false
   }
  },
  {
   "cell_type": "markdown",
   "source": [
    "<a id=\"analysis-description\"></a>\n",
    "# D1: Analysis Description"
   ],
   "metadata": {
    "collapsed": false
   }
  },
  {
   "cell_type": "code",
   "execution_count": null,
   "outputs": [],
   "source": [],
   "metadata": {
    "collapsed": false
   }
  },
  {
   "cell_type": "markdown",
   "source": [
    "<a id=\"classification-analaysis-code\"></a>\n",
    "# D2: Classification Analysis Code"
   ],
   "metadata": {
    "collapsed": false
   }
  },
  {
   "cell_type": "code",
   "execution_count": null,
   "outputs": [],
   "source": [],
   "metadata": {
    "collapsed": false
   }
  },
  {
   "cell_type": "markdown",
   "source": [
    "<a id=\"model-accuracy\"></a>\n",
    "# E1: Accuracy of Clustering Model"
   ],
   "metadata": {
    "collapsed": false
   }
  },
  {
   "cell_type": "code",
   "execution_count": null,
   "outputs": [],
   "source": [],
   "metadata": {
    "collapsed": false
   }
  },
  {
   "cell_type": "markdown",
   "source": [
    "<a id=\"model-results\"></a>\n",
    "# E2: Model Results"
   ],
   "metadata": {
    "collapsed": false
   }
  },
  {
   "cell_type": "code",
   "execution_count": null,
   "outputs": [],
   "source": [],
   "metadata": {
    "collapsed": false
   }
  },
  {
   "cell_type": "markdown",
   "source": [
    "<a id=\"model-limitations\"></a>\n",
    "# E3: Model Limitations"
   ],
   "metadata": {
    "collapsed": false
   }
  },
  {
   "cell_type": "code",
   "execution_count": null,
   "outputs": [],
   "source": [],
   "metadata": {
    "collapsed": false
   }
  },
  {
   "cell_type": "markdown",
   "source": [
    "<a id=\"recommended-action\"></a>\n",
    "# E4: Recommended Action"
   ],
   "metadata": {
    "collapsed": false
   }
  },
  {
   "cell_type": "code",
   "execution_count": null,
   "outputs": [],
   "source": [],
   "metadata": {
    "collapsed": false
   }
  },
  {
   "cell_type": "markdown",
   "source": [
    "<a id=\"anopto-recording\"></a>\n",
    "# F: Panopto Recording"
   ],
   "metadata": {
    "collapsed": false
   }
  },
  {
   "cell_type": "markdown",
   "source": [
    "<a id=\"panopto-recording\"></a>\n",
    "# G: Code References"
   ],
   "metadata": {
    "collapsed": false
   }
  },
  {
   "cell_type": "markdown",
   "source": [
    "<a id=\"source-reference\"></a>\n",
    "# H: Source References\n",
    "\n",
    " * Bruce, P., Bruce, A., &amp; Gedeck, P. (2020). Practical statistics for data scientists: 50+ essential concepts using r and python. O’Reilly Media.\n",
    "\n",
    " * Keita, Z. (2023, January 19). An introduction to hierarchical clustering in Python. DataCamp. https://www.datacamp.com/tutorial/introduction-hierarchical-clustering-python"
   ],
   "metadata": {
    "collapsed": false
   }
  },
  {
   "cell_type": "markdown",
   "source": [],
   "metadata": {
    "collapsed": false
   }
  }
 ],
 "metadata": {
  "kernelspec": {
   "display_name": "Python 3",
   "language": "python",
   "name": "python3"
  },
  "language_info": {
   "codemirror_mode": {
    "name": "ipython",
    "version": 2
   },
   "file_extension": ".py",
   "mimetype": "text/x-python",
   "name": "python",
   "nbconvert_exporter": "python",
   "pygments_lexer": "ipython2",
   "version": "2.7.6"
  }
 },
 "nbformat": 4,
 "nbformat_minor": 0
}
