{
 "cells": [
  {
   "cell_type": "markdown",
   "source": [
    "# D212 - Data Mining II\n",
    "### OFM3 Task 1: Clustering Technique\n",
    "#### Data Mining II — D212\n",
    "#### PRFA — OFM3\n",
    "> André Davis\n",
    "> StudentID: 010630641\n",
    "> MSDA\n",
    ">\n",
    "> Competencies\n",
    "> 4030.06.4 : Clustering Techniques\n",
    "> The graduate applies clustering techniques to accurately predict outcomes of interest."
   ],
   "metadata": {
    "collapsed": false
   }
  },
  {
   "cell_type": "markdown",
   "source": [
    "#### Table of Contents\n",
    "<ul>\n",
    "    <li><a href=\"#research-question\">A1: Research Question</a></li>\n",
    "    <li><a href=\"#objectives\">A2: Objectives and Goals of Analysis</a></li>\n",
    "    <li><a href=\"#explination-of-clustering\">B1: Explanation of Clustering Technique</a></li>\n",
    "    <li><a href=\"#assumptions\">B2: Assumptions of Clustering Technique</a></li>\n",
    "    <li><a href=\"#benefits-of-tool\">B3: Benefits of Chosen Tools</a></li>\n",
    "    <li><a href=\"#preparation-goals\">C1: Data Preparation Goals and Necessary Manipulation</a></li>\n",
    "    <li><a href=\"#variable-seleciton\">C2: Variable Selection & Identification</a></li>\n",
    "    <li><a href=\"#data-preparation\">C3: Preparation of Data</a></li>\n",
    "    <li><a href=\"#copy-of-dataset\">C4: Copy of Prepared Data Set</a></li>\n",
    "    <li><a href=\"#analysis-description\">D1: Analysis Description</a></li>\n",
    "    <li><a href=\"#classification-analaysis-code\">D2: Classification Analysis Code</a></li>\n",
    "    <li><a href=\"#model-accuracy\">E1: Accuracy of Clustering Model</a></li>\n",
    "    <li><a href=\"#model-results\">E2: Model Results</a></li>\n",
    "    <li><a href=\"#model-limitations\">E3: Model Limitations</a></li>\n",
    "    <li><a href=\"#recommended-action\">E4: Recommended Action</a></li>\n",
    "    <li><a href=\"#panopto-recording\">F: Panopto Recording</a></li>\n",
    "    <li><a href=\"#code-reference\">G: Code References</a></li>\n",
    "    <li><a href=\"#source-reference\">H: Source References</a></li>\n",
    "</ul>"
   ],
   "metadata": {
    "collapsed": false
   }
  },
  {
   "cell_type": "code",
   "execution_count": null,
   "outputs": [],
   "source": [],
   "metadata": {
    "collapsed": false
   }
  }
 ],
 "metadata": {
  "kernelspec": {
   "display_name": "Python 3",
   "language": "python",
   "name": "python3"
  },
  "language_info": {
   "codemirror_mode": {
    "name": "ipython",
    "version": 2
   },
   "file_extension": ".py",
   "mimetype": "text/x-python",
   "name": "python",
   "nbconvert_exporter": "python",
   "pygments_lexer": "ipython2",
   "version": "2.7.6"
  }
 },
 "nbformat": 4,
 "nbformat_minor": 0
}
