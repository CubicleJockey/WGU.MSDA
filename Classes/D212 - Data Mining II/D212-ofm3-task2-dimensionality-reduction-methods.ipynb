{
 "cells": [
  {
   "cell_type": "markdown",
   "source": [
    "# D212 - Data Mining II\n",
    "### OFM3 Task 2: Dimensionality Reduction Methods\n",
    "#### Data Mining II — D212\n",
    "#### PRFA — OFM3\n",
    "> André Davis\n",
    "> StudentID: 010630641\n",
    "> MSDA\n",
    ">\n",
    "> Competencies\n",
    "> 4030.06.5 : Dimensionality Reduction Methods\n",
    "> The graduate implements dimension reduction methods to identify significant variables."
   ],
   "metadata": {
    "collapsed": false
   }
  },
  {
   "cell_type": "markdown",
   "source": [
    "#### Table of Contents\n",
    "<ul>\n",
    "    <li><a href=\"#research-question\">A1: Research Question</a></li>\n",
    "    <li><a href=\"#objectives\">A2: Objectives and Goals of Analysis</a></li>\n",
    "    <li><a href=\"#explination-of-pca\">B1: Explanation of Principal Component Analysis (PCA)</a></li>\n",
    "    <li><a href=\"#assumptions\">B2: Assumptions of PCA Analysis</a></li>\n",
    "    <li><a href=\"#identifying-continuous-dataset\">C1: Identifying Continuious Dataset Variables</a></li>\n",
    "    <li><a href=\"#standardizing-variables\">C2: Standardizing Dataset Variables</a></li>\n",
    "    <li><a href=\"#principal-component-matrix\">D1: Principal Component Matrix</a></li>\n",
    "    <li><a href=\"#identify-number-of-components\">D2: Identify Total Number of Components with Elbow Rule or Kaiser Criterion</a></li>\n",
    "    <li><a href=\"#identify-variance\">D3: Identify Variance of each Component</a></li>\n",
    "    <li><a href=\"#identify-total-variance\">D4: Identify Total Variance Captured by the PCA</a></li>\n",
    "    <li><a href=\"#summary-of-data-analysis\">D5: Summarize Data Analysis</a></li>\n",
    "    <li><a href=\"#code-references\">E: Code References</a></li>\n",
    "    <li><a href=\"#source-references\">F: Source References</a></li>\n",
    "</ul>"
   ],
   "metadata": {
    "collapsed": false
   }
  },
  {
   "cell_type": "markdown",
   "source": [
    "<a id=\"research-question\"></a>\n",
    "# A1: Research Question"
   ],
   "metadata": {
    "collapsed": false
   }
  },
  {
   "cell_type": "markdown",
   "source": [
    "<a id=\"objectives\"></a>\n",
    "# A2: Objectives and Goals of Analysis"
   ],
   "metadata": {
    "collapsed": false
   }
  },
  {
   "cell_type": "markdown",
   "source": [
    "<a id=\"explination-of-pca\"></a>\n",
    "# B1: Explanation of Principal Component Analysis (PCA)"
   ],
   "metadata": {
    "collapsed": false
   }
  },
  {
   "cell_type": "markdown",
   "source": [
    "<a id=\"assumptions\"></a>\n",
    "# B2: Assumption of PCA Analysis"
   ],
   "metadata": {
    "collapsed": false
   }
  },
  {
   "cell_type": "markdown",
   "source": [
    "<a id=\"identifying-continuous-dataset\"></a>\n",
    "# C1: Identifying Continuous Dataset Variables"
   ],
   "metadata": {
    "collapsed": false
   }
  },
  {
   "cell_type": "markdown",
   "source": [
    "<a id=\"standardizing-variables\"></a>\n",
    "# C2: Standardizing Dataset Variables"
   ],
   "metadata": {
    "collapsed": false
   }
  },
  {
   "cell_type": "markdown",
   "source": [
    "<a id=\"principal-component-matrix\"></a>\n",
    "# D1: Principal Component Matrix"
   ],
   "metadata": {
    "collapsed": false
   }
  },
  {
   "cell_type": "markdown",
   "source": [
    "<a id=\"identify-number-of-components\"></a>\n",
    "# D2: Identify Total Number of Components with Elbow Rule or Kaiser Criterion"
   ],
   "metadata": {
    "collapsed": false
   }
  },
  {
   "cell_type": "markdown",
   "source": [
    "<a id=\"identify-variance\"></a>\n",
    "# D3: Identify Variance of each Component"
   ],
   "metadata": {
    "collapsed": false
   }
  },
  {
   "cell_type": "markdown",
   "source": [
    "<a id=\"identify-total-variance\"></a>\n",
    "# D4: Identify Total Variance Captured by the PCA"
   ],
   "metadata": {
    "collapsed": false
   }
  },
  {
   "cell_type": "markdown",
   "source": [
    "<a id=\"summary-of-data-analysis\"></a>\n",
    "# D5: Summarize Data Analysis"
   ],
   "metadata": {
    "collapsed": false
   }
  },
  {
   "cell_type": "markdown",
   "source": [
    "<a id=\"code-references\"></a>\n",
    "# E1: Code References"
   ],
   "metadata": {
    "collapsed": false
   }
  },
  {
   "cell_type": "markdown",
   "source": [
    "<a id=\"source-references\"></a>\n",
    "# F1: Source References\n",
    "\n",
    " * Bruce, P., Bruce, A., &amp; Gedeck, P. (2020). Practical statistics for data scientists: 50+ essential concepts using r and python. O’Reilly Media."
   ],
   "metadata": {
    "collapsed": false
   }
  }
 ],
 "metadata": {
  "kernelspec": {
   "display_name": "Python 3",
   "language": "python",
   "name": "python3"
  },
  "language_info": {
   "codemirror_mode": {
    "name": "ipython",
    "version": 2
   },
   "file_extension": ".py",
   "mimetype": "text/x-python",
   "name": "python",
   "nbconvert_exporter": "python",
   "pygments_lexer": "ipython2",
   "version": "2.7.6"
  }
 },
 "nbformat": 4,
 "nbformat_minor": 0
}
