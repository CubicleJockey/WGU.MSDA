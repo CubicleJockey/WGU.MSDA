{
 "cells": [
  {
   "cell_type": "markdown",
   "source": [
    "# D212 - Data Mining II\n",
    "### OFM3 Task 2: Dimensionality Reduction Methods\n",
    "#### Data Mining II — D212\n",
    "#### PRFA — OFM3\n",
    "> André Davis\n",
    "> StudentID: 010630641\n",
    "> MSDA\n",
    ">\n",
    "> Competencies\n",
    "> 4030.06.5 : Dimensionality Reduction Methods\n",
    "> The graduate implements dimension reduction methods to identify significant variables."
   ],
   "metadata": {
    "collapsed": false
   }
  },
  {
   "cell_type": "markdown",
   "source": [
    "#### Table of Contents\n",
    "<ul>\n",
    "    <li><a href=\"#research-question\">A1: Research Question</a></li>\n",
    "    <li><a href=\"#objectives\">A2: Objectives and Goals of Analysis</a></li>\n",
    "    <li><a href=\"#explination-of-pca\">B1: Explanation of Principal Component Analysis (PCA)</a></li>\n",
    "    <li><a href=\"#assumptions\">B2: Assumptions of PCA Analysis</a></li>\n",
    "    <li><a href=\"#identifying-continuous-dataset\">C1: Identifying Continuious Dataset Variables</a></li>\n",
    "    <li><a href=\"#standardizing-variables\">C2: Standardizing Dataset Variables</a></li>\n",
    "    <li><a href=\"#principal-component-matrix\">D1: Principal Component Matrix</a></li>\n",
    "    <li><a href=\"#identify-number-of-components\">D2: Identify Total Number of Components with Elbow Rule or Kaiser Criterion</a></li>\n",
    "    <li><a href=\"#identify-variance\">D3: Identify Variance of each Component</a></li>\n",
    "    <li><a href=\"#identify-total-variance\">D4: Identify Total Variance Captured by the PCA</a></li>\n",
    "    <li><a href=\"#summary-of-data-analysis\">D5: Summarize Data Analysis</a></li>\n",
    "    <li><a href=\"#code-references\">E: Code References</a></li>\n",
    "    <li><a href=\"#source-references\">F: Source References</a></li>\n",
    "</ul>"
   ],
   "metadata": {
    "collapsed": false
   }
  },
  {
   "cell_type": "markdown",
   "source": [
    "<a id=\"research-question\"></a>\n",
    "# A1: Research Question\n",
    "\n",
    "The issue of patient re-admission holds significant importance for various stakeholders, including patients themselves, governing bodies, and the financial aspects concerning both the patients and hospitals. Consequently, it necessitates a comprehensive evaluation from multiple perspectives with an ongoing commitment to enhancing re-admission rates. By effectively reducing re-admission rates, tangible benefits such as cost savings can be realized, not only for the patients but also for the hospitals involved.\n",
    "\n",
    "In prior analysis scenarios in `D209`, re-admission analysis was conducted employing `Decision Tree Classification`. The hospital aims to explore diverse approaches to enhance accuracy.\n",
    "\n",
    "**Research Question**\n",
    "\n",
    "The research question at hand is as follows:\n",
    "\n",
    "Can we achieve accurate and effective prediction of readmission by utilizing multiple `Decision Tree Classifiers`, specifically known as `Random Forest Classifier`, subsequent to performing Principal Component Analysis (PCA) to reduce the dimensionality of the `WGU Medical Dataset`?"
   ],
   "metadata": {
    "collapsed": false
   }
  },
  {
   "cell_type": "markdown",
   "source": [
    "<a id=\"objectives\"></a>\n",
    "# A2: Objectives and Goals of Analysis\n",
    "\n",
    "The primary objective of this analysis is to anticipate patient readmission, a critical concern for the WGU Hospital System due to its association with government fines, potential legal liabilities, and the inefficient allocation of hospital resources. By reducing readmissions, the hospital aims to optimize patient care, avoiding the need for repetitive treatments and complications. Ultimately, achieving this goal will not only enhance patient outcomes and satisfaction following their initial hospitalization but also yield substantial positive impacts for both patients and the hospital system as a whole."
   ],
   "metadata": {
    "collapsed": false
   }
  },
  {
   "cell_type": "markdown",
   "source": [
    "<a id=\"explination-of-pca\"></a>\n",
    "# B1: Explanation of Principal Component Analysis (PCA)\n",
    "\n",
    "Principal Component Analysis (PCA) is a statistical method used to simplify the complexity in high-dimensional datasets while retaining as much of the original variance as possible. At its core, PCA seeks to identify \"directions\" or \"principal components\" in the data that capture the most variance. These components are orthogonal to each other, meaning the first principal component captures the most variance, the second (which is perpendicular to the first) captures the next highest amount, and so on. \n",
    "\n",
    "Another way to say this is, \"Often, variables will vary together (covary), and some of the variation in one is actually duplicated by variation in another (e.g., reasturant checks and tips). Principal components analysis (PCA) is a technique to discover the way in which numeric variables covary.\" (Upadhyay et al., 2019)."
   ],
   "metadata": {
    "collapsed": false
   }
  },
  {
   "cell_type": "markdown",
   "source": [
    "<a id=\"assumptions\"></a>\n",
    "# B2: Assumption of PCA Analysis"
   ],
   "metadata": {
    "collapsed": false
   }
  },
  {
   "cell_type": "markdown",
   "source": [
    "<a id=\"identifying-continuous-dataset\"></a>\n",
    "# C1: Identifying Continuous Dataset Variables"
   ],
   "metadata": {
    "collapsed": false
   }
  },
  {
   "cell_type": "markdown",
   "source": [
    "<a id=\"standardizing-variables\"></a>\n",
    "# C2: Standardizing Dataset Variables"
   ],
   "metadata": {
    "collapsed": false
   }
  },
  {
   "cell_type": "markdown",
   "source": [
    "<a id=\"principal-component-matrix\"></a>\n",
    "# D1: Principal Component Matrix"
   ],
   "metadata": {
    "collapsed": false
   }
  },
  {
   "cell_type": "markdown",
   "source": [
    "<a id=\"identify-number-of-components\"></a>\n",
    "# D2: Identify Total Number of Components with Elbow Rule or Kaiser Criterion"
   ],
   "metadata": {
    "collapsed": false
   }
  },
  {
   "cell_type": "markdown",
   "source": [
    "<a id=\"identify-variance\"></a>\n",
    "# D3: Identify Variance of each Component"
   ],
   "metadata": {
    "collapsed": false
   }
  },
  {
   "cell_type": "markdown",
   "source": [
    "<a id=\"identify-total-variance\"></a>\n",
    "# D4: Identify Total Variance Captured by the PCA"
   ],
   "metadata": {
    "collapsed": false
   }
  },
  {
   "cell_type": "markdown",
   "source": [
    "<a id=\"summary-of-data-analysis\"></a>\n",
    "# D5: Summarize Data Analysis"
   ],
   "metadata": {
    "collapsed": false
   }
  },
  {
   "cell_type": "markdown",
   "source": [
    "<a id=\"code-references\"></a>\n",
    "# E1: Code References"
   ],
   "metadata": {
    "collapsed": false
   }
  },
  {
   "cell_type": "markdown",
   "source": [
    "<a id=\"source-references\"></a>\n",
    "# F1: Source References\n",
    "\n",
    " * Bruce, P., Bruce, A., &amp; Gedeck, P. (2020). Practical statistics for data scientists: 50+ essential concepts using r and python. O’Reilly Media. <br /><br />\n",
    " * Upadhyay, S., Stephenson, A. L., &amp; Smith, D. G. (2019). Readmission rates and Their Impact on Hospital Financial Performance: A Study of Washington Hospitals. Inquiry : a journal of medical care organization, provision and financing. https://www.ncbi.nlm.nih.gov/pmc/articles/PMC6614936/  "
   ],
   "metadata": {
    "collapsed": false
   }
  }
 ],
 "metadata": {
  "kernelspec": {
   "display_name": "Python 3",
   "language": "python",
   "name": "python3"
  },
  "language_info": {
   "codemirror_mode": {
    "name": "ipython",
    "version": 2
   },
   "file_extension": ".py",
   "mimetype": "text/x-python",
   "name": "python",
   "nbconvert_exporter": "python",
   "pygments_lexer": "ipython2",
   "version": "2.7.6"
  }
 },
 "nbformat": 4,
 "nbformat_minor": 0
}
