{
 "cells": [
  {
   "cell_type": "markdown",
   "source": [
    "# D212 - Data Mining II\n",
    "### OFM3 Task 3: Association Rules and Lift Analysis\n",
    "#### Data Mining II — D212\n",
    "#### PRFA — OFM3\n",
    "> André Davis\n",
    "> StudentID: 010630641\n",
    "> MSDA\n",
    ">\n",
    "> Competencies\n",
    "> 4030.06.6 : Pattern Prediction\n",
    "> The graduate predicts patterns in data using association rules and lift analysis."
   ],
   "metadata": {
    "collapsed": false
   }
  },
  {
   "cell_type": "markdown",
   "source": [
    "#### Table of Contents\n",
    "<ul>\n",
    "    <li><a href=\"#data-set-medications\">Dataset Medications</a></li>\n",
    "    <li><a href=\"#research-question\">A1: Research Question</a></li>\n",
    "    <li><a href=\"#objectives\">A2: Objectives and Goals of Analysis</a></li>\n",
    "    <li><a href=\"#explination-of-market-basket-analysis\">B1: Explanation of Market Basket Analysis</a></li>\n",
    "    <li><a href=\"#transaction-example\">B2: Transaction Example</a></li>\n",
    "    <li><a href=\"#assumptions\">B3: Assumptions of Market Basket Analysis</a></li>\n",
    "    <li><a href=\"#data-prepartion\">C1: Data Preparation</a></li>\n",
    "    <li><a href=\"#geneartion-of-association-rules\">C2: Generation of Association Rules</a></li>\n",
    "    <li><a href=\"#association-rules-table\">C3: Association Rules Table</a></li>\n",
    "    <li><a href=\"#top-rules\">C4: Top Rules</a></li>\n",
    "    <li><a href=\"#results-analysis\">D1: Results of Analysis</a></li>\n",
    "    <li><a href=\"#practical-significance\">D2: Practical Significance</a></li>\n",
    "    <li><a href=\"#recommended-action\">D3: Recommended Action</a></li>\n",
    "    <li><a href=\"#panopto-recording\">E: Panopto Recording</a></li>\n",
    "    <li><a href=\"#code-references\">F: Code References</a></li>\n",
    "    <li><a href=\"#source-references\">G: Source References</a></li>\n",
    "</ul>"
   ],
   "metadata": {
    "collapsed": false
   }
  },
  {
   "cell_type": "markdown",
   "source": [
    "<a id=\"data-set-medications\"></a>\n",
    "# Dataset Medications \n",
    "#### - Additional Information, non-required Section\n",
    "\n",
    "##### Medication Details to help with understanding the association rules.\n",
    "\n",
    "| Medication Name            | Treats                            | Source Citation                                                                                          |\n",
    "|----------------------------|-----------------------------------|----------------------------------------------------------------------------------------------------------|\n",
    "| Abilify                    | Mental health disorders           | [Abilify - Wikipedia](https://en.wikipedia.org/wiki/Aripiprazole)                                        |\n",
    "| Acetaminophen              | Pain and fever relief             | [Acetaminophen - Wikipedia](https://en.wikipedia.org/wiki/Acetaminophen)                                 |\n",
    "| Actonel                    | Osteoporosis                      | [Risedronic acid - Wikipedia](https://en.wikipedia.org/wiki/Risedronic_acid)                             |\n",
    "| Albuterol Aerosol          | Asthma and bronchospasm           | [Albuterol - Wikipedia](https://en.wikipedia.org/wiki/Albuterol)                                         |\n",
    "| Albuterol HFA              | Asthma and bronchospasm           | [Albuterol - Wikipedia](https://en.wikipedia.org/wiki/Albuterol)                                         |\n",
    "| Alendronate                | Osteoporosis                      | [Alendronic acid - Wikipedia](https://en.wikipedia.org/wiki/Alendronic_acid)                             |\n",
    "| Allopurinol                | Gout                              | [Allopurinol - Wikipedia](https://en.wikipedia.org/wiki/Allopurinol)                                     |\n",
    "| Alprazolam                 | Anxiety and panic disorders       | [Alprazolam - Wikipedia](https://en.wikipedia.org/wiki/Alprazolam)                                       |\n",
    "| Amitriptyline              | Depression and neuropathy         | [Amitriptyline - Wikipedia](https://en.wikipedia.org/wiki/Amitriptyline)                                 |\n",
    "| Amlodipine                 | Hypertension                      | [Amlodipine - Wikipedia](https://en.wikipedia.org/wiki/Amlodipine)                                       |\n",
    "| Amoxicillin                | Bacterial infections              | [Amoxicillin - Wikipedia](https://en.wikipedia.org/wiki/Amoxicillin)                                     |\n",
    "| Amphetamine                | ADHD and narcolepsy               | [Amphetamine - Wikipedia](https://en.wikipedia.org/wiki/Amphetamine)                                     |\n",
    "| Amphetamine Salt Combo     | ADHD                              | [Amphetamine/dextroamphetamine - Wikipedia](https://en.wikipedia.org/wiki/Amphetamine/dextroamphetamine) |\n",
    "| Amphetamine Salt Combo XR  | ADHD                              | [Amphetamine/dextroamphetamine - Wikipedia](https://en.wikipedia.org/wiki/Amphetamine/dextroamphetamine) |\n",
    "| Atenolol                   | Hypertension                      | [Atenolol - Wikipedia](https://en.wikipedia.org/wiki/Atenolol)                                           |\n",
    "| Atorvastatin               | High cholesterol                  | [Atorvastatin - Wikipedia](https://en.wikipedia.org/wiki/Atorvastatin)                                   |\n",
    "| Azithromycin               | Bacterial infections              | [Azithromycin - Wikipedia](https://en.wikipedia.org/wiki/Azithromycin)                                   |\n",
    "| Benazepril                 | Hypertension                      | [Benazepril - Wikipedia](https://en.wikipedia.org/wiki/Benazepril)                                       |\n",
    "| Benicar                    | Hypertension                      | [Olmesartan - Wikipedia](https://en.wikipedia.org/wiki/Olmesartan)                                       |\n",
    "| Boniva                     | Osteoporosis                      | [Ibandronic acid - Wikipedia](https://en.wikipedia.org/wiki/Ibandronic_acid)                             |\n",
    "| Bupropion SR               | Depression and smoking cessation  | [Bupropion - Wikipedia](https://en.wikipedia.org/wiki/Bupropion)                                         |\n",
    "| Carisoprodol               | Muscle pain and discomfort        | [Carisoprodol - Wikipedia](https://en.wikipedia.org/wiki/Carisoprodol)                                   |\n",
    "| Carvedilol                 | Heart failure and hypertension    | [Carvedilol - Wikipedia](https://en.wikipedia.org/wiki/Carvedilol)                                       |\n",
    "| Cefdinir                   | Bacterial infections              | [Cefdinir - Wikipedia](https://en.wikipedia.org/wiki/Cefdinir)                                           |\n",
    "| Celebrex                   | Pain and inflammation             | [Celecoxib - Wikipedia](https://en.wikipedia.org/wiki/Celecoxib)                                         |\n",
    "| Celecoxib                  | Pain and inflammation             | [Celecoxib - Wikipedia](https://en.wikipedia.org/wiki/Celecoxib)                                         |\n",
    "| Cephalexin                 | Bacterial infections              | [Cephalexin - Wikipedia](https://en.wikipedia.org/wiki/Cephalexin)                                       |\n",
    "| Cialis                     | Erectile dysfunction              | [Tadalafil - Wikipedia](https://en.wikipedia.org/wiki/Tadalafil)                                         |\n",
    "| Ciprofloxacin              | Bacterial infections              | [Ciprofloxacin - Wikipedia](https://en.wikipedia.org/wiki/Ciprofloxacin)                                 |\n",
    "| Citalopram                 | Depression and anxiety            | [Citalopram - Wikipedia](https://en.wikipedia.org/wiki/Citalopram)                                       |\n",
    "| Clavulanate K+             | Antibiotic                        | [Clavulanic acid - Wikipedia](https://en.wikipedia.org/wiki/Clavulanic_acid)                             |\n",
    "| Clonazepam                 | Seizures and panic disorders      | [Clonazepam - Wikipedia](https://en.wikipedia.org/wiki/Clonazepam)                                       |\n",
    "| Clonidine HCI              | Hypertension                      | [Clonidine - Wikipedia](https://en.wikipedia.org/wiki/Clonidine)                                         |\n",
    "| Clopidogrel                | Blood clot prevention             | [Clopidogrel - Wikipedia](https://en.wikipedia.org/wiki/Clopidogrel)                                     |\n",
    "| Clotrimazole               | Fungal infections                 | [Clotrimazole - Wikipedia](https://en.wikipedia.org/wiki/Clotrimazole)                                   |\n",
    "| Codeine                    | Pain relief                       | [Codeine - Wikipedia](https://en.wikipedia.org/wiki/Codeine)                                             |\n",
    "| Crestor                    | High cholesterol                  | [Rosuvastatin - Wikipedia](https://en.wikipedia.org/wiki/Rosuvastatin)                                   |\n",
    "| Cyclobenzaprine            | Muscle pain and discomfort        | [Cyclobenzaprine - Wikipedia](https://en.wikipedia.org/wiki/Cyclobenzaprine)                             |\n",
    "| Cymbalta                   | Depression and pain relief        | [Duloxetine - Wikipedia](https://en.wikipedia.org/wiki/Duloxetine)                                       |\n",
    "| Dextroamphetamine XR       | ADHD                              | [Amphetamine/dextroamphetamine - Wikipedia](https://en.wikipedia.org/wiki/Amphetamine/dextroamphetamine) |\n",
    "| Diazepam                   | Anxiety and seizures              | [Diazepam - Wikipedia](https://en.wikipedia.org/wiki/Diazepam)                                           |\n",
    "| Diclofenac Sodium          | Pain and inflammation             | [Diclofenac - Wikipedia](https://en.wikipedia.org/wiki/Diclofenac)                                       |\n",
    "| Doxycycline Hyclate        | Bacterial infections              | [Doxycycline - Wikipedia](https://en.wikipedia.org/wiki/Doxycycline)                                     |\n",
    "| Duloxetine                 | Depression and pain relief        | [Duloxetine - Wikipedia](https://en.wikipedia.org/wiki/Duloxetine)                                       |\n",
    "| Enalapril                  | Hypertension                      | [Enalapril - Wikipedia](https://en.wikipedia.org/wiki/Enalapril)                                         |\n",
    "| Escitalopram               | Depression and anxiety            | [Escitalopram - Wikipedia](https://en.wikipedia.org/wiki/Escitalopram)                                   |\n",
    "| Esomeprazole               | Acid reflux and ulcers            | [Esomeprazole - Wikipedia](https://en.wikipedia.org/wiki/Esomeprazole)                                   |\n",
    "| Ezetimibe                  | High cholesterol                  | [Ezetimibe - Wikipedia](https://en.wikipedia.org/wiki/Ezetimibe)                                         |\n",
    "| Fenofibrate                | High cholesterol                  | [Fenofibrate - Wikipedia](https://en.wikipedia.org/wiki/Fenofibrate)                                     |\n",
    "| Fexofenadine               | Allergies                         | [Fexofenadine - Wikipedia](https://en.wikipedia.org/wiki/Fexofenadine)                                   |\n",
    "| Finasteride                | Enlarged prostate and hair loss   | [Finasteride - Wikipedia](https://en.wikipedia.org/wiki/Finasteride)                                     |\n",
    "| Flovent HFA 110mcg Inhaler | Asthma                            | [Fluticasone - Wikipedia](https://en.wikipedia.org/wiki/Fluticasone)                                     |\n",
    "| Fluconazole                | Fungal infections                 | [Fluconazole - Wikipedia](https://en.wikipedia.org/wiki/Fluconazole)                                     |\n",
    "| Fluoxetine HCI             | Depression and anxiety            | [Fluoxetine - Wikipedia](https://en.wikipedia.org/wiki/Fluoxetine)                                       |\n",
    "| Fluticasone                | Asthma and allergies              | [Fluticasone - Wikipedia](https://en.wikipedia.org/wiki/Fluticasone)                                     |\n",
    "| Fluticasone Nasal Spray    | Allergic rhinitis                 | [Fluticasone - Wikipedia](https://en.wikipedia.org/wiki/Fluticasone)                                     |\n",
    "| Folic Acid                 | Vitamin deficiency                | [Folic acid - Wikipedia](https://en.wikipedia.org/wiki/Folic_acid)                                       |\n",
    "| Furosemide                 | Edema and hypertension            | [Furosemide - Wikipedia](https://en.wikipedia.org/wiki/Furosemide)                                       |\n",
    "| Gabapentin                 | Seizures and nerve pain           | [Gabapentin - Wikipedia](https://en.wikipedia.org/wiki/Gabapentin)                                       |\n",
    "| Glimepiride                | Type 2 diabetes                   | [Glimepiride - Wikipedia](https://en.wikipedia.org/wiki/Glimepiride)                                     |\n",
    "| Glipizide                  | Type 2 diabetes                   | [Glipizide - Wikipedia](https://en.wikipedia.org/wiki/Glipizide)                                         |\n",
    "| Glyburide                  | Type 2 diabetes                   | [Glyburide - Wikipedia](https://en.wikipedia.org/wiki/Glyburide)                                         |\n",
    "| Hydrochlorothiazide        | Hypertension and edema            | [Hydrochlorothiazide - Wikipedia](https://en.wikipedia.org/wiki/Hydrochlorothiazide)                     |\n",
    "| Hydrocodone                | Pain relief and cough suppression | [Hydrocodone - Wikipedia](https://en.wikipedia.org/wiki/Hydrocodone)                                     |\n",
    "| Hydrocortisone 2.5% Cream  | Skin inflammation                 | [Hydrocortisone - Wikipedia](https://en.wikipedia.org/wiki/Hydrocortisone)                               |\n",
    "| Ibuprofen                  | Pain and inflammation             | [Ibuprofen - Wikipedia](https://en.wikipedia.org/wiki/Ibuprofen)                                         |\n",
    "| Isosorbide Mononitrate     | Angina                            | [Isosorbide mononitrate - Wikipedia](https://en.wikipedia.org/wiki/Isosorbide_mononitrate)               |\n",
    "| Lansoprazole               | Acid reflux and ulcers            | [Lansoprazole - Wikipedia](https://en.wikipedia.org/wiki/Lansoprazole)                                   |\n",
    "| Lantus                     | Diabetes                          | [Insulin glargine - Wikipedia](https://en.wikipedia.org/wiki/Insulin_glargine)                           |\n",
    "| Levofloxacin               | Bacterial infections              | [Levofloxacin - Wikipedia](https://en.wikipedia.org/wiki/Levofloxacin)                                   |\n",
    "| Levothyroxine Sodium       | Hypothyroidism                    | [Levothyroxine - Wikipedia](https://en.wikipedia.org/wiki/Levothyroxine)                                 |\n",
    "| Lisinopril                 | Hypertension                      | [Lisinopril - Wikipedia](https://en.wikipedia.org/wiki/Lisinopril)                                       |\n",
    "| Lorazepam                  | Anxiety and insomnia              | [Lorazepam - Wikipedia](https://en.wikipedia.org/wiki/Lorazepam)                                         |\n",
    "| Losartan                   | Hypertension                      | [Losartan - Wikipedia](https://en.wikipedia.org/wiki/Losartan)                                           |\n",
    "| Lovastatin                 | High cholesterol                  | [Lovastatin - Wikipedia](https://en.wikipedia.org/wiki/Lovastatin)                                       |\n",
    "| Meloxicam                  | Pain and inflammation             | [Meloxicam - Wikipedia](https://en.wikipedia.org/wiki/Meloxicam)                                         |\n",
    "| Metformin                  | Type 2 diabetes                   | [Metformin - Wikipedia](https://en.wikipedia.org/wiki/Metformin)                                         |\n",
    "| Metformin HCI              | Type 2 diabetes                   | [Metformin - Wikipedia](https://en.wikipedia.org/wiki/Metformin)                                         |\n",
    "| Methylprednisone           | Inflammatory conditions           | [Methylprednisolone - Wikipedia](https://en.wikipedia.org/wiki/Methylprednisolone)                       |\n",
    "| Metoprolol                 | Hypertension and angina           | [Metoprolol - Wikipedia](https://en.wikipedia.org/wiki/Metoprolol)                                       |\n",
    "| Metoprolol Succinate XL    | Hypertension                      | [Metoprolol succinate - Wikipedia](https://en.wikipedia.org/wiki/Metoprolol_succinate)                   |\n",
    "| Metoprolol Tartrate        | Hypertension                      | [Metoprolol tartrate - Wikipedia](https://en.wikipedia.org/wiki/Metoprolol_tartrate)                     |\n",
    "| Mometasone                 | Inflammatory conditions           | [Mometasone - Wikipedia](https://en.wikipedia.org/wiki/Mometasone)                                       |\n",
    "| Naproxen                   | Pain and inflammation             | [Naproxen - Wikipedia](https://en.wikipedia.org/wiki/Naproxen)                                           |\n",
    "| Omeprazole                 | Acid reflux and ulcers            | [Omeprazole - Wikipedia](https://en.wikipedia.org/wiki/Omeprazole)                                       |\n",
    "| Oxycodone                  | Pain relief                       | [Oxycodone - Wikipedia](https://en.wikipedia.org/wiki/Oxycodone)                                         |\n",
    "| Pantoprazole               | Acid reflux and ulcers            | [Pantoprazole - Wikipedia](https://en.wikipedia.org/wiki/Pantoprazole)                                   |\n",
    "| Paroxetine                 | Depression and anxiety            | [Paroxetine - Wikipedia](https://en.wikipedia.org/wiki/Paroxetine)                                       |\n",
    "| Pioglitazone               | Type 2 diabetes                   | [Pioglitazone - Wikipedia](https://en.wikipedia.org/wiki/Pioglitazone)                                   |\n",
    "| Potassium Chloride         | Electrolyte imbalance             | [Potassium chloride - Wikipedia](https://en.wikipedia.org/wiki/Potassium_chloride)                       |\n",
    "| Pravastatin                | High cholesterol                  | [Pravastatin - Wikipedia](https://en.wikipedia.org/wiki/Pravastatin)                                     |\n",
    "| Prednisone                 | Inflammatory conditions           | [Prednisone - Wikipedia](https://en.wikipedia.org/wiki/Prednisone)                                       |\n",
    "| Pregabalin                 | Neuropathic pain and seizures     | [Pregabalin - Wikipedia](https://en.wikipedia.org/wiki/Pregabalin)                                       |\n",
    "| Premarin                   | Hormone replacement therapy       | [Conjugated estrogens - Wikipedia](https://en.wikipedia.org/wiki/Conjugated_estrogens)                   |\n",
    "| Promethazine               | Allergies and nausea              | [Promethazine - Wikipedia](https://en.wikipedia.org/wiki/Promethazine)                                   |\n",
    "| Quetiapine                 | Mental health disorders           | [Quetiapine - Wikipedia](https://en.wikipedia.org/wiki/Quetiapine)                                       |\n",
    "| Ranitidine                 | Acid reflux                       | [Ranitidine - Wikipedia](https://en.wikipedia.org/wiki/Ranitidine)                                       |\n",
    "| Rosuvastatin               | High cholesterol                  | [Rosuvastatin - Wikipedia](https://en.wikipedia.org/wiki/Rosuvastatin)                                   |\n",
    "| Salmeterol Inhaler         | Asthma and COPD                   | [Salmeterol - Wikipedia](https://en.wikipedia.org/wiki/Salmeterol)                                       |\n",
    "| Sertraline HCI             | Depression and anxiety            | [Sertraline - Wikipedia](https://en.wikipedia.org/wiki/Sertraline)                                       |\n",
    "| Simvastatin                | High cholesterol                  | [Simvastatin - Wikipedia](https://en.wikipedia.org/wiki/Simvastatin)                                     |\n",
    "| Spironolactone             | Hypertension and edema            | [Spironolactone - Wikipedia](https://en.wikipedia.org/wiki/Spironolactone)                               |\n",
    "| Sulfamethoxazole           | Bacterial infections              | [Sulfamethoxazole - Wikipedia](https://en.wikipedia.org/wiki/Sulfamethoxazole)                           |\n",
    "| Synthroid                  | Hypothyroidism                    | [Levothyroxine - Wikipedia](https://en.wikipedia.org/wiki/Levothyroxine)                                 |\n",
    "| Tamsulosin                 | Enlarged prostate                 | [Tamsulosin - Wikipedia](https://en.wikipedia.org/wiki/Tamsulosin)                                       |\n",
    "| Temazepam                  | Insomnia                          | [Temazepam - Wikipedia](https://en.wikipedia.org/wiki/Temazepam)                                         |\n",
    "| Topiramate                 | Epilepsy and migraines            | [Topiramate - Wikipedia](https://en.wikipedia.org/wiki/Topiramate)                                       |\n",
    "| Tramadol                   | Pain relief                       | [Tramadol - Wikipedia](https://en.wikipedia.org/wiki/Tramadol)                                           |\n",
    "| Trazodone HCI              | Depression and insomnia           | [Trazodone - Wikipedia](https://en.wikipedia.org/wiki/Trazodone)                                         |\n",
    "| Triamcinolone Ace Topical  | Skin inflammation                 | [Triamcinolone acetonide - Wikipedia](https://en.wikipedia.org/wiki/Triamcinolone_acetonide)             |\n",
    "| Triamterene                | Hypertension and edema            | [Triamterene - Wikipedia](https://en.wikipedia.org/wiki/Triamterene)                                     |\n",
    "| Trimethoprim DS            | Bacterial infections              | [Trimethoprim/sulfamethoxazole - Wikipedia](https://en.wikipedia.org/wiki/Trimethoprim/sulfamethoxazole) |\n",
    "| Valaciclovir               | Herpes simplex and shingles       | [Valaciclovir - Wikipedia](https://en.wikipedia.org/wiki/Valaciclovir)                                   |\n",
    "| Valsartan                  | Hypertension                      | [Valsartan - Wikipedia](https://en.wikipedia.org/wiki/Valsartan)                                         |\n",
    "| Venlafaxine XR             | Depression and anxiety            | [Venlafaxine - Wikipedia](https://en.wikipedia.org/wiki/Venlafaxine)                                     |\n",
    "| Verapamil SR               | Hypertension and angina           | [Verapamil - Wikipedia](https://en.wikipedia.org/wiki/Verapamil)                                         |\n",
    "| Viagra                     | Erectile dysfunction              | [Sildenafil - Wikipedia](https://en.wikipedia.org/wiki/Sildenafil)                                       |\n",
    "| Yaz                        | Birth control                     | [Drospirenone/ethinylestradiol - Wikipedia](https://en.wikipedia.org/wiki/Drospirenone/ethinylestradiol) |\n",
    "| Zolpidem                   | Insomnia                          | [Zolpidem - Wikipedia](https://en.wikipedia.org/wiki/Zolpidem)                                           |"
   ],
   "metadata": {
    "collapsed": false
   }
  },
  {
   "cell_type": "markdown",
   "source": [
    "<a id=\"research-question\"></a>\n",
    "# A1: Research Question\n",
    "\n",
    "#### Scenario 2:\n",
    "\n",
    ">One of the most critical factors in patient relationship management that directly affects a hospital’s long-term cost effectiveness is understanding its patients and the conditions leading to hospital admissions. When a hospital can better understand its patients’ characteristics, it is better able to target treatment to patients, resulting in more effective cost of care for the hospital in the long term.\n",
    ">You are an analyst for a hospital that wants to better understand the characteristics of its patients. You have been asked to perform a market basket analysis to analyze patient data to identify key associations of your patients, ultimately allowing better business and strategic decision-making for the hospital.\n",
    "\n",
    "#### Research Question:\n",
    "Which medications should be grouped together to provide a more efficient layout in the Pharmacy for patient medication dispensing?\n"
   ],
   "metadata": {
    "collapsed": false
   }
  },
  {
   "cell_type": "markdown",
   "source": [
    "<a id=\"objectives\"></a>\n",
    "# A2: Objectives and Goals of Analysis\n",
    "\n",
    "The goal of this Data Mining Report through Market Basket Analysis is to reveal essential correlations among variables within the dataset, specifically related to medication purchases. A question that resonates with real-world healthcare and pharmaceutical needs is the exploration of relationships between these variables, leading to the recognition of current medication purchasing patterns that may have been previously overlooked. The primary objective is to investigate these connections, evaluating how they can support the organization in optimizing medication sales and distribution, the findings of which will be communicated to stakeholders."
   ],
   "metadata": {
    "collapsed": false
   }
  },
  {
   "cell_type": "markdown",
   "source": [
    "<a id=\"explination-of-market-basket-analysis\"></a>\n",
    "# B1: Explanation of Market Basket Analysis\n",
    "\n",
    "Market Basket Analysis functions on datasets composed solely of binary values, either True or False, or 1's and 0's, distinguishing it from models that utilize continuous or ordinal data. This method is centered on finding recurring combinations of items in various transactions, enabling retailers to discern patterns in the products that customers often purchase in tandem. The anticipated results of this analysis are generally split into two parts known as Antecedents (IFs) and Consequents (THENs). These terms form the basis for conditional rules or scenarios, such as: If a customer bought a Nintendo game, they also purchased a Nintendo accessory. A fundamental concept of Market Basket Analysis, especially when employing the Apriori algorithm, is that any portion of a frequently observed itemset must itself be frequent."
   ],
   "metadata": {
    "collapsed": false
   }
  },
  {
   "cell_type": "markdown",
   "source": [
    "<a id=\"transaction-example\"></a>\n",
    "# B2: Transaction Example"
   ],
   "metadata": {
    "collapsed": false
   }
  },
  {
   "cell_type": "code",
   "execution_count": 171,
   "outputs": [
    {
     "data": {
      "text/plain": "Presc01         abilify\nPresc02    atorvastatin\nPresc03      folic acid\nPresc04        naproxen\nPresc05        losartan\nPresc06             NaN\nPresc07             NaN\nPresc08             NaN\nPresc09             NaN\nPresc10             NaN\nPresc11             NaN\nPresc12             NaN\nPresc13             NaN\nPresc14             NaN\nPresc15             NaN\nPresc16             NaN\nPresc17             NaN\nPresc18             NaN\nPresc19             NaN\nPresc20             NaN\nName: 4, dtype: object"
     },
     "execution_count": 171,
     "metadata": {},
     "output_type": "execute_result"
    }
   ],
   "source": [
    "from typing import List, Tuple\n",
    "import pandas as pd\n",
    "import numpy as np\n",
    "import matplotlib.pyplot as plt\n",
    "import seaborn as sns\n",
    "from mlxtend.frequent_patterns import association_rules, apriori\n",
    "from mlxtend.preprocessing import TransactionEncoder\n",
    "\n",
    "medical_market_basket_data = pd.read_csv('./medical_market_basket.csv')\n",
    "\n",
    "#data-cleaning, remove empty rows.\n",
    "medical_market_basket_data.dropna(how='all', inplace=True)\n",
    "medical_market_basket_data.reset_index(inplace=True)\n",
    "medical_market_basket_data.drop(columns=['index'], inplace=True)\n",
    "\n",
    "'''\n",
    "Transaction data example:\n",
    "\n",
    " 1. Each row represents a patient transaction. \n",
    " 2. Each Column Presc# (1 - 20) represents a single item/prescription ordered.\n",
    "'''\n",
    "medical_market_basket_data.loc[4]"
   ],
   "metadata": {
    "collapsed": false,
    "ExecuteTime": {
     "end_time": "2023-08-24T14:11:34.623987Z",
     "start_time": "2023-08-24T14:11:34.564992Z"
    }
   }
  },
  {
   "cell_type": "markdown",
   "source": [
    "Looking at this example transaction from the `WGU Medical Market Basket` Dataset we can see this patients transaction includes 5 items out of the allowable 20.\n",
    "\n",
    "This transaction includes abilify, atorvastatin, folic acid, naproxen, losartan."
   ],
   "metadata": {
    "collapsed": false
   }
  },
  {
   "cell_type": "markdown",
   "source": [
    "<a id=\"assumptions\"></a>\n",
    "# B3: Assumptions of Market Basket Analysis \n",
    "\n",
    "###### The submission adequately summarizes 1 assumption of market basket analysis.\n",
    "\n",
    "The fundamental premise in market basket analysis revolves around the notion that when two or more products consistently appear together in various baskets, it signifies that these products are interconnected in purchases. Consequently, acquiring one product is likely to result in the purchase of others. Within this investigation, our focus centers on three-item rules."
   ],
   "metadata": {
    "collapsed": false
   }
  },
  {
   "cell_type": "markdown",
   "source": [
    "<a id=\"ata-prepartion\"></a>\n",
    "# C1: Data Preparation\n",
    "\n",
    "The raw `medical_market_basket.csv` was loaded into a [`Pandas DataFrame`](https://pandas.pydata.org/docs/reference/api/pandas.DataFrame.html) in *Section B2*. It also did a basic clean-up step to remove the blank rows between each actual transaction of the dataset.\n",
    "\n",
    "The data must be in a jagged array or list of lists format to be processed by the [`TransactionEncoder`](https://rasbt.github.io/mlxtend/user_guide/preprocessing/TransactionEncoder/#transactionencoder-convert-item-lists-into-transaction-data-for-frequent-itemset-mining). Here we will create and execute a Python function that will pre-process the raw dataset for the Basket Market Analysis pre-processor."
   ],
   "metadata": {
    "collapsed": false
   }
  },
  {
   "cell_type": "code",
   "execution_count": 172,
   "outputs": [
    {
     "name": "stdout",
     "output_type": "stream",
     "text": [
      "Total Transactions: [7501]\n"
     ]
    }
   ],
   "source": [
    "'''\n",
    "Name: convert_for_transaction_encoder\n",
    "Parameters: Data as a Pandas DataFrame\n",
    "Returns: Transactions as a jagged list\n",
    "'''\n",
    "def convert_for_transaction_encoder(data: pd.DataFrame) -> List[List[str]]:\n",
    "    transactions = list()\n",
    "    for row in range(len(data)):\n",
    "        current_transaction = list()\n",
    "        for column in range(len(data.columns)):\n",
    "            current_value = data.iloc[row, column]\n",
    "            if not pd.isna(current_value): #no NaN allowed\n",
    "                current_transaction.append(str(current_value))\n",
    "        transactions.append(current_transaction)\n",
    "        \n",
    "    return transactions\n",
    "\n",
    "transaction_data = convert_for_transaction_encoder(medical_market_basket_data)\n",
    "print(f'Total Transactions: [{len(transaction_data)}]')\n",
    "    "
   ],
   "metadata": {
    "collapsed": false,
    "ExecuteTime": {
     "end_time": "2023-08-24T14:11:35.547104Z",
     "start_time": "2023-08-24T14:11:34.759245Z"
    }
   }
  },
  {
   "cell_type": "code",
   "execution_count": 173,
   "outputs": [
    {
     "name": "stdout",
     "output_type": "stream",
     "text": [
      "First Transaction: ['amlodipine', 'albuterol aerosol', 'allopurinol', 'pantoprazole', 'lorazepam', 'omeprazole', 'mometasone', 'fluconozole', 'gabapentin', 'pravastatin', 'cialis', 'losartan', 'metoprolol succinate XL', 'sulfamethoxazole', 'abilify', 'spironolactone', 'albuterol HFA', 'levofloxacin', 'promethazine', 'glipizide']\n",
      "Middle Transaction: ['carvedilol', 'abilify', 'levofloxacin', 'doxycycline hyclate']\n",
      "Last Transaction: ['amphetamine salt combo xr', 'levofloxacin', 'diclofenac sodium', 'cialis']\n"
     ]
    }
   ],
   "source": [
    "'''\n",
    "Check a few transactions to make sure they are in list format correctly.\n",
    "'''\n",
    "middle = int((len(transaction_data) / 2) - 1)\n",
    "last = len(transaction_data) - 1\n",
    "\n",
    "print(f'First Transaction: {transaction_data[0]}')\n",
    "print(f'Middle Transaction: {transaction_data[middle]}')\n",
    "print(f'Last Transaction: {transaction_data[last]}')"
   ],
   "metadata": {
    "collapsed": false,
    "ExecuteTime": {
     "end_time": "2023-08-24T14:11:35.551224Z",
     "start_time": "2023-08-24T14:11:35.546923Z"
    }
   }
  },
  {
   "cell_type": "code",
   "execution_count": 174,
   "outputs": [
    {
     "data": {
      "text/plain": "      Duloxetine  Premarin    Yaz  abilify  acetaminophen  actonel  \\\n0          False     False  False     True          False    False   \n1          False     False  False    False          False    False   \n2          False     False  False    False          False    False   \n3          False     False  False    False          False    False   \n4          False     False  False     True          False    False   \n...          ...       ...    ...      ...            ...      ...   \n7496       False     False  False    False          False    False   \n7497       False     False  False    False          False    False   \n7498       False     False  False    False          False    False   \n7499       False     False  False    False          False    False   \n7500       False     False  False    False          False    False   \n\n      albuterol HFA  albuterol aerosol  alendronate  allopurinol  ...  \\\n0              True               True        False         True  ...   \n1             False              False        False        False  ...   \n2             False              False        False        False  ...   \n3             False              False        False         True  ...   \n4             False              False        False        False  ...   \n...             ...                ...          ...          ...  ...   \n7496          False              False        False        False  ...   \n7497          False              False        False        False  ...   \n7498          False              False        False        False  ...   \n7499          False              False        False        False  ...   \n7500          False              False        False        False  ...   \n\n      trazodone HCI  triamcinolone Ace topical  triamterene  trimethoprim DS  \\\n0             False                      False        False            False   \n1             False                      False        False            False   \n2             False                      False        False            False   \n3             False                      False        False            False   \n4             False                      False        False            False   \n...             ...                        ...          ...              ...   \n7496          False                      False        False            False   \n7497          False                      False        False            False   \n7498          False                      False        False            False   \n7499          False                      False        False            False   \n7500          False                      False        False            False   \n\n      valaciclovir  valsartan  venlafaxine XR  verapamil SR  viagra  zolpidem  \n0            False      False           False         False   False     False  \n1            False      False           False         False   False     False  \n2            False      False           False         False   False     False  \n3            False      False           False         False   False     False  \n4            False      False           False         False   False     False  \n...            ...        ...             ...           ...     ...       ...  \n7496         False      False           False         False   False     False  \n7497         False      False           False         False   False     False  \n7498         False      False           False         False   False     False  \n7499         False      False           False         False   False     False  \n7500         False      False           False         False   False     False  \n\n[7501 rows x 119 columns]",
      "text/html": "<div>\n<style scoped>\n    .dataframe tbody tr th:only-of-type {\n        vertical-align: middle;\n    }\n\n    .dataframe tbody tr th {\n        vertical-align: top;\n    }\n\n    .dataframe thead th {\n        text-align: right;\n    }\n</style>\n<table border=\"1\" class=\"dataframe\">\n  <thead>\n    <tr style=\"text-align: right;\">\n      <th></th>\n      <th>Duloxetine</th>\n      <th>Premarin</th>\n      <th>Yaz</th>\n      <th>abilify</th>\n      <th>acetaminophen</th>\n      <th>actonel</th>\n      <th>albuterol HFA</th>\n      <th>albuterol aerosol</th>\n      <th>alendronate</th>\n      <th>allopurinol</th>\n      <th>...</th>\n      <th>trazodone HCI</th>\n      <th>triamcinolone Ace topical</th>\n      <th>triamterene</th>\n      <th>trimethoprim DS</th>\n      <th>valaciclovir</th>\n      <th>valsartan</th>\n      <th>venlafaxine XR</th>\n      <th>verapamil SR</th>\n      <th>viagra</th>\n      <th>zolpidem</th>\n    </tr>\n  </thead>\n  <tbody>\n    <tr>\n      <th>0</th>\n      <td>False</td>\n      <td>False</td>\n      <td>False</td>\n      <td>True</td>\n      <td>False</td>\n      <td>False</td>\n      <td>True</td>\n      <td>True</td>\n      <td>False</td>\n      <td>True</td>\n      <td>...</td>\n      <td>False</td>\n      <td>False</td>\n      <td>False</td>\n      <td>False</td>\n      <td>False</td>\n      <td>False</td>\n      <td>False</td>\n      <td>False</td>\n      <td>False</td>\n      <td>False</td>\n    </tr>\n    <tr>\n      <th>1</th>\n      <td>False</td>\n      <td>False</td>\n      <td>False</td>\n      <td>False</td>\n      <td>False</td>\n      <td>False</td>\n      <td>False</td>\n      <td>False</td>\n      <td>False</td>\n      <td>False</td>\n      <td>...</td>\n      <td>False</td>\n      <td>False</td>\n      <td>False</td>\n      <td>False</td>\n      <td>False</td>\n      <td>False</td>\n      <td>False</td>\n      <td>False</td>\n      <td>False</td>\n      <td>False</td>\n    </tr>\n    <tr>\n      <th>2</th>\n      <td>False</td>\n      <td>False</td>\n      <td>False</td>\n      <td>False</td>\n      <td>False</td>\n      <td>False</td>\n      <td>False</td>\n      <td>False</td>\n      <td>False</td>\n      <td>False</td>\n      <td>...</td>\n      <td>False</td>\n      <td>False</td>\n      <td>False</td>\n      <td>False</td>\n      <td>False</td>\n      <td>False</td>\n      <td>False</td>\n      <td>False</td>\n      <td>False</td>\n      <td>False</td>\n    </tr>\n    <tr>\n      <th>3</th>\n      <td>False</td>\n      <td>False</td>\n      <td>False</td>\n      <td>False</td>\n      <td>False</td>\n      <td>False</td>\n      <td>False</td>\n      <td>False</td>\n      <td>False</td>\n      <td>True</td>\n      <td>...</td>\n      <td>False</td>\n      <td>False</td>\n      <td>False</td>\n      <td>False</td>\n      <td>False</td>\n      <td>False</td>\n      <td>False</td>\n      <td>False</td>\n      <td>False</td>\n      <td>False</td>\n    </tr>\n    <tr>\n      <th>4</th>\n      <td>False</td>\n      <td>False</td>\n      <td>False</td>\n      <td>True</td>\n      <td>False</td>\n      <td>False</td>\n      <td>False</td>\n      <td>False</td>\n      <td>False</td>\n      <td>False</td>\n      <td>...</td>\n      <td>False</td>\n      <td>False</td>\n      <td>False</td>\n      <td>False</td>\n      <td>False</td>\n      <td>False</td>\n      <td>False</td>\n      <td>False</td>\n      <td>False</td>\n      <td>False</td>\n    </tr>\n    <tr>\n      <th>...</th>\n      <td>...</td>\n      <td>...</td>\n      <td>...</td>\n      <td>...</td>\n      <td>...</td>\n      <td>...</td>\n      <td>...</td>\n      <td>...</td>\n      <td>...</td>\n      <td>...</td>\n      <td>...</td>\n      <td>...</td>\n      <td>...</td>\n      <td>...</td>\n      <td>...</td>\n      <td>...</td>\n      <td>...</td>\n      <td>...</td>\n      <td>...</td>\n      <td>...</td>\n      <td>...</td>\n    </tr>\n    <tr>\n      <th>7496</th>\n      <td>False</td>\n      <td>False</td>\n      <td>False</td>\n      <td>False</td>\n      <td>False</td>\n      <td>False</td>\n      <td>False</td>\n      <td>False</td>\n      <td>False</td>\n      <td>False</td>\n      <td>...</td>\n      <td>False</td>\n      <td>False</td>\n      <td>False</td>\n      <td>False</td>\n      <td>False</td>\n      <td>False</td>\n      <td>False</td>\n      <td>False</td>\n      <td>False</td>\n      <td>False</td>\n    </tr>\n    <tr>\n      <th>7497</th>\n      <td>False</td>\n      <td>False</td>\n      <td>False</td>\n      <td>False</td>\n      <td>False</td>\n      <td>False</td>\n      <td>False</td>\n      <td>False</td>\n      <td>False</td>\n      <td>False</td>\n      <td>...</td>\n      <td>False</td>\n      <td>False</td>\n      <td>False</td>\n      <td>False</td>\n      <td>False</td>\n      <td>False</td>\n      <td>False</td>\n      <td>False</td>\n      <td>False</td>\n      <td>False</td>\n    </tr>\n    <tr>\n      <th>7498</th>\n      <td>False</td>\n      <td>False</td>\n      <td>False</td>\n      <td>False</td>\n      <td>False</td>\n      <td>False</td>\n      <td>False</td>\n      <td>False</td>\n      <td>False</td>\n      <td>False</td>\n      <td>...</td>\n      <td>False</td>\n      <td>False</td>\n      <td>False</td>\n      <td>False</td>\n      <td>False</td>\n      <td>False</td>\n      <td>False</td>\n      <td>False</td>\n      <td>False</td>\n      <td>False</td>\n    </tr>\n    <tr>\n      <th>7499</th>\n      <td>False</td>\n      <td>False</td>\n      <td>False</td>\n      <td>False</td>\n      <td>False</td>\n      <td>False</td>\n      <td>False</td>\n      <td>False</td>\n      <td>False</td>\n      <td>False</td>\n      <td>...</td>\n      <td>False</td>\n      <td>False</td>\n      <td>False</td>\n      <td>False</td>\n      <td>False</td>\n      <td>False</td>\n      <td>False</td>\n      <td>False</td>\n      <td>False</td>\n      <td>False</td>\n    </tr>\n    <tr>\n      <th>7500</th>\n      <td>False</td>\n      <td>False</td>\n      <td>False</td>\n      <td>False</td>\n      <td>False</td>\n      <td>False</td>\n      <td>False</td>\n      <td>False</td>\n      <td>False</td>\n      <td>False</td>\n      <td>...</td>\n      <td>False</td>\n      <td>False</td>\n      <td>False</td>\n      <td>False</td>\n      <td>False</td>\n      <td>False</td>\n      <td>False</td>\n      <td>False</td>\n      <td>False</td>\n      <td>False</td>\n    </tr>\n  </tbody>\n</table>\n<p>7501 rows × 119 columns</p>\n</div>"
     },
     "execution_count": 174,
     "metadata": {},
     "output_type": "execute_result"
    }
   ],
   "source": [
    "'''\n",
    "Perform Transaction Encoding for Market Basket Analysis\n",
    "'''\n",
    "\n",
    "transaction_encoder = TransactionEncoder()\n",
    "\n",
    "#fit the data to the encoder\n",
    "transaction_encoder.fit(transaction_data)\n",
    "\n",
    "#transform the data after fitting\n",
    "transformed_transaction = transaction_encoder.transform(transaction_data)\n",
    "\n",
    "cleaned_encoded_transactions = pd.DataFrame(transformed_transaction, columns=transaction_encoder.columns_)\n",
    "\n",
    "cleaned_encoded_transactions"
   ],
   "metadata": {
    "collapsed": false,
    "ExecuteTime": {
     "end_time": "2023-08-24T14:11:35.563975Z",
     "start_time": "2023-08-24T14:11:35.552823Z"
    }
   }
  },
  {
   "cell_type": "code",
   "execution_count": 175,
   "outputs": [],
   "source": [
    "'''\n",
    "Save Encoded Transactions to CSV\n",
    "'''\n",
    "\n",
    "cleaned_encoded_transactions.to_csv('./task3-encoded-transactions.csv', index=False)"
   ],
   "metadata": {
    "collapsed": false,
    "ExecuteTime": {
     "end_time": "2023-08-24T14:11:35.659726Z",
     "start_time": "2023-08-24T14:11:35.564332Z"
    }
   }
  },
  {
   "cell_type": "markdown",
   "source": [
    "<a id=\"geneartion-of-association-rules\"></a>\n",
    "# C2: Generation of Association Rules\n",
    "\n",
    "The process of generating association rules involves the utilization of two distinct functions. Initially, the [`apriori`](https://rasbt.github.io/mlxtend/user_guide/frequent_patterns/apriori/) function is employed to extract all associations that satisfy a specified minimum support threshold. \n",
    "\n",
    "Subsequently, the [`association_rules`](https://rasbt.github.io/mlxtend/user_guide/frequent_patterns/association_rules/) function is employed to elaborate on these rules, incorporating an additional level of reduction by imposing yet another minimum threshold. This secondary threshold pertains to the lift value of each rule, and it serves as a focal point for fine-tuning the rule selection.\n"
   ],
   "metadata": {
    "collapsed": false
   }
  },
  {
   "cell_type": "code",
   "execution_count": 176,
   "outputs": [
    {
     "data": {
      "text/plain": "      support                          itemsets\n0    0.046794                        (Premarin)\n1    0.238368                         (abilify)\n2    0.020397               (albuterol aerosol)\n3    0.033329                     (allopurinol)\n4    0.079323                      (alprazolam)\n..        ...                               ...\n98   0.023064            (lisinopril, diazepam)\n99   0.023464              (diazepam, losartan)\n100  0.022930            (diazepam, metoprolol)\n101  0.020131  (glyburide, doxycycline hyclate)\n102  0.028530             (glyburide, losartan)\n\n[103 rows x 2 columns]",
      "text/html": "<div>\n<style scoped>\n    .dataframe tbody tr th:only-of-type {\n        vertical-align: middle;\n    }\n\n    .dataframe tbody tr th {\n        vertical-align: top;\n    }\n\n    .dataframe thead th {\n        text-align: right;\n    }\n</style>\n<table border=\"1\" class=\"dataframe\">\n  <thead>\n    <tr style=\"text-align: right;\">\n      <th></th>\n      <th>support</th>\n      <th>itemsets</th>\n    </tr>\n  </thead>\n  <tbody>\n    <tr>\n      <th>0</th>\n      <td>0.046794</td>\n      <td>(Premarin)</td>\n    </tr>\n    <tr>\n      <th>1</th>\n      <td>0.238368</td>\n      <td>(abilify)</td>\n    </tr>\n    <tr>\n      <th>2</th>\n      <td>0.020397</td>\n      <td>(albuterol aerosol)</td>\n    </tr>\n    <tr>\n      <th>3</th>\n      <td>0.033329</td>\n      <td>(allopurinol)</td>\n    </tr>\n    <tr>\n      <th>4</th>\n      <td>0.079323</td>\n      <td>(alprazolam)</td>\n    </tr>\n    <tr>\n      <th>...</th>\n      <td>...</td>\n      <td>...</td>\n    </tr>\n    <tr>\n      <th>98</th>\n      <td>0.023064</td>\n      <td>(lisinopril, diazepam)</td>\n    </tr>\n    <tr>\n      <th>99</th>\n      <td>0.023464</td>\n      <td>(diazepam, losartan)</td>\n    </tr>\n    <tr>\n      <th>100</th>\n      <td>0.022930</td>\n      <td>(diazepam, metoprolol)</td>\n    </tr>\n    <tr>\n      <th>101</th>\n      <td>0.020131</td>\n      <td>(glyburide, doxycycline hyclate)</td>\n    </tr>\n    <tr>\n      <th>102</th>\n      <td>0.028530</td>\n      <td>(glyburide, losartan)</td>\n    </tr>\n  </tbody>\n</table>\n<p>103 rows × 2 columns</p>\n</div>"
     },
     "execution_count": 176,
     "metadata": {},
     "output_type": "execute_result"
    }
   ],
   "source": [
    "'''\n",
    "Execute the \"Apriori\" method to get the frequencies (support value) of Itemsets.\n",
    "'''\n",
    "itemsets_support_frequencies = apriori(cleaned_encoded_transactions, min_support = 0.02, use_colnames = True)\n",
    "\n",
    "#display results\n",
    "itemsets_support_frequencies"
   ],
   "metadata": {
    "collapsed": false,
    "ExecuteTime": {
     "end_time": "2023-08-24T14:11:35.677347Z",
     "start_time": "2023-08-24T14:11:35.633799Z"
    }
   }
  },
  {
   "cell_type": "code",
   "execution_count": 177,
   "outputs": [
    {
     "name": "stdout",
     "output_type": "stream",
     "text": [
      "Total Number of Rules Generated: [94]\n"
     ]
    }
   ],
   "source": [
    "'''\n",
    "Execute 'association_rules' function with 'Lift' metric and minimum threshold of 1.\n",
    "\n",
    "With a threshold of 1 while executing 'association_rules' the odds of receiving antecedents (IFs) with Consequent (THENs) increases.\n",
    "'''\n",
    "rules = association_rules(itemsets_support_frequencies, metric = 'lift', min_threshold = 1.0)\n",
    "\n",
    "print(f'Total Number of Rules Generated: [{len(rules)}]')\n",
    "\n",
    "#rules"
   ],
   "metadata": {
    "collapsed": false,
    "ExecuteTime": {
     "end_time": "2023-08-24T14:11:35.678071Z",
     "start_time": "2023-08-24T14:11:35.674779Z"
    }
   }
  },
  {
   "cell_type": "markdown",
   "source": [
    "#### Summary of `Min_Support` and `Min_Threshold` value choices:\n",
    "\n",
    "###### *Min_Support*\n",
    "A higher minimum support value increases the exclusivity of the generated rules, while a lower value might include rules with limited significance due to small sample sizes. Using a minimum support value of 0.02 (2%) strikes a balance between inclusivity and restrictiveness\n",
    "\n",
    "<br />\n",
    "\n",
    "###### *Min_Threshold*\n",
    "Lift measures the strength of association between the antecedent and the consequent of a rule. A lift of 1.0 indicates no association, values greater than 1.0 signify positive association, and values below 1.0 imply negative association. By setting the minimum lift to 1.0, the metric focuses on rules where the antecedent indeed increases the likelihood of the consequent appearing in transactions."
   ],
   "metadata": {
    "collapsed": false
   }
  },
  {
   "cell_type": "markdown",
   "source": [
    "<a id=\"association-rules-table\"></a>\n",
    "# C3: Association Rules Table\n",
    "###### Display Rules Table"
   ],
   "metadata": {
    "collapsed": false
   }
  },
  {
   "cell_type": "code",
   "execution_count": 178,
   "outputs": [
    {
     "data": {
      "text/plain": "                 antecedents                  consequents  antecedent support  \\\n0                  (abilify)                 (amlodipine)            0.238368   \n1               (amlodipine)                    (abilify)            0.071457   \n2   (amphetamine salt combo)                    (abilify)            0.068391   \n3                  (abilify)     (amphetamine salt combo)            0.238368   \n4                  (abilify)  (amphetamine salt combo xr)            0.238368   \n..                       ...                          ...                 ...   \n89              (metoprolol)                   (diazepam)            0.095321   \n90               (glyburide)        (doxycycline hyclate)            0.170911   \n91     (doxycycline hyclate)                  (glyburide)            0.095054   \n92               (glyburide)                   (losartan)            0.170911   \n93                (losartan)                  (glyburide)            0.132116   \n\n    consequent support   support  confidence      lift  leverage  conviction  \\\n0             0.071457  0.023597    0.098993  1.385352  0.006564    1.030562   \n1             0.238368  0.023597    0.330224  1.385352  0.006564    1.137144   \n2             0.238368  0.024397    0.356725  1.496530  0.008095    1.183991   \n3             0.068391  0.024397    0.102349  1.496530  0.008095    1.037830   \n4             0.179709  0.050927    0.213647  1.188845  0.008090    1.043158   \n..                 ...       ...         ...       ...       ...         ...   \n89            0.163845  0.022930    0.240559  1.468215  0.007312    1.101015   \n90            0.095054  0.020131    0.117785  1.239135  0.003885    1.025766   \n91            0.170911  0.020131    0.211781  1.239135  0.003885    1.051852   \n92            0.132116  0.028530    0.166927  1.263488  0.005950    1.041786   \n93            0.170911  0.028530    0.215943  1.263488  0.005950    1.057436   \n\n    zhangs_metric  \n0        0.365218  \n1        0.299568  \n2        0.356144  \n3        0.435627  \n4        0.208562  \n..            ...  \n89       0.352502  \n90       0.232768  \n91       0.213256  \n92       0.251529  \n93       0.240286  \n\n[94 rows x 10 columns]",
      "text/html": "<div>\n<style scoped>\n    .dataframe tbody tr th:only-of-type {\n        vertical-align: middle;\n    }\n\n    .dataframe tbody tr th {\n        vertical-align: top;\n    }\n\n    .dataframe thead th {\n        text-align: right;\n    }\n</style>\n<table border=\"1\" class=\"dataframe\">\n  <thead>\n    <tr style=\"text-align: right;\">\n      <th></th>\n      <th>antecedents</th>\n      <th>consequents</th>\n      <th>antecedent support</th>\n      <th>consequent support</th>\n      <th>support</th>\n      <th>confidence</th>\n      <th>lift</th>\n      <th>leverage</th>\n      <th>conviction</th>\n      <th>zhangs_metric</th>\n    </tr>\n  </thead>\n  <tbody>\n    <tr>\n      <th>0</th>\n      <td>(abilify)</td>\n      <td>(amlodipine)</td>\n      <td>0.238368</td>\n      <td>0.071457</td>\n      <td>0.023597</td>\n      <td>0.098993</td>\n      <td>1.385352</td>\n      <td>0.006564</td>\n      <td>1.030562</td>\n      <td>0.365218</td>\n    </tr>\n    <tr>\n      <th>1</th>\n      <td>(amlodipine)</td>\n      <td>(abilify)</td>\n      <td>0.071457</td>\n      <td>0.238368</td>\n      <td>0.023597</td>\n      <td>0.330224</td>\n      <td>1.385352</td>\n      <td>0.006564</td>\n      <td>1.137144</td>\n      <td>0.299568</td>\n    </tr>\n    <tr>\n      <th>2</th>\n      <td>(amphetamine salt combo)</td>\n      <td>(abilify)</td>\n      <td>0.068391</td>\n      <td>0.238368</td>\n      <td>0.024397</td>\n      <td>0.356725</td>\n      <td>1.496530</td>\n      <td>0.008095</td>\n      <td>1.183991</td>\n      <td>0.356144</td>\n    </tr>\n    <tr>\n      <th>3</th>\n      <td>(abilify)</td>\n      <td>(amphetamine salt combo)</td>\n      <td>0.238368</td>\n      <td>0.068391</td>\n      <td>0.024397</td>\n      <td>0.102349</td>\n      <td>1.496530</td>\n      <td>0.008095</td>\n      <td>1.037830</td>\n      <td>0.435627</td>\n    </tr>\n    <tr>\n      <th>4</th>\n      <td>(abilify)</td>\n      <td>(amphetamine salt combo xr)</td>\n      <td>0.238368</td>\n      <td>0.179709</td>\n      <td>0.050927</td>\n      <td>0.213647</td>\n      <td>1.188845</td>\n      <td>0.008090</td>\n      <td>1.043158</td>\n      <td>0.208562</td>\n    </tr>\n    <tr>\n      <th>...</th>\n      <td>...</td>\n      <td>...</td>\n      <td>...</td>\n      <td>...</td>\n      <td>...</td>\n      <td>...</td>\n      <td>...</td>\n      <td>...</td>\n      <td>...</td>\n      <td>...</td>\n    </tr>\n    <tr>\n      <th>89</th>\n      <td>(metoprolol)</td>\n      <td>(diazepam)</td>\n      <td>0.095321</td>\n      <td>0.163845</td>\n      <td>0.022930</td>\n      <td>0.240559</td>\n      <td>1.468215</td>\n      <td>0.007312</td>\n      <td>1.101015</td>\n      <td>0.352502</td>\n    </tr>\n    <tr>\n      <th>90</th>\n      <td>(glyburide)</td>\n      <td>(doxycycline hyclate)</td>\n      <td>0.170911</td>\n      <td>0.095054</td>\n      <td>0.020131</td>\n      <td>0.117785</td>\n      <td>1.239135</td>\n      <td>0.003885</td>\n      <td>1.025766</td>\n      <td>0.232768</td>\n    </tr>\n    <tr>\n      <th>91</th>\n      <td>(doxycycline hyclate)</td>\n      <td>(glyburide)</td>\n      <td>0.095054</td>\n      <td>0.170911</td>\n      <td>0.020131</td>\n      <td>0.211781</td>\n      <td>1.239135</td>\n      <td>0.003885</td>\n      <td>1.051852</td>\n      <td>0.213256</td>\n    </tr>\n    <tr>\n      <th>92</th>\n      <td>(glyburide)</td>\n      <td>(losartan)</td>\n      <td>0.170911</td>\n      <td>0.132116</td>\n      <td>0.028530</td>\n      <td>0.166927</td>\n      <td>1.263488</td>\n      <td>0.005950</td>\n      <td>1.041786</td>\n      <td>0.251529</td>\n    </tr>\n    <tr>\n      <th>93</th>\n      <td>(losartan)</td>\n      <td>(glyburide)</td>\n      <td>0.132116</td>\n      <td>0.170911</td>\n      <td>0.028530</td>\n      <td>0.215943</td>\n      <td>1.263488</td>\n      <td>0.005950</td>\n      <td>1.057436</td>\n      <td>0.240286</td>\n    </tr>\n  </tbody>\n</table>\n<p>94 rows × 10 columns</p>\n</div>"
     },
     "execution_count": 178,
     "metadata": {},
     "output_type": "execute_result"
    }
   ],
   "source": [
    "rules"
   ],
   "metadata": {
    "collapsed": false,
    "ExecuteTime": {
     "end_time": "2023-08-24T14:11:35.720954Z",
     "start_time": "2023-08-24T14:11:35.683093Z"
    }
   }
  },
  {
   "cell_type": "markdown",
   "source": [
    "<a id=\"top-rules\"></a>\n",
    "# C4: Top Rules"
   ],
   "metadata": {
    "collapsed": false
   }
  },
  {
   "cell_type": "code",
   "execution_count": 179,
   "outputs": [
    {
     "data": {
      "text/plain": "     antecedents   consequents  antecedent support  consequent support  \\\n74  (lisinopril)  (carvedilol)            0.098254            0.174110   \n73   (glipizide)  (carvedilol)            0.065858            0.174110   \n31   (metformin)     (abilify)            0.050527            0.238368   \n\n     support  confidence      lift  leverage  conviction  zhangs_metric  \n74  0.039195    0.398915  2.291162  0.022088    1.373997       0.624943  \n73  0.022930    0.348178  1.999758  0.011464    1.267048       0.535186  \n31  0.023064    0.456464  1.914955  0.011020    1.401255       0.503221  ",
      "text/html": "<div>\n<style scoped>\n    .dataframe tbody tr th:only-of-type {\n        vertical-align: middle;\n    }\n\n    .dataframe tbody tr th {\n        vertical-align: top;\n    }\n\n    .dataframe thead th {\n        text-align: right;\n    }\n</style>\n<table border=\"1\" class=\"dataframe\">\n  <thead>\n    <tr style=\"text-align: right;\">\n      <th></th>\n      <th>antecedents</th>\n      <th>consequents</th>\n      <th>antecedent support</th>\n      <th>consequent support</th>\n      <th>support</th>\n      <th>confidence</th>\n      <th>lift</th>\n      <th>leverage</th>\n      <th>conviction</th>\n      <th>zhangs_metric</th>\n    </tr>\n  </thead>\n  <tbody>\n    <tr>\n      <th>74</th>\n      <td>(lisinopril)</td>\n      <td>(carvedilol)</td>\n      <td>0.098254</td>\n      <td>0.174110</td>\n      <td>0.039195</td>\n      <td>0.398915</td>\n      <td>2.291162</td>\n      <td>0.022088</td>\n      <td>1.373997</td>\n      <td>0.624943</td>\n    </tr>\n    <tr>\n      <th>73</th>\n      <td>(glipizide)</td>\n      <td>(carvedilol)</td>\n      <td>0.065858</td>\n      <td>0.174110</td>\n      <td>0.022930</td>\n      <td>0.348178</td>\n      <td>1.999758</td>\n      <td>0.011464</td>\n      <td>1.267048</td>\n      <td>0.535186</td>\n    </tr>\n    <tr>\n      <th>31</th>\n      <td>(metformin)</td>\n      <td>(abilify)</td>\n      <td>0.050527</td>\n      <td>0.238368</td>\n      <td>0.023064</td>\n      <td>0.456464</td>\n      <td>1.914955</td>\n      <td>0.011020</td>\n      <td>1.401255</td>\n      <td>0.503221</td>\n    </tr>\n  </tbody>\n</table>\n</div>"
     },
     "execution_count": 179,
     "metadata": {},
     "output_type": "execute_result"
    }
   ],
   "source": [
    "selection = (rules['confidence'] > 0.29) & (rules['lift'] > 1.9)\n",
    "rules_sorted_by_lift = rules[selection].copy().sort_values(by=['lift'], ascending= False)\n",
    "top_3_rules = rules_sorted_by_lift.head(3).copy()\n",
    "\n",
    "top_3_rules"
   ],
   "metadata": {
    "collapsed": false,
    "ExecuteTime": {
     "end_time": "2023-08-24T14:11:35.724102Z",
     "start_time": "2023-08-24T14:11:35.685716Z"
    }
   }
  },
  {
   "cell_type": "markdown",
   "source": [
    "The higher lift indicates a stronger effect of the consequent being included in the transaction with the antecedent. The confidence score indicates a proportion of all transactions including the antecedent also featuring the consequent, and imposing a moderate confidence threshold here requires that we see a more significant proportion of antecedent transactions also include the consequent.\n",
    "\n",
    "I initially set the `Confidence: 0.4` and `Lift: 2.0`, but this did not yield any results. I then gradually reduced these numbers until I obtained a set of rules that were worth sorting and selecting the top three from. The final values I settled on were `Confidence: 0.20` and `Lift: 1.9`."
   ],
   "metadata": {
    "collapsed": false
   }
  },
  {
   "cell_type": "markdown",
   "source": [
    "<a id=\"results-analysis\"></a>\n",
    "# D1: Results of Analysis\n",
    "\n",
    ">The submission adequately summarizes the significance of support, lift, and confidence from the results of the analysis."
   ],
   "metadata": {
    "collapsed": false
   }
  },
  {
   "cell_type": "code",
   "execution_count": 180,
   "outputs": [
    {
     "data": {
      "text/plain": "     antecedents   consequents   support      lift  confidence\n74  (lisinopril)  (carvedilol)  0.039195  2.291162    0.398915\n73   (glipizide)  (carvedilol)  0.022930  1.999758    0.348178\n31   (metformin)     (abilify)  0.023064  1.914955    0.456464",
      "text/html": "<div>\n<style scoped>\n    .dataframe tbody tr th:only-of-type {\n        vertical-align: middle;\n    }\n\n    .dataframe tbody tr th {\n        vertical-align: top;\n    }\n\n    .dataframe thead th {\n        text-align: right;\n    }\n</style>\n<table border=\"1\" class=\"dataframe\">\n  <thead>\n    <tr style=\"text-align: right;\">\n      <th></th>\n      <th>antecedents</th>\n      <th>consequents</th>\n      <th>support</th>\n      <th>lift</th>\n      <th>confidence</th>\n    </tr>\n  </thead>\n  <tbody>\n    <tr>\n      <th>74</th>\n      <td>(lisinopril)</td>\n      <td>(carvedilol)</td>\n      <td>0.039195</td>\n      <td>2.291162</td>\n      <td>0.398915</td>\n    </tr>\n    <tr>\n      <th>73</th>\n      <td>(glipizide)</td>\n      <td>(carvedilol)</td>\n      <td>0.022930</td>\n      <td>1.999758</td>\n      <td>0.348178</td>\n    </tr>\n    <tr>\n      <th>31</th>\n      <td>(metformin)</td>\n      <td>(abilify)</td>\n      <td>0.023064</td>\n      <td>1.914955</td>\n      <td>0.456464</td>\n    </tr>\n  </tbody>\n</table>\n</div>"
     },
     "execution_count": 180,
     "metadata": {},
     "output_type": "execute_result"
    }
   ],
   "source": [
    "analysis_items = ['antecedents', 'consequents', 'support', 'lift', 'confidence']\n",
    "analysis_values = top_3_rules[analysis_items]\n",
    "\n",
    "analysis_values"
   ],
   "metadata": {
    "collapsed": false,
    "ExecuteTime": {
     "end_time": "2023-08-24T14:11:35.724490Z",
     "start_time": "2023-08-24T14:11:35.695876Z"
    }
   }
  },
  {
   "cell_type": "markdown",
   "source": [
    "### Analysis of Support, Lift, and Confidence of Top 3 Rules\n",
    "\n",
    "1. **Rule 74 (lisinopril -> carvedilol):**\n",
    "   - **Support:** 0.039195, indicating that the combination of lisinopril and carvedilol appears in approximately 3.92% of all transactions.\n",
    "   - **Lift:** 2.291162, suggesting that carvedilol is 2.29 times more likely to be bought with lisinopril than on its own.\n",
    "   - **Confidence:** 0.398915, meaning that 39.89% of transactions containing lisinopril also include carvedilol.\n",
    "\n",
    "2. **Rule 73 (glipizide -> carvedilol):**\n",
    "   - **Support:** 0.022930, indicating that the combination of glipizide and carvedilol appears in approximately 2.29% of all transactions.\n",
    "   - **Lift:** 1.999758, suggesting that carvedilol is 2 times more likely to be bought with glipizide than on its own.\n",
    "   - **Confidence:** 0.348178, meaning that 34.82% of transactions containing glipizide also include carvedilol.\n",
    "\n",
    "3. **Rule 31 (metformin -> abilify):**\n",
    "   - **Support:** 0.023064, indicating that the combination of metformin and abilify appears in approximately 2.31% of all transactions.\n",
    "   - **Lift:** 1.914955, suggesting that abilify is 1.91 times more likely to be bought with metformin than on its own.\n",
    "   - **Confidence:** 0.456464, meaning that 45.65% of transactions containing metformin also include abilify."
   ],
   "metadata": {
    "collapsed": false
   }
  },
  {
   "cell_type": "markdown",
   "source": [
    "<a id=\"practical-significance\"></a>\n",
    "# D2: Practical Significance"
   ],
   "metadata": {
    "collapsed": false
   }
  },
  {
   "cell_type": "markdown",
   "source": [
    "<a id=\"recommended-action\"></a>\n",
    "# D3: Recommended Action"
   ],
   "metadata": {
    "collapsed": false
   }
  },
  {
   "cell_type": "markdown",
   "source": [
    "<a id=\"panopto-recording\"></a>\n",
    "# E: Panopto Recording"
   ],
   "metadata": {
    "collapsed": false
   }
  },
  {
   "cell_type": "markdown",
   "source": [
    "<a id=\"code-reference\"></a>\n",
    "# F: Code References"
   ],
   "metadata": {
    "collapsed": false
   }
  },
  {
   "cell_type": "markdown",
   "source": [
    "<a id=\"source-references\"></a>\n",
    "# G: Source References\n",
    "\n",
    " * Bruce, P., Bruce, A., &amp; Gedeck, P. (2020). Practical statistics for data scientists: 50+ essential concepts using r and python. O’Reilly Media. <br /> <br />\n",
    " * Geron, A. (2022). Hands-on machine learning with scikit-learn, Keras, and tensorflow 3E: Concepts, tools, and techniques to build Intelligent Systems. O’Reilly Media.   "
   ],
   "metadata": {
    "collapsed": false
   }
  }
 ],
 "metadata": {
  "kernelspec": {
   "display_name": "Python 3",
   "language": "python",
   "name": "python3"
  },
  "language_info": {
   "codemirror_mode": {
    "name": "ipython",
    "version": 2
   },
   "file_extension": ".py",
   "mimetype": "text/x-python",
   "name": "python",
   "nbconvert_exporter": "python",
   "pygments_lexer": "ipython2",
   "version": "2.7.6"
  }
 },
 "nbformat": 4,
 "nbformat_minor": 0
}
