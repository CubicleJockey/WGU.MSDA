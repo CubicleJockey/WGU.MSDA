{
 "cells": [
  {
   "cell_type": "markdown",
   "source": [
    "# D212 - Data Mining II\n",
    "### OFM3 Task 3: Association Rules and Lift Analysis\n",
    "#### Data Mining II — D212\n",
    "#### PRFA — OFM3\n",
    "> André Davis\n",
    "> StudentID: 010630641\n",
    "> MSDA\n",
    ">\n",
    "> Competencies\n",
    "> 4030.06.6 : Pattern Prediction\n",
    "> The graduate predicts patterns in data using association rules and lift analysis."
   ],
   "metadata": {
    "collapsed": false
   }
  },
  {
   "cell_type": "markdown",
   "source": [
    "#### Table of Contents\n",
    "<ul>\n",
    "    <li><a href=\"#data-set-medications\">Dataset Medications</a></li>\n",
    "    <li><a href=\"#research-question\">A1: Research Question</a></li>\n",
    "    <li><a href=\"#objectives\">A2: Objectives and Goals of Analysis</a></li>\n",
    "    <li><a href=\"#explination-of-market-basket-analysis\">B1: Explanation of Market Basket Analysis</a></li>\n",
    "    <li><a href=\"#transaction-example\">B2: Transaction Example</a></li>\n",
    "    <li><a href=\"#assumptions\">B3: Assumptions of Market Basket Analysis</a></li>\n",
    "    <li><a href=\"#data-prepartion\">C1: Data Preparation</a></li>\n",
    "    <li><a href=\"#geneartion-of-association-rules\">C2: Generation of Association Rules</a></li>\n",
    "    <li><a href=\"#association-rules-table\">C3: Association Rules Table</a></li>\n",
    "    <li><a href=\"#top-rules\">C4: Top Rules</a></li>\n",
    "    <li><a href=\"#results-analysis\">D1: Results of Analysis</a></li>\n",
    "    <li><a href=\"#practical-significance\">D2: Practical Significance</a></li>\n",
    "    <li><a href=\"#recommended-action\">D3: Recommended Action</a></li>\n",
    "    <li><a href=\"#panopto-recording\">E: Panopto Recording</a></li>\n",
    "    <li><a href=\"#code-references\">F: Code References</a></li>\n",
    "    <li><a href=\"#source-references\">G: Source References</a></li>\n",
    "</ul>"
   ],
   "metadata": {
    "collapsed": false
   }
  },
  {
   "cell_type": "markdown",
   "source": [
    "<a id=\"data-set-medications\"></a>\n",
    "# Dataset Medications\n",
    "\n",
    "##### Medication Details for formulating a valid Research Question in Section A1.\n",
    "\n",
    "| Medication Name            | Treats                            | Source Citation                                                                                          |\n",
    "|----------------------------|-----------------------------------|----------------------------------------------------------------------------------------------------------|\n",
    "| Abilify                    | Mental health disorders           | [Abilify - Wikipedia](https://en.wikipedia.org/wiki/Aripiprazole)                                        |\n",
    "| Acetaminophen              | Pain and fever relief             | [Acetaminophen - Wikipedia](https://en.wikipedia.org/wiki/Acetaminophen)                                 |\n",
    "| Actonel                    | Osteoporosis                      | [Risedronic acid - Wikipedia](https://en.wikipedia.org/wiki/Risedronic_acid)                             |\n",
    "| Albuterol Aerosol          | Asthma and bronchospasm           | [Albuterol - Wikipedia](https://en.wikipedia.org/wiki/Albuterol)                                         |\n",
    "| Albuterol HFA              | Asthma and bronchospasm           | [Albuterol - Wikipedia](https://en.wikipedia.org/wiki/Albuterol)                                         |\n",
    "| Alendronate                | Osteoporosis                      | [Alendronic acid - Wikipedia](https://en.wikipedia.org/wiki/Alendronic_acid)                             |\n",
    "| Allopurinol                | Gout                              | [Allopurinol - Wikipedia](https://en.wikipedia.org/wiki/Allopurinol)                                     |\n",
    "| Alprazolam                 | Anxiety and panic disorders       | [Alprazolam - Wikipedia](https://en.wikipedia.org/wiki/Alprazolam)                                       |\n",
    "| Amitriptyline              | Depression and neuropathy         | [Amitriptyline - Wikipedia](https://en.wikipedia.org/wiki/Amitriptyline)                                 |\n",
    "| Amlodipine                 | Hypertension                      | [Amlodipine - Wikipedia](https://en.wikipedia.org/wiki/Amlodipine)                                       |\n",
    "| Amoxicillin                | Bacterial infections              | [Amoxicillin - Wikipedia](https://en.wikipedia.org/wiki/Amoxicillin)                                     |\n",
    "| Amphetamine                | ADHD and narcolepsy               | [Amphetamine - Wikipedia](https://en.wikipedia.org/wiki/Amphetamine)                                     |\n",
    "| Amphetamine Salt Combo     | ADHD                              | [Amphetamine/dextroamphetamine - Wikipedia](https://en.wikipedia.org/wiki/Amphetamine/dextroamphetamine) |\n",
    "| Amphetamine Salt Combo XR  | ADHD                              | [Amphetamine/dextroamphetamine - Wikipedia](https://en.wikipedia.org/wiki/Amphetamine/dextroamphetamine) |\n",
    "| Atenolol                   | Hypertension                      | [Atenolol - Wikipedia](https://en.wikipedia.org/wiki/Atenolol)                                           |\n",
    "| Atorvastatin               | High cholesterol                  | [Atorvastatin - Wikipedia](https://en.wikipedia.org/wiki/Atorvastatin)                                   |\n",
    "| Azithromycin               | Bacterial infections              | [Azithromycin - Wikipedia](https://en.wikipedia.org/wiki/Azithromycin)                                   |\n",
    "| Benazepril                 | Hypertension                      | [Benazepril - Wikipedia](https://en.wikipedia.org/wiki/Benazepril)                                       |\n",
    "| Benicar                    | Hypertension                      | [Olmesartan - Wikipedia](https://en.wikipedia.org/wiki/Olmesartan)                                       |\n",
    "| Boniva                     | Osteoporosis                      | [Ibandronic acid - Wikipedia](https://en.wikipedia.org/wiki/Ibandronic_acid)                             |\n",
    "| Bupropion SR               | Depression and smoking cessation  | [Bupropion - Wikipedia](https://en.wikipedia.org/wiki/Bupropion)                                         |\n",
    "| Carisoprodol               | Muscle pain and discomfort        | [Carisoprodol - Wikipedia](https://en.wikipedia.org/wiki/Carisoprodol)                                   |\n",
    "| Carvedilol                 | Heart failure and hypertension    | [Carvedilol - Wikipedia](https://en.wikipedia.org/wiki/Carvedilol)                                       |\n",
    "| Cefdinir                   | Bacterial infections              | [Cefdinir - Wikipedia](https://en.wikipedia.org/wiki/Cefdinir)                                           |\n",
    "| Celebrex                   | Pain and inflammation             | [Celecoxib - Wikipedia](https://en.wikipedia.org/wiki/Celecoxib)                                         |\n",
    "| Celecoxib                  | Pain and inflammation             | [Celecoxib - Wikipedia](https://en.wikipedia.org/wiki/Celecoxib)                                         |\n",
    "| Cephalexin                 | Bacterial infections              | [Cephalexin - Wikipedia](https://en.wikipedia.org/wiki/Cephalexin)                                       |\n",
    "| Cialis                     | Erectile dysfunction              | [Tadalafil - Wikipedia](https://en.wikipedia.org/wiki/Tadalafil)                                         |\n",
    "| Ciprofloxacin              | Bacterial infections              | [Ciprofloxacin - Wikipedia](https://en.wikipedia.org/wiki/Ciprofloxacin)                                 |\n",
    "| Citalopram                 | Depression and anxiety            | [Citalopram - Wikipedia](https://en.wikipedia.org/wiki/Citalopram)                                       |\n",
    "| Clavulanate K+             | Antibiotic                        | [Clavulanic acid - Wikipedia](https://en.wikipedia.org/wiki/Clavulanic_acid)                             |\n",
    "| Clonazepam                 | Seizures and panic disorders      | [Clonazepam - Wikipedia](https://en.wikipedia.org/wiki/Clonazepam)                                       |\n",
    "| Clonidine HCI              | Hypertension                      | [Clonidine - Wikipedia](https://en.wikipedia.org/wiki/Clonidine)                                         |\n",
    "| Clopidogrel                | Blood clot prevention             | [Clopidogrel - Wikipedia](https://en.wikipedia.org/wiki/Clopidogrel)                                     |\n",
    "| Clotrimazole               | Fungal infections                 | [Clotrimazole - Wikipedia](https://en.wikipedia.org/wiki/Clotrimazole)                                   |\n",
    "| Codeine                    | Pain relief                       | [Codeine - Wikipedia](https://en.wikipedia.org/wiki/Codeine)                                             |\n",
    "| Crestor                    | High cholesterol                  | [Rosuvastatin - Wikipedia](https://en.wikipedia.org/wiki/Rosuvastatin)                                   |\n",
    "| Cyclobenzaprine            | Muscle pain and discomfort        | [Cyclobenzaprine - Wikipedia](https://en.wikipedia.org/wiki/Cyclobenzaprine)                             |\n",
    "| Cymbalta                   | Depression and pain relief        | [Duloxetine - Wikipedia](https://en.wikipedia.org/wiki/Duloxetine)                                       |\n",
    "| Dextroamphetamine XR       | ADHD                              | [Amphetamine/dextroamphetamine - Wikipedia](https://en.wikipedia.org/wiki/Amphetamine/dextroamphetamine) |\n",
    "| Diazepam                   | Anxiety and seizures              | [Diazepam - Wikipedia](https://en.wikipedia.org/wiki/Diazepam)                                           |\n",
    "| Diclofenac Sodium          | Pain and inflammation             | [Diclofenac - Wikipedia](https://en.wikipedia.org/wiki/Diclofenac)                                       |\n",
    "| Doxycycline Hyclate        | Bacterial infections              | [Doxycycline - Wikipedia](https://en.wikipedia.org/wiki/Doxycycline)                                     |\n",
    "| Duloxetine                 | Depression and pain relief        | [Duloxetine - Wikipedia](https://en.wikipedia.org/wiki/Duloxetine)                                       |\n",
    "| Enalapril                  | Hypertension                      | [Enalapril - Wikipedia](https://en.wikipedia.org/wiki/Enalapril)                                         |\n",
    "| Escitalopram               | Depression and anxiety            | [Escitalopram - Wikipedia](https://en.wikipedia.org/wiki/Escitalopram)                                   |\n",
    "| Esomeprazole               | Acid reflux and ulcers            | [Esomeprazole - Wikipedia](https://en.wikipedia.org/wiki/Esomeprazole)                                   |\n",
    "| Ezetimibe                  | High cholesterol                  | [Ezetimibe - Wikipedia](https://en.wikipedia.org/wiki/Ezetimibe)                                         |\n",
    "| Fenofibrate                | High cholesterol                  | [Fenofibrate - Wikipedia](https://en.wikipedia.org/wiki/Fenofibrate)                                     |\n",
    "| Fexofenadine               | Allergies                         | [Fexofenadine - Wikipedia](https://en.wikipedia.org/wiki/Fexofenadine)                                   |\n",
    "| Finasteride                | Enlarged prostate and hair loss   | [Finasteride - Wikipedia](https://en.wikipedia.org/wiki/Finasteride)                                     |\n",
    "| Flovent HFA 110mcg Inhaler | Asthma                            | [Fluticasone - Wikipedia](https://en.wikipedia.org/wiki/Fluticasone)                                     |\n",
    "| Fluconazole                | Fungal infections                 | [Fluconazole - Wikipedia](https://en.wikipedia.org/wiki/Fluconazole)                                     |\n",
    "| Fluoxetine HCI             | Depression and anxiety            | [Fluoxetine - Wikipedia](https://en.wikipedia.org/wiki/Fluoxetine)                                       |\n",
    "| Fluticasone                | Asthma and allergies              | [Fluticasone - Wikipedia](https://en.wikipedia.org/wiki/Fluticasone)                                     |\n",
    "| Fluticasone Nasal Spray    | Allergic rhinitis                 | [Fluticasone - Wikipedia](https://en.wikipedia.org/wiki/Fluticasone)                                     |\n",
    "| Folic Acid                 | Vitamin deficiency                | [Folic acid - Wikipedia](https://en.wikipedia.org/wiki/Folic_acid)                                       |\n",
    "| Furosemide                 | Edema and hypertension            | [Furosemide - Wikipedia](https://en.wikipedia.org/wiki/Furosemide)                                       |\n",
    "| Gabapentin                 | Seizures and nerve pain           | [Gabapentin - Wikipedia](https://en.wikipedia.org/wiki/Gabapentin)                                       |\n",
    "| Glimepiride                | Type 2 diabetes                   | [Glimepiride - Wikipedia](https://en.wikipedia.org/wiki/Glimepiride)                                     |\n",
    "| Glipizide                  | Type 2 diabetes                   | [Glipizide - Wikipedia](https://en.wikipedia.org/wiki/Glipizide)                                         |\n",
    "| Glyburide                  | Type 2 diabetes                   | [Glyburide - Wikipedia](https://en.wikipedia.org/wiki/Glyburide)                                         |\n",
    "| Hydrochlorothiazide        | Hypertension and edema            | [Hydrochlorothiazide - Wikipedia](https://en.wikipedia.org/wiki/Hydrochlorothiazide)                     |\n",
    "| Hydrocodone                | Pain relief and cough suppression | [Hydrocodone - Wikipedia](https://en.wikipedia.org/wiki/Hydrocodone)                                     |\n",
    "| Hydrocortisone 2.5% Cream  | Skin inflammation                 | [Hydrocortisone - Wikipedia](https://en.wikipedia.org/wiki/Hydrocortisone)                               |\n",
    "| Ibuprofen                  | Pain and inflammation             | [Ibuprofen - Wikipedia](https://en.wikipedia.org/wiki/Ibuprofen)                                         |\n",
    "| Isosorbide Mononitrate     | Angina                            | [Isosorbide mononitrate - Wikipedia](https://en.wikipedia.org/wiki/Isosorbide_mononitrate)               |\n",
    "| Lansoprazole               | Acid reflux and ulcers            | [Lansoprazole - Wikipedia](https://en.wikipedia.org/wiki/Lansoprazole)                                   |\n",
    "| Lantus                     | Diabetes                          | [Insulin glargine - Wikipedia](https://en.wikipedia.org/wiki/Insulin_glargine)                           |\n",
    "| Levofloxacin               | Bacterial infections              | [Levofloxacin - Wikipedia](https://en.wikipedia.org/wiki/Levofloxacin)                                   |\n",
    "| Levothyroxine Sodium       | Hypothyroidism                    | [Levothyroxine - Wikipedia](https://en.wikipedia.org/wiki/Levothyroxine)                                 |\n",
    "| Lisinopril                 | Hypertension                      | [Lisinopril - Wikipedia](https://en.wikipedia.org/wiki/Lisinopril)                                       |\n",
    "| Lorazepam                  | Anxiety and insomnia              | [Lorazepam - Wikipedia](https://en.wikipedia.org/wiki/Lorazepam)                                         |\n",
    "| Losartan                   | Hypertension                      | [Losartan - Wikipedia](https://en.wikipedia.org/wiki/Losartan)                                           |\n",
    "| Lovastatin                 | High cholesterol                  | [Lovastatin - Wikipedia](https://en.wikipedia.org/wiki/Lovastatin)                                       |\n",
    "| Meloxicam                  | Pain and inflammation             | [Meloxicam - Wikipedia](https://en.wikipedia.org/wiki/Meloxicam)                                         |\n",
    "| Metformin                  | Type 2 diabetes                   | [Metformin - Wikipedia](https://en.wikipedia.org/wiki/Metformin)                                         |\n",
    "| Metformin HCI              | Type 2 diabetes                   | [Metformin - Wikipedia](https://en.wikipedia.org/wiki/Metformin)                                         |\n",
    "| Methylprednisone           | Inflammatory conditions           | [Methylprednisolone - Wikipedia](https://en.wikipedia.org/wiki/Methylprednisolone)                       |\n",
    "| Metoprolol                 | Hypertension and angina           | [Metoprolol - Wikipedia](https://en.wikipedia.org/wiki/Metoprolol)                                       |\n",
    "| Metoprolol Succinate XL    | Hypertension                      | [Metoprolol succinate - Wikipedia](https://en.wikipedia.org/wiki/Metoprolol_succinate)                   |\n",
    "| Metoprolol Tartrate        | Hypertension                      | [Metoprolol tartrate - Wikipedia](https://en.wikipedia.org/wiki/Metoprolol_tartrate)                     |\n",
    "| Mometasone                 | Inflammatory conditions           | [Mometasone - Wikipedia](https://en.wikipedia.org/wiki/Mometasone)                                       |\n",
    "| Naproxen                   | Pain and inflammation             | [Naproxen - Wikipedia](https://en.wikipedia.org/wiki/Naproxen)                                           |\n",
    "| Omeprazole                 | Acid reflux and ulcers            | [Omeprazole - Wikipedia](https://en.wikipedia.org/wiki/Omeprazole)                                       |\n",
    "| Oxycodone                  | Pain relief                       | [Oxycodone - Wikipedia](https://en.wikipedia.org/wiki/Oxycodone)                                         |\n",
    "| Pantoprazole               | Acid reflux and ulcers            | [Pantoprazole - Wikipedia](https://en.wikipedia.org/wiki/Pantoprazole)                                   |\n",
    "| Paroxetine                 | Depression and anxiety            | [Paroxetine - Wikipedia](https://en.wikipedia.org/wiki/Paroxetine)                                       |\n",
    "| Pioglitazone               | Type 2 diabetes                   | [Pioglitazone - Wikipedia](https://en.wikipedia.org/wiki/Pioglitazone)                                   |\n",
    "| Potassium Chloride         | Electrolyte imbalance             | [Potassium chloride - Wikipedia](https://en.wikipedia.org/wiki/Potassium_chloride)                       |\n",
    "| Pravastatin                | High cholesterol                  | [Pravastatin - Wikipedia](https://en.wikipedia.org/wiki/Pravastatin)                                     |\n",
    "| Prednisone                 | Inflammatory conditions           | [Prednisone - Wikipedia](https://en.wikipedia.org/wiki/Prednisone)                                       |\n",
    "| Pregabalin                 | Neuropathic pain and seizures     | [Pregabalin - Wikipedia](https://en.wikipedia.org/wiki/Pregabalin)                                       |\n",
    "| Premarin                   | Hormone replacement therapy       | [Conjugated estrogens - Wikipedia](https://en.wikipedia.org/wiki/Conjugated_estrogens)                   |\n",
    "| Promethazine               | Allergies and nausea              | [Promethazine - Wikipedia](https://en.wikipedia.org/wiki/Promethazine)                                   |\n",
    "| Quetiapine                 | Mental health disorders           | [Quetiapine - Wikipedia](https://en.wikipedia.org/wiki/Quetiapine)                                       |\n",
    "| Ranitidine                 | Acid reflux                       | [Ranitidine - Wikipedia](https://en.wikipedia.org/wiki/Ranitidine)                                       |\n",
    "| Rosuvastatin               | High cholesterol                  | [Rosuvastatin - Wikipedia](https://en.wikipedia.org/wiki/Rosuvastatin)                                   |\n",
    "| Salmeterol Inhaler         | Asthma and COPD                   | [Salmeterol - Wikipedia](https://en.wikipedia.org/wiki/Salmeterol)                                       |\n",
    "| Sertraline HCI             | Depression and anxiety            | [Sertraline - Wikipedia](https://en.wikipedia.org/wiki/Sertraline)                                       |\n",
    "| Simvastatin                | High cholesterol                  | [Simvastatin - Wikipedia](https://en.wikipedia.org/wiki/Simvastatin)                                     |\n",
    "| Spironolactone             | Hypertension and edema            | [Spironolactone - Wikipedia](https://en.wikipedia.org/wiki/Spironolactone)                               |\n",
    "| Sulfamethoxazole           | Bacterial infections              | [Sulfamethoxazole - Wikipedia](https://en.wikipedia.org/wiki/Sulfamethoxazole)                           |\n",
    "| Synthroid                  | Hypothyroidism                    | [Levothyroxine - Wikipedia](https://en.wikipedia.org/wiki/Levothyroxine)                                 |\n",
    "| Tamsulosin                 | Enlarged prostate                 | [Tamsulosin - Wikipedia](https://en.wikipedia.org/wiki/Tamsulosin)                                       |\n",
    "| Temazepam                  | Insomnia                          | [Temazepam - Wikipedia](https://en.wikipedia.org/wiki/Temazepam)                                         |\n",
    "| Topiramate                 | Epilepsy and migraines            | [Topiramate - Wikipedia](https://en.wikipedia.org/wiki/Topiramate)                                       |\n",
    "| Tramadol                   | Pain relief                       | [Tramadol - Wikipedia](https://en.wikipedia.org/wiki/Tramadol)                                           |\n",
    "| Trazodone HCI              | Depression and insomnia           | [Trazodone - Wikipedia](https://en.wikipedia.org/wiki/Trazodone)                                         |\n",
    "| Triamcinolone Ace Topical  | Skin inflammation                 | [Triamcinolone acetonide - Wikipedia](https://en.wikipedia.org/wiki/Triamcinolone_acetonide)             |\n",
    "| Triamterene                | Hypertension and edema            | [Triamterene - Wikipedia](https://en.wikipedia.org/wiki/Triamterene)                                     |\n",
    "| Trimethoprim DS            | Bacterial infections              | [Trimethoprim/sulfamethoxazole - Wikipedia](https://en.wikipedia.org/wiki/Trimethoprim/sulfamethoxazole) |\n",
    "| Valaciclovir               | Herpes simplex and shingles       | [Valaciclovir - Wikipedia](https://en.wikipedia.org/wiki/Valaciclovir)                                   |\n",
    "| Valsartan                  | Hypertension                      | [Valsartan - Wikipedia](https://en.wikipedia.org/wiki/Valsartan)                                         |\n",
    "| Venlafaxine XR             | Depression and anxiety            | [Venlafaxine - Wikipedia](https://en.wikipedia.org/wiki/Venlafaxine)                                     |\n",
    "| Verapamil SR               | Hypertension and angina           | [Verapamil - Wikipedia](https://en.wikipedia.org/wiki/Verapamil)                                         |\n",
    "| Viagra                     | Erectile dysfunction              | [Sildenafil - Wikipedia](https://en.wikipedia.org/wiki/Sildenafil)                                       |\n",
    "| Yaz                        | Birth control                     | [Drospirenone/ethinylestradiol - Wikipedia](https://en.wikipedia.org/wiki/Drospirenone/ethinylestradiol) |\n",
    "| Zolpidem                   | Insomnia                          | [Zolpidem - Wikipedia](https://en.wikipedia.org/wiki/Zolpidem)                                           |"
   ],
   "metadata": {
    "collapsed": false
   }
  },
  {
   "cell_type": "markdown",
   "source": [
    "<a id=\"research-question\"></a>\n",
    "# A1: Research Question\n",
    "\n",
    "#### Scenario 2:\n",
    "\n",
    ">One of the most critical factors in patient relationship management that directly affects a hospital’s long-term cost effectiveness is understanding its patients and the conditions leading to hospital admissions. When a hospital can better understand its patients’ characteristics, it is better able to target treatment to patients, resulting in more effective cost of care for the hospital in the long term.\n",
    ">You are an analyst for a hospital that wants to better understand the characteristics of its patients. You have been asked to perform a market basket analysis to analyze patient data to identify key associations of your patients, ultimately allowing better business and strategic decision-making for the hospital.\n",
    "\n",
    "#### Research Question:\n"
   ],
   "metadata": {
    "collapsed": false
   }
  },
  {
   "cell_type": "markdown",
   "source": [
    "<a id=\"objectives\"></a>\n",
    "# A2: Objectives and Goals of Analysis"
   ],
   "metadata": {
    "collapsed": false
   }
  },
  {
   "cell_type": "markdown",
   "source": [
    "<a id=\"explination-of-market-basket-analysis\"></a>\n",
    "# B1: Explanation of Market Basket Analysis"
   ],
   "metadata": {
    "collapsed": false
   }
  },
  {
   "cell_type": "markdown",
   "source": [
    "<a id=\"transaction-example\"></a>\n",
    "# B2: Transaction Example"
   ],
   "metadata": {
    "collapsed": false
   }
  },
  {
   "cell_type": "markdown",
   "source": [
    "<a id=\"assumptions\"></a>\n",
    "# B3: Assumptions of Market Basket Analysis"
   ],
   "metadata": {
    "collapsed": false
   }
  },
  {
   "cell_type": "markdown",
   "source": [
    "<a id=\"ata-prepartion\"></a>\n",
    "# C1: Data Preparation"
   ],
   "metadata": {
    "collapsed": false
   }
  },
  {
   "cell_type": "markdown",
   "source": [
    "<a id=\"geneartion-of-association-rules\"></a>\n",
    "# C2: Generation of Association Rules"
   ],
   "metadata": {
    "collapsed": false
   }
  },
  {
   "cell_type": "markdown",
   "source": [
    "<a id=\"association-rules-table\"></a>\n",
    "# C3: Association Rules Table"
   ],
   "metadata": {
    "collapsed": false
   }
  },
  {
   "cell_type": "markdown",
   "source": [
    "<a id=\"top-rules\"></a>\n",
    "# C4: Top Rules"
   ],
   "metadata": {
    "collapsed": false
   }
  },
  {
   "cell_type": "markdown",
   "source": [
    "<a id=\"results-analysis\"></a>\n",
    "# D1: Results of Analysis"
   ],
   "metadata": {
    "collapsed": false
   }
  },
  {
   "cell_type": "markdown",
   "source": [
    "<a id=\"practical-significance\"></a>\n",
    "# D2: Practical Significance"
   ],
   "metadata": {
    "collapsed": false
   }
  },
  {
   "cell_type": "markdown",
   "source": [
    "<a id=\"recommended-action\"></a>\n",
    "# D3: Recommended Action"
   ],
   "metadata": {
    "collapsed": false
   }
  },
  {
   "cell_type": "markdown",
   "source": [
    "<a id=\"panopto-recording\"></a>\n",
    "# E: Panopto Recording"
   ],
   "metadata": {
    "collapsed": false
   }
  },
  {
   "cell_type": "markdown",
   "source": [
    "<a id=\"code-reference\"></a>\n",
    "# F: Code References"
   ],
   "metadata": {
    "collapsed": false
   }
  },
  {
   "cell_type": "markdown",
   "source": [
    "<a id=\"source-references\"></a>\n",
    "# G: Source References\n",
    "\n",
    " * Bruce, P., Bruce, A., &amp; Gedeck, P. (2020). Practical statistics for data scientists: 50+ essential concepts using r and python. O’Reilly Media. <br /> <br />\n",
    " * Geron, A. (2022). Hands-on machine learning with scikit-learn, Keras, and tensorflow 3E: Concepts, tools, and techniques to build Intelligent Systems. O’Reilly Media.   "
   ],
   "metadata": {
    "collapsed": false
   }
  }
 ],
 "metadata": {
  "kernelspec": {
   "display_name": "Python 3",
   "language": "python",
   "name": "python3"
  },
  "language_info": {
   "codemirror_mode": {
    "name": "ipython",
    "version": 2
   },
   "file_extension": ".py",
   "mimetype": "text/x-python",
   "name": "python",
   "nbconvert_exporter": "python",
   "pygments_lexer": "ipython2",
   "version": "2.7.6"
  }
 },
 "nbformat": 4,
 "nbformat_minor": 0
}
