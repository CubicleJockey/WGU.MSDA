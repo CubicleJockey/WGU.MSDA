{
 "cells": [
  {
   "cell_type": "markdown",
   "source": [
    "# D212 - Data Mining II\n",
    "### OFM3 Task 3: Association Rules and Lift Analysis\n",
    "#### Data Mining II — D212\n",
    "#### PRFA — OFM3\n",
    "> André Davis\n",
    "> StudentID: 010630641\n",
    "> MSDA\n",
    ">\n",
    "> Competencies\n",
    "> 4030.06.6 : Pattern Prediction\n",
    "> The graduate predicts patterns in data using association rules and lift analysis."
   ],
   "metadata": {
    "collapsed": false
   }
  },
  {
   "cell_type": "markdown",
   "source": [
    "#### Table of Contents\n",
    "<ul>\n",
    "    <li><a href=\"#data-set-medications\">Dataset Medications</a></li>\n",
    "    <li><a href=\"#research-question\">A1: Research Question</a></li>\n",
    "    <li><a href=\"#objectives\">A2: Objectives and Goals of Analysis</a></li>\n",
    "    <li><a href=\"#explination-of-market-basket-analysis\">B1: Explanation of Market Basket Analysis</a></li>\n",
    "    <li><a href=\"#transaction-example\">B2: Transaction Example</a></li>\n",
    "    <li><a href=\"#assumptions\">B3: Assumptions of Market Basket Analysis</a></li>\n",
    "    <li><a href=\"#data-prepartion\">C1: Data Preparation</a></li>\n",
    "    <li><a href=\"#geneartion-of-association-rules\">C2: Generation of Association Rules</a></li>\n",
    "    <li><a href=\"#association-rules-table\">C3: Association Rules Table</a></li>\n",
    "    <li><a href=\"#top-rules\">C4: Top Rules</a></li>\n",
    "    <li><a href=\"#results-analysis\">D1: Results of Analysis</a></li>\n",
    "    <li><a href=\"#practical-significance\">D2: Practical Significance</a></li>\n",
    "    <li><a href=\"#recommended-action\">D3: Recommended Action</a></li>\n",
    "    <li><a href=\"#panopto-recording\">E: Panopto Recording</a></li>\n",
    "    <li><a href=\"#code-references\">F: Code References</a></li>\n",
    "    <li><a href=\"#source-references\">G: Source References</a></li>\n",
    "</ul>"
   ],
   "metadata": {
    "collapsed": false
   }
  },
  {
   "cell_type": "markdown",
   "source": [
    "<a id=\"data-set-medications\"></a>\n",
    "# Dataset Medications \n",
    "#### - Additional Information, non-required Section\n",
    "\n",
    "##### Medication Details to help with understanding the association rules.\n",
    "\n",
    "| Medication Name            | Treats                            | Source Citation                                                                                          |\n",
    "|----------------------------|-----------------------------------|----------------------------------------------------------------------------------------------------------|\n",
    "| Abilify                    | Mental health disorders           | [Abilify - Wikipedia](https://en.wikipedia.org/wiki/Aripiprazole)                                        |\n",
    "| Acetaminophen              | Pain and fever relief             | [Acetaminophen - Wikipedia](https://en.wikipedia.org/wiki/Acetaminophen)                                 |\n",
    "| Actonel                    | Osteoporosis                      | [Risedronic acid - Wikipedia](https://en.wikipedia.org/wiki/Risedronic_acid)                             |\n",
    "| Albuterol Aerosol          | Asthma and bronchospasm           | [Albuterol - Wikipedia](https://en.wikipedia.org/wiki/Albuterol)                                         |\n",
    "| Albuterol HFA              | Asthma and bronchospasm           | [Albuterol - Wikipedia](https://en.wikipedia.org/wiki/Albuterol)                                         |\n",
    "| Alendronate                | Osteoporosis                      | [Alendronic acid - Wikipedia](https://en.wikipedia.org/wiki/Alendronic_acid)                             |\n",
    "| Allopurinol                | Gout                              | [Allopurinol - Wikipedia](https://en.wikipedia.org/wiki/Allopurinol)                                     |\n",
    "| Alprazolam                 | Anxiety and panic disorders       | [Alprazolam - Wikipedia](https://en.wikipedia.org/wiki/Alprazolam)                                       |\n",
    "| Amitriptyline              | Depression and neuropathy         | [Amitriptyline - Wikipedia](https://en.wikipedia.org/wiki/Amitriptyline)                                 |\n",
    "| Amlodipine                 | Hypertension                      | [Amlodipine - Wikipedia](https://en.wikipedia.org/wiki/Amlodipine)                                       |\n",
    "| Amoxicillin                | Bacterial infections              | [Amoxicillin - Wikipedia](https://en.wikipedia.org/wiki/Amoxicillin)                                     |\n",
    "| Amphetamine                | ADHD and narcolepsy               | [Amphetamine - Wikipedia](https://en.wikipedia.org/wiki/Amphetamine)                                     |\n",
    "| Amphetamine Salt Combo     | ADHD                              | [Amphetamine/dextroamphetamine - Wikipedia](https://en.wikipedia.org/wiki/Amphetamine/dextroamphetamine) |\n",
    "| Amphetamine Salt Combo XR  | ADHD                              | [Amphetamine/dextroamphetamine - Wikipedia](https://en.wikipedia.org/wiki/Amphetamine/dextroamphetamine) |\n",
    "| Atenolol                   | Hypertension                      | [Atenolol - Wikipedia](https://en.wikipedia.org/wiki/Atenolol)                                           |\n",
    "| Atorvastatin               | High cholesterol                  | [Atorvastatin - Wikipedia](https://en.wikipedia.org/wiki/Atorvastatin)                                   |\n",
    "| Azithromycin               | Bacterial infections              | [Azithromycin - Wikipedia](https://en.wikipedia.org/wiki/Azithromycin)                                   |\n",
    "| Benazepril                 | Hypertension                      | [Benazepril - Wikipedia](https://en.wikipedia.org/wiki/Benazepril)                                       |\n",
    "| Benicar                    | Hypertension                      | [Olmesartan - Wikipedia](https://en.wikipedia.org/wiki/Olmesartan)                                       |\n",
    "| Boniva                     | Osteoporosis                      | [Ibandronic acid - Wikipedia](https://en.wikipedia.org/wiki/Ibandronic_acid)                             |\n",
    "| Bupropion SR               | Depression and smoking cessation  | [Bupropion - Wikipedia](https://en.wikipedia.org/wiki/Bupropion)                                         |\n",
    "| Carisoprodol               | Muscle pain and discomfort        | [Carisoprodol - Wikipedia](https://en.wikipedia.org/wiki/Carisoprodol)                                   |\n",
    "| Carvedilol                 | Heart failure and hypertension    | [Carvedilol - Wikipedia](https://en.wikipedia.org/wiki/Carvedilol)                                       |\n",
    "| Cefdinir                   | Bacterial infections              | [Cefdinir - Wikipedia](https://en.wikipedia.org/wiki/Cefdinir)                                           |\n",
    "| Celebrex                   | Pain and inflammation             | [Celecoxib - Wikipedia](https://en.wikipedia.org/wiki/Celecoxib)                                         |\n",
    "| Celecoxib                  | Pain and inflammation             | [Celecoxib - Wikipedia](https://en.wikipedia.org/wiki/Celecoxib)                                         |\n",
    "| Cephalexin                 | Bacterial infections              | [Cephalexin - Wikipedia](https://en.wikipedia.org/wiki/Cephalexin)                                       |\n",
    "| Cialis                     | Erectile dysfunction              | [Tadalafil - Wikipedia](https://en.wikipedia.org/wiki/Tadalafil)                                         |\n",
    "| Ciprofloxacin              | Bacterial infections              | [Ciprofloxacin - Wikipedia](https://en.wikipedia.org/wiki/Ciprofloxacin)                                 |\n",
    "| Citalopram                 | Depression and anxiety            | [Citalopram - Wikipedia](https://en.wikipedia.org/wiki/Citalopram)                                       |\n",
    "| Clavulanate K+             | Antibiotic                        | [Clavulanic acid - Wikipedia](https://en.wikipedia.org/wiki/Clavulanic_acid)                             |\n",
    "| Clonazepam                 | Seizures and panic disorders      | [Clonazepam - Wikipedia](https://en.wikipedia.org/wiki/Clonazepam)                                       |\n",
    "| Clonidine HCI              | Hypertension                      | [Clonidine - Wikipedia](https://en.wikipedia.org/wiki/Clonidine)                                         |\n",
    "| Clopidogrel                | Blood clot prevention             | [Clopidogrel - Wikipedia](https://en.wikipedia.org/wiki/Clopidogrel)                                     |\n",
    "| Clotrimazole               | Fungal infections                 | [Clotrimazole - Wikipedia](https://en.wikipedia.org/wiki/Clotrimazole)                                   |\n",
    "| Codeine                    | Pain relief                       | [Codeine - Wikipedia](https://en.wikipedia.org/wiki/Codeine)                                             |\n",
    "| Crestor                    | High cholesterol                  | [Rosuvastatin - Wikipedia](https://en.wikipedia.org/wiki/Rosuvastatin)                                   |\n",
    "| Cyclobenzaprine            | Muscle pain and discomfort        | [Cyclobenzaprine - Wikipedia](https://en.wikipedia.org/wiki/Cyclobenzaprine)                             |\n",
    "| Cymbalta                   | Depression and pain relief        | [Duloxetine - Wikipedia](https://en.wikipedia.org/wiki/Duloxetine)                                       |\n",
    "| Dextroamphetamine XR       | ADHD                              | [Amphetamine/dextroamphetamine - Wikipedia](https://en.wikipedia.org/wiki/Amphetamine/dextroamphetamine) |\n",
    "| Diazepam                   | Anxiety and seizures              | [Diazepam - Wikipedia](https://en.wikipedia.org/wiki/Diazepam)                                           |\n",
    "| Diclofenac Sodium          | Pain and inflammation             | [Diclofenac - Wikipedia](https://en.wikipedia.org/wiki/Diclofenac)                                       |\n",
    "| Doxycycline Hyclate        | Bacterial infections              | [Doxycycline - Wikipedia](https://en.wikipedia.org/wiki/Doxycycline)                                     |\n",
    "| Duloxetine                 | Depression and pain relief        | [Duloxetine - Wikipedia](https://en.wikipedia.org/wiki/Duloxetine)                                       |\n",
    "| Enalapril                  | Hypertension                      | [Enalapril - Wikipedia](https://en.wikipedia.org/wiki/Enalapril)                                         |\n",
    "| Escitalopram               | Depression and anxiety            | [Escitalopram - Wikipedia](https://en.wikipedia.org/wiki/Escitalopram)                                   |\n",
    "| Esomeprazole               | Acid reflux and ulcers            | [Esomeprazole - Wikipedia](https://en.wikipedia.org/wiki/Esomeprazole)                                   |\n",
    "| Ezetimibe                  | High cholesterol                  | [Ezetimibe - Wikipedia](https://en.wikipedia.org/wiki/Ezetimibe)                                         |\n",
    "| Fenofibrate                | High cholesterol                  | [Fenofibrate - Wikipedia](https://en.wikipedia.org/wiki/Fenofibrate)                                     |\n",
    "| Fexofenadine               | Allergies                         | [Fexofenadine - Wikipedia](https://en.wikipedia.org/wiki/Fexofenadine)                                   |\n",
    "| Finasteride                | Enlarged prostate and hair loss   | [Finasteride - Wikipedia](https://en.wikipedia.org/wiki/Finasteride)                                     |\n",
    "| Flovent HFA 110mcg Inhaler | Asthma                            | [Fluticasone - Wikipedia](https://en.wikipedia.org/wiki/Fluticasone)                                     |\n",
    "| Fluconazole                | Fungal infections                 | [Fluconazole - Wikipedia](https://en.wikipedia.org/wiki/Fluconazole)                                     |\n",
    "| Fluoxetine HCI             | Depression and anxiety            | [Fluoxetine - Wikipedia](https://en.wikipedia.org/wiki/Fluoxetine)                                       |\n",
    "| Fluticasone                | Asthma and allergies              | [Fluticasone - Wikipedia](https://en.wikipedia.org/wiki/Fluticasone)                                     |\n",
    "| Fluticasone Nasal Spray    | Allergic rhinitis                 | [Fluticasone - Wikipedia](https://en.wikipedia.org/wiki/Fluticasone)                                     |\n",
    "| Folic Acid                 | Vitamin deficiency                | [Folic acid - Wikipedia](https://en.wikipedia.org/wiki/Folic_acid)                                       |\n",
    "| Furosemide                 | Edema and hypertension            | [Furosemide - Wikipedia](https://en.wikipedia.org/wiki/Furosemide)                                       |\n",
    "| Gabapentin                 | Seizures and nerve pain           | [Gabapentin - Wikipedia](https://en.wikipedia.org/wiki/Gabapentin)                                       |\n",
    "| Glimepiride                | Type 2 diabetes                   | [Glimepiride - Wikipedia](https://en.wikipedia.org/wiki/Glimepiride)                                     |\n",
    "| Glipizide                  | Type 2 diabetes                   | [Glipizide - Wikipedia](https://en.wikipedia.org/wiki/Glipizide)                                         |\n",
    "| Glyburide                  | Type 2 diabetes                   | [Glyburide - Wikipedia](https://en.wikipedia.org/wiki/Glyburide)                                         |\n",
    "| Hydrochlorothiazide        | Hypertension and edema            | [Hydrochlorothiazide - Wikipedia](https://en.wikipedia.org/wiki/Hydrochlorothiazide)                     |\n",
    "| Hydrocodone                | Pain relief and cough suppression | [Hydrocodone - Wikipedia](https://en.wikipedia.org/wiki/Hydrocodone)                                     |\n",
    "| Hydrocortisone 2.5% Cream  | Skin inflammation                 | [Hydrocortisone - Wikipedia](https://en.wikipedia.org/wiki/Hydrocortisone)                               |\n",
    "| Ibuprofen                  | Pain and inflammation             | [Ibuprofen - Wikipedia](https://en.wikipedia.org/wiki/Ibuprofen)                                         |\n",
    "| Isosorbide Mononitrate     | Angina                            | [Isosorbide mononitrate - Wikipedia](https://en.wikipedia.org/wiki/Isosorbide_mononitrate)               |\n",
    "| Lansoprazole               | Acid reflux and ulcers            | [Lansoprazole - Wikipedia](https://en.wikipedia.org/wiki/Lansoprazole)                                   |\n",
    "| Lantus                     | Diabetes                          | [Insulin glargine - Wikipedia](https://en.wikipedia.org/wiki/Insulin_glargine)                           |\n",
    "| Levofloxacin               | Bacterial infections              | [Levofloxacin - Wikipedia](https://en.wikipedia.org/wiki/Levofloxacin)                                   |\n",
    "| Levothyroxine Sodium       | Hypothyroidism                    | [Levothyroxine - Wikipedia](https://en.wikipedia.org/wiki/Levothyroxine)                                 |\n",
    "| Lisinopril                 | Hypertension                      | [Lisinopril - Wikipedia](https://en.wikipedia.org/wiki/Lisinopril)                                       |\n",
    "| Lorazepam                  | Anxiety and insomnia              | [Lorazepam - Wikipedia](https://en.wikipedia.org/wiki/Lorazepam)                                         |\n",
    "| Losartan                   | Hypertension                      | [Losartan - Wikipedia](https://en.wikipedia.org/wiki/Losartan)                                           |\n",
    "| Lovastatin                 | High cholesterol                  | [Lovastatin - Wikipedia](https://en.wikipedia.org/wiki/Lovastatin)                                       |\n",
    "| Meloxicam                  | Pain and inflammation             | [Meloxicam - Wikipedia](https://en.wikipedia.org/wiki/Meloxicam)                                         |\n",
    "| Metformin                  | Type 2 diabetes                   | [Metformin - Wikipedia](https://en.wikipedia.org/wiki/Metformin)                                         |\n",
    "| Metformin HCI              | Type 2 diabetes                   | [Metformin - Wikipedia](https://en.wikipedia.org/wiki/Metformin)                                         |\n",
    "| Methylprednisone           | Inflammatory conditions           | [Methylprednisolone - Wikipedia](https://en.wikipedia.org/wiki/Methylprednisolone)                       |\n",
    "| Metoprolol                 | Hypertension and angina           | [Metoprolol - Wikipedia](https://en.wikipedia.org/wiki/Metoprolol)                                       |\n",
    "| Metoprolol Succinate XL    | Hypertension                      | [Metoprolol succinate - Wikipedia](https://en.wikipedia.org/wiki/Metoprolol_succinate)                   |\n",
    "| Metoprolol Tartrate        | Hypertension                      | [Metoprolol tartrate - Wikipedia](https://en.wikipedia.org/wiki/Metoprolol_tartrate)                     |\n",
    "| Mometasone                 | Inflammatory conditions           | [Mometasone - Wikipedia](https://en.wikipedia.org/wiki/Mometasone)                                       |\n",
    "| Naproxen                   | Pain and inflammation             | [Naproxen - Wikipedia](https://en.wikipedia.org/wiki/Naproxen)                                           |\n",
    "| Omeprazole                 | Acid reflux and ulcers            | [Omeprazole - Wikipedia](https://en.wikipedia.org/wiki/Omeprazole)                                       |\n",
    "| Oxycodone                  | Pain relief                       | [Oxycodone - Wikipedia](https://en.wikipedia.org/wiki/Oxycodone)                                         |\n",
    "| Pantoprazole               | Acid reflux and ulcers            | [Pantoprazole - Wikipedia](https://en.wikipedia.org/wiki/Pantoprazole)                                   |\n",
    "| Paroxetine                 | Depression and anxiety            | [Paroxetine - Wikipedia](https://en.wikipedia.org/wiki/Paroxetine)                                       |\n",
    "| Pioglitazone               | Type 2 diabetes                   | [Pioglitazone - Wikipedia](https://en.wikipedia.org/wiki/Pioglitazone)                                   |\n",
    "| Potassium Chloride         | Electrolyte imbalance             | [Potassium chloride - Wikipedia](https://en.wikipedia.org/wiki/Potassium_chloride)                       |\n",
    "| Pravastatin                | High cholesterol                  | [Pravastatin - Wikipedia](https://en.wikipedia.org/wiki/Pravastatin)                                     |\n",
    "| Prednisone                 | Inflammatory conditions           | [Prednisone - Wikipedia](https://en.wikipedia.org/wiki/Prednisone)                                       |\n",
    "| Pregabalin                 | Neuropathic pain and seizures     | [Pregabalin - Wikipedia](https://en.wikipedia.org/wiki/Pregabalin)                                       |\n",
    "| Premarin                   | Hormone replacement therapy       | [Conjugated estrogens - Wikipedia](https://en.wikipedia.org/wiki/Conjugated_estrogens)                   |\n",
    "| Promethazine               | Allergies and nausea              | [Promethazine - Wikipedia](https://en.wikipedia.org/wiki/Promethazine)                                   |\n",
    "| Quetiapine                 | Mental health disorders           | [Quetiapine - Wikipedia](https://en.wikipedia.org/wiki/Quetiapine)                                       |\n",
    "| Ranitidine                 | Acid reflux                       | [Ranitidine - Wikipedia](https://en.wikipedia.org/wiki/Ranitidine)                                       |\n",
    "| Rosuvastatin               | High cholesterol                  | [Rosuvastatin - Wikipedia](https://en.wikipedia.org/wiki/Rosuvastatin)                                   |\n",
    "| Salmeterol Inhaler         | Asthma and COPD                   | [Salmeterol - Wikipedia](https://en.wikipedia.org/wiki/Salmeterol)                                       |\n",
    "| Sertraline HCI             | Depression and anxiety            | [Sertraline - Wikipedia](https://en.wikipedia.org/wiki/Sertraline)                                       |\n",
    "| Simvastatin                | High cholesterol                  | [Simvastatin - Wikipedia](https://en.wikipedia.org/wiki/Simvastatin)                                     |\n",
    "| Spironolactone             | Hypertension and edema            | [Spironolactone - Wikipedia](https://en.wikipedia.org/wiki/Spironolactone)                               |\n",
    "| Sulfamethoxazole           | Bacterial infections              | [Sulfamethoxazole - Wikipedia](https://en.wikipedia.org/wiki/Sulfamethoxazole)                           |\n",
    "| Synthroid                  | Hypothyroidism                    | [Levothyroxine - Wikipedia](https://en.wikipedia.org/wiki/Levothyroxine)                                 |\n",
    "| Tamsulosin                 | Enlarged prostate                 | [Tamsulosin - Wikipedia](https://en.wikipedia.org/wiki/Tamsulosin)                                       |\n",
    "| Temazepam                  | Insomnia                          | [Temazepam - Wikipedia](https://en.wikipedia.org/wiki/Temazepam)                                         |\n",
    "| Topiramate                 | Epilepsy and migraines            | [Topiramate - Wikipedia](https://en.wikipedia.org/wiki/Topiramate)                                       |\n",
    "| Tramadol                   | Pain relief                       | [Tramadol - Wikipedia](https://en.wikipedia.org/wiki/Tramadol)                                           |\n",
    "| Trazodone HCI              | Depression and insomnia           | [Trazodone - Wikipedia](https://en.wikipedia.org/wiki/Trazodone)                                         |\n",
    "| Triamcinolone Ace Topical  | Skin inflammation                 | [Triamcinolone acetonide - Wikipedia](https://en.wikipedia.org/wiki/Triamcinolone_acetonide)             |\n",
    "| Triamterene                | Hypertension and edema            | [Triamterene - Wikipedia](https://en.wikipedia.org/wiki/Triamterene)                                     |\n",
    "| Trimethoprim DS            | Bacterial infections              | [Trimethoprim/sulfamethoxazole - Wikipedia](https://en.wikipedia.org/wiki/Trimethoprim/sulfamethoxazole) |\n",
    "| Valaciclovir               | Herpes simplex and shingles       | [Valaciclovir - Wikipedia](https://en.wikipedia.org/wiki/Valaciclovir)                                   |\n",
    "| Valsartan                  | Hypertension                      | [Valsartan - Wikipedia](https://en.wikipedia.org/wiki/Valsartan)                                         |\n",
    "| Venlafaxine XR             | Depression and anxiety            | [Venlafaxine - Wikipedia](https://en.wikipedia.org/wiki/Venlafaxine)                                     |\n",
    "| Verapamil SR               | Hypertension and angina           | [Verapamil - Wikipedia](https://en.wikipedia.org/wiki/Verapamil)                                         |\n",
    "| Viagra                     | Erectile dysfunction              | [Sildenafil - Wikipedia](https://en.wikipedia.org/wiki/Sildenafil)                                       |\n",
    "| Yaz                        | Birth control                     | [Drospirenone/ethinylestradiol - Wikipedia](https://en.wikipedia.org/wiki/Drospirenone/ethinylestradiol) |\n",
    "| Zolpidem                   | Insomnia                          | [Zolpidem - Wikipedia](https://en.wikipedia.org/wiki/Zolpidem)                                           |"
   ],
   "metadata": {
    "collapsed": false
   }
  },
  {
   "cell_type": "markdown",
   "source": [
    "<a id=\"research-question\"></a>\n",
    "# A1: Research Question\n",
    "\n",
    "#### Scenario 2:\n",
    "\n",
    ">One of the most critical factors in patient relationship management that directly affects a hospital’s long-term cost effectiveness is understanding its patients and the conditions leading to hospital admissions. When a hospital can better understand its patients’ characteristics, it is better able to target treatment to patients, resulting in more effective cost of care for the hospital in the long term.\n",
    ">You are an analyst for a hospital that wants to better understand the characteristics of its patients. You have been asked to perform a market basket analysis to analyze patient data to identify key associations of your patients, ultimately allowing better business and strategic decision-making for the hospital.\n",
    "\n",
    "#### Research Question:\n",
    "Which medications should be grouped together to provide a more efficient layout in the Pharmacy for patient medication dispensing?\n"
   ],
   "metadata": {
    "collapsed": false
   }
  },
  {
   "cell_type": "markdown",
   "source": [
    "<a id=\"objectives\"></a>\n",
    "# A2: Objectives and Goals of Analysis\n",
    "\n",
    "The goal of this Data Mining Report through Market Basket Analysis is to reveal essential correlations among variables within the dataset, specifically related to medication purchases. A question that resonates with real-world healthcare and pharmaceutical needs is the exploration of relationships between these variables, leading to the recognition of current medication purchasing patterns that may have been previously overlooked. The primary objective is to investigate these connections, evaluating how they can support the organization in optimizing medication sales and distribution, the findings of which will be communicated to stakeholders.\n",
    "\n",
    "The end goal is to increase patient relations and how it's managed."
   ],
   "metadata": {
    "collapsed": false
   }
  },
  {
   "cell_type": "markdown",
   "source": [
    "<a id=\"explination-of-market-basket-analysis\"></a>\n",
    "# B1: Explanation of Market Basket Analysis\n",
    "\n",
    "Market Basket Analysis functions on datasets composed solely of binary values, either True or False, or 1's and 0's, distinguishing it from models that utilize continuous or ordinal data. This method is centered on finding recurring combinations of items in various transactions, enabling retailers to discern patterns in the products that customers often purchase in tandem. The anticipated results of this analysis are generally split into two parts known as Antecedents (IFs) and Consequents (THENs). These terms form the basis for conditional rules or scenarios, such as: If a customer bought a Nintendo game, they also purchased a Nintendo accessory. A fundamental concept of Market Basket Analysis, especially when employing the Apriori algorithm, is that any portion of a frequently observed itemset must itself be frequent."
   ],
   "metadata": {
    "collapsed": false
   }
  },
  {
   "cell_type": "markdown",
   "source": [
    "<a id=\"transaction-example\"></a>\n",
    "# B2: Transaction Example"
   ],
   "metadata": {
    "collapsed": false
   }
  },
  {
   "cell_type": "code",
   "execution_count": null,
   "outputs": [],
   "source": [
    "from typing import List\n",
    "import pandas as pd\n",
    "from mlxtend.frequent_patterns import association_rules, apriori\n",
    "from mlxtend.preprocessing import TransactionEncoder\n",
    "\n",
    "medical_market_basket_data = pd.read_csv('./medical_market_basket.csv')\n",
    "\n",
    "#data-cleaning, remove empty rows.\n",
    "medical_market_basket_data.dropna(how='all', inplace=True)\n",
    "medical_market_basket_data.reset_index(inplace=True)\n",
    "medical_market_basket_data.drop(columns=['index'], inplace=True)\n",
    "\n",
    "'''\n",
    "Transaction data example:\n",
    "\n",
    " 1. Each row represents a patient transaction. \n",
    " 2. Each Column Presc# (1 - 20) represents a single item/prescription ordered.\n",
    "'''\n",
    "medical_market_basket_data.loc[4]"
   ],
   "metadata": {
    "collapsed": false
   }
  },
  {
   "cell_type": "markdown",
   "source": [
    "Looking at this example transaction from the `WGU Medical Market Basket` Dataset we can see this patients transaction includes 5 items out of the allowable 20.\n",
    "\n",
    "This transaction includes abilify, atorvastatin, folic acid, naproxen, losartan."
   ],
   "metadata": {
    "collapsed": false
   }
  },
  {
   "cell_type": "markdown",
   "source": [
    "<a id=\"assumptions\"></a>\n",
    "# B3: Assumptions of Market Basket Analysis \n",
    "\n",
    "###### The submission adequately summarizes 1 assumption of market basket analysis.\n",
    "\n",
    "The fundamental premise in market basket analysis revolves around the notion that when two or more products consistently appear together in various baskets, it signifies that these products are interconnected in purchases. Consequently, acquiring one product is likely to result in the purchase of others. Within this investigation, our focus centers on three-item rules."
   ],
   "metadata": {
    "collapsed": false
   }
  },
  {
   "cell_type": "markdown",
   "source": [
    "<a id=\"ata-prepartion\"></a>\n",
    "# C1: Data Preparation\n",
    "\n",
    "The raw `medical_market_basket.csv` was loaded into a [`Pandas DataFrame`](https://pandas.pydata.org/docs/reference/api/pandas.DataFrame.html) in *Section B2*. It also did a basic clean-up step to remove the blank rows between each actual transaction of the dataset.\n",
    "\n",
    "The data must be in a jagged array or list of lists format to be processed by the [`TransactionEncoder`](https://rasbt.github.io/mlxtend/user_guide/preprocessing/TransactionEncoder/#transactionencoder-convert-item-lists-into-transaction-data-for-frequent-itemset-mining). Here we will create and execute a Python function that will pre-process the raw dataset for the Basket Market Analysis pre-processor."
   ],
   "metadata": {
    "collapsed": false
   }
  },
  {
   "cell_type": "code",
   "execution_count": null,
   "outputs": [],
   "source": [
    "'''\n",
    "Name: convert_for_transaction_encoder\n",
    "Parameters: Data as a Pandas DataFrame\n",
    "Returns: Transactions as a jagged list\n",
    "'''\n",
    "def convert_for_transaction_encoder(data: pd.DataFrame) -> List[List[str]]:\n",
    "    transactions = list()\n",
    "    for row in range(len(data)):\n",
    "        current_transaction = list()\n",
    "        for column in range(len(data.columns)):\n",
    "            current_value = data.iloc[row, column]\n",
    "            if not pd.isna(current_value): #no NaN allowed\n",
    "                current_transaction.append(str(current_value))\n",
    "        transactions.append(current_transaction)\n",
    "        \n",
    "    return transactions\n",
    "\n",
    "transaction_data = convert_for_transaction_encoder(medical_market_basket_data)\n",
    "print(f'Total Transactions: [{len(transaction_data)}]')\n",
    "    "
   ],
   "metadata": {
    "collapsed": false
   }
  },
  {
   "cell_type": "code",
   "execution_count": null,
   "outputs": [],
   "source": [
    "'''\n",
    "Check a few transactions to make sure they are in list format correctly.\n",
    "'''\n",
    "middle = int((len(transaction_data) / 2) - 1)\n",
    "last = len(transaction_data) - 1\n",
    "\n",
    "print(f'First Transaction: {transaction_data[0]}')\n",
    "print(f'Middle Transaction: {transaction_data[middle]}')\n",
    "print(f'Last Transaction: {transaction_data[last]}')"
   ],
   "metadata": {
    "collapsed": false
   }
  },
  {
   "cell_type": "code",
   "execution_count": null,
   "outputs": [],
   "source": [
    "'''\n",
    "Perform Transaction Encoding for Market Basket Analysis\n",
    "'''\n",
    "\n",
    "transaction_encoder = TransactionEncoder()\n",
    "\n",
    "#fit the data to the encoder\n",
    "transaction_encoder.fit(transaction_data)\n",
    "\n",
    "#transform the data after fitting\n",
    "transformed_transaction = transaction_encoder.transform(transaction_data)\n",
    "\n",
    "cleaned_encoded_transactions = pd.DataFrame(transformed_transaction, columns=transaction_encoder.columns_)\n",
    "\n",
    "cleaned_encoded_transactions"
   ],
   "metadata": {
    "collapsed": false
   }
  },
  {
   "cell_type": "code",
   "execution_count": null,
   "outputs": [],
   "source": [
    "'''\n",
    "Save Encoded Transactions to CSV\n",
    "'''\n",
    "\n",
    "cleaned_encoded_transactions.to_csv('./task3-encoded-transactions.csv', index=False)"
   ],
   "metadata": {
    "collapsed": false
   }
  },
  {
   "cell_type": "markdown",
   "source": [
    "<a id=\"geneartion-of-association-rules\"></a>\n",
    "# C2: Generation of Association Rules\n",
    "\n",
    "The process of generating association rules involves the utilization of two distinct functions. Initially, the [`apriori`](https://rasbt.github.io/mlxtend/user_guide/frequent_patterns/apriori/) function is employed to extract all associations that satisfy a specified minimum support threshold. \n",
    "\n",
    "Subsequently, the [`association_rules`](https://rasbt.github.io/mlxtend/user_guide/frequent_patterns/association_rules/) function is employed to elaborate on these rules, incorporating an additional level of reduction by imposing yet another minimum threshold. This secondary threshold pertains to the lift value of each rule, and it serves as a focal point for fine-tuning the rule selection.\n"
   ],
   "metadata": {
    "collapsed": false
   }
  },
  {
   "cell_type": "code",
   "execution_count": null,
   "outputs": [],
   "source": [
    "'''\n",
    "Execute the \"Apriori\" method to get the frequencies (support value) of Itemsets.\n",
    "'''\n",
    "itemsets_support_frequencies = apriori(cleaned_encoded_transactions, min_support = 0.02, use_colnames = True)\n",
    "\n",
    "#display results\n",
    "itemsets_support_frequencies"
   ],
   "metadata": {
    "collapsed": false
   }
  },
  {
   "cell_type": "code",
   "execution_count": null,
   "outputs": [],
   "source": [
    "'''\n",
    "Execute 'association_rules' function with 'Lift' metric and minimum threshold of 1.\n",
    "\n",
    "With a threshold of 1 while executing 'association_rules' the odds of receiving antecedents (IFs) with Consequent (THENs) increases.\n",
    "'''\n",
    "rules = association_rules(itemsets_support_frequencies, metric = 'lift', min_threshold = 1.0)\n",
    "\n",
    "print(f'Total Number of Rules Generated: [{len(rules)}]')\n",
    "\n",
    "#rules"
   ],
   "metadata": {
    "collapsed": false
   }
  },
  {
   "cell_type": "markdown",
   "source": [
    "#### Summary of `Min_Support` and `Min_Threshold` value choices:\n",
    "\n",
    "###### *Min_Support*\n",
    "A higher minimum support value increases the exclusivity of the generated rules, while a lower value might include rules with limited significance due to small sample sizes. Using a minimum support value of 0.02 (2%) strikes a balance between inclusivity and restrictiveness\n",
    "\n",
    "<br />\n",
    "\n",
    "###### *Min_Threshold*\n",
    "Lift measures the strength of association between the antecedent and the consequent of a rule. A lift of 1.0 indicates no association, values greater than 1.0 signify positive association, and values below 1.0 imply negative association. By setting the minimum lift to 1.0, the metric focuses on rules where the antecedent indeed increases the likelihood of the consequent appearing in transactions."
   ],
   "metadata": {
    "collapsed": false
   }
  },
  {
   "cell_type": "markdown",
   "source": [
    "<a id=\"association-rules-table\"></a>\n",
    "# C3: Association Rules Table\n",
    "###### Display Rules Table"
   ],
   "metadata": {
    "collapsed": false
   }
  },
  {
   "cell_type": "code",
   "execution_count": null,
   "outputs": [],
   "source": [
    "rules"
   ],
   "metadata": {
    "collapsed": false
   }
  },
  {
   "cell_type": "markdown",
   "source": [
    "<a id=\"top-rules\"></a>\n",
    "# C4: Top Rules"
   ],
   "metadata": {
    "collapsed": false
   }
  },
  {
   "cell_type": "code",
   "execution_count": null,
   "outputs": [],
   "source": [
    "selection = (rules['confidence'] > 0.29) & (rules['lift'] > 1.9)\n",
    "rules_sorted_by_lift = rules[selection].copy().sort_values(by=['lift'], ascending= False)\n",
    "top_3_rules = rules_sorted_by_lift.head(3).copy()\n",
    "\n",
    "top_3_rules"
   ],
   "metadata": {
    "collapsed": false
   }
  },
  {
   "cell_type": "markdown",
   "source": [
    "The higher lift indicates a stronger effect of the consequent being included in the transaction with the antecedent. The confidence score indicates a proportion of all transactions including the antecedent also featuring the consequent, and imposing a moderate confidence threshold here requires that we see a more significant proportion of antecedent transactions also include the consequent.\n",
    "\n",
    "I initially set the `Confidence: 0.4` and `Lift: 2.0`, but this did not yield any results. I then gradually reduced these numbers until I obtained a set of rules that were worth sorting and selecting the top three from. The final values I settled on were `Confidence: 0.20` and `Lift: 1.9`."
   ],
   "metadata": {
    "collapsed": false
   }
  },
  {
   "cell_type": "markdown",
   "source": [
    "<a id=\"results-analysis\"></a>\n",
    "# D1: Results of Analysis\n",
    "\n",
    ">The submission adequately summarizes the significance of support, lift, and confidence from the results of the analysis."
   ],
   "metadata": {
    "collapsed": false
   }
  },
  {
   "cell_type": "code",
   "execution_count": null,
   "outputs": [],
   "source": [
    "analysis_items = ['antecedents', 'consequents', 'support', 'lift', 'confidence']\n",
    "analysis_values = top_3_rules[analysis_items]\n",
    "\n",
    "analysis_values"
   ],
   "metadata": {
    "collapsed": false
   }
  },
  {
   "cell_type": "markdown",
   "source": [
    "### Analysis of Support, Lift, and Confidence of Top 3 Rules\n",
    "\n",
    "1. **Rule 74 (lisinopril -> carvedilol):**\n",
    "   - **Support:** 0.039195, indicating that the combination of lisinopril and carvedilol appears in approximately 3.92% of all transactions. <br /><br />\n",
    "   - **Lift:** 2.291162, suggesting that carvedilol is 2.29 times more likely to be bought with lisinopril than on its own. <br /><br />\n",
    "   - **Confidence:** 0.398915, meaning that 39.89% of transactions containing lisinopril also include carvedilol. <br /><br />\n",
    "\n",
    "2. **Rule 73 (glipizide -> carvedilol):**\n",
    "   - **Support:** 0.022930, indicating that the combination of glipizide and carvedilol appears in approximately 2.29% of all transactions.<br /><br />\n",
    "   - **Lift:** 1.999758, suggesting that carvedilol is 2 times more likely to be bought with glipizide than on its own.<br /><br />\n",
    "   - **Confidence:** 0.348178, meaning that 34.82% of transactions containing glipizide also include carvedilol. <br /><br />\n",
    "\n",
    "3. **Rule 31 (metformin -> abilify):**\n",
    "   - **Support:** 0.023064, indicating that the combination of metformin and abilify appears in approximately 2.31% of all transactions.<br /><br />\n",
    "   - **Lift:** 1.914955, suggesting that abilify is 1.91 times more likely to be bought with metformin than on its own.<br /><br />\n",
    "   - **Confidence:** 0.456464, meaning that 45.65% of transactions containing metformin also include abilify. <br /><br />"
   ],
   "metadata": {
    "collapsed": false
   }
  },
  {
   "cell_type": "markdown",
   "source": [
    "<a id=\"practical-significance\"></a>\n",
    "# D2: Practical Significance\n",
    "\n",
    "In reference to the research question posed in Section A1:\n",
    ">\"Which medications should be grouped together to provide a more efficient layout in the Pharmacy for patient medication dispensing?\"\n",
    "\n",
    "The analysis conducted in Section D1 has practical implications that extend to the optimization of the Pharmacy's dispensary layout. The top three findings from this analysis provide actionable insights into the arrangement of specific medications.\n",
    "\n",
    "The first two rules from the top three findings reveal that Lisinopril and Glipizide are co-prescribed with Carvedilol in 34% to nearly 40% of cases. Strategically positioning these three medications in close proximity would enhance the efficiency of the dispensary process. This not only improves the patient experience by expediting the dispensing time but also contributes to cost reduction by enabling the Pharmacy to process more orders efficiently.\n",
    "\n",
    "The third rule among the top findings indicates that Metformin is co-prescribed with Abilify approximately 46% of the time. Aligning with the rationale provided earlier, it would be prudent to place these two medications near each other within the Pharmacy. This arrangement would further streamline the dispensary process, reinforcing the overall efficiency and effectiveness of the Pharmacy's operations."
   ],
   "metadata": {
    "collapsed": false
   }
  },
  {
   "cell_type": "markdown",
   "source": [
    "<a id=\"recommended-action\"></a>\n",
    "# D3: Recommended Action\n",
    "\n",
    "Given the focus of this Performance Assessment on the top three rules, and the research question centered around enhancing Pharmacy dispensary efficiency by strategically placing frequently co-purchased medications in close proximity, I have formulated the following recommendations:\n",
    "\n",
    "1. **Expansion of Rules:** The success of the top three rules in this task suggests that there may be value in extending the number of rules to be followed. This expansion should be within a reasonable scope of confidence to ensure that an antecedent (IF) is consistently paired with a consequent (THEN). This approach may uncover additional opportunities for efficiency within the Pharmacy dispensary.\n",
    "<br/><br/>\n",
    "2. **Regular Updates to Market Basket Analysis:** Recognizing that the field of medicine and patient needs are continually evolving, it is imperative to perform Market Basket Analysis on updated data at regular intervals. Determining the optimal frequency for these updates may require iterative trials, but the goal should be to establish a cadence that maintains the Pharmacy dispensary's efficiency. This will not only contribute to patient satisfaction but also support the hospital's broader objectives in Patient Relations Management.\n",
    "\n",
    "These recommendations aim to build upon the insights gained from the analysis, providing a pathway to further optimize the Pharmacy's dispensary process and align with the dynamic nature of healthcare needs.\n"
   ],
   "metadata": {
    "collapsed": false
   }
  },
  {
   "cell_type": "markdown",
   "source": [
    "<a id=\"panopto-recording\"></a>\n",
    "# E: Panopto Recording\n",
    "\n",
    ">The submission provides a Panopto video recording that includes a demonstration of the functionality of the code used for the analysis and a summary of the programming environment.\n",
    "\n",
    "\n",
    "[`Panopto Recording`]()"
   ],
   "metadata": {
    "collapsed": false
   }
  },
  {
   "cell_type": "markdown",
   "source": [
    "<a id=\"code-reference\"></a>\n",
    "# F: Code References\n",
    "\n",
    "N/A"
   ],
   "metadata": {
    "collapsed": false
   }
  },
  {
   "cell_type": "markdown",
   "source": [
    "<a id=\"source-references\"></a>\n",
    "# G: Source References   \n",
    "\n",
    "N/A"
   ],
   "metadata": {
    "collapsed": false
   }
  }
 ],
 "metadata": {
  "kernelspec": {
   "display_name": "Python 3",
   "language": "python",
   "name": "python3"
  },
  "language_info": {
   "codemirror_mode": {
    "name": "ipython",
    "version": 2
   },
   "file_extension": ".py",
   "mimetype": "text/x-python",
   "name": "python",
   "nbconvert_exporter": "python",
   "pygments_lexer": "ipython2",
   "version": "2.7.6"
  }
 },
 "nbformat": 4,
 "nbformat_minor": 0
}
