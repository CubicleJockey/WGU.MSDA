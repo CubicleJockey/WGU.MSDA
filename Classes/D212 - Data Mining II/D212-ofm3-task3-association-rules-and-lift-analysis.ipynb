{
 "cells": [
  {
   "cell_type": "markdown",
   "source": [
    "# D212 - Data Mining II\n",
    "### OFM3 Task 3: Association Rules and Lift Analysis\n",
    "#### Data Mining II — D212\n",
    "#### PRFA — OFM3\n",
    "> André Davis\n",
    "> StudentID: 010630641\n",
    "> MSDA\n",
    ">\n",
    "> Competencies\n",
    "> 4030.06.6 : Pattern Prediction\n",
    "> The graduate predicts patterns in data using association rules and lift analysis."
   ],
   "metadata": {
    "collapsed": false
   }
  },
  {
   "cell_type": "markdown",
   "source": [
    "#### Table of Contents\n",
    "<ul>\n",
    "    <li><a href=\"#research-question\">A1: Research Question</a></li>\n",
    "    <li><a href=\"#objectives\">A2: Objectives and Goals of Analysis</a></li>\n",
    "    <li><a href=\"#explination-of-market-basket-analysis\">B1: Explanation of Market Basket Analysis</a></li>\n",
    "    <li><a href=\"#transaction-example\">B2: Transaction Example</a></li>\n",
    "    <li><a href=\"#assumptions\">B3: Assumptions of Market Basket Analysis</a></li>\n",
    "    <li><a href=\"#data-prepartion\">C1: Data Preparation</a></li>\n",
    "    <li><a href=\"#geneartion-of-association-rules\">C2: Generation of Association Rules</a></li>\n",
    "    <li><a href=\"#association-rules-table\">C3: Association Rules Table</a></li>\n",
    "    <li><a href=\"#top-rules\">C4: Top Rules</a></li>\n",
    "    <li><a href=\"#results-analysis\">D1: Results of Analysis</a></li>\n",
    "    <li><a href=\"#practical-significance\">D2: Practical Significance</a></li>\n",
    "    <li><a href=\"#recommended-action\">D3: Recommended Action</a></li>\n",
    "    <li><a href=\"#panopto-recording\">E: Panopto Recording</a></li>\n",
    "    <li><a href=\"#code-references\">F: Code References</a></li>\n",
    "    <li><a href=\"#source-references\">G: Source References</a></li>\n",
    "</ul>"
   ],
   "metadata": {
    "collapsed": false
   }
  },
  {
   "cell_type": "code",
   "execution_count": null,
   "outputs": [],
   "source": [],
   "metadata": {
    "collapsed": false
   }
  }
 ],
 "metadata": {
  "kernelspec": {
   "display_name": "Python 3",
   "language": "python",
   "name": "python3"
  },
  "language_info": {
   "codemirror_mode": {
    "name": "ipython",
    "version": 2
   },
   "file_extension": ".py",
   "mimetype": "text/x-python",
   "name": "python",
   "nbconvert_exporter": "python",
   "pygments_lexer": "ipython2",
   "version": "2.7.6"
  }
 },
 "nbformat": 4,
 "nbformat_minor": 0
}
