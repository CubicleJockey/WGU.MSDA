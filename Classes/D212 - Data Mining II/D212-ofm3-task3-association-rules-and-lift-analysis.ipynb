{
 "cells": [
  {
   "cell_type": "markdown",
   "source": [
    "# D212 - Data Mining II\n",
    "### OFM3 Task 3: Association Rules and Lift Analysis\n",
    "#### Data Mining II — D212\n",
    "#### PRFA — OFM3\n",
    "> André Davis\n",
    "> StudentID: 010630641\n",
    "> MSDA\n",
    ">\n",
    "> Competencies\n",
    "> 4030.06.6 : Pattern Prediction\n",
    "> The graduate predicts patterns in data using association rules and lift analysis."
   ],
   "metadata": {
    "collapsed": false
   }
  },
  {
   "cell_type": "markdown",
   "source": [
    "#### Table of Contents\n",
    "<ul>\n",
    "    <li><a href=\"#data-set-medications\">Dataset Medications</a></li>\n",
    "    <li><a href=\"#research-question\">A1: Research Question</a></li>\n",
    "    <li><a href=\"#objectives\">A2: Objectives and Goals of Analysis</a></li>\n",
    "    <li><a href=\"#explination-of-market-basket-analysis\">B1: Explanation of Market Basket Analysis</a></li>\n",
    "    <li><a href=\"#transaction-example\">B2: Transaction Example</a></li>\n",
    "    <li><a href=\"#assumptions\">B3: Assumptions of Market Basket Analysis</a></li>\n",
    "    <li><a href=\"#data-prepartion\">C1: Data Preparation</a></li>\n",
    "    <li><a href=\"#geneartion-of-association-rules\">C2: Generation of Association Rules</a></li>\n",
    "    <li><a href=\"#association-rules-table\">C3: Association Rules Table</a></li>\n",
    "    <li><a href=\"#top-rules\">C4: Top Rules</a></li>\n",
    "    <li><a href=\"#results-analysis\">D1: Results of Analysis</a></li>\n",
    "    <li><a href=\"#practical-significance\">D2: Practical Significance</a></li>\n",
    "    <li><a href=\"#recommended-action\">D3: Recommended Action</a></li>\n",
    "    <li><a href=\"#panopto-recording\">E: Panopto Recording</a></li>\n",
    "    <li><a href=\"#code-references\">F: Code References</a></li>\n",
    "    <li><a href=\"#source-references\">G: Source References</a></li>\n",
    "</ul>"
   ],
   "metadata": {
    "collapsed": false
   }
  },
  {
   "cell_type": "markdown",
   "source": [
    "<a id=\"data-set-medications\"></a>\n",
    "# Dataset Medications\n",
    "\n",
    "##### Medication Details for formulating a valid Research Question in Section A1.\n",
    "\n",
    "| Medication                | Treats/Indications             | Cost (approx.) |\n",
    "|---------------------------|--------------------------------|----------------|\n",
    "| Abilify                   | Mental disorders               | Varies         |\n",
    "| Acetaminophen             | Pain relief, fever             | $5 - $10       |\n",
    "| Actonel                   | Osteoporosis                   | $50 - $200     |\n",
    "| Albuterol Aerosol         | Asthma, COPD                   | $20 - $50      |\n",
    "| Albuterol HFA             | Asthma, COPD                   | $20 - $50      |\n",
    "| Alendronate               | Osteoporosis                   | $10 - $100     |\n",
    "| Allopurinol               | Gout, kidney stones            | $10 - $50      |\n",
    "| Alprazolam                | Anxiety, panic disorders       | $10 - $50      |\n",
    "| Amitriptyline             | Depression, nerve pain         | $10 - $50      |\n",
    "| Amlodipine                | Hypertension, angina           | $5 - $20       |\n",
    "| Amoxicillin               | Bacterial infections           | $5 - $20       |\n",
    "| Amphetamine               | ADHD, narcolepsy               | Varies         |\n",
    "| Amphetamine Salt Combo    | ADHD, narcolepsy               | Varies         |\n",
    "| Amphetamine Salt Combo XR | ADHD, narcolepsy               | Varies         |\n",
    "| Atenolol                  | Hypertension, angina           | $5 - $20       |\n",
    "| Atorvastatin              | Cholesterol management         | $10 - $50      |\n",
    "| Azithromycin              | Bacterial infections           | $10 - $50      |\n",
    "| Benazepril                | Hypertension, heart failure    | $10 - $50      |\n",
    "| Benicar                   | Hypertension                   | $20 - $100     |\n",
    "| Boniva                    | Osteoporosis                   | $100 - $200    |\n",
    "| Bupropion SR              | Depression, smoking cessation  | $20 - $50      |\n",
    "| Carisoprodol              | Muscle spasms                  | $10 - $50      |\n",
    "| Carvedilol                | Hypertension, heart failure    | $10 - $50      |\n",
    "| Cefdinir                  | Bacterial infections           | $10 - $50      |\n",
    "| Celebrex                  | Pain relief, inflammation      | $20 - $100     |\n",
    "| Celecoxib                 | Pain relief, inflammation      | $20 - $100     |\n",
    "| Cephalexin                | Bacterial infections           | $10 - $50      |\n",
    "| Cialis                    | Erectile dysfunction           | $20 - $50      |\n",
    "| Ciprofloxacin             | Bacterial infections           | $10 - $50      |\n",
    "| Citalopram                | Depression, anxiety            | $10 - $50      |\n",
    "| Clavulanate K+            | Bacterial infections           | $10 - $50      |\n",
    "| Clonazepam                | Seizures, panic disorders      | $10 - $50      |\n",
    "| Clonidine HCI             | Hypertension, ADHD             | $10 - $50      |\n",
    "| Clopidogrel               | Blood clot prevention          | $10 - $50      |\n",
    "| Clotrimazole              | Fungal infections              | $5 - $20       |\n",
    "| Codeine                   | Pain relief, cough suppression | $10 - $50      |\n",
    "| Crestor                   | Cholesterol management         | $20 - $100     |\n",
    "| Cyclobenzaprine           | Muscle spasms                  | $10 - $50      |\n",
    "| Cymbalta                  | Depression, anxiety            | $20 - $100     |\n",
    "| Dextroamphetamine XR      | ADHD, narcolepsy               | Varies         |\n",
    "| Diazepam                  | Anxiety, muscle spasms         | $10 - $50      |\n",
    "| Diclofenac Sodium         | Pain relief, inflammation      | $10 - $50      |\n",
    "| Doxycycline Hyclate       | Bacterial infections           | $10 - $50      |\n",
    "| Duloxetine                | Depression, anxiety            | $20 - $100     |\n",
    "| Enalapril                 | Hypertension, heart failure    | $10 - $50      |\n",
    "| Escitalopram              | Depression, anxiety            | $10 - $50      |\n",
    "| Esomeprazole              | Acid reflux, ulcers            | $20 - $100     |\n",
    "| Ezetimibe                 | Cholesterol management         | $20 - $50      |\n",
    "| Fenofibrate               | Cholesterol management         | $10 - $50      |\n",
    "| Fexofenadine              | Allergies                      | $10 - $50      |\n",
    "| Finasteride               | Enlarged prostate, hair loss   | $10 - $50      |\n",
    "| Flovent HFA Inhaler       | Asthma                         | $50 - $100     |\n",
    "| Fluconazole               | Fungal infections              | $10 - $50      |\n",
    "| Fluoxetine HCI            | Depression, anxiety            | $10 - $50      |\n",
    "| Fluticasone               | Allergies, asthma              | $20 - $50      |\n",
    "| Fluticasone Nasal Spray   | Allergies                      | $20 - $50      |\n",
    "| Folic Acid                | Nutritional supplement         | $5 - $20       |\n",
    "| Furosemide                | Edema, hypertension            | $5 - $20       |\n",
    "| Gabapentin                | Seizures, nerve pain           | $10 - $50      |\n",
    "| Glimepiride               | Diabetes                       | $10 - $50      |\n",
    "| Glipizide                 | Diabetes                       | $10 - $50      |\n",
    "| Glyburide                 | Diabetes                       | $10 - $50      |\n",
    "| Hydrochlorothiazide       | Hypertension, edema            | $5 - $20       |\n",
    "| Hydrocodone               | Pain relief, cough suppression | $10 - $50      |\n",
    "| Hydrocortisone 2.5% Cream | Skin inflammation              | $5 - $20       |\n",
    "| Ibuprofen                 | Pain relief, inflammation      | $5 - $10       |\n",
    "| Isosorbide Mononitrate    | Angina, heart failure          | $10 - $50      |\n",
    "| Lansoprazole              | Acid reflux, ulcers            | $20 - $50      |\n",
    "| Lantus                    | Diabetes                       | $50 - $100     |\n",
    "| Levofloxacin              | Bacterial infections           | $10 - $50      |\n",
    "| Levothyroxine Sodium      | Hypothyroidism                 | $10 - $20      |\n",
    "| Lisinopril                | Hypertension, heart failure    | $5 - $20       |\n",
    "| Lorazepam                 | Anxiety, insomnia              | $10 - $50      |\n",
    "| Losartan                  | Hypertension, heart failure    | $10 - $50      |\n",
    "| Lovastatin                | Cholesterol management         | $10 - $50      |\n",
    "| Meloxicam                 | Pain relief, inflammation      | $10 -          |\n",
    "\n",
    " $50          |\n",
    "| Metformin            | Diabetes                                  | $5 - $20           |\n",
    "| Metformin HCI        | Diabetes                                  | $5 - $20           |\n",
    "| Methylprednisone     | Inflammation, immune suppression         | $10 - $50          |\n",
    "| Metoprolol           | Hypertension, angina                      | $5 - $20           |\n",
    "| Metoprolol Succinate XL | Hypertension, angina                  | $10 - $50          |\n",
    "| Metoprolol Tartrate  | Hypertension, angina                      | $5 - $20           |\n",
    "| Mometasone           | Skin inflammation                        | $10 - $50          |\n",
    "| Naproxen             | Pain relief, inflammation                | $5 - $10           |\n",
    "| Omeprazole           | Acid reflux, ulcers                       | $20 - $50          |\n",
    "| Oxycodone            | Pain relief                               | $10 - $50          |\n",
    "| Pantoprazole         | Acid reflux, ulcers                       | $20 - $50          |\n",
    "| Paroxetine           | Depression, anxiety                       | $10 - $50          |\n",
    "| Pioglitazone         | Diabetes                                  | $10 - $50          |\n",
    "| Potassium Chloride   | Nutritional supplement                   | $5 - $20           |\n",
    "| Pravastatin          | Cholesterol management                   | $10 - $50          |\n",
    "| Prednisone           | Inflammation, immune suppression         | $5 - $20           |\n",
    "| Pregabalin           | Nerve pain, seizures                     | $10 - $50          |\n",
    "| Premarin             | Hormone replacement                      | $50 - $100         |\n",
    "| Promethazine         | Allergies, nausea                         | $10 - $50          |\n",
    "| Quetiapine           | Bipolar disorder, schizophrenia          | $10 - $50          |\n",
    "| Ranitidine           | Acid reflux, ulcers                       | $10 - $50          |\n",
    "| Rosuvastatin         | Cholesterol management                   | $20 - $100         |\n",
    "| Salmeterol Inhaler   | Asthma                                    | $50 - $100         |\n",
    "| Sertraline HCI       | Depression, anxiety                       | $10 - $50          |\n",
    "| Simvastatin          | Cholesterol management                   | $10 - $50          |\n",
    "| Spironolactone       | Hypertension, edema                       | $10 - $50          |\n",
    "| Sulfamethoxazole     | Bacterial infections                      | $10 - $50          |\n",
    "| Synthroid            | Hypothyroidism                            | $10 - $20          |\n",
    "| Tamsulosin           | Enlarged prostate                         | $10 - $50          |\n",
    "| Temazepam            | Insomnia                                  | $10 - $50          |\n",
    "| Topiramate           | Epilepsy, migraines                       | $10 - $50          |\n",
    "| Tramadol             | Pain relief                               | $10 - $50          |\n",
    "| Trazodone HCI        | Depression, insomnia                      | $10 - $50          |\n",
    "| Triamcinolone Ace    | Skin conditions                           | $10 - $50          |\n",
    "| Triamterene          | Hypertension, edema                       | $10 - $50          |\n",
    "| Trimethoprim DS      | Bacterial infections                      | $10 - $50          |\n",
    "| Valaciclovir         | Herpes infections                         | $10 - $50          |\n",
    "| Valsartan            | Hypertension, heart failure               | $10 - $50          |\n",
    "| Venlafaxine XR       | Depression, anxiety                       | $10 - $50          |\n",
    "| Verapamil SR         | Hypertension, angina                      | $10 - $50          |\n",
    "| Viagra               | Erectile dysfunction                     | $50 - $100         |\n",
    "| Yaz                  | Birth control                             | $30 - $50 (monthly)|\n",
    "| Zolpidem             | Insomnia                                  | $10 - $50          |"
   ],
   "metadata": {
    "collapsed": false
   }
  },
  {
   "cell_type": "markdown",
   "source": [
    "<a id=\"research-question\"></a>\n",
    "# A1: Research Question\n",
    "\n",
    "#### Scenario 2:\n",
    "\n",
    ">One of the most critical factors in patient relationship management that directly affects a hospital’s long-term cost effectiveness is understanding its patients and the conditions leading to hospital admissions. When a hospital can better understand its patients’ characteristics, it is better able to target treatment to patients, resulting in more effective cost of care for the hospital in the long term.\n",
    ">You are an analyst for a hospital that wants to better understand the characteristics of its patients. You have been asked to perform a market basket analysis to analyze patient data to identify key associations of your patients, ultimately allowing better business and strategic decision-making for the hospital.\n",
    "\n",
    "#### Research Question:\n"
   ],
   "metadata": {
    "collapsed": false
   }
  },
  {
   "cell_type": "markdown",
   "source": [
    "<a id=\"objectives\"></a>\n",
    "# A2: Objectives and Goals of Analysis"
   ],
   "metadata": {
    "collapsed": false
   }
  },
  {
   "cell_type": "markdown",
   "source": [
    "<a id=\"explination-of-market-basket-analysis\"></a>\n",
    "# B1: Explanation of Market Basket Analysis"
   ],
   "metadata": {
    "collapsed": false
   }
  },
  {
   "cell_type": "markdown",
   "source": [
    "<a id=\"transaction-example\"></a>\n",
    "# B2: Transaction Example"
   ],
   "metadata": {
    "collapsed": false
   }
  },
  {
   "cell_type": "markdown",
   "source": [
    "<a id=\"assumptions\"></a>\n",
    "# B3: Assumptions of Market Basket Analysis"
   ],
   "metadata": {
    "collapsed": false
   }
  },
  {
   "cell_type": "markdown",
   "source": [
    "<a id=\"ata-prepartion\"></a>\n",
    "# C1: Data Preparation"
   ],
   "metadata": {
    "collapsed": false
   }
  },
  {
   "cell_type": "markdown",
   "source": [
    "<a id=\"geneartion-of-association-rules\"></a>\n",
    "# C2: Generation of Association Rules"
   ],
   "metadata": {
    "collapsed": false
   }
  },
  {
   "cell_type": "markdown",
   "source": [
    "<a id=\"association-rules-table\"></a>\n",
    "# C3: Association Rules Table"
   ],
   "metadata": {
    "collapsed": false
   }
  },
  {
   "cell_type": "markdown",
   "source": [
    "<a id=\"top-rules\"></a>\n",
    "# C4: Top Rules"
   ],
   "metadata": {
    "collapsed": false
   }
  },
  {
   "cell_type": "markdown",
   "source": [
    "<a id=\"results-analysis\"></a>\n",
    "# D1: Results of Analysis"
   ],
   "metadata": {
    "collapsed": false
   }
  },
  {
   "cell_type": "markdown",
   "source": [
    "<a id=\"practical-significance\"></a>\n",
    "# D2: Practical Significance"
   ],
   "metadata": {
    "collapsed": false
   }
  },
  {
   "cell_type": "markdown",
   "source": [
    "<a id=\"recommended-action\"></a>\n",
    "# D3: Recommended Action"
   ],
   "metadata": {
    "collapsed": false
   }
  },
  {
   "cell_type": "markdown",
   "source": [
    "<a id=\"panopto-recording\"></a>\n",
    "# E: Panopto Recording"
   ],
   "metadata": {
    "collapsed": false
   }
  },
  {
   "cell_type": "markdown",
   "source": [
    "<a id=\"code-reference\"></a>\n",
    "# F: Code References"
   ],
   "metadata": {
    "collapsed": false
   }
  },
  {
   "cell_type": "markdown",
   "source": [
    "<a id=\"source-references\"></a>\n",
    "# G: Source References\n",
    "\n",
    " * Bruce, P., Bruce, A., &amp; Gedeck, P. (2020). Practical statistics for data scientists: 50+ essential concepts using r and python. O’Reilly Media. <br /> <br />\n",
    " * Geron, A. (2022). Hands-on machine learning with scikit-learn, Keras, and tensorflow 3E: Concepts, tools, and techniques to build Intelligent Systems. O’Reilly Media.   "
   ],
   "metadata": {
    "collapsed": false
   }
  }
 ],
 "metadata": {
  "kernelspec": {
   "display_name": "Python 3",
   "language": "python",
   "name": "python3"
  },
  "language_info": {
   "codemirror_mode": {
    "name": "ipython",
    "version": 2
   },
   "file_extension": ".py",
   "mimetype": "text/x-python",
   "name": "python",
   "nbconvert_exporter": "python",
   "pygments_lexer": "ipython2",
   "version": "2.7.6"
  }
 },
 "nbformat": 4,
 "nbformat_minor": 0
}
