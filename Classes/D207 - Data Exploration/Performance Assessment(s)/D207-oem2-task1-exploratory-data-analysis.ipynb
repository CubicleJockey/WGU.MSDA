{
 "cells": [
  {
   "cell_type": "markdown",
   "source": [
    "### D207 Performance Assessment\n",
    "##### OEM2 - OEM2 Task 1: EDA - Exploratory Data Analysis\n",
    "Exploratory Data Analysis - D207\n",
    "PRFA - OEM2"
   ],
   "metadata": {
    "collapsed": false
   }
  },
  {
   "cell_type": "markdown",
   "source": [
    "#### Imports\n",
    "\n",
    " * [Pandas](https://pandas.pydata.org/)\n",
    " * [matplotlib](https://matplotlib.org/stable/index.html)\n",
    " * [sys](https://docs.python.org/3/library/sys.html)\n",
    " * [Seaborn](https://seaborn.pydata.org/)\n",
    "\n",
    " * Chi-Square\n",
    "     * [Chi2 Contingency](https://docs.scipy.org/doc/scipy/reference/generated/scipy.stats.chi2_contingency.html)\n",
    "     * [Chi2](https://docs.scipy.org/doc/scipy/reference/generated/scipy.stats.chi2.html)"
   ],
   "metadata": {
    "collapsed": false
   }
  },
  {
   "cell_type": "code",
   "execution_count": 1,
   "outputs": [
    {
     "ename": "ModuleNotFoundError",
     "evalue": "No module named 'seaborn'",
     "output_type": "error",
     "traceback": [
      "\u001B[1;31m---------------------------------------------------------------------------\u001B[0m",
      "\u001B[1;31mModuleNotFoundError\u001B[0m                       Traceback (most recent call last)",
      "Cell \u001B[1;32mIn[1], line 3\u001B[0m\n\u001B[0;32m      1\u001B[0m \u001B[38;5;28;01mimport\u001B[39;00m \u001B[38;5;21;01mpandas\u001B[39;00m \u001B[38;5;28;01mas\u001B[39;00m \u001B[38;5;21;01mpd\u001B[39;00m\n\u001B[0;32m      2\u001B[0m \u001B[38;5;28;01mimport\u001B[39;00m \u001B[38;5;21;01mmatplotlib\u001B[39;00m\u001B[38;5;21;01m.\u001B[39;00m\u001B[38;5;21;01mpyplot\u001B[39;00m \u001B[38;5;28;01mas\u001B[39;00m \u001B[38;5;21;01mplt\u001B[39;00m\n\u001B[1;32m----> 3\u001B[0m \u001B[38;5;28;01mimport\u001B[39;00m \u001B[38;5;21;01mseaborn\u001B[39;00m \u001B[38;5;28;01mas\u001B[39;00m \u001B[38;5;21;01msb\u001B[39;00m\n\u001B[0;32m      4\u001B[0m \u001B[38;5;28;01mfrom\u001B[39;00m \u001B[38;5;21;01mscipy\u001B[39;00m\u001B[38;5;21;01m.\u001B[39;00m\u001B[38;5;21;01mstats\u001B[39;00m \u001B[38;5;28;01mimport\u001B[39;00m chi2_contingency, chi2\n",
      "\u001B[1;31mModuleNotFoundError\u001B[0m: No module named 'seaborn'"
     ]
    }
   ],
   "source": [
    "import pandas as pd\n",
    "import matplotlib.pyplot as plt\n",
    "import seaborn as sb\n",
    "from scipy.stats import chi2_contingency, chi2"
   ],
   "metadata": {
    "collapsed": false,
    "ExecuteTime": {
     "end_time": "2023-07-18T17:05:07.935924100Z",
     "start_time": "2023-07-18T17:04:58.446364900Z"
    }
   }
  },
  {
   "cell_type": "markdown",
   "source": [
    "### Load Medical Data\n",
    "Loading `medical_clean.csv`\n",
    "The data for this performance assessments comes pre-cleaned similar to the output result from D206.\n",
    "\n",
    "  * Check the datatypes\n",
    "  * Check for null, na, and empty values\n",
    "  * Rename Items1-8"
   ],
   "metadata": {
    "collapsed": false
   }
  },
  {
   "cell_type": "code",
   "execution_count": null,
   "outputs": [],
   "source": [
    "medical_clean_data = pd.read_csv('./medical_clean.csv')\n",
    "#del medical_clean_data[medical_clean_data.columns[0]]\n",
    "\n",
    "medical_clean_data.info()\n",
    "\n",
    "missing_values_sum = medical_clean_data.isna().sum()\n",
    "print(f'Missing Values Check: {missing_values_sum}')\n",
    "\n",
    "column_renames = {\n",
    "     'Item1': 'Timely_Admission'\n",
    "    ,'Item2': 'Timely_Treatment'\n",
    "    ,'Item3': 'Timely_Visits'\n",
    "    ,'Item4': 'Reliability'\n",
    "    ,'Item5': 'Options'\n",
    "    ,'Item6': 'Hours_Of_Treatment'\n",
    "    ,'Item7': 'Courteous_Staff'\n",
    "    ,'Item8': 'Listening' #Evidence of active listening from Doctor\n",
    "}\n",
    "medical_clean_data.rename(columns=column_renames, inplace=True)"
   ],
   "metadata": {
    "collapsed": false
   }
  },
  {
   "cell_type": "markdown",
   "source": [
    "### Data Preparation:\n",
    "#### Convert Variables(Columns) to Categorical DataTypes\n"
   ],
   "metadata": {
    "collapsed": false
   }
  },
  {
   "cell_type": "code",
   "execution_count": null,
   "outputs": [],
   "source": [
    "category_dtype = 'category'\n",
    "convert_to_category = {\n",
    "    'CaseOrder': category_dtype,\n",
    "    'Customer_id': category_dtype,\n",
    "    'Interaction': category_dtype,\n",
    "    'UID': category_dtype,\n",
    "    'Zip': category_dtype,\n",
    "    'Lat': category_dtype,\n",
    "    'Lng': category_dtype,\n",
    "    'City': category_dtype,\n",
    "    'State': category_dtype,\n",
    "    'County': category_dtype,\n",
    "    'Area': category_dtype,\n",
    "    'TimeZone': category_dtype,\n",
    "    'Job': category_dtype,\n",
    "    'Marital': category_dtype,\n",
    "    'Gender': category_dtype,\n",
    "    'ReAdmis': category_dtype,\n",
    "    'Soft_drink': category_dtype,\n",
    "    'Initial_admin': category_dtype,\n",
    "    'HighBlood': category_dtype,\n",
    "    'Stroke': category_dtype,\n",
    "    'Complication_risk': category_dtype,\n",
    "    'Overweight': category_dtype,\n",
    "    'Arthritis': category_dtype,\n",
    "    'Diabetes': category_dtype,\n",
    "    'Hyperlipidemia': category_dtype,\n",
    "    'BackPain': category_dtype,\n",
    "    'Anxiety': category_dtype,\n",
    "    'Allergic_rhinitis': category_dtype,\n",
    "    'Reflux_esophagitis': category_dtype,\n",
    "    'Asthma': category_dtype,\n",
    "    'Services': category_dtype,\n",
    "    'Timely_Admission': category_dtype,\n",
    "    'Timely_Treatment': category_dtype,\n",
    "    'Timely_Visits': category_dtype,\n",
    "    'Reliability': category_dtype,\n",
    "    'Options': category_dtype,\n",
    "    'Hours_Of_Treatment': category_dtype,\n",
    "    'Courteous_Staff': category_dtype,\n",
    "    'Listening': category_dtype\n",
    "}\n",
    "\n",
    "medical_clean_data = medical_clean_data.astype(convert_to_category)\n",
    "medical_clean_data.info()"
   ],
   "metadata": {
    "collapsed": false
   }
  },
  {
   "cell_type": "markdown",
   "source": [
    "### Data Preparation:\n",
    "#### Detecting and Removing Categorical Variables with a High Cardinality (>3 - 5 Levels)\n",
    "If a categorical column has lots of levels (unique categorical values) like UniqueID, Lat or Longitude it should be removed."
   ],
   "metadata": {
    "collapsed": false
   }
  },
  {
   "cell_type": "code",
   "execution_count": null,
   "outputs": [],
   "source": [
    "categorical_medical_data = medical_clean_data[convert_to_category.keys()]\n",
    "high_cardinalities = categorical_medical_data.nunique() > 3 #(> 3-5 Levels)\n",
    "high_cardinalities = high_cardinalities[high_cardinalities == True]\n",
    "high_cardinalities = list(high_cardinalities.index.values)\n",
    "print('Categoricals with high cardinality to be removed.')\n",
    "print(high_cardinalities)\n",
    "\n",
    "medical_data_prepared = medical_clean_data.drop(high_cardinalities, axis=1)\n",
    "medical_data_prepared\n"
   ],
   "metadata": {
    "collapsed": false
   }
  },
  {
   "cell_type": "markdown",
   "source": [
    "#### Section B: Data Analysis\n",
    "###### Run an Analysis using either, chi-square, t-test, or ANOVA"
   ],
   "metadata": {
    "collapsed": false
   }
  },
  {
   "cell_type": "code",
   "execution_count": null,
   "outputs": [],
   "source": [
    "#Contingency Table\n",
    "cross_tab = pd.crosstab(medical_data_prepared['Initial_admin']\n",
    "                       ,medical_data_prepared['ReAdmis'])\n",
    "                       #,margins=True, margins_name='Total')\n",
    "cross_tab"
   ],
   "metadata": {
    "collapsed": false
   }
  },
  {
   "cell_type": "code",
   "execution_count": null,
   "outputs": [],
   "source": [
    "#Observed values are Yes and No per Initial_admin.\n",
    "observed_values = cross_tab.values\n",
    "print('Observed Values: \\n', observed_values)"
   ],
   "metadata": {
    "collapsed": false
   }
  },
  {
   "cell_type": "code",
   "execution_count": null,
   "outputs": [],
   "source": [
    "#Chi-square test of independence of variables in a contingency table.\n",
    "chi_square_statistic, p_value, degree_of_freedom, expected_frequency = chi2_contingency(observed_values)\n",
    "\n",
    "print(f'Degrees Of Freedom = {degree_of_freedom}')\n",
    "print(f'Expected Frequency = \\n{expected_frequency}')"
   ],
   "metadata": {
    "collapsed": false
   }
  },
  {
   "cell_type": "code",
   "execution_count": null,
   "outputs": [],
   "source": [
    "probability = .95\n",
    "critical_value = chi2.ppf(probability, degree_of_freedom)\n",
    "\n",
    "print(f'Probability = {probability}, Chi-Square Statistic = {chi_square_statistic}, Critical Value = {critical_value}')\n",
    "\n",
    "if critical_value <= abs(chi_square_statistic):\n",
    "    print('Reject Null Hypothesis (H0), variables are dependent.')\n",
    "else:\n",
    "    print('Fail to reject Null Hypothesis (H0), variables are independent.')"
   ],
   "metadata": {
    "collapsed": false
   }
  },
  {
   "cell_type": "code",
   "execution_count": null,
   "outputs": [],
   "source": [
    "significance_level_alpha = 1.0 - probability #.05\n",
    "\n",
    "print(f'Significance = {significance_level_alpha}, Probability = {probability}')\n",
    "\n",
    "if probability <= significance_level_alpha:\n",
    "    print('Reject Null Hypothesis (H0), variables are dependent.')\n",
    "else:\n",
    "    print('Fail to reject Null Hypothesis (H0), variables are independent.')\n"
   ],
   "metadata": {
    "collapsed": false
   }
  },
  {
   "cell_type": "markdown",
   "source": [
    "#### Section C: Identify the Distribution\n",
    "###### Univariate Statistics"
   ],
   "metadata": {
    "collapsed": false
   }
  },
  {
   "cell_type": "code",
   "execution_count": null,
   "outputs": [],
   "source": [
    "#Historgrams of continuous (VitD_level, Income) and categorical (ReAdmis, Initial_admin) variables\n",
    "\n",
    "sb.histplot(data=medical_data_prepared['VitD_levels'], kde=True)\n",
    "plt.title('Vitamin D Distribution')\n",
    "plt.show()\n",
    "\n",
    "sb.boxplot(data=medical_data_prepared['VitD_levels'], orient='h')\n",
    "plt.title('Vitamin D Outliers')\n",
    "plt.show()\n",
    "\n",
    "sb.histplot(data=medical_data_prepared['Income'], kde=True)\n",
    "plt.title('Income Distribution')\n",
    "plt.show()\n",
    "\n",
    "sb.boxplot(data=medical_data_prepared['Income'], orient='h')\n",
    "plt.title('Income Outliers')\n",
    "plt.show()\n",
    "\n",
    "readmission_levels = medical_data_prepared.groupby(by='ReAdmis').size()\n",
    "print(readmission_levels)\n",
    "\n",
    "sb.histplot(data=medical_data_prepared['ReAdmis'])\n",
    "plt.title('Readmissions Distribution')\n",
    "plt.show()\n",
    "\n",
    "initial_admission_levels = medical_data_prepared.groupby(by='Initial_admin').size()\n",
    "print(initial_admission_levels)\n",
    "\n",
    "sb.histplot(data=medical_data_prepared['Initial_admin'])\n",
    "plt.title('Initial Admissions Distribution')\n",
    "plt.show()"
   ],
   "metadata": {
    "collapsed": false
   }
  },
  {
   "cell_type": "markdown",
   "source": [
    "#### Section D: Identify Distributions\n",
    "###### Bivariate Statistics"
   ],
   "metadata": {
    "collapsed": false
   }
  },
  {
   "cell_type": "code",
   "execution_count": null,
   "outputs": [],
   "source": [
    "plt.scatter(medical_data_prepared['VitD_levels'], medical_data_prepared['ReAdmis'])\n",
    "plt.title('Vitamin D Levels vs Readmission')\n",
    "plt.xlabel('Vitamin D Levels')\n",
    "plt.ylabel('ReAdmissions')\n",
    "plt.show()\n",
    "\n",
    "plt.scatter(medical_data_prepared['Income'], medical_data_prepared['ReAdmis'])\n",
    "plt.title('Income vs Readmission')\n",
    "plt.xlabel('Income')\n",
    "plt.ylabel('Readmission')\n",
    "plt.show()\n",
    "\n",
    "plt.scatter(medical_data_prepared['VitD_levels'], medical_data_prepared['Initial_admin'])\n",
    "plt.title('Vitamin D Levels vs Initial Admission Type')\n",
    "plt.xlabel('Vitamin D Levels')\n",
    "plt.ylabel('Initial Admission Type')\n",
    "plt.show()\n",
    "\n",
    "plt.scatter(medical_data_prepared['Income'], medical_data_prepared['Initial_admin'])\n",
    "plt.title('Income vs Initial Admission Type')\n",
    "plt.xlabel('Income')\n",
    "plt.ylabel('Initial Admission Type')\n",
    "plt.show()"
   ],
   "metadata": {
    "collapsed": false
   }
  }
 ],
 "metadata": {
  "kernelspec": {
   "display_name": "Python 3",
   "language": "python",
   "name": "python3"
  },
  "language_info": {
   "codemirror_mode": {
    "name": "ipython",
    "version": 2
   },
   "file_extension": ".py",
   "mimetype": "text/x-python",
   "name": "python",
   "nbconvert_exporter": "python",
   "pygments_lexer": "ipython2",
   "version": "2.7.6"
  }
 },
 "nbformat": 4,
 "nbformat_minor": 0
}
