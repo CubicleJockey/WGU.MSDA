{
 "cells": [
  {
   "cell_type": "markdown",
   "source": [
    "# D210 Data Dashboard and Storytelling Assessment — Task 1\n",
    "### NAM Task 1: Data Dashboard And Storytelling\n",
    "#### Representation and Reporting — D210\n",
    "#### PRFA — NAM2\n",
    "> André Davis\n",
    "> StudentID: 010630641\n",
    "> MSDA\n",
    ">\n",
    "> Competencies\n",
    "> 4033.2.1 : Storytelling with Data\n",
    ">   The graduate communicates data insights to technical and nontechnical audiences.\n",
    ">\n",
    "> 4033.2.2 : Data Visualizations and Representations\n",
    ">   The graduate creates data representations to offer insight into an organizational problem.\n",
    ">\n",
    "> 4033.2.3 : Dashboards\n",
    ">   The graduate designs interactive dashboards to support executive decision-making.\n",
    "\n",
    "#### Table of Contents\n",
    "<ul>\n",
    "    <li><a href=\"#data-cleaning\">Pre-work: Data Cleaning</a></li>\n",
    "    <li><a href=\"#data-sets\">A1: Data Sets</a></li>\n",
    "    <li><a href=\"#installation-instructions\">A2: Installation Instructions</a></li>\n",
    "    <li><a href=\"#navigation-instructions\">A3: Navigation Instructions</a></li>\n",
    "    <li><a href=\"#panopto-storying-telling-with-data\">B: Panopto Storying Telling With Data</a></li>\n",
    "    <li><a href=\"#dashboard-alignment\">C1: Dashboard Alignment</a></li>\n",
    "    <li><a href=\"#additional-data-set-insights\">C2: Additional Data Set Insights</a></li>\n",
    "    <li><a href=\"#decision-making-support\">C3: Decision-Making Support</a></li>\n",
    "    <li><a href=\"#interactice-controls\">C4: Interactice Controls</a></li>\n",
    "    <li><a href=\"#colorblindness\">C5: Colorblindness</a></li>\n",
    "    <li><a href=\"#data-representation\">C6: Data Representation</a></li>\n",
    "    <li><a href=\"#audience-analysis\">C7: Audience Analysis</a></li>\n",
    "    <li><a href=\"#universal-access\">C8: Universal Access</a></li>\n",
    "    <li><a href=\"#effective-storytelling\">C9: Effective Storytelling</a></li>\n",
    "    <li><a href=\"#sources\">D: Sources</a></li>\n",
    "    <li><a href=\"#professional-communication\">E: Professional Communication</a></li>\n",
    "</ul>"
   ],
   "metadata": {
    "collapsed": false
   }
  },
  {
   "cell_type": "markdown",
   "source": [
    "<a id=\"data-sets\"></a>\n",
    "# A1: Data Sets\n",
    "\n",
    "#### DataSets & Cleaning\n",
    "\n",
    " * Cleaning the [WGU](https://www.wgu.edu/) supplied Medical Data with some basic cleaning to keep data similar to `D208` & `D209`\n",
    " * Cleaning additional data set related to Readmission from [`Kaggle`](https://www.kaggle.com/) called [`U.S. Hospital Overall Star Ratings 2016-2020`](https://www.kaggle.com/datasets/abrambeyer/us-hospital-overall-star-ratings-20162020)"
   ],
   "metadata": {
    "collapsed": false
   }
  },
  {
   "cell_type": "code",
   "execution_count": 1,
   "outputs": [
    {
     "name": "stdout",
     "output_type": "stream",
     "text": [
      "Medical data does NOT contain any missing values\n",
      "\n",
      "WGU Medical Data Row Count 10000\n",
      "['Hospital overall rating footnote', 'Mortality national comparison footnote', 'Safety of care national comparison footnote', 'Readmission national comparison footnote', 'Patient experience national comparison footnote', 'Effectiveness of care national comparison footnote', 'Timeliness of care national comparison footnote', 'Efficient use of medical imaging national comparison footnote']\n",
      "Additional Data Row Count: 25082\n"
     ]
    }
   ],
   "source": [
    "import warnings\n",
    "import pandas as pd\n",
    "from pandas.api.types import CategoricalDtype\n",
    "import numpy as np\n",
    "\n",
    "warnings.filterwarnings('ignore')\n",
    "\n",
    "medical_data = pd.read_csv('./Data/medical-data/medical_clean.csv', index_col=0)\n",
    "any_missing_values = medical_data.isna().values.any()\n",
    "if not any_missing_values:\n",
    "    print('Medical data does NOT contain any missing values\\n')\n",
    "else:\n",
    "    print('Medical data CONTAINS missing values.\\n')\n",
    "\n",
    "medical_data['Zip'] = medical_data['Zip'].astype('str').str.zfill(5)\n",
    "\n",
    "column_renames = {\n",
    "    'Item1': 'Timely_Admission'\n",
    "    ,'Item2': 'Timely_Treatment'\n",
    "    ,'Item3': 'Timely_Visits'\n",
    "    ,'Item4': 'Reliability'\n",
    "    ,'Item5': 'Options'\n",
    "    ,'Item6': 'Hours_Of_Treatment'\n",
    "    ,'Item7': 'Courteous_Staff'\n",
    "    ,'Item8': 'Listening' #Evidence of active listening from Doctor\n",
    "}\n",
    "medical_data.rename(columns=column_renames, inplace=True)\n",
    "\n",
    "category_dtype = 'category'\n",
    "convert_to_category = {\n",
    "    'Gender': category_dtype,\n",
    "    'ReAdmis': category_dtype,\n",
    "    'Soft_drink': category_dtype,\n",
    "    'Initial_admin': category_dtype,\n",
    "    'HighBlood': category_dtype,\n",
    "    'Stroke': category_dtype,\n",
    "    'Complication_risk': category_dtype,\n",
    "    'Overweight': category_dtype,\n",
    "    'Arthritis': category_dtype,\n",
    "    'Diabetes': category_dtype,\n",
    "    'Hyperlipidemia': category_dtype,\n",
    "    'BackPain': category_dtype,\n",
    "    'Anxiety': category_dtype,\n",
    "    'Allergic_rhinitis': category_dtype,\n",
    "    'Reflux_esophagitis': category_dtype,\n",
    "    'Asthma': category_dtype,\n",
    "    'Services': category_dtype,\n",
    "    'Timely_Admission': category_dtype,\n",
    "    'Timely_Treatment': category_dtype,\n",
    "    'Timely_Visits': category_dtype,\n",
    "    'Reliability': category_dtype,\n",
    "    'Options': category_dtype,\n",
    "    'Hours_Of_Treatment': category_dtype,\n",
    "    'Courteous_Staff': category_dtype,\n",
    "    'Listening': category_dtype\n",
    "}\n",
    "\n",
    "medical_data = medical_data.astype(convert_to_category)\n",
    "\n",
    "#Convert Yes/No's to True and False for charting in Tableau\n",
    "columns_to_reexpress = ['ReAdmis', 'Soft_drink', 'HighBlood', 'Stroke',\n",
    "                        'Overweight', 'Arthritis', 'Diabetes', 'Hyperlipidemia',\n",
    "                        'BackPain', 'Anxiety', 'Allergic_rhinitis', 'Reflux_esophagitis',\n",
    "                        'Asthma']\n",
    "for column in columns_to_reexpress:\n",
    "    medical_data[column] = medical_data[column].map({'Yes': True, 'No': False }).astype(np.bool_)\n",
    "\n",
    "#tableau_visualizations = ['Zip', 'Children', 'Age', 'VitD_levels', 'HighBlood', 'Overweight', 'Arthritis', 'Diabetes', 'BackPain', 'Asthma', 'Initial_days', 'ReAdmis', 'Complication_risk', 'Initial_admin', 'Gender']\n",
    "\n",
    "#prepared_medical_data = medical_data[tableau_visualizations]\n",
    "\n",
    "medical_data.to_csv('./tableau-wgu-dataset.csv')\n",
    "print(f'WGU Medical Data Row Count {len(medical_data)}')\n",
    "#print(prepared_medical_data.info())\n",
    "\n",
    "#Additional Data source\n",
    "#wgu_dataset_zip_codes = medical_data['Zip'].unique()\n",
    "overall_hospital_ratings = pd.read_csv('./Data/Additional/Us Hospital Overall Rating/Hospital_General_Information_2016_2020.csv', index_col=0)\n",
    "\n",
    "overall_hospital_ratings['ZIP Code'] = overall_hospital_ratings['ZIP Code'].astype('str').str.zfill(5)\n",
    "#match_overall_hospital_ratings = overall_hospital_ratings[overall_hospital_ratings['ZIP Code'].isin(wgu_dataset_zip_codes)]\n",
    "\n",
    "#print(match_overall_hospital_ratings.info())\n",
    "\n",
    "#TODO: Clean matched data\n",
    "\n",
    "#move columns\n",
    "ehr_column = 'Meets criteria for promoting interoperability of EHRs'\n",
    "\n",
    "#remove footnote columns\n",
    "remove_footnote_columns = [column_name for column_name in overall_hospital_ratings.columns if 'footnote' in column_name]\n",
    "print(remove_footnote_columns)\n",
    "overall_hospital_ratings.drop(columns=remove_footnote_columns, inplace=True)\n",
    "\n",
    "overall_hospital_ratings[ehr_column].fillna('N', inplace=True)\n",
    "\n",
    "overall_hospital_ratings[ehr_column] = overall_hospital_ratings[ehr_column].map({'Y': True, 'N': False }).astype(np.bool_)\n",
    "overall_hospital_ratings['Emergency Services'] = overall_hospital_ratings['Emergency Services'].map({'Yes': True, 'No': False}).astype(np.bool_)\n",
    "\n",
    "\n",
    "final_column_removals = ['Facility ID']\n",
    "\n",
    "overall_hospital_ratings.to_csv('./tableau-additional-dataset.csv')\n",
    "print(f'Additional Data Row Count: {len(overall_hospital_ratings)}')\n"
   ],
   "metadata": {
    "collapsed": false,
    "ExecuteTime": {
     "end_time": "2023-05-31T05:11:18.520087800Z",
     "start_time": "2023-05-31T05:11:15.420204300Z"
    }
   }
  },
  {
   "cell_type": "markdown",
   "source": [
    "<a id=\"installation-instructions\"></a>\n",
    "# A2: Installation Instructions\n",
    "\n",
    "Because of [Tableau Public](https://public.tableau.com/app/discover), there is nothing to install to use this dashboard. It is hosted by Tableau and can be found by clicking here [`Hospital Medical Data Breakdown - Tableau Dashboard`](https://public.tableau.com/views/WGU-D210-PA-NAM2-Task1-Data-Dashboard-And-Storyingtelling/HospitalMedicalDataBreakdown?:language=en-US&:display_count=n&:origin=viz_share_link).\n",
    "\n",
    "All that is needed is a modern browser such as:\n",
    " * [Safari](https://support.apple.com/safari)\n",
    " * [Edge](https://www.microsoft.com/edge)\n",
    " * [FireFox](https://www.mozilla.org/en-US/firefox/)\n",
    " * [Chrome](https://www.google.com/chrome/)\n",
    " * [Brave](https://brave.com/download/)"
   ],
   "metadata": {
    "collapsed": false
   }
  },
  {
   "cell_type": "markdown",
   "source": [
    "<a id=\"navigation-instructions\"></a>\n",
    "# A3: Navigation Instructions\n",
    "\n",
    "To navigate the dashboard for `D210 - Representation and Reporting` simple start by navigating to the dashboard with this [link](https://public.tableau.com/views/WGU-D210-PA-NAM2-Task1-Data-Dashboard-And-Storyingtelling/HospitalMedicalDataBreakdown?:language=en-US&:display_count=n&:origin=viz_share_link).\n",
    "\n",
    "Here you will find a Tableau Dashboard with 5 Navigation boxes located at the top of the dashboard. These include `Introduction`, `Who Are Our Patients`, `Hopistal Over All Ratings`, `KPIs based on Medical Condition`, and `Assessment Analysis`\n",
    "\n",
    "##### *Introduction*\n",
    "This section of the dashboard is where my introductions are made about me and the two datasets used within the dashboard.\n",
    "\n",
    "##### *Who Are Our Patients*\n",
    "This interactive dashboard offers users the opportunity to delve into our patient data through interactive exploration based on gender, number of children, and marital status. The dashboard provides five filters to enable interactivity: 'Income Range', 'Gender', 'Patient Age Range', 'Marital Status', and 'By State'. These filters empower users to delve deeper into the data and request more specific information about hospital patients.\n",
    "\n",
    "For instance, utilizing these controls, you can pose a question such as \"Please provide me with details about female patients with an income range of 40,000–50,000, who are married and reside in Washington or Oregon, within the age group of 18–25.\" To accomplish this, you begin by adjusting the 'Income Range' filter, dragging the left side of the dual slider to 40,000 and the right side to 50,000. Then, you proceed to the 'Gender' filter, selecting only the Female option and clicking Apply. Moving on to the 'Patient Age Range' filter, you set the left slider to 18 and the right slider to 25. Next, you use the 'Marital Status' filter to choose only the Married option and click Apply. Finally, you utilize the 'By State' filter, selecting the checkboxes corresponding to WA and OR, and once again click Apply. Consequently, the data will be filtered to match the criteria specified in the question.\n",
    "\n",
    "This interactive approach enables users to explore the data more precisely, unraveling valuable insights about our hospital's patient demographics.\n",
    "\n",
    "##### *Hospitals Over All Ratings*\n",
    "\n",
    "This interactive dashboard provides users with an opportunity to explore hospital ratings, categorized and color-coded by National Readmission National Comparison and Year.\n",
    "\n",
    "Within the dashboard, a legend is included, allowing users to highlight specific categories by clicking on the corresponding colors. Additionally, a 'By State' filter is available, enabling the selection of multiple values.\n",
    "\n",
    "This dashboard facilitates answering queries such as: \"How many patients in Kansas, within the 'Above the national average' group, rated hospitals with a score of 2 in 2019?\"\n",
    "\n",
    "To achieve this, the user would simply adjust the 'By State' filter to KS and click Apply. Next, by selecting the 'Above the national average' label in the legend, the associated values would be highlighted. Lastly, the user can locate the row corresponding to 2019 and the relevant Rating number to obtain the desired information.\n",
    "\n",
    "##### *KPIs based on Medical Conditions*\n",
    "\n",
    "We have successfully developed an interactive dashboard to comprehensively analyze Key Performance Indicators (KPIs) pertaining to Hospital Readmission. Our previous coursework, including D207, D208, and D209, primarily focused on the [WGU](https://www.wgu.edu/) medical dataset with an emphasis on readmission rates. However, due to the challenges associated with finding external datasets that align closely with our project, we decided to broaden our perspective beyond readmission alone. This expanded approach enables us to explore additional features and KPIs that have the potential to contribute to reducing a hospital's overall readmission rate.\n",
    "\n",
    "In addition to the detailed examination of readmission rates by age, our analysis now encompasses the following crucial metrics: 'Readmission National Ratings', which provide insights into the national ratings related to readmission; 'Patient Experience National Average'*, which offers an overview of the average patient experience across the nation; 'High-blood Pressure by Age', which focuses on the prevalence of high-blood pressure within different age groups; 'Readmission by Age', which allows us to understand readmission patterns based on age; and 'Hyperlipidemia By Age', which provides valuable information on hyperlipidemia occurrences across different age groups.\n",
    "\n",
    "By incorporating these additional metrics into our analysis, we can gain a more comprehensive understanding of the factors impacting readmission rates and potentially identify areas for improvement.\n",
    "\n",
    "##### *Assessment Analysis*\n",
    "\n",
    "This is a non-interactive tab within the Tableau Story Dashboard. Here you'll find the findings of the overall dashboard."
   ],
   "metadata": {
    "collapsed": false
   }
  },
  {
   "cell_type": "markdown",
   "source": [
    "<a id=\"panopto-storying-telling-with-data\"></a>\n",
    "# B: Panopto Storying Telling With Data"
   ],
   "metadata": {
    "collapsed": false
   }
  },
  {
   "cell_type": "markdown",
   "source": [
    "<a id=\"dashboard-alignment\"></a>\n",
    "# C1: Dashboard Alignment\n",
    "\n",
    "In the context of the [WGU](https://www.wgu.edu/) Master's in Data Analytics degree program, the Medical dataset has a focus on readmission of patients who had gone to the hospital with a prior ailment. This Tableau dashboard setup performs a mix of staying on the topic of readmission while bringing a few additional elements into the mix. This would give the governing bodies better information towards making decisions to help mitigate readmission rates. Reducing readmission rates it both good for the hospital and patient. This reduces cost for both parties and helps hospitals not cross past the government standard for readmission rates and fines associated with passing those thresholds in the case of [Medicare](https://hospitalmedicaldirector.com/understanding-the-2023-medicare-hospital-readmission-penalty/).\n",
    "\n",
    "This Tableau dashboard has 3 interactive sections to help administration make decisions on the reduction of readmission rates. These dashboards are *'Who Are Our Patients'*, *'Hospital Over All Ratings'*, and *'KPIs based on Medical Conditions'*.\n",
    "\n",
    "The initial dashboard serves as the foundation of the entire analysis. Patient demographics play a critical role, regardless of the specific inquiry posed to the data. It is crucial to understand who will be impacted by the decisions made based on the data and dashboards. This particular dashboard enables us to explore various aspects of the patient population using filters such as income range, patient age range, gender, and state. By leveraging these filters, we can pose different questions and gain insights into the characteristics of the patients involved.\n",
    "\n",
    "The second dashboard integrates an additional dataset, the `U.S. Hospital Overall Star Ratings`, with the [WGU](https://www.wgu.edu/) medical data, thereby introducing a new dimension to the analysis. This expanded dataset includes ratings such as `Readmission national comparison` and `Patient experience national comparison.` These ratings provide valuable insights into how patients perceive hospitals in relation to readmission rates. Specifically, the dashboard focuses on the \"Readmission national comparison\" for the years 2016-2019.\n",
    "\n",
    "The correlation between hospital ratings and readmission rates becomes a significant point of interest. Hospital administrators can derive valuable insights by examining whether low ratings potentially align with higher readmission rates or vice versa. Understanding these dynamics can inform policy changes aimed at reducing readmission rates, considering the relationship between patient satisfaction and readmission rates. These factors should be carefully considered when utilizing this data to make informed decisions regarding hospital policies and strategies to mitigate readmission rates.\n",
    "\n",
    "The third interactive Tableau dashboard incorporates several key performance indicators (KPIs). While this is an introductory course, I've carefully selected a subset of KPIs that focus on readmission rates. These chosen indicators represent common reasons for readmission and include ratings to provide a comprehensive view that combines hospital medical data with the public perception of hospitals.\n",
    "\n",
    "The purpose of this dashboard is to enable Executive leadership to utilize filters and delve deeper into the data before making policy decisions. The included data encompasses \"Readmission national ratings,\" \"Patient experience national average,\" \"Hypertension by Age,\" \"Readmission's by Age,\" and \"Hyperlipidemia by Age.\" These categories are further segmented into age ranges, typically spanning four years (e.g., 16-19), and filters for gender and age range facilitate a more detailed breakdown of the KPIs.\n",
    "\n",
    "By leveraging this dashboard, executive leadership can gain insights into the specific factors contributing to readmission rates and make informed decisions based on the analyzed data.\n"
   ],
   "metadata": {
    "collapsed": false
   }
  },
  {
   "cell_type": "markdown",
   "source": [
    "<a id=\"additional-data-set-insights\"></a>\n",
    "# C2: Additional Data Set Insights\n",
    "\n",
    "Throughout my participation in the [WGU MSDA program](https://www.wgu.edu/online-it-degrees/data-analytics-masters-program.html), I have been using the [`Medical Dataset`](https://access.wgu.edu/ASP3/aap/content/g9rke9s0rlc9ejd92md0.html). The dataset has some good features within it, but there seems to be big sections of data missing that indicate context surrounding the data. An example of this would be the [WGU](https://www.wgu.edu/) medical dataset there isn't any indication of years this data is from which hospital, which state they were admitted in (*we have the patients state and address residence not the hospital they were admitted into*), etc.\n",
    "\n",
    "This brings us to the justification for the additional dataset. Because this is an educational setting and the dataset used was from [Kaggle](https://www.kaggle.com/) which is a site for Data Analytics learning we are artificially blending these datasets together for practicing within Tableau. By blending the dataset [`U.S Hospital Overall Star Ratings 2016-2020`](https://www.kaggle.com/datasets/abrambeyer/us-hospital-overall-star-ratings-20162020) with the [WGU](https://www.wgu.edu) medical dataset we are adding a little context of hospitals and various ratings of hospitals between 2016 and 2020. Specifically the ratings related to readmission and patient experience. Not only is it beneficial for the hospital to figure out which factors help lead to higher readmission rates, but it's also good to be aware of how these readmission factors may affect a hospital perception within the patient community. This is why this \"educational\" blend of datasets was chosen to simulate a Tableau dashboard.\n",
    "\n",
    "Variables from [`U.S Hospital Overall Star Ratings 2016-2020`](https://www.kaggle.com/datasets/abrambeyer/us-hospital-overall-star-ratings-20162020) used to increase context to the [WGU](https://www.wgu.edu/) [`Medical Dataset`](https://access.wgu.edu/ASP3/aap/content/g9rke9s0rlc9ejd92md0.html):\n",
    "\n",
    "\n",
    "| Variable                               | Reason                                                                          |\n",
    "|----------------------------------------|---------------------------------------------------------------------------------|\n",
    "| State                                  | Joined together the WGU and Kaggle datasets                                     |\n",
    "| Year                                   | Use to help divide the ratings over time for deeper analysis                    |\n",
    "| Readmission national comparison        | A rating scale added to the WGU readmission data for Executive decisions making |\n",
    "| Patient experience national comparison | A rating scale added to WGU readmission about patient perception                |\n",
    "\n",
    "\n",
    "\n"
   ],
   "metadata": {
    "collapsed": false
   }
  },
  {
   "cell_type": "markdown",
   "source": [
    "<a id=\"decision-making-support\"></a>\n",
    "# C3: Decision-Making Support"
   ],
   "metadata": {
    "collapsed": false
   }
  },
  {
   "cell_type": "markdown",
   "source": [
    "<a id=\"interactice-controls\"></a>\n",
    "# C4: Interactive Controls"
   ],
   "metadata": {
    "collapsed": false
   }
  },
  {
   "cell_type": "markdown",
   "source": [
    "<a id=\"colorblindness\"></a>\n",
    "# C5: Colorblindness\n",
    "\n",
    "\"Color blindness occurs when you are unable to see colors in a normal way. It is also known as color deficiency. Color blindness often happens when someone cannot distinguish between certain colors. This usually happens between greens and reds, and occasionally blues.\" (American Academy of Ophthalmology, n.d.).\n",
    "\n",
    "To make sure that the Tableau Dashboards are accessible for people who may suffer from color blindness, I checked the Tableau documentation for [Color Palettes with RGB Values](https://public.tableau.com/views/TableauColors/ColorPaletteswithRGBValues?:embed=y&:showVizHome=no&:display_count=y&:display_static_image=y#1). Conventionally Tableau provides a color palette for color blindness. I applied these to the visualization within Tableau to be inclusive and accessible."
   ],
   "metadata": {
    "collapsed": false
   }
  },
  {
   "cell_type": "markdown",
   "source": [
    "<a id=\"data-representation\"></a>\n",
    "# C6: Data Representation"
   ],
   "metadata": {
    "collapsed": false
   }
  },
  {
   "cell_type": "markdown",
   "source": [
    "<a id=\"audience-analysis\"></a>\n",
    "# C7: Audience Analysis"
   ],
   "metadata": {
    "collapsed": false
   }
  },
  {
   "cell_type": "markdown",
   "source": [
    "<a id=\"universal-access\"></a>\n",
    "# C8: Universal Access\n",
    "\n",
    "To ensure universal access with accessibility in mind, several important steps were taken:\n",
    "\n",
    "1. Color blindness considerations: Visualizations were designed using the Tableau Color-Blind palette, accommodating users with color vision deficiencies.\n",
    "\n",
    "2. Hosting on Tableau Public: The dashboard was created and hosted on Tableau Public, which offers a self-hosted version of Tableau. This approach simplifies data access, as it only requires a computer, modern browser, and a link to the Tableau Dashboard.\n",
    "    - Eliminates the need for technical expertise in software installation.\n",
    "    - Removes the cost associated with owning the software.\n",
    "    - Facilitates seamless sharing of data among stakeholders interested in this type of information.\n",
    "\n",
    "3. Enhancements for the visually impaired: Additional features were implemented to improve accessibility for individuals with visual impairments. Alt text descriptions were provided for images, enabling screen readers and assistive technologies to convey the content effectively.\n",
    "\n",
    "4. Panopto Video summary: To address other accessibility issues, a concise summary of the data and dashboard was presented via a Panopto Video. This format caters to individuals with different access requirements and ensures that the information is accessible to a wider audience.\n",
    "\n",
    "By implementing these measures, we have made significant strides towards achieving universal accessibility, allowing diverse users to engage with the data and dashboard in a meaningful way."
   ],
   "metadata": {
    "collapsed": false
   }
  },
  {
   "cell_type": "markdown",
   "source": [
    "<a id=\"effective-storytelling\"></a>\n",
    "# C9: Effective Storytelling"
   ],
   "metadata": {
    "collapsed": false
   }
  },
  {
   "cell_type": "markdown",
   "source": [
    "<a id=\"sources\"></a>\n",
    "# D: Sources\n",
    "\n",
    " * American Academy of Ophthalmology. (n.d.). What is color blindness? Retrieved from https://www.aao.org/eye-health/diseases/what-is-color-blindness"
   ],
   "metadata": {
    "collapsed": false
   }
  },
  {
   "cell_type": "markdown",
   "source": [
    "<a id=\"professional-communication\"></a>\n",
    "# D: Professional Communication"
   ],
   "metadata": {
    "collapsed": false
   }
  }
 ],
 "metadata": {
  "kernelspec": {
   "display_name": "Python 3",
   "language": "python",
   "name": "python3"
  },
  "language_info": {
   "codemirror_mode": {
    "name": "ipython",
    "version": 2
   },
   "file_extension": ".py",
   "mimetype": "text/x-python",
   "name": "python",
   "nbconvert_exporter": "python",
   "pygments_lexer": "ipython2",
   "version": "2.7.6"
  }
 },
 "nbformat": 4,
 "nbformat_minor": 0
}
