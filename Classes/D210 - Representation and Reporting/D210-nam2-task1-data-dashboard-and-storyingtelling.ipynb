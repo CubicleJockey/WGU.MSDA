{
 "cells": [
  {
   "cell_type": "markdown",
   "source": [
    "# D210 Data Dashboard and Storytelling Assessment — Task 1\n",
    "### NAM Task 1: Data Dashboard And Storytelling\n",
    "#### Representation and Reporting — D210\n",
    "#### PRFA — NAM2\n",
    "> André Davis\n",
    "> StudentID: 010630641\n",
    "> MSDA\n",
    ">\n",
    "> Competencies\n",
    "> 4033.2.1 : Storytelling with Data\n",
    ">   The graduate communicates data insights to technical and nontechnical audiences.\n",
    ">\n",
    "> 4033.2.2 : Data Visualizations and Representations\n",
    ">   The graduate creates data representations to offer insight into an organizational problem.\n",
    ">\n",
    "> 4033.2.3 : Dashboards\n",
    ">   The graduate designs interactive dashboards to support executive decision-making.\n",
    "\n",
    "#### Table of Contents\n",
    "<ul>\n",
    "    <li><a href=\"#interactice-data-dashboard\">A1: Interactive Data Dashboard</li>\n",
    "    <li><a href=\"#data-sets\">A2: Data Sets</a></li>\n",
    "    <li><a href=\"#installation-instructions\">A3: Installation Instructions</a></li>\n",
    "    <li><a href=\"#panopto-storying-telling-with-data\">B: Panopto Storying Telling With Data</a></li>\n",
    "    <li><a href=\"#dashboard-alignment\">C1: Dashboard Alignment</a></li>\n",
    "    <li><a href=\"#additional-data-set-insights\">C2: Additional Data Set Insights</a></li>\n",
    "    <li><a href=\"#decision-making-support\">C3: Decision-Making Support</a></li>\n",
    "    <li><a href=\"#interactice-controls\">C4: Interactice Controls</a></li>\n",
    "    <li><a href=\"#colorblindness\">C5: Colorblindness</a></li>\n",
    "    <li><a href=\"#data-representation\">C6: Data Representation</a></li>\n",
    "    <li><a href=\"#audience-analysis\">C7: Audience Analysis</a></li>\n",
    "    <li><a href=\"#universal-access\">C8: Universal Access</a></li>\n",
    "    <li><a href=\"#effective-storytelling\">C9: Effective Storytelling</a></li>\n",
    "    <li><a href=\"#sources\">D: Sources</a></li>\n",
    "    <li><a href=\"#professional-communication\">E: Professional Communication</a></li>\n",
    "</ul>"
   ],
   "metadata": {
    "collapsed": false
   }
  },
  {
   "cell_type": "markdown",
   "source": [
    "<a id=\"interactice-data-dashboard\"></a>\n",
    "# A1: Interactive Data Dashboard"
   ],
   "metadata": {
    "collapsed": false
   }
  },
  {
   "cell_type": "markdown",
   "source": [
    "<a id=\"data-sets\"></a>\n",
    "# A2: Data Sets"
   ],
   "metadata": {
    "collapsed": false
   }
  },
  {
   "cell_type": "markdown",
   "source": [
    "<a id=\"installation-instructions\"></a>\n",
    "# A3: Installation Instructions"
   ],
   "metadata": {
    "collapsed": false
   }
  },
  {
   "cell_type": "markdown",
   "source": [
    "<a id=\"panopto-storying-telling-with-data\"></a>\n",
    "# B: Panopto Storying Telling With Data"
   ],
   "metadata": {
    "collapsed": false
   }
  },
  {
   "cell_type": "markdown",
   "source": [
    "<a id=\"dashboard-alignment\"></a>\n",
    "# C1: Dashboard Alignment"
   ],
   "metadata": {
    "collapsed": false
   }
  },
  {
   "cell_type": "markdown",
   "source": [
    "<a id=\"additional-data-set-insights\"></a>\n",
    "# C2: Additional Data Set Insights"
   ],
   "metadata": {
    "collapsed": false
   }
  },
  {
   "cell_type": "markdown",
   "source": [
    "<a id=\"decision-making-support\"></a>\n",
    "# C3: Decision-Making Support"
   ],
   "metadata": {
    "collapsed": false
   }
  },
  {
   "cell_type": "markdown",
   "source": [
    "<a id=\"interactice-controls\"></a>\n",
    "# C4: Interactive Controls"
   ],
   "metadata": {
    "collapsed": false
   }
  },
  {
   "cell_type": "markdown",
   "source": [
    "<a id=\"colorblindness\"></a>\n",
    "# C5: Colorblindness"
   ],
   "metadata": {
    "collapsed": false
   }
  },
  {
   "cell_type": "markdown",
   "source": [
    "<a id=\"data-representation\"></a>\n",
    "# C6: Data Representation"
   ],
   "metadata": {
    "collapsed": false
   }
  },
  {
   "cell_type": "markdown",
   "source": [
    "<a id=\"audience-analysis\"></a>\n",
    "# C7: Audience Analysis"
   ],
   "metadata": {
    "collapsed": false
   }
  },
  {
   "cell_type": "markdown",
   "source": [
    "<a id=\"universal-access\"></a>\n",
    "# C8: Universal Access"
   ],
   "metadata": {
    "collapsed": false
   }
  },
  {
   "cell_type": "markdown",
   "source": [
    "<a id=\"effective-storytelling\"></a>\n",
    "# C9: Effective Storytelling"
   ],
   "metadata": {
    "collapsed": false
   }
  },
  {
   "cell_type": "markdown",
   "source": [
    "<a id=\"sources\"></a>\n",
    "# D: Sources"
   ],
   "metadata": {
    "collapsed": false
   }
  },
  {
   "cell_type": "markdown",
   "source": [
    "<a id=\"professional-communication\"></a>\n",
    "# D: Professional Communication"
   ],
   "metadata": {
    "collapsed": false
   }
  }
 ],
 "metadata": {
  "kernelspec": {
   "display_name": "Python 3",
   "language": "python",
   "name": "python3"
  },
  "language_info": {
   "codemirror_mode": {
    "name": "ipython",
    "version": 2
   },
   "file_extension": ".py",
   "mimetype": "text/x-python",
   "name": "python",
   "nbconvert_exporter": "python",
   "pygments_lexer": "ipython2",
   "version": "2.7.6"
  }
 },
 "nbformat": 4,
 "nbformat_minor": 0
}
