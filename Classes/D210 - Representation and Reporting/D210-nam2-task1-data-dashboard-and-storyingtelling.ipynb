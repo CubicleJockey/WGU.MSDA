{
 "cells": [
  {
   "cell_type": "markdown",
   "source": [
    "# D210 Data Dashboard and Storytelling Assessment — Task 1\n",
    "### NAM Task 1: Data Dashboard And Storytelling\n",
    "#### Representation and Reporting — D210\n",
    "#### PRFA — NAM2\n",
    "> André Davis\n",
    "> StudentID: 010630641\n",
    "> MSDA\n",
    ">\n",
    "> Competencies\n",
    "> 4033.2.1 : Storytelling with Data\n",
    ">   The graduate communicates data insights to technical and nontechnical audiences.\n",
    ">\n",
    "> 4033.2.2 : Data Visualizations and Representations\n",
    ">   The graduate creates data representations to offer insight into an organizational problem.\n",
    ">\n",
    "> 4033.2.3 : Dashboards\n",
    ">   The graduate designs interactive dashboards to support executive decision-making.\n",
    "\n",
    "#### Table of Contents\n",
    "<ul>\n",
    "    <li><a href=\"#data-cleaning\">Pre-work: Data Cleaning</a></li>\n",
    "    <li><a href=\"#interactice-data-dashboard\">A1: Interactive Data Dashboard</a></li>\n",
    "    <li><a href=\"#data-sets\">A2: Data Sets</a></li>\n",
    "    <li><a href=\"#installation-instructions\">A3: Installation Instructions</a></li>\n",
    "    <li><a href=\"#panopto-storying-telling-with-data\">B: Panopto Storying Telling With Data</a></li>\n",
    "    <li><a href=\"#dashboard-alignment\">C1: Dashboard Alignment</a></li>\n",
    "    <li><a href=\"#additional-data-set-insights\">C2: Additional Data Set Insights</a></li>\n",
    "    <li><a href=\"#decision-making-support\">C3: Decision-Making Support</a></li>\n",
    "    <li><a href=\"#interactice-controls\">C4: Interactice Controls</a></li>\n",
    "    <li><a href=\"#colorblindness\">C5: Colorblindness</a></li>\n",
    "    <li><a href=\"#data-representation\">C6: Data Representation</a></li>\n",
    "    <li><a href=\"#audience-analysis\">C7: Audience Analysis</a></li>\n",
    "    <li><a href=\"#universal-access\">C8: Universal Access</a></li>\n",
    "    <li><a href=\"#effective-storytelling\">C9: Effective Storytelling</a></li>\n",
    "    <li><a href=\"#sources\">D: Sources</a></li>\n",
    "    <li><a href=\"#professional-communication\">E: Professional Communication</a></li>\n",
    "</ul>"
   ],
   "metadata": {
    "collapsed": false
   }
  },
  {
   "cell_type": "markdown",
   "source": [
    "<a id=\"data-cleaning\"></a>\n",
    "# Pre-Work: Data Cleaning\n",
    "\n",
    " * Prepping the WGU supplied Medical Data with some basic cleaning to keep data similar to `D208` + `D209`\n",
    " * Prepping additional data set related to Readmission from"
   ],
   "metadata": {
    "collapsed": false
   }
  },
  {
   "cell_type": "code",
   "execution_count": 47,
   "outputs": [
    {
     "name": "stdout",
     "output_type": "stream",
     "text": [
      "Medical data does NOT contain any missing values\n",
      "\n",
      "<class 'pandas.core.frame.DataFrame'>\n",
      "Index: 10000 entries, 1 to 10000\n",
      "Data columns (total 15 columns):\n",
      " #   Column             Non-Null Count  Dtype   \n",
      "---  ------             --------------  -----   \n",
      " 0   Zip                10000 non-null  object  \n",
      " 1   Children           10000 non-null  int64   \n",
      " 2   Age                10000 non-null  int64   \n",
      " 3   VitD_levels        10000 non-null  float64 \n",
      " 4   HighBlood          10000 non-null  bool    \n",
      " 5   Overweight         10000 non-null  bool    \n",
      " 6   Arthritis          10000 non-null  bool    \n",
      " 7   Diabetes           10000 non-null  bool    \n",
      " 8   BackPain           10000 non-null  bool    \n",
      " 9   Asthma             10000 non-null  bool    \n",
      " 10  Initial_days       10000 non-null  float64 \n",
      " 11  ReAdmis            10000 non-null  bool    \n",
      " 12  Complication_risk  10000 non-null  category\n",
      " 13  Initial_admin      10000 non-null  category\n",
      " 14  Gender             10000 non-null  category\n",
      "dtypes: bool(7), category(3), float64(2), int64(2), object(1)\n",
      "memory usage: 566.8+ KB\n"
     ]
    }
   ],
   "source": [
    "import warnings\n",
    "import pandas as pd\n",
    "from pandas.api.types import CategoricalDtype\n",
    "import numpy as np\n",
    "\n",
    "warnings.filterwarnings('ignore')\n",
    "\n",
    "medical_data = pd.read_csv('./Data/medical-data/medical_clean.csv', index_col=0)\n",
    "any_missing_values = medical_data.isna().values.any()\n",
    "if not any_missing_values:\n",
    "    print('Medical data does NOT contain any missing values\\n')\n",
    "else:\n",
    "    print('Medical data CONTAINS missing values.\\n')\n",
    "\n",
    "medical_data['Zip'] = medical_data['Zip'].astype('str').str.zfill(5)\n",
    "\n",
    "column_renames = {\n",
    "     'Item1': 'Timely_Admission'\n",
    "    ,'Item2': 'Timely_Treatment'\n",
    "    ,'Item3': 'Timely_Visits'\n",
    "    ,'Item4': 'Reliability'\n",
    "    ,'Item5': 'Options'\n",
    "    ,'Item6': 'Hours_Of_Treatment'\n",
    "    ,'Item7': 'Courteous_Staff'\n",
    "    ,'Item8': 'Listening' #Evidence of active listening from Doctor\n",
    "}\n",
    "medical_data.rename(columns=column_renames, inplace=True)\n",
    "\n",
    "category_dtype = 'category'\n",
    "convert_to_category = {\n",
    "    'Gender': category_dtype,\n",
    "    'ReAdmis': category_dtype,\n",
    "    'Soft_drink': category_dtype,\n",
    "    'Initial_admin': category_dtype,\n",
    "    'HighBlood': category_dtype,\n",
    "    'Stroke': category_dtype,\n",
    "    'Complication_risk': category_dtype,\n",
    "    'Overweight': category_dtype,\n",
    "    'Arthritis': category_dtype,\n",
    "    'Diabetes': category_dtype,\n",
    "    'Hyperlipidemia': category_dtype,\n",
    "    'BackPain': category_dtype,\n",
    "    'Anxiety': category_dtype,\n",
    "    'Allergic_rhinitis': category_dtype,\n",
    "    'Reflux_esophagitis': category_dtype,\n",
    "    'Asthma': category_dtype,\n",
    "    'Services': category_dtype,\n",
    "    'Timely_Admission': category_dtype,\n",
    "    'Timely_Treatment': category_dtype,\n",
    "    'Timely_Visits': category_dtype,\n",
    "    'Reliability': category_dtype,\n",
    "    'Options': category_dtype,\n",
    "    'Hours_Of_Treatment': category_dtype,\n",
    "    'Courteous_Staff': category_dtype,\n",
    "    'Listening': category_dtype\n",
    "}\n",
    "\n",
    "medical_data = medical_data.astype(convert_to_category)\n",
    "\n",
    "#Convert Yes/No's to True and False for charting in Tableau\n",
    "columns_to_reexpress = ['ReAdmis', 'Soft_drink', 'HighBlood', 'Stroke',\n",
    "                        'Overweight', 'Arthritis', 'Diabetes', 'Hyperlipidemia',\n",
    "                        'BackPain', 'Anxiety', 'Allergic_rhinitis', 'Reflux_esophagitis',\n",
    "                        'Asthma']\n",
    "for column in columns_to_reexpress:\n",
    "    medical_data[column] = medical_data[column].map({'Yes': True, 'No': False }).astype(np.bool_)\n",
    "\n",
    "tableau_visualizations = ['Zip', 'Children', 'Age', 'VitD_levels', 'HighBlood', 'Overweight', 'Arthritis', 'Diabetes', 'BackPain', 'Asthma', 'Initial_days', 'ReAdmis', 'Complication_risk', 'Initial_admin', 'Gender']\n",
    "\n",
    "prepared_medical_data = medical_data[tableau_visualizations]\n",
    "\n",
    "prepared_medical_data.to_csv('./tableau-wgu-dataset.csv')\n",
    "prepared_medical_data.info()"
   ],
   "metadata": {
    "collapsed": false,
    "ExecuteTime": {
     "end_time": "2023-05-12T02:57:08.427485Z",
     "start_time": "2023-05-12T02:57:08.282280900Z"
    }
   }
  },
  {
   "cell_type": "code",
   "execution_count": 48,
   "outputs": [
    {
     "name": "stdout",
     "output_type": "stream",
     "text": [
      "      Facility ID                    Facility Name   \n",
      "1          010005         MARSHALL MEDICAL CENTERS  \\\n",
      "4          010008      CRENSHAW COMMUNITY HOSPITAL   \n",
      "7          010016    SHELBY BAPTIST MEDICAL CENTER   \n",
      "10         010021              DALE MEDICAL CENTER   \n",
      "13         010024    JACKSON HOSPITAL & CLINIC INC   \n",
      "...           ...                              ...   \n",
      "25064      670095        EMERUS COMMUNITY HOSPITAL   \n",
      "25068      670099   EMIL J FREIREICH CANCER CENTER   \n",
      "25069      670102            AD HOSPITAL EAST, LLC   \n",
      "25071      670106          PEARLAND MEDICAL CENTER   \n",
      "25072      670107  BAYLOR EMERGENCY MEDICAL CENTER   \n",
      "\n",
      "                                Address        City State ZIP Code   \n",
      "1            2505 U S HIGHWAY 431 NORTH        BOAZ    AL    35957  \\\n",
      "4                   101 HOSPITAL CIRCLE     LUVERNE    AL    36049   \n",
      "7               1000 FIRST STREET NORTH   ALABASTER    AL    35007   \n",
      "10                     126 HOSPITAL AVE       OZARK    AL    36360   \n",
      "13                     1725 PINE STREET  MONTGOMERY    AL    36106   \n",
      "...                                 ...         ...   ...      ...   \n",
      "25064  24429 TOMBALL PARKWAY, SUITE 100     TOMBALL    TX    77375   \n",
      "25068                    9201 PINECROFT  SHENANDOAH    TX    77380   \n",
      "25069     12950 EAST FREEWAY, SUITE 100  SHENANDOAH    TX    77380   \n",
      "25071        11100 SHADOW CREEK PARKWAY    PEARLAND    TX    77584   \n",
      "25072     12500 SOUTH FREEWAY SUITE 100    BURLESON    TX    76028   \n",
      "\n",
      "      County Name    Phone Number         Hospital Type   \n",
      "1        MARSHALL  (256) 593-8310  Acute Care Hospitals  \\\n",
      "4        CRENSHAW  (334) 335-3374  Acute Care Hospitals   \n",
      "7          SHELBY  (205) 620-8100  Acute Care Hospitals   \n",
      "10           DALE  (334) 774-2601  Acute Care Hospitals   \n",
      "13     MONTGOMERY  (334) 293-8000  Acute Care Hospitals   \n",
      "...           ...             ...                   ...   \n",
      "25064      HARRIS      2815160911  Acute Care Hospitals   \n",
      "25068  MONTGOMERY      8553532201  Acute Care Hospitals   \n",
      "25069  MONTGOMERY      7133303897  Acute Care Hospitals   \n",
      "25071    BRAZORIA      7137707000  Acute Care Hospitals   \n",
      "25072     JOHNSON      2142946250  Acute Care Hospitals   \n",
      "\n",
      "                                Hospital Ownership  ...   \n",
      "1      Government - Hospital District or Authority  ...  \\\n",
      "4                                      Proprietary  ...   \n",
      "7                   Voluntary non-profit - Private  ...   \n",
      "10     Government - Hospital District or Authority  ...   \n",
      "13                  Voluntary non-profit - Private  ...   \n",
      "...                                            ...  ...   \n",
      "25064                                  Proprietary  ...   \n",
      "25068                                  Proprietary  ...   \n",
      "25069                                  Proprietary  ...   \n",
      "25071                                  Proprietary  ...   \n",
      "25072                                  Proprietary  ...   \n",
      "\n",
      "                Readmission national comparison footnote   \n",
      "1                                                    NaN  \\\n",
      "4                                                    NaN   \n",
      "7                                                    NaN   \n",
      "10                                                   NaN   \n",
      "13                                                   NaN   \n",
      "...                                                  ...   \n",
      "25064  Results are not available for this reporting p...   \n",
      "25068  Data are shown only for hospitals that partici...   \n",
      "25069  Data are shown only for hospitals that partici...   \n",
      "25071  Results are not available for this reporting p...   \n",
      "25072  Results are not available for this reporting p...   \n",
      "\n",
      "      Patient experience national comparison   \n",
      "1               Same as the national average  \\\n",
      "4                              Not Available   \n",
      "7                 Below the national average   \n",
      "10                Above the national average   \n",
      "13              Same as the national average   \n",
      "...                                      ...   \n",
      "25064                          Not Available   \n",
      "25068                          Not Available   \n",
      "25069                          Not Available   \n",
      "25071           Same as the National average   \n",
      "25072                          Not Available   \n",
      "\n",
      "         Patient experience national comparison footnote   \n",
      "1                                                    NaN  \\\n",
      "4                                                     16   \n",
      "7                                                    NaN   \n",
      "10                                                   NaN   \n",
      "13                                                   NaN   \n",
      "...                                                  ...   \n",
      "25064  Results are not available for this reporting p...   \n",
      "25068  Data are shown only for hospitals that partici...   \n",
      "25069  Data are shown only for hospitals that partici...   \n",
      "25071                                                NaN   \n",
      "25072  Results are not available for this reporting p...   \n",
      "\n",
      "      Effectiveness of care national comparison   \n",
      "1                  Same as the national average  \\\n",
      "4                  Same as the national average   \n",
      "7                  Same as the national average   \n",
      "10                 Same as the national average   \n",
      "13                 Same as the national average   \n",
      "...                                         ...   \n",
      "25064              Same as the National average   \n",
      "25068                             Not Available   \n",
      "25069                             Not Available   \n",
      "25071              Same as the National average   \n",
      "25072              Same as the National average   \n",
      "\n",
      "      Effectiveness of care national comparison footnote   \n",
      "1                                                    NaN  \\\n",
      "4                                                    NaN   \n",
      "7                                                    NaN   \n",
      "10                                                   NaN   \n",
      "13                                                   NaN   \n",
      "...                                                  ...   \n",
      "25064                                                NaN   \n",
      "25068  Data are shown only for hospitals that partici...   \n",
      "25069  Data are shown only for hospitals that partici...   \n",
      "25071                                                NaN   \n",
      "25072                                                NaN   \n",
      "\n",
      "      Timeliness of care national comparison   \n",
      "1                 Above the national average  \\\n",
      "4                 Above the national average   \n",
      "7               Same as the national average   \n",
      "10                Above the national average   \n",
      "13                Below the national average   \n",
      "...                                      ...   \n",
      "25064             Above the National average   \n",
      "25068                          Not Available   \n",
      "25069                          Not Available   \n",
      "25071           Same as the National average   \n",
      "25072           Same as the National average   \n",
      "\n",
      "         Timeliness of care national comparison footnote   \n",
      "1                                                    NaN  \\\n",
      "4                                                    NaN   \n",
      "7                                                    NaN   \n",
      "10                                                   NaN   \n",
      "13                                                   NaN   \n",
      "...                                                  ...   \n",
      "25064                                                NaN   \n",
      "25068  Data are shown only for hospitals that partici...   \n",
      "25069  Data are shown only for hospitals that partici...   \n",
      "25071                                                NaN   \n",
      "25072                                                NaN   \n",
      "\n",
      "      Efficient use of medical imaging national comparison   \n",
      "1                             Below the national average    \\\n",
      "4                                          Not Available     \n",
      "7                             Below the national average     \n",
      "10                          Same as the national average     \n",
      "13                          Same as the national average     \n",
      "...                                                  ...     \n",
      "25064                                      Not Available     \n",
      "25068                                      Not Available     \n",
      "25069                                      Not Available     \n",
      "25071                                      Not Available     \n",
      "25072                                      Not Available     \n",
      "\n",
      "      Efficient use of medical imaging national comparison footnote  Year  \n",
      "1                                                    NaN             2020  \n",
      "4                                                      5             2020  \n",
      "7                                                    NaN             2020  \n",
      "10                                                   NaN             2020  \n",
      "13                                                   NaN             2020  \n",
      "...                                                  ...              ...  \n",
      "25064  Results are not available for this reporting p...             2016  \n",
      "25068  Data are shown only for hospitals that partici...             2016  \n",
      "25069  Data are shown only for hospitals that partici...             2016  \n",
      "25071  Results are not available for this reporting p...             2016  \n",
      "25072  Results are not available for this reporting p...             2016  \n",
      "\n",
      "[6383 rows x 29 columns]\n"
     ]
    }
   ],
   "source": [
    "#Additional Data source\n",
    "wgu_dataset_zip_codes = prepared_medical_data['Zip'].unique()\n",
    "overall_hospital_ratings = pd.read_csv('./Data/Additional/Us Hospital Overall Rating/Hospital_General_Information_2016_2020.csv')\n",
    "\n",
    "overall_hospital_ratings['ZIP Code'] = overall_hospital_ratings['ZIP Code'].astype('str').str.zfill(5)\n",
    "match_overall_hospital_ratings = overall_hospital_ratings[overall_hospital_ratings['ZIP Code'].isin(wgu_dataset_zip_codes)]\n",
    "\n",
    "print(match_overall_hospital_ratings)\n",
    "\n",
    "#TODO: Clean matched data\n",
    "\n",
    "match_overall_hospital_ratings.to_csv('./tableau-additional-dataset.csv')"
   ],
   "metadata": {
    "collapsed": false,
    "ExecuteTime": {
     "end_time": "2023-05-12T02:57:08.655704700Z",
     "start_time": "2023-05-12T02:57:08.429495500Z"
    }
   }
  },
  {
   "cell_type": "markdown",
   "source": [
    "<a id=\"interactice-data-dashboard\"></a>\n",
    "# A1: Interactive Data Dashboard"
   ],
   "metadata": {
    "collapsed": false
   }
  },
  {
   "cell_type": "markdown",
   "source": [
    "<a id=\"data-sets\"></a>\n",
    "# A2: Data Sets"
   ],
   "metadata": {
    "collapsed": false
   }
  },
  {
   "cell_type": "markdown",
   "source": [
    "<a id=\"installation-instructions\"></a>\n",
    "# A3: Installation Instructions"
   ],
   "metadata": {
    "collapsed": false
   }
  },
  {
   "cell_type": "markdown",
   "source": [
    "<a id=\"panopto-storying-telling-with-data\"></a>\n",
    "# B: Panopto Storying Telling With Data"
   ],
   "metadata": {
    "collapsed": false
   }
  },
  {
   "cell_type": "markdown",
   "source": [
    "<a id=\"dashboard-alignment\"></a>\n",
    "# C1: Dashboard Alignment"
   ],
   "metadata": {
    "collapsed": false
   }
  },
  {
   "cell_type": "markdown",
   "source": [
    "<a id=\"additional-data-set-insights\"></a>\n",
    "# C2: Additional Data Set Insights"
   ],
   "metadata": {
    "collapsed": false
   }
  },
  {
   "cell_type": "markdown",
   "source": [
    "<a id=\"decision-making-support\"></a>\n",
    "# C3: Decision-Making Support"
   ],
   "metadata": {
    "collapsed": false
   }
  },
  {
   "cell_type": "markdown",
   "source": [
    "<a id=\"interactice-controls\"></a>\n",
    "# C4: Interactive Controls"
   ],
   "metadata": {
    "collapsed": false
   }
  },
  {
   "cell_type": "markdown",
   "source": [
    "<a id=\"colorblindness\"></a>\n",
    "# C5: Colorblindness"
   ],
   "metadata": {
    "collapsed": false
   }
  },
  {
   "cell_type": "markdown",
   "source": [
    "<a id=\"data-representation\"></a>\n",
    "# C6: Data Representation"
   ],
   "metadata": {
    "collapsed": false
   }
  },
  {
   "cell_type": "markdown",
   "source": [
    "<a id=\"audience-analysis\"></a>\n",
    "# C7: Audience Analysis"
   ],
   "metadata": {
    "collapsed": false
   }
  },
  {
   "cell_type": "markdown",
   "source": [
    "<a id=\"universal-access\"></a>\n",
    "# C8: Universal Access"
   ],
   "metadata": {
    "collapsed": false
   }
  },
  {
   "cell_type": "markdown",
   "source": [
    "<a id=\"effective-storytelling\"></a>\n",
    "# C9: Effective Storytelling"
   ],
   "metadata": {
    "collapsed": false
   }
  },
  {
   "cell_type": "markdown",
   "source": [
    "<a id=\"sources\"></a>\n",
    "# D: Sources"
   ],
   "metadata": {
    "collapsed": false
   }
  },
  {
   "cell_type": "markdown",
   "source": [
    "<a id=\"professional-communication\"></a>\n",
    "# D: Professional Communication"
   ],
   "metadata": {
    "collapsed": false
   }
  }
 ],
 "metadata": {
  "kernelspec": {
   "display_name": "Python 3",
   "language": "python",
   "name": "python3"
  },
  "language_info": {
   "codemirror_mode": {
    "name": "ipython",
    "version": 2
   },
   "file_extension": ".py",
   "mimetype": "text/x-python",
   "name": "python",
   "nbconvert_exporter": "python",
   "pygments_lexer": "ipython2",
   "version": "2.7.6"
  }
 },
 "nbformat": 4,
 "nbformat_minor": 0
}
